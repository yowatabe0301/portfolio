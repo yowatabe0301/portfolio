{
 "cells": [
  {
   "cell_type": "markdown",
   "id": "c818a86c",
   "metadata": {},
   "source": [
    "# Introduction to the data frame -Cristiano Ronaldo's Goal Records-\n",
    "\n",
    "This report presents an analysis focusing on the amazing number of goals scored by Cristiano Ronaldo, a football player from Portugal who currently plays for Al Nasr in Saudi Arabia. Born in 1985, Ronaldo has also represented Portugal and continues to captivate football fans around the world with his outstanding scoring ability. This data provides a quantitative assessment of his goal scoring patterns throughout his career, his performance in important matches, and how his goals have contributed to his team's victories."
   ]
  },
  {
   "cell_type": "markdown",
   "id": "53af394c",
   "metadata": {},
   "source": [
    "# Hypothesis\n",
    "When looking back on football history, there is no doubt that the most recent two decades have been the era of Cristiano Ronaldo and Lionel Messi. Both are undoubtedly great footballers, but Messi spent the majority of his career with Barcelona FC in Spain, while Ronaldo scored goals for Portugal, England, Spain, Italy, and Saudi Arabia, among many other countries and clubs. The reason for these results is often cited as his utility in scoring goals anywhere and in any form. This report will reveal whether this is true by analyzing his goal scoring record."
   ]
  },
  {
   "cell_type": "code",
   "execution_count": 158,
   "id": "20e8a73d",
   "metadata": {},
   "outputs": [],
   "source": [
    "# Ignore warnings\n",
    "import warnings\n",
    "warnings.filterwarnings(\"ignore\")"
   ]
  },
  {
   "cell_type": "code",
   "execution_count": 159,
   "id": "e9f6d09a",
   "metadata": {},
   "outputs": [],
   "source": [
    "# Import libraries\n",
    "import matplotlib.pyplot as plt\n",
    "import numpy as np \n",
    "import pandas as pd\n",
    "import plotly.express as px\n",
    "import seaborn as sns\n",
    "from scipy import stats\n",
    "\n",
    "from sklearn.linear_model import LinearRegression\n",
    "from sklearn.linear_model import LogisticRegression\n",
    "from sklearn.preprocessing import PolynomialFeatures\n",
    "from sklearn.model_selection import train_test_split\n",
    "from sklearn.metrics import mean_squared_error\n",
    "from sklearn.metrics import classification_report, confusion_matrix\n",
    "from sklearn.preprocessing import LabelEncoder"
   ]
  },
  {
   "cell_type": "code",
   "execution_count": 160,
   "id": "e888ae79",
   "metadata": {},
   "outputs": [],
   "source": [
    " # To ensure all the probabilistic things are reproducible\n",
    "np.random.seed(42)"
   ]
  },
  {
   "cell_type": "markdown",
   "id": "bef29513",
   "metadata": {},
   "source": [
    "# Background on Data\n",
    "Dataset for this analysis, the data from the GitHub website (https://github.com/azminewasi/Cristiano-Ronaldo-Club-Goals) was used.\n",
    "According to the collector and owner of the data set, the data contained in this csv file includes the following 13 columns.\n",
    "\n",
    "Season: Football season\n",
    "Competition: Name of Competition\n",
    "Matchday: Number/name of the match of the league season/competition\n",
    "Date: Date of match\n",
    "Venue: Match Venue (Home/Away)\n",
    "Club: Ronaldo’s team/club\n",
    "Opponent: Opponent team/club\n",
    "Result: Match result in (Home:Away) format\n",
    "Playing_Position: Ronaldo’s playing position in the match\n",
    "Minute: Match time while goal scored\n",
    "At_score :Score-line after goal scored\n",
    "Type: Goal type\n",
    "Goal_assist: Assisted by"
   ]
  },
  {
   "cell_type": "code",
   "execution_count": 161,
   "id": "e0ee3915",
   "metadata": {},
   "outputs": [],
   "source": [
    "# Specify the path to the datasets\n",
    "data_path = \"./data/\"\n",
    "\n",
    "# Specify the filenames of the datasets\n",
    "cr7_filename = \"data.csv\"\n",
    "\n",
    "# Read the CSV files and create backup copies\n",
    "cr7_df_data = pd.read_csv(data_path + cr7_filename)\n",
    "\n",
    "# Create working copies of the dataframes for analysis\n",
    "cr7_df = cr7_df_data.copy()"
   ]
  },
  {
   "cell_type": "code",
   "execution_count": 162,
   "id": "9f476aa9",
   "metadata": {},
   "outputs": [
    {
     "data": {
      "text/html": [
       "<div>\n",
       "<style scoped>\n",
       "    .dataframe tbody tr th:only-of-type {\n",
       "        vertical-align: middle;\n",
       "    }\n",
       "\n",
       "    .dataframe tbody tr th {\n",
       "        vertical-align: top;\n",
       "    }\n",
       "\n",
       "    .dataframe thead th {\n",
       "        text-align: right;\n",
       "    }\n",
       "</style>\n",
       "<table border=\"1\" class=\"dataframe\">\n",
       "  <thead>\n",
       "    <tr style=\"text-align: right;\">\n",
       "      <th></th>\n",
       "      <th>Season</th>\n",
       "      <th>Competition</th>\n",
       "      <th>Matchday</th>\n",
       "      <th>Date</th>\n",
       "      <th>Venue</th>\n",
       "      <th>Club</th>\n",
       "      <th>Opponent</th>\n",
       "      <th>Result</th>\n",
       "      <th>Playing_Position</th>\n",
       "      <th>Minute</th>\n",
       "      <th>At_score</th>\n",
       "      <th>Type</th>\n",
       "      <th>Goal_assist</th>\n",
       "    </tr>\n",
       "  </thead>\n",
       "  <tbody>\n",
       "    <tr>\n",
       "      <th>680</th>\n",
       "      <td>21/22</td>\n",
       "      <td>Premier League</td>\n",
       "      <td>10</td>\n",
       "      <td>10/30/21</td>\n",
       "      <td>A</td>\n",
       "      <td>Manchester United</td>\n",
       "      <td>Tottenham Hotspur</td>\n",
       "      <td>0:03</td>\n",
       "      <td>CF</td>\n",
       "      <td>39</td>\n",
       "      <td>0:01</td>\n",
       "      <td>Right-footed shot</td>\n",
       "      <td>Bruno Fernandes</td>\n",
       "    </tr>\n",
       "    <tr>\n",
       "      <th>164</th>\n",
       "      <td>10/11</td>\n",
       "      <td>LaLiga</td>\n",
       "      <td>8</td>\n",
       "      <td>10/23/10</td>\n",
       "      <td>H</td>\n",
       "      <td>Real Madrid</td>\n",
       "      <td>Racing Santander</td>\n",
       "      <td>6:01</td>\n",
       "      <td>LW</td>\n",
       "      <td>47</td>\n",
       "      <td>4:00</td>\n",
       "      <td>Right-footed shot</td>\n",
       "      <td>Angel Di Maria</td>\n",
       "    </tr>\n",
       "    <tr>\n",
       "      <th>54</th>\n",
       "      <td>06/07</td>\n",
       "      <td>Premier League</td>\n",
       "      <td>37</td>\n",
       "      <td>05-05-07</td>\n",
       "      <td>A</td>\n",
       "      <td>Manchester United</td>\n",
       "      <td>Manchester City</td>\n",
       "      <td>0:01</td>\n",
       "      <td>RW</td>\n",
       "      <td>34</td>\n",
       "      <td>0:01</td>\n",
       "      <td>Penalty</td>\n",
       "      <td>NaN</td>\n",
       "    </tr>\n",
       "    <tr>\n",
       "      <th>640</th>\n",
       "      <td>20/21</td>\n",
       "      <td>Serie A</td>\n",
       "      <td>2</td>\n",
       "      <td>9/27/20</td>\n",
       "      <td>A</td>\n",
       "      <td>Juventus FC</td>\n",
       "      <td>AS Roma</td>\n",
       "      <td>2:02</td>\n",
       "      <td>CF</td>\n",
       "      <td>69</td>\n",
       "      <td>2:02</td>\n",
       "      <td>Header</td>\n",
       "      <td>Danilo</td>\n",
       "    </tr>\n",
       "    <tr>\n",
       "      <th>606</th>\n",
       "      <td>19/20</td>\n",
       "      <td>Serie A</td>\n",
       "      <td>10</td>\n",
       "      <td>10/30/19</td>\n",
       "      <td>H</td>\n",
       "      <td>Juventus FC</td>\n",
       "      <td>Genoa CFC</td>\n",
       "      <td>2:01</td>\n",
       "      <td>CF</td>\n",
       "      <td>90+6</td>\n",
       "      <td>2:01</td>\n",
       "      <td>Penalty</td>\n",
       "      <td>NaN</td>\n",
       "    </tr>\n",
       "  </tbody>\n",
       "</table>\n",
       "</div>"
      ],
      "text/plain": [
       "    Season     Competition Matchday      Date Venue               Club  \\\n",
       "680  21/22  Premier League       10  10/30/21     A  Manchester United   \n",
       "164  10/11          LaLiga        8  10/23/10     H        Real Madrid   \n",
       "54   06/07  Premier League       37  05-05-07     A  Manchester United   \n",
       "640  20/21         Serie A        2   9/27/20     A        Juventus FC   \n",
       "606  19/20         Serie A       10  10/30/19     H        Juventus FC   \n",
       "\n",
       "              Opponent Result Playing_Position Minute At_score  \\\n",
       "680  Tottenham Hotspur   0:03               CF     39     0:01   \n",
       "164   Racing Santander   6:01               LW     47     4:00   \n",
       "54     Manchester City   0:01               RW     34     0:01   \n",
       "640            AS Roma   2:02               CF     69     2:02   \n",
       "606          Genoa CFC   2:01               CF   90+6     2:01   \n",
       "\n",
       "                  Type      Goal_assist  \n",
       "680  Right-footed shot  Bruno Fernandes  \n",
       "164  Right-footed shot   Angel Di Maria  \n",
       "54             Penalty              NaN  \n",
       "640             Header           Danilo  \n",
       "606            Penalty              NaN  "
      ]
     },
     "execution_count": 162,
     "metadata": {},
     "output_type": "execute_result"
    }
   ],
   "source": [
    "# Display all columns\n",
    "pd.set_option('display.max_columns', None)\n",
    "cr7_df.sample(5)"
   ]
  },
  {
   "cell_type": "code",
   "execution_count": 163,
   "id": "7ffcaa11",
   "metadata": {},
   "outputs": [
    {
     "name": "stdout",
     "output_type": "stream",
     "text": [
      "<class 'pandas.core.frame.DataFrame'>\n",
      "RangeIndex: 701 entries, 0 to 700\n",
      "Data columns (total 13 columns):\n",
      " #   Column            Non-Null Count  Dtype \n",
      "---  ------            --------------  ----- \n",
      " 0   Season            701 non-null    object\n",
      " 1   Competition       701 non-null    object\n",
      " 2   Matchday          701 non-null    object\n",
      " 3   Date              701 non-null    object\n",
      " 4   Venue             701 non-null    object\n",
      " 5   Club              701 non-null    object\n",
      " 6   Opponent          701 non-null    object\n",
      " 7   Result            701 non-null    object\n",
      " 8   Playing_Position  643 non-null    object\n",
      " 9   Minute            701 non-null    object\n",
      " 10  At_score          701 non-null    object\n",
      " 11  Type              686 non-null    object\n",
      " 12  Goal_assist       459 non-null    object\n",
      "dtypes: object(13)\n",
      "memory usage: 71.3+ KB\n"
     ]
    }
   ],
   "source": [
    "# Check its structure\n",
    "cr7_df.info()"
   ]
  },
  {
   "cell_type": "code",
   "execution_count": 164,
   "id": "660ea891",
   "metadata": {},
   "outputs": [
    {
     "data": {
      "text/plain": [
       "0     2002-10-07\n",
       "1     2002-10-07\n",
       "2     2002-10-26\n",
       "3     2002-11-24\n",
       "4     2002-12-18\n",
       "         ...    \n",
       "696   2022-04-28\n",
       "697   2022-05-02\n",
       "698   2022-09-15\n",
       "699   2022-10-09\n",
       "700   2022-10-27\n",
       "Name: Date, Length: 701, dtype: datetime64[ns]"
      ]
     },
     "execution_count": 164,
     "metadata": {},
     "output_type": "execute_result"
    }
   ],
   "source": [
    "# Change the data type of 'Date' from object to datetime\n",
    "pd.to_datetime(cr7_df['Date'])"
   ]
  },
  {
   "cell_type": "code",
   "execution_count": 165,
   "id": "05eefab0",
   "metadata": {},
   "outputs": [
    {
     "data": {
      "text/plain": [
       "Season                      object\n",
       "Competition                 object\n",
       "Matchday                    object\n",
       "Date                datetime64[ns]\n",
       "Venue                       object\n",
       "Club                        object\n",
       "Opponent                    object\n",
       "Result                      object\n",
       "Playing_Position            object\n",
       "Minute                      object\n",
       "At_score                    object\n",
       "Type                        object\n",
       "Goal_assist                 object\n",
       "dtype: object"
      ]
     },
     "execution_count": 165,
     "metadata": {},
     "output_type": "execute_result"
    }
   ],
   "source": [
    "# To make the change persistent, assign it to the previous dataframe\n",
    "cr7_df['Date']=pd.to_datetime(cr7_df['Date'])\n",
    "cr7_df.dtypes"
   ]
  },
  {
   "cell_type": "code",
   "execution_count": 166,
   "id": "7df0cb88",
   "metadata": {},
   "outputs": [
    {
     "data": {
      "text/plain": [
       "701"
      ]
     },
     "execution_count": 166,
     "metadata": {},
     "output_type": "execute_result"
    }
   ],
   "source": [
    "# Check the length of the data frame\n",
    "len(cr7_df)"
   ]
  },
  {
   "cell_type": "code",
   "execution_count": 167,
   "id": "6093c516",
   "metadata": {},
   "outputs": [
    {
     "data": {
      "text/plain": [
       "Venue                 2\n",
       "Club                  4\n",
       "Playing_Position      5\n",
       "Type                 11\n",
       "Competition          16\n",
       "Season               21\n",
       "At_score             37\n",
       "Matchday             52\n",
       "Result               53\n",
       "Goal_assist          86\n",
       "Minute              106\n",
       "Opponent            125\n",
       "Date                464\n",
       "dtype: int64"
      ]
     },
     "execution_count": 167,
     "metadata": {},
     "output_type": "execute_result"
    }
   ],
   "source": [
    "# Check the number of unique value of each column\n",
    "cr7_df.nunique().sort_values()"
   ]
  },
  {
   "cell_type": "code",
   "execution_count": 168,
   "id": "1d9d35ce",
   "metadata": {},
   "outputs": [
    {
     "data": {
      "text/plain": [
       "array(['H', 'A'], dtype=object)"
      ]
     },
     "execution_count": 168,
     "metadata": {},
     "output_type": "execute_result"
    }
   ],
   "source": [
    "# Check the unique value of each column\n",
    "cr7_df['Venue'].unique()"
   ]
  },
  {
   "cell_type": "code",
   "execution_count": 169,
   "id": "4f5b1d48",
   "metadata": {},
   "outputs": [
    {
     "data": {
      "text/plain": [
       "array(['Sporting CP', 'Manchester United', 'Real Madrid', 'Juventus FC'],\n",
       "      dtype=object)"
      ]
     },
     "execution_count": 169,
     "metadata": {},
     "output_type": "execute_result"
    }
   ],
   "source": [
    "# Check the unique value of each column\n",
    "cr7_df['Club'].unique()"
   ]
  },
  {
   "cell_type": "code",
   "execution_count": 170,
   "id": "dd5c3dd5",
   "metadata": {},
   "outputs": [
    {
     "data": {
      "text/plain": [
       "array(['LW', nan, 'RW', 'CF', 'LW ', 'CF '], dtype=object)"
      ]
     },
     "execution_count": 170,
     "metadata": {},
     "output_type": "execute_result"
    }
   ],
   "source": [
    "# Check the unique value of each column\n",
    "cr7_df['Playing_Position'].unique()"
   ]
  },
  {
   "cell_type": "code",
   "execution_count": 171,
   "id": "534098f3",
   "metadata": {},
   "outputs": [
    {
     "data": {
      "text/plain": [
       "array(['Solo run', 'Header', 'Right-footed shot', 'Left-footed shot', nan,\n",
       "       'Direct free kick', 'Tap-in', 'Penalty', 'Penalty rebound',\n",
       "       'Long distance kick', 'Counter attack goal',\n",
       "       'Deflected shot on goal'], dtype=object)"
      ]
     },
     "execution_count": 171,
     "metadata": {},
     "output_type": "execute_result"
    }
   ],
   "source": [
    "# Check the unique value of each column\n",
    "cr7_df['Type'].unique()"
   ]
  },
  {
   "cell_type": "code",
   "execution_count": 172,
   "id": "cc97fc87",
   "metadata": {},
   "outputs": [
    {
     "data": {
      "text/plain": [
       "array(['Liga Portugal', 'Taca de Portugal Placard', 'Premier League',\n",
       "       'FA Cup', 'UEFA Champions League Qualifying', 'EFL Cup',\n",
       "       'UEFA Champions League', 'FIFA Club World Cup', 'LaLiga',\n",
       "       'Copa del Rey', 'Supercopa', 'UEFA Super Cup', 'Serie A',\n",
       "       'Supercoppa Italiana', 'Italy Cup', 'Europa League'], dtype=object)"
      ]
     },
     "execution_count": 172,
     "metadata": {},
     "output_type": "execute_result"
    }
   ],
   "source": [
    "# Check the unique value of each column\n",
    "cr7_df['Competition'].unique()"
   ]
  },
  {
   "cell_type": "code",
   "execution_count": 173,
   "id": "d81268a3",
   "metadata": {},
   "outputs": [
    {
     "data": {
      "text/plain": [
       "array(['02/03', '03/04', '04/05', '05/06', '06/07', '07/08', '08/09',\n",
       "       '09/10', '10/11', '11/12', 'Dec-13', '13/14', '14/15', '15/16',\n",
       "       '16/17', '17/18', '18/19', '19/20', '20/21', '21/22', '22/23'],\n",
       "      dtype=object)"
      ]
     },
     "execution_count": 173,
     "metadata": {},
     "output_type": "execute_result"
    }
   ],
   "source": [
    "# Check the unique value of each column\n",
    "cr7_df['Season'].unique()"
   ]
  },
  {
   "cell_type": "code",
   "execution_count": 174,
   "id": "a783437f",
   "metadata": {},
   "outputs": [
    {
     "data": {
      "text/plain": [
       "array(['2:00', '3:00', '1:02', '1:01', '0:01', '1:00', '2:02', '2:03',\n",
       "       '0:02', '1:04', '4:01', '3:01', '4:02', '0:03', '4:00', '2:01',\n",
       "       '5:00', '1:03', '0:04', '0:05', '3:02', '2:04', '6:01', '5:01',\n",
       "       '6:00', '7:00', '1:05', '1:06', '7:01', '0:06', '6:02', '5:02',\n",
       "       '6:03', '9:01', '3:03', '1:2', '3:0'], dtype=object)"
      ]
     },
     "execution_count": 174,
     "metadata": {},
     "output_type": "execute_result"
    }
   ],
   "source": [
    "# Check the unique value of each column\n",
    "cr7_df['At_score'].unique()"
   ]
  },
  {
   "cell_type": "code",
   "execution_count": 175,
   "id": "e182f1df",
   "metadata": {},
   "outputs": [
    {
     "data": {
      "text/plain": [
       "array(['6', '8', 'Fourth Round', 'Fifth Round', '11', '29', '32', '38',\n",
       "       'Final', '16', 'Third Round', '24', '25', 'Sixth Round', '30',\n",
       "       'Semi-Finals', '3rd round', 'Round of 16', '20', '26', '28', '1',\n",
       "       '10', '15', '17', '19', '21', '23', '6th round', 'Quarter-Finals',\n",
       "       '37', 'Group Stage', '9', '12', '13', '18', '22', '27', 'last 16',\n",
       "       '31', '33', '34', '36', '2', '3', '4', '35', '7', '4th round',\n",
       "       '14', 'final', '5'], dtype=object)"
      ]
     },
     "execution_count": 175,
     "metadata": {},
     "output_type": "execute_result"
    }
   ],
   "source": [
    "# Check the unique value of each column\n",
    "cr7_df['Matchday'].unique()"
   ]
  },
  {
   "cell_type": "code",
   "execution_count": 176,
   "id": "bdaf217b",
   "metadata": {},
   "outputs": [
    {
     "data": {
      "text/plain": [
       "array(['3:00', '1:02', '4:01', '8:01', '4:02', '0:02', '3:01', '2:04',\n",
       "       '0:04', '1:00', '1:04', '1:03', '4:00', '5:01', '1:01', '0:03',\n",
       "       '3:02', '2:02', '7:01', '0:01', '2:00', '2:01', '6:00', '1:05',\n",
       "       '6:5 on pens', '4:03', '5:00', '3:05', '0:05', '5:02', '2:05',\n",
       "       '6:02', '6:01', '8:00', '2:03', '7:00', '0:1 AET', '2:06', '0:06',\n",
       "       '3:4 on pens', '2:1 AET', '1:06', '7:03', '3:04', '4:1 AET',\n",
       "       '2:08', '9:01', '10:02', '4:2 AET', '3:03', '6:03', '1:2', '3:0'],\n",
       "      dtype=object)"
      ]
     },
     "execution_count": 176,
     "metadata": {},
     "output_type": "execute_result"
    }
   ],
   "source": [
    "# Check the unique value of each column\n",
    "cr7_df['Result'].unique()"
   ]
  },
  {
   "cell_type": "code",
   "execution_count": 177,
   "id": "bfd797e1",
   "metadata": {},
   "outputs": [
    {
     "data": {
      "text/plain": [
       "array([nan, 'Rui Jorge', 'Carlos Martins', 'Cesar Prates', 'Ryan Giggs',\n",
       "       'Gary Neville', 'Paul Scholes', 'Louis Saha',\n",
       "       'Ruud van Nistelrooy', 'Roy Keane', 'Wayne Rooney', 'John OShea',\n",
       "       'Ji-sung Park', 'Ole Gunnar Solskjaer', 'Michael Carrick',\n",
       "       'Wes Brown', 'Patrice Evra', 'Carlos Tevez', 'Nemanja Vidicâ€Ž',\n",
       "       'Nani', 'Edwin van der Sar', 'Owen Hargreaves', 'Dimitar Berbatov',\n",
       "       'Anderson', 'Guti', 'Esteban Granero', 'Pepe', 'Karim Benzema',\n",
       "       'Gonzalo Higuain', 'Lassana Diarra', 'Ezequiel Garay', 'Kaka',\n",
       "       'Marcelo', 'Sergio Ramos', 'Mesut Ozil', 'Xabi Alonso',\n",
       "       'Angel Di Maria', 'Sergio Canales', 'Sami Khedira',\n",
       "       'alvaro Arbeloa', 'Fabio CoentrÃ£o', 'Jose CallejÃ³n',\n",
       "       'Luka Modric', 'Isco', 'Gareth Bale', 'Daniel Carvajal',\n",
       "       'James Rodriguez', 'Toni Kroos', 'Chicharito', 'Lucas Vazquez',\n",
       "       'Danilo', 'Jese', 'alvaro Morata', 'Nacho Fernandez',\n",
       "       'Mateo Kovacic', 'Marco Asensio', 'Casemiro', 'Borja Mayoral',\n",
       "       'Emre Can', 'Mario Mandzukic', 'Blaise Matuidi',\n",
       "       'Leonardo Bonucci', 'Miralem Pjanic', 'Giorgio Chiellini',\n",
       "       'Paulo Dybala', 'Federico Bernardeschi', 'JoÃ£o Cancelo',\n",
       "       'Leonardo Spinazzola', 'Douglas Costa', 'Rodrigo Bentancur',\n",
       "       'Alex Sandro', 'Juan Cuadrado', 'Aaron Ramsey', 'Merih Demiral',\n",
       "       'Federico Chiesa', 'Adrien Rabiot', 'Luke Shaw', 'Bruno Fernandes',\n",
       "       'Jesse Lingard', 'Mason Greenwood', 'Marcus Rashford',\n",
       "       'Scott McTominay', 'Fred', 'Jadon Sancho', 'Alex Telles',\n",
       "       'Anthony Elanga', 'Nemanja MatiÄ‡'], dtype=object)"
      ]
     },
     "execution_count": 177,
     "metadata": {},
     "output_type": "execute_result"
    }
   ],
   "source": [
    "# Check the unique value of each column\n",
    "cr7_df['Goal_assist'].unique()"
   ]
  },
  {
   "cell_type": "code",
   "execution_count": 178,
   "id": "ee88be04",
   "metadata": {},
   "outputs": [
    {
     "data": {
      "text/plain": [
       "array(['34', '90+5', '88', '67', '13', '80', '74', '89', '60', '4', '44',\n",
       "       '87', '9', '8', '54', '58', '45+1', '21', '76', '63', '90', '12',\n",
       "       '68', '14', '38', '45', '59', '23', '19', '73', '82', '10', '39',\n",
       "       '84', '85', '47', '50', '77', '49', '28', '5', '62', '51', '41',\n",
       "       '35', '90+3', '22', '81', '48', '70', '90+2', '69', '56', '79',\n",
       "       '16', '53', '3', '24', '32', '26', '25', '30', '43', '65', '11',\n",
       "       '6', '57', '61', '17', '27', '1', '75', '2', '64', '71', '18',\n",
       "       '78', '29', '36', '15', '55', '86', '90+1', '72', '20', '42',\n",
       "       '103', '46', '52', '90+4', '37', '66', '90+6', '31', '40', '120',\n",
       "       '83', '7', '33', '97', '104', '105', '109', '90+7', '45+7', '45+2'],\n",
       "      dtype=object)"
      ]
     },
     "execution_count": 178,
     "metadata": {},
     "output_type": "execute_result"
    }
   ],
   "source": [
    "# Check the unique value of each column\n",
    "cr7_df['Minute'].unique()"
   ]
  },
  {
   "cell_type": "code",
   "execution_count": 179,
   "id": "f65cb6dc",
   "metadata": {},
   "outputs": [
    {
     "data": {
      "text/plain": [
       "array(['Moreirense FC', 'Boavista FC', 'CD Estarreja',\n",
       "       'FC Oliveira do Hospital', 'Portsmouth FC', 'Manchester City',\n",
       "       'Tottenham Hotspur', 'Birmingham City', 'Aston Villa',\n",
       "       'Millwall FC', 'Southampton FC', 'Exeter City', 'Arsenal FC',\n",
       "       'Everton FC', 'Fulham FC', 'Newcastle United', 'Debreceni VSC',\n",
       "       'Middlesbrough FC', 'West Bromwich Albion', 'Bolton Wanderers',\n",
       "       'Wigan Athletic', 'Charlton Athletic', 'Reading FC', 'Watford FC',\n",
       "       'AS Roma', 'AC Milan', 'Sporting CP', 'Dynamo Kyiv',\n",
       "       'Blackburn Rovers', 'Derby County', 'Sunderland AFC',\n",
       "       'West Ham United', 'Olympique Lyon', 'Liverpool FC', 'Chelsea FC',\n",
       "       'Hull City', 'Stoke City', 'Gamba Osaka', 'FC Internazionale',\n",
       "       'FC Porto', 'Deportivo de La CoruÃ±a', 'RCD Espanyol Barcelona',\n",
       "       'FC ZÃ¼rich', 'Xerez CD', 'Villarreal CF', 'Olympique Marseille',\n",
       "       'UD Almeria', 'Real Zaragoza', 'Malaga CF', 'CD Tenerife',\n",
       "       'Sevilla FC', 'Real Valladolid CF', 'Getafe CF',\n",
       "       'Racing Santander', 'Valencia CF', 'CA Osasuna', 'RCD Mallorca',\n",
       "       'Athletic Bilbao', 'Hercules CF', 'Real Murcia CF',\n",
       "       'Ajax Amsterdam', 'AJ Auxerre', 'Levante UD', 'Atletico de Madrid',\n",
       "       'Real Sociedad', 'FC Barcelona', 'Rayo Vallecano',\n",
       "       'Sporting GijÃ³n', 'SD Ponferradina', 'Granada CF', 'CSKA Moscow',\n",
       "       'Real Betis Balompie', 'APOEL Nicosia', 'Bayern Munich',\n",
       "       'Celta de Vigo', 'Borussia Dortmund', 'Manchester United',\n",
       "       'Galatasaray', 'Elche CF', 'FC Copenhagen', 'Juventus FC',\n",
       "       'FC Schalke 04', 'CÃ³rdoba CF', 'FC Basel 1893',\n",
       "       'Ludogorets Razgrad', 'SD Eibar', 'Shakhtar Donetsk', 'MalmÃ¶ FF',\n",
       "       'UD Las Palmas', 'VfL Wolfsburg', 'Deportivo Alaves', 'CF America',\n",
       "       'Kashima Antlers', 'Al-Jazira (Abu Dhabi)',\n",
       "       'GrÃªmio Foot-Ball Porto Alegrense', 'Paris Saint-Germain',\n",
       "       'Girona FC', 'US Sassuolo', 'Frosinone Calcio', 'Udinese Calcio',\n",
       "       'Genoa CFC', 'Empoli FC ', 'SPAL', 'ACF Fiorentina', 'Torino FC',\n",
       "       'Atalanta BC', 'UC Sampdoria', 'SS Lazio', 'Parma Calcio 1913',\n",
       "       'Inter Milan', 'SSC Napoli', 'Hellas Verona',\n",
       "       'Bayer 04 Leverkusen', 'Bologna FC 1909', 'Cagliari Calcio',\n",
       "       'US Lecce', 'Spezia Calcio', 'Ferencvarosi TC', 'FC Crotone',\n",
       "       'BSC Young Boys', 'Norwich City', 'Burnley FC',\n",
       "       'Brighton & Hove Albion', 'Brentford FC', 'FC Sheriff'],\n",
       "      dtype=object)"
      ]
     },
     "execution_count": 179,
     "metadata": {},
     "output_type": "execute_result"
    }
   ],
   "source": [
    "# Check the unique value of each column\n",
    "cr7_df['Opponent'].unique()"
   ]
  },
  {
   "cell_type": "code",
   "execution_count": 180,
   "id": "a0648ef2",
   "metadata": {},
   "outputs": [
    {
     "data": {
      "text/plain": [
       "<DatetimeArray>\n",
       "['2002-10-07 00:00:00', '2002-10-26 00:00:00', '2002-11-24 00:00:00',\n",
       " '2002-12-18 00:00:00', '2003-11-01 00:00:00', '2004-02-14 00:00:00',\n",
       " '2004-03-20 00:00:00', '2004-04-10 00:00:00', '2004-05-15 00:00:00',\n",
       " '2004-05-22 00:00:00',\n",
       " ...\n",
       " '2021-12-30 00:00:00', '2022-02-15 00:00:00', '2022-03-12 00:00:00',\n",
       " '2022-04-16 00:00:00', '2022-04-23 00:00:00', '2022-04-28 00:00:00',\n",
       " '2022-05-02 00:00:00', '2022-09-15 00:00:00', '2022-10-09 00:00:00',\n",
       " '2022-10-27 00:00:00']\n",
       "Length: 464, dtype: datetime64[ns]"
      ]
     },
     "execution_count": 180,
     "metadata": {},
     "output_type": "execute_result"
    }
   ],
   "source": [
    "# Check the unique value of each column\n",
    "cr7_df['Date'].unique()"
   ]
  },
  {
   "cell_type": "code",
   "execution_count": 182,
   "id": "63f34541",
   "metadata": {},
   "outputs": [
    {
     "data": {
      "text/plain": [
       "Season\n",
       "14/15     61\n",
       "11/12     60\n",
       "Dec-13    55\n",
       "10/11     53\n",
       "13/14     51\n",
       "15/16     51\n",
       "17/18     44\n",
       "07/08     42\n",
       "16/17     42\n",
       "19/20     37\n",
       "20/21     36\n",
       "09/10     33\n",
       "18/19     28\n",
       "08/09     26\n",
       "21/22     24\n",
       "06/07     23\n",
       "05/06     12\n",
       "04/05      9\n",
       "03/04      6\n",
       "02/03      5\n",
       "22/23      3\n",
       "Name: count, dtype: int64"
      ]
     },
     "execution_count": 182,
     "metadata": {},
     "output_type": "execute_result"
    }
   ],
   "source": [
    "# See a value counts on each categorical column\n",
    "cr7_df['Season'].value_counts(dropna=False)"
   ]
  },
  {
   "cell_type": "code",
   "execution_count": 183,
   "id": "df9315c1",
   "metadata": {},
   "outputs": [],
   "source": [
    "cr7_df['Season']=cr7_df['Season'].str.replace('-','/')\n",
    "cr7_df['Season']=cr7_df['Season'].str.replace('Dec','12')"
   ]
  },
  {
   "cell_type": "code",
   "execution_count": 185,
   "id": "5e876c75",
   "metadata": {},
   "outputs": [],
   "source": [
    "cr7_df['Season']=cr7_df['Season'].str.replace('02/03','2002')\n",
    "cr7_df['Season']=cr7_df['Season'].str.replace('03/04','2003')\n",
    "cr7_df['Season']=cr7_df['Season'].str.replace('04/05','2004')\n",
    "cr7_df['Season']=cr7_df['Season'].str.replace('05/06','2005')\n",
    "cr7_df['Season']=cr7_df['Season'].str.replace('06/07','2006')\n",
    "cr7_df['Season']=cr7_df['Season'].str.replace('07/08','2007')\n",
    "cr7_df['Season']=cr7_df['Season'].str.replace('08/09','2008')\n",
    "cr7_df['Season']=cr7_df['Season'].str.replace('09/10','2009')\n",
    "cr7_df['Season']=cr7_df['Season'].str.replace('10/11','2010')\n",
    "cr7_df['Season']=cr7_df['Season'].str.replace('11/12','2011')\n",
    "cr7_df['Season']=cr7_df['Season'].str.replace('12/13','2012')\n",
    "cr7_df['Season']=cr7_df['Season'].str.replace('13/14','2013')\n",
    "cr7_df['Season']=cr7_df['Season'].str.replace('14/15','2014')\n",
    "cr7_df['Season']=cr7_df['Season'].str.replace('15/16','2015')\n",
    "cr7_df['Season']=cr7_df['Season'].str.replace('16/17','2016')\n",
    "cr7_df['Season']=cr7_df['Season'].str.replace('17/18','2017')\n",
    "cr7_df['Season']=cr7_df['Season'].str.replace('18/19','2018')\n",
    "cr7_df['Season']=cr7_df['Season'].str.replace('19/20','2019')\n",
    "cr7_df['Season']=cr7_df['Season'].str.replace('20/21','2020')\n",
    "cr7_df['Season']=cr7_df['Season'].str.replace('21/22','2021')\n",
    "cr7_df['Season']=cr7_df['Season'].str.replace('22/23','2022')"
   ]
  },
  {
   "cell_type": "code",
   "execution_count": 187,
   "id": "5ef54b4e",
   "metadata": {},
   "outputs": [
    {
     "data": {
      "text/plain": [
       "0      2002\n",
       "1      2002\n",
       "2      2002\n",
       "3      2002\n",
       "4      2002\n",
       "       ... \n",
       "696    2021\n",
       "697    2021\n",
       "698    2022\n",
       "699    2022\n",
       "700    2022\n",
       "Name: Season, Length: 701, dtype: category\n",
       "Categories (21, object): ['2002', '2003', '2004', '2005', ..., '2019', '2020', '2021', '2022']"
      ]
     },
     "execution_count": 187,
     "metadata": {},
     "output_type": "execute_result"
    }
   ],
   "source": [
    "cr7_df['Season']=cr7_df['Season'].str.strip()\n",
    "cr7_df['Season']=cr7_df['Season'].str.lower()\n",
    "cr7_df['Season']=cr7_df['Season'].astype('category')\n",
    "cr7_df['Season']"
   ]
  },
  {
   "cell_type": "code",
   "execution_count": 188,
   "id": "919873cc",
   "metadata": {},
   "outputs": [
    {
     "data": {
      "text/plain": [
       "Season\n",
       "2014    61\n",
       "2011    60\n",
       "2012    55\n",
       "2010    53\n",
       "2013    51\n",
       "2015    51\n",
       "2017    44\n",
       "2007    42\n",
       "2016    42\n",
       "2019    37\n",
       "2020    36\n",
       "2009    33\n",
       "2018    28\n",
       "2008    26\n",
       "2021    24\n",
       "2006    23\n",
       "2005    12\n",
       "2004     9\n",
       "2003     6\n",
       "2002     5\n",
       "2022     3\n",
       "Name: count, dtype: int64"
      ]
     },
     "execution_count": 188,
     "metadata": {},
     "output_type": "execute_result"
    }
   ],
   "source": [
    "cr7_df['Season'].value_counts(dropna=False)"
   ]
  },
  {
   "cell_type": "code",
   "execution_count": 189,
   "id": "19d017f2",
   "metadata": {},
   "outputs": [
    {
     "data": {
      "text/plain": [
       "Competition\n",
       "LaLiga                              311\n",
       "UEFA Champions League               140\n",
       "Premier League                      103\n",
       "Serie A                              81\n",
       "Copa del Rey                         22\n",
       "FA Cup                               13\n",
       "FIFA Club World Cup                   7\n",
       "EFL Cup                               4\n",
       "Supercopa                             4\n",
       "Italy Cup                             4\n",
       "Liga Portugal                         3\n",
       "Taca de Portugal Placard              2\n",
       "UEFA Super Cup                        2\n",
       "Supercoppa Italiana                   2\n",
       "Europa League                         2\n",
       "UEFA Champions League Qualifying      1\n",
       "Name: count, dtype: int64"
      ]
     },
     "execution_count": 189,
     "metadata": {},
     "output_type": "execute_result"
    }
   ],
   "source": [
    "# See value counts on each categorical column\n",
    "cr7_df['Competition'].value_counts(dropna=False)"
   ]
  },
  {
   "cell_type": "code",
   "execution_count": 190,
   "id": "f25665eb",
   "metadata": {},
   "outputs": [
    {
     "data": {
      "text/plain": [
       "Matchday\n",
       "Group Stage       75\n",
       "last 16           34\n",
       "Quarter-Finals    31\n",
       "Semi-Finals       26\n",
       "29                20\n",
       "6                 18\n",
       "8                 18\n",
       "23                18\n",
       "20                17\n",
       "Final             16\n",
       "13                16\n",
       "37                16\n",
       "18                16\n",
       "22                15\n",
       "27                15\n",
       "25                15\n",
       "12                15\n",
       "35                15\n",
       "3                 14\n",
       "14                14\n",
       "21                14\n",
       "28                14\n",
       "38                13\n",
       "9                 13\n",
       "15                13\n",
       "17                13\n",
       "10                13\n",
       "24                13\n",
       "31                13\n",
       "36                13\n",
       "34                12\n",
       "11                12\n",
       "30                11\n",
       "4                 11\n",
       "26                10\n",
       "33                10\n",
       "19                10\n",
       "16                10\n",
       "5                  9\n",
       "32                 8\n",
       "7                  8\n",
       "2                  7\n",
       "1                  6\n",
       "Fifth Round        4\n",
       "final              4\n",
       "Third Round        3\n",
       "Fourth Round       3\n",
       "Sixth Round        2\n",
       "4th round          2\n",
       "3rd round          1\n",
       "Round of 16        1\n",
       "6th round          1\n",
       "Name: count, dtype: int64"
      ]
     },
     "execution_count": 190,
     "metadata": {},
     "output_type": "execute_result"
    }
   ],
   "source": [
    "# See a value counts on each categorical column\n",
    "cr7_df['Matchday'].value_counts(dropna=False)"
   ]
  },
  {
   "cell_type": "code",
   "execution_count": 191,
   "id": "9f346b93",
   "metadata": {},
   "outputs": [
    {
     "data": {
      "text/plain": [
       "Venue\n",
       "H    403\n",
       "A    298\n",
       "Name: count, dtype: int64"
      ]
     },
     "execution_count": 191,
     "metadata": {},
     "output_type": "execute_result"
    }
   ],
   "source": [
    "# See a value counts on each categorical column\n",
    "cr7_df['Venue'].value_counts(dropna=False)"
   ]
  },
  {
   "cell_type": "code",
   "execution_count": 192,
   "id": "cb7958b0",
   "metadata": {},
   "outputs": [
    {
     "data": {
      "text/plain": [
       "Club\n",
       "Real Madrid          450\n",
       "Manchester United    145\n",
       "Juventus FC          101\n",
       "Sporting CP            5\n",
       "Name: count, dtype: int64"
      ]
     },
     "execution_count": 192,
     "metadata": {},
     "output_type": "execute_result"
    }
   ],
   "source": [
    "# See a value counts on each categorical column\n",
    "cr7_df['Club'].value_counts(dropna=False)"
   ]
  },
  {
   "cell_type": "code",
   "execution_count": 193,
   "id": "c281c9a4",
   "metadata": {},
   "outputs": [
    {
     "data": {
      "text/plain": [
       "Opponent\n",
       "Sevilla FC            27\n",
       "Atletico de Madrid    25\n",
       "Getafe CF             23\n",
       "Celta de Vigo         20\n",
       "FC Barcelona          20\n",
       "                      ..\n",
       "Gamba Osaka            1\n",
       "FC Internazionale      1\n",
       "FC Porto               1\n",
       "AJ Auxerre             1\n",
       "Exeter City            1\n",
       "Name: count, Length: 125, dtype: int64"
      ]
     },
     "execution_count": 193,
     "metadata": {},
     "output_type": "execute_result"
    }
   ],
   "source": [
    "# See a value counts on each categorical column\n",
    "cr7_df['Opponent'].value_counts(dropna=False)"
   ]
  },
  {
   "cell_type": "code",
   "execution_count": 194,
   "id": "b77810f2",
   "metadata": {},
   "outputs": [
    {
     "data": {
      "text/plain": [
       "Result\n",
       "3:00           49\n",
       "2:01           41\n",
       "1:02           37\n",
       "4:00           36\n",
       "0:02           36\n",
       "2:00           35\n",
       "1:04           32\n",
       "3:01           32\n",
       "4:01           31\n",
       "3:02           28\n",
       "1:03           27\n",
       "2:02           25\n",
       "5:01           24\n",
       "0:03           23\n",
       "1:01           21\n",
       "0:04           16\n",
       "4:02           15\n",
       "2:03           13\n",
       "0:01           12\n",
       "5:00           12\n",
       "7:01           11\n",
       "0:05           10\n",
       "0:06           10\n",
       "5:02            9\n",
       "4:03            7\n",
       "6:00            7\n",
       "8:00            7\n",
       "2:06            7\n",
       "2:04            6\n",
       "7:03            6\n",
       "1:05            6\n",
       "1:06            6\n",
       "6:01            6\n",
       "4:2 AET         6\n",
       "1:00            6\n",
       "9:01            5\n",
       "6:02            5\n",
       "3:04            5\n",
       "3:03            4\n",
       "6:03            4\n",
       "2:08            3\n",
       "8:01            3\n",
       "7:00            3\n",
       "3:4 on pens     2\n",
       "2:05            2\n",
       "3:05            2\n",
       "10:02           2\n",
       "1:2             1\n",
       "0:1 AET         1\n",
       "4:1 AET         1\n",
       "2:1 AET         1\n",
       "6:5 on pens     1\n",
       "3:0             1\n",
       "Name: count, dtype: int64"
      ]
     },
     "execution_count": 194,
     "metadata": {},
     "output_type": "execute_result"
    }
   ],
   "source": [
    "# See a value counts on each categorical column\n",
    "cr7_df['Result'].value_counts(dropna=False)"
   ]
  },
  {
   "cell_type": "code",
   "execution_count": 195,
   "id": "566c20ac",
   "metadata": {},
   "outputs": [
    {
     "data": {
      "text/plain": [
       "Playing_Position\n",
       "LW     356\n",
       "CF     200\n",
       "RW      79\n",
       "NaN     58\n",
       "LW       5\n",
       "CF       3\n",
       "Name: count, dtype: int64"
      ]
     },
     "execution_count": 195,
     "metadata": {},
     "output_type": "execute_result"
    }
   ],
   "source": [
    "# See a value counts on each categorical column\n",
    "cr7_df['Playing_Position'].value_counts(dropna=False)"
   ]
  },
  {
   "cell_type": "code",
   "execution_count": 196,
   "id": "db7edf70",
   "metadata": {},
   "outputs": [
    {
     "data": {
      "text/plain": [
       "Minute\n",
       "90      17\n",
       "45      15\n",
       "89      15\n",
       "76      14\n",
       "70      14\n",
       "        ..\n",
       "105      1\n",
       "109      1\n",
       "90+7     1\n",
       "45+7     1\n",
       "45+2     1\n",
       "Name: count, Length: 106, dtype: int64"
      ]
     },
     "execution_count": 196,
     "metadata": {},
     "output_type": "execute_result"
    }
   ],
   "source": [
    "# See a value counts on each categorical column\n",
    "cr7_df['Minute'].value_counts(dropna=False)"
   ]
  },
  {
   "cell_type": "code",
   "execution_count": 201,
   "id": "2a673cd1",
   "metadata": {},
   "outputs": [
    {
     "data": {
      "text/plain": [
       "At_score\n",
       "1:00    111\n",
       "0:01     94\n",
       "2:00     74\n",
       "1:01     52\n",
       "0:02     48\n",
       "3:00     42\n",
       "2:01     35\n",
       "1:02     29\n",
       "0:03     28\n",
       "2:02     20\n",
       "3:01     20\n",
       "4:00     18\n",
       "1:03     17\n",
       "3:02     16\n",
       "4:01     14\n",
       "0:04     11\n",
       "5:01     11\n",
       "1:04     10\n",
       "5:00      8\n",
       "4:02      5\n",
       "0:06      4\n",
       "2:03      4\n",
       "6:00      4\n",
       "1:06      4\n",
       "0:05      3\n",
       "1:05      3\n",
       "6:03      2\n",
       "6:02      2\n",
       "7:00      2\n",
       "6:01      2\n",
       "2:04      2\n",
       "5:02      1\n",
       "3:03      1\n",
       "3:0       1\n",
       "1:2       1\n",
       "7:01      1\n",
       "9:01      1\n",
       "Name: count, dtype: int64"
      ]
     },
     "execution_count": 201,
     "metadata": {},
     "output_type": "execute_result"
    }
   ],
   "source": [
    "# See a value counts on each categorical column\n",
    "cr7_df['At_score'].value_counts(dropna=False)"
   ]
  },
  {
   "cell_type": "code",
   "execution_count": 202,
   "id": "f366da64",
   "metadata": {},
   "outputs": [
    {
     "data": {
      "text/plain": [
       "Type\n",
       "right-footed shot         251\n",
       "penalty                   129\n",
       "header                    112\n",
       "left-footed shot          111\n",
       "direct free kick           48\n",
       "NaN                        15\n",
       "tap-in                     14\n",
       "long distance kick          9\n",
       "counter attack goal         5\n",
       "penalty rebound             3\n",
       "deflected shot on goal      2\n",
       "solo run                    2\n",
       "Name: count, dtype: int64"
      ]
     },
     "execution_count": 202,
     "metadata": {},
     "output_type": "execute_result"
    }
   ],
   "source": [
    "# See a value counts on each categorical column\n",
    "cr7_df['Type'].value_counts(dropna=False)"
   ]
  },
  {
   "cell_type": "code",
   "execution_count": 203,
   "id": "011ed2e1",
   "metadata": {},
   "outputs": [
    {
     "data": {
      "text/plain": [
       "Goal_assist\n",
       "NaN                242\n",
       "karim benzema       44\n",
       "gareth bale         29\n",
       "mesut ozil          26\n",
       "marcelo             23\n",
       "                  ... \n",
       "cesar prates         1\n",
       "merih demiral        1\n",
       "ji-sung park         1\n",
       "mason greenwood      1\n",
       "adrien rabiot        1\n",
       "Name: count, Length: 87, dtype: int64"
      ]
     },
     "execution_count": 203,
     "metadata": {},
     "output_type": "execute_result"
    }
   ],
   "source": [
    "# See a value counts on each categorical column\n",
    "cr7_df['Goal_assist'].value_counts(dropna=False)"
   ]
  },
  {
   "cell_type": "code",
   "execution_count": 204,
   "id": "f2470ae4",
   "metadata": {},
   "outputs": [],
   "source": [
    "# Apply same transformation for rest of the category columns\n",
    "for col in ['Competition', \n",
    "            'Matchday', 'Venue','Club',\n",
    "            'Opponent','Result','Playing_Position',\n",
    "           'Minute', 'At_score', 'Type', 'Goal_assist']:\n",
    "    cr7_df[col]=cr7_df[col].str.strip()\n",
    "    cr7_df[col]=cr7_df[col].str.lower()\n",
    "    cr7_df[col]=cr7_df[col].astype('category')"
   ]
  },
  {
   "cell_type": "code",
   "execution_count": 205,
   "id": "bfd5994f",
   "metadata": {},
   "outputs": [
    {
     "name": "stdout",
     "output_type": "stream",
     "text": [
      "<class 'pandas.core.frame.DataFrame'>\n",
      "RangeIndex: 701 entries, 0 to 700\n",
      "Data columns (total 13 columns):\n",
      " #   Column            Non-Null Count  Dtype         \n",
      "---  ------            --------------  -----         \n",
      " 0   Season            701 non-null    category      \n",
      " 1   Competition       701 non-null    category      \n",
      " 2   Matchday          701 non-null    category      \n",
      " 3   Date              701 non-null    datetime64[ns]\n",
      " 4   Venue             701 non-null    category      \n",
      " 5   Club              701 non-null    category      \n",
      " 6   Opponent          701 non-null    category      \n",
      " 7   Result            701 non-null    category      \n",
      " 8   Playing_Position  643 non-null    category      \n",
      " 9   Minute            701 non-null    category      \n",
      " 10  At_score          701 non-null    category      \n",
      " 11  Type              686 non-null    category      \n",
      " 12  Goal_assist       459 non-null    category      \n",
      "dtypes: category(12), datetime64[ns](1)\n",
      "memory usage: 35.0 KB\n"
     ]
    }
   ],
   "source": [
    "cr7_df.info()"
   ]
  },
  {
   "cell_type": "markdown",
   "id": "f477b436",
   "metadata": {},
   "source": [
    "# Descriptive Statistics\n",
    "Descriptive statistics are useful as an initial step in data analysis and are very helpful in summarizing and understanding data. In this data set, there are no numeric columns, so it is difficult to obtain insight from the output, but the results are summarized below."
   ]
  },
  {
   "cell_type": "code",
   "execution_count": 206,
   "id": "25da4489",
   "metadata": {},
   "outputs": [
    {
     "data": {
      "text/html": [
       "<div>\n",
       "<style scoped>\n",
       "    .dataframe tbody tr th:only-of-type {\n",
       "        vertical-align: middle;\n",
       "    }\n",
       "\n",
       "    .dataframe tbody tr th {\n",
       "        vertical-align: top;\n",
       "    }\n",
       "\n",
       "    .dataframe thead th {\n",
       "        text-align: right;\n",
       "    }\n",
       "</style>\n",
       "<table border=\"1\" class=\"dataframe\">\n",
       "  <thead>\n",
       "    <tr style=\"text-align: right;\">\n",
       "      <th></th>\n",
       "      <th>Date</th>\n",
       "    </tr>\n",
       "  </thead>\n",
       "  <tbody>\n",
       "    <tr>\n",
       "      <th>count</th>\n",
       "      <td>701</td>\n",
       "    </tr>\n",
       "    <tr>\n",
       "      <th>mean</th>\n",
       "      <td>2014-01-13 07:17:32.781740288</td>\n",
       "    </tr>\n",
       "    <tr>\n",
       "      <th>min</th>\n",
       "      <td>2002-10-07 00:00:00</td>\n",
       "    </tr>\n",
       "    <tr>\n",
       "      <th>25%</th>\n",
       "      <td>2010-12-04 00:00:00</td>\n",
       "    </tr>\n",
       "    <tr>\n",
       "      <th>50%</th>\n",
       "      <td>2013-12-22 00:00:00</td>\n",
       "    </tr>\n",
       "    <tr>\n",
       "      <th>75%</th>\n",
       "      <td>2017-05-17 00:00:00</td>\n",
       "    </tr>\n",
       "    <tr>\n",
       "      <th>max</th>\n",
       "      <td>2022-10-27 00:00:00</td>\n",
       "    </tr>\n",
       "  </tbody>\n",
       "</table>\n",
       "</div>"
      ],
      "text/plain": [
       "                                Date\n",
       "count                            701\n",
       "mean   2014-01-13 07:17:32.781740288\n",
       "min              2002-10-07 00:00:00\n",
       "25%              2010-12-04 00:00:00\n",
       "50%              2013-12-22 00:00:00\n",
       "75%              2017-05-17 00:00:00\n",
       "max              2022-10-27 00:00:00"
      ]
     },
     "execution_count": 206,
     "metadata": {},
     "output_type": "execute_result"
    }
   ],
   "source": [
    "# Snapshot of numeric columns\n",
    "cr7_df.describe()"
   ]
  },
  {
   "cell_type": "code",
   "execution_count": 207,
   "id": "098499e0",
   "metadata": {},
   "outputs": [
    {
     "data": {
      "text/html": [
       "<div>\n",
       "<style scoped>\n",
       "    .dataframe tbody tr th:only-of-type {\n",
       "        vertical-align: middle;\n",
       "    }\n",
       "\n",
       "    .dataframe tbody tr th {\n",
       "        vertical-align: top;\n",
       "    }\n",
       "\n",
       "    .dataframe thead th {\n",
       "        text-align: right;\n",
       "    }\n",
       "</style>\n",
       "<table border=\"1\" class=\"dataframe\">\n",
       "  <thead>\n",
       "    <tr style=\"text-align: right;\">\n",
       "      <th></th>\n",
       "      <th>Season</th>\n",
       "      <th>Competition</th>\n",
       "      <th>Matchday</th>\n",
       "      <th>Date</th>\n",
       "      <th>Venue</th>\n",
       "      <th>Club</th>\n",
       "      <th>Opponent</th>\n",
       "      <th>Result</th>\n",
       "      <th>Playing_Position</th>\n",
       "      <th>Minute</th>\n",
       "      <th>At_score</th>\n",
       "      <th>Type</th>\n",
       "      <th>Goal_assist</th>\n",
       "    </tr>\n",
       "  </thead>\n",
       "  <tbody>\n",
       "    <tr>\n",
       "      <th>count</th>\n",
       "      <td>701</td>\n",
       "      <td>701</td>\n",
       "      <td>701</td>\n",
       "      <td>701</td>\n",
       "      <td>701</td>\n",
       "      <td>701</td>\n",
       "      <td>701</td>\n",
       "      <td>701</td>\n",
       "      <td>643</td>\n",
       "      <td>701</td>\n",
       "      <td>701</td>\n",
       "      <td>686</td>\n",
       "      <td>459</td>\n",
       "    </tr>\n",
       "    <tr>\n",
       "      <th>unique</th>\n",
       "      <td>21</td>\n",
       "      <td>16</td>\n",
       "      <td>51</td>\n",
       "      <td>NaN</td>\n",
       "      <td>2</td>\n",
       "      <td>4</td>\n",
       "      <td>125</td>\n",
       "      <td>53</td>\n",
       "      <td>3</td>\n",
       "      <td>106</td>\n",
       "      <td>37</td>\n",
       "      <td>11</td>\n",
       "      <td>86</td>\n",
       "    </tr>\n",
       "    <tr>\n",
       "      <th>top</th>\n",
       "      <td>2014</td>\n",
       "      <td>laliga</td>\n",
       "      <td>group stage</td>\n",
       "      <td>NaN</td>\n",
       "      <td>h</td>\n",
       "      <td>real madrid</td>\n",
       "      <td>sevilla fc</td>\n",
       "      <td>3:00</td>\n",
       "      <td>lw</td>\n",
       "      <td>90</td>\n",
       "      <td>1:00</td>\n",
       "      <td>right-footed shot</td>\n",
       "      <td>karim benzema</td>\n",
       "    </tr>\n",
       "    <tr>\n",
       "      <th>freq</th>\n",
       "      <td>61</td>\n",
       "      <td>311</td>\n",
       "      <td>75</td>\n",
       "      <td>NaN</td>\n",
       "      <td>403</td>\n",
       "      <td>450</td>\n",
       "      <td>27</td>\n",
       "      <td>49</td>\n",
       "      <td>361</td>\n",
       "      <td>17</td>\n",
       "      <td>111</td>\n",
       "      <td>251</td>\n",
       "      <td>44</td>\n",
       "    </tr>\n",
       "    <tr>\n",
       "      <th>mean</th>\n",
       "      <td>NaN</td>\n",
       "      <td>NaN</td>\n",
       "      <td>NaN</td>\n",
       "      <td>2014-01-13 07:17:32.781740288</td>\n",
       "      <td>NaN</td>\n",
       "      <td>NaN</td>\n",
       "      <td>NaN</td>\n",
       "      <td>NaN</td>\n",
       "      <td>NaN</td>\n",
       "      <td>NaN</td>\n",
       "      <td>NaN</td>\n",
       "      <td>NaN</td>\n",
       "      <td>NaN</td>\n",
       "    </tr>\n",
       "    <tr>\n",
       "      <th>min</th>\n",
       "      <td>NaN</td>\n",
       "      <td>NaN</td>\n",
       "      <td>NaN</td>\n",
       "      <td>2002-10-07 00:00:00</td>\n",
       "      <td>NaN</td>\n",
       "      <td>NaN</td>\n",
       "      <td>NaN</td>\n",
       "      <td>NaN</td>\n",
       "      <td>NaN</td>\n",
       "      <td>NaN</td>\n",
       "      <td>NaN</td>\n",
       "      <td>NaN</td>\n",
       "      <td>NaN</td>\n",
       "    </tr>\n",
       "    <tr>\n",
       "      <th>25%</th>\n",
       "      <td>NaN</td>\n",
       "      <td>NaN</td>\n",
       "      <td>NaN</td>\n",
       "      <td>2010-12-04 00:00:00</td>\n",
       "      <td>NaN</td>\n",
       "      <td>NaN</td>\n",
       "      <td>NaN</td>\n",
       "      <td>NaN</td>\n",
       "      <td>NaN</td>\n",
       "      <td>NaN</td>\n",
       "      <td>NaN</td>\n",
       "      <td>NaN</td>\n",
       "      <td>NaN</td>\n",
       "    </tr>\n",
       "    <tr>\n",
       "      <th>50%</th>\n",
       "      <td>NaN</td>\n",
       "      <td>NaN</td>\n",
       "      <td>NaN</td>\n",
       "      <td>2013-12-22 00:00:00</td>\n",
       "      <td>NaN</td>\n",
       "      <td>NaN</td>\n",
       "      <td>NaN</td>\n",
       "      <td>NaN</td>\n",
       "      <td>NaN</td>\n",
       "      <td>NaN</td>\n",
       "      <td>NaN</td>\n",
       "      <td>NaN</td>\n",
       "      <td>NaN</td>\n",
       "    </tr>\n",
       "    <tr>\n",
       "      <th>75%</th>\n",
       "      <td>NaN</td>\n",
       "      <td>NaN</td>\n",
       "      <td>NaN</td>\n",
       "      <td>2017-05-17 00:00:00</td>\n",
       "      <td>NaN</td>\n",
       "      <td>NaN</td>\n",
       "      <td>NaN</td>\n",
       "      <td>NaN</td>\n",
       "      <td>NaN</td>\n",
       "      <td>NaN</td>\n",
       "      <td>NaN</td>\n",
       "      <td>NaN</td>\n",
       "      <td>NaN</td>\n",
       "    </tr>\n",
       "    <tr>\n",
       "      <th>max</th>\n",
       "      <td>NaN</td>\n",
       "      <td>NaN</td>\n",
       "      <td>NaN</td>\n",
       "      <td>2022-10-27 00:00:00</td>\n",
       "      <td>NaN</td>\n",
       "      <td>NaN</td>\n",
       "      <td>NaN</td>\n",
       "      <td>NaN</td>\n",
       "      <td>NaN</td>\n",
       "      <td>NaN</td>\n",
       "      <td>NaN</td>\n",
       "      <td>NaN</td>\n",
       "      <td>NaN</td>\n",
       "    </tr>\n",
       "  </tbody>\n",
       "</table>\n",
       "</div>"
      ],
      "text/plain": [
       "       Season Competition     Matchday                           Date Venue  \\\n",
       "count     701         701          701                            701   701   \n",
       "unique     21          16           51                            NaN     2   \n",
       "top      2014      laliga  group stage                            NaN     h   \n",
       "freq       61         311           75                            NaN   403   \n",
       "mean      NaN         NaN          NaN  2014-01-13 07:17:32.781740288   NaN   \n",
       "min       NaN         NaN          NaN            2002-10-07 00:00:00   NaN   \n",
       "25%       NaN         NaN          NaN            2010-12-04 00:00:00   NaN   \n",
       "50%       NaN         NaN          NaN            2013-12-22 00:00:00   NaN   \n",
       "75%       NaN         NaN          NaN            2017-05-17 00:00:00   NaN   \n",
       "max       NaN         NaN          NaN            2022-10-27 00:00:00   NaN   \n",
       "\n",
       "               Club    Opponent Result Playing_Position Minute At_score  \\\n",
       "count           701         701    701              643    701      701   \n",
       "unique            4         125     53                3    106       37   \n",
       "top     real madrid  sevilla fc   3:00               lw     90     1:00   \n",
       "freq            450          27     49              361     17      111   \n",
       "mean            NaN         NaN    NaN              NaN    NaN      NaN   \n",
       "min             NaN         NaN    NaN              NaN    NaN      NaN   \n",
       "25%             NaN         NaN    NaN              NaN    NaN      NaN   \n",
       "50%             NaN         NaN    NaN              NaN    NaN      NaN   \n",
       "75%             NaN         NaN    NaN              NaN    NaN      NaN   \n",
       "max             NaN         NaN    NaN              NaN    NaN      NaN   \n",
       "\n",
       "                     Type    Goal_assist  \n",
       "count                 686            459  \n",
       "unique                 11             86  \n",
       "top     right-footed shot  karim benzema  \n",
       "freq                  251             44  \n",
       "mean                  NaN            NaN  \n",
       "min                   NaN            NaN  \n",
       "25%                   NaN            NaN  \n",
       "50%                   NaN            NaN  \n",
       "75%                   NaN            NaN  \n",
       "max                   NaN            NaN  "
      ]
     },
     "execution_count": 207,
     "metadata": {},
     "output_type": "execute_result"
    }
   ],
   "source": [
    "# Snapshot of all columns\n",
    "cr7_df.describe(include='all')"
   ]
  },
  {
   "cell_type": "markdown",
   "id": "54d4a1fd",
   "metadata": {},
   "source": [
    "# Missing Values\n",
    "After examining the missing values, we found that missing values exist in three columns in the current dataset: Playing_Position, Type, and Goal_assist. Among them, missing values in Goal_assist were large, accounting for about 1/3 of the total. Since the number of rows containing even a single missing value is 40% of the total, we must be careful when handling missing values.\n",
    "\n",
    "Cutting this column for goal_assist, which has the most missing values, may cause a decrease in the reliability of the entire data set.\n",
    "In addition, Goal_assist is not removed in this analysis because in football to begin with, a goal can be recorded by oneself alone without an assist.\n",
    "Instead, a policy of deleting records with even one missing value in Playing_Position or Type was adopted.\n",
    "\n",
    "As a result, there were only 217 missing values for Goal_assist in the entire data set."
   ]
  },
  {
   "cell_type": "code",
   "execution_count": 208,
   "id": "c806ef57",
   "metadata": {},
   "outputs": [
    {
     "data": {
      "text/html": [
       "<div>\n",
       "<style scoped>\n",
       "    .dataframe tbody tr th:only-of-type {\n",
       "        vertical-align: middle;\n",
       "    }\n",
       "\n",
       "    .dataframe tbody tr th {\n",
       "        vertical-align: top;\n",
       "    }\n",
       "\n",
       "    .dataframe thead th {\n",
       "        text-align: right;\n",
       "    }\n",
       "</style>\n",
       "<table border=\"1\" class=\"dataframe\">\n",
       "  <thead>\n",
       "    <tr style=\"text-align: right;\">\n",
       "      <th></th>\n",
       "      <th>Season</th>\n",
       "      <th>Competition</th>\n",
       "      <th>Matchday</th>\n",
       "      <th>Date</th>\n",
       "      <th>Venue</th>\n",
       "      <th>Club</th>\n",
       "      <th>Opponent</th>\n",
       "      <th>Result</th>\n",
       "      <th>Playing_Position</th>\n",
       "      <th>Minute</th>\n",
       "      <th>At_score</th>\n",
       "      <th>Type</th>\n",
       "      <th>Goal_assist</th>\n",
       "    </tr>\n",
       "  </thead>\n",
       "  <tbody>\n",
       "    <tr>\n",
       "      <th>0</th>\n",
       "      <td>False</td>\n",
       "      <td>False</td>\n",
       "      <td>False</td>\n",
       "      <td>False</td>\n",
       "      <td>False</td>\n",
       "      <td>False</td>\n",
       "      <td>False</td>\n",
       "      <td>False</td>\n",
       "      <td>False</td>\n",
       "      <td>False</td>\n",
       "      <td>False</td>\n",
       "      <td>False</td>\n",
       "      <td>True</td>\n",
       "    </tr>\n",
       "    <tr>\n",
       "      <th>1</th>\n",
       "      <td>False</td>\n",
       "      <td>False</td>\n",
       "      <td>False</td>\n",
       "      <td>False</td>\n",
       "      <td>False</td>\n",
       "      <td>False</td>\n",
       "      <td>False</td>\n",
       "      <td>False</td>\n",
       "      <td>False</td>\n",
       "      <td>False</td>\n",
       "      <td>False</td>\n",
       "      <td>False</td>\n",
       "      <td>False</td>\n",
       "    </tr>\n",
       "    <tr>\n",
       "      <th>2</th>\n",
       "      <td>False</td>\n",
       "      <td>False</td>\n",
       "      <td>False</td>\n",
       "      <td>False</td>\n",
       "      <td>False</td>\n",
       "      <td>False</td>\n",
       "      <td>False</td>\n",
       "      <td>False</td>\n",
       "      <td>True</td>\n",
       "      <td>False</td>\n",
       "      <td>False</td>\n",
       "      <td>False</td>\n",
       "      <td>False</td>\n",
       "    </tr>\n",
       "    <tr>\n",
       "      <th>3</th>\n",
       "      <td>False</td>\n",
       "      <td>False</td>\n",
       "      <td>False</td>\n",
       "      <td>False</td>\n",
       "      <td>False</td>\n",
       "      <td>False</td>\n",
       "      <td>False</td>\n",
       "      <td>False</td>\n",
       "      <td>True</td>\n",
       "      <td>False</td>\n",
       "      <td>False</td>\n",
       "      <td>False</td>\n",
       "      <td>False</td>\n",
       "    </tr>\n",
       "    <tr>\n",
       "      <th>4</th>\n",
       "      <td>False</td>\n",
       "      <td>False</td>\n",
       "      <td>False</td>\n",
       "      <td>False</td>\n",
       "      <td>False</td>\n",
       "      <td>False</td>\n",
       "      <td>False</td>\n",
       "      <td>False</td>\n",
       "      <td>True</td>\n",
       "      <td>False</td>\n",
       "      <td>False</td>\n",
       "      <td>True</td>\n",
       "      <td>True</td>\n",
       "    </tr>\n",
       "    <tr>\n",
       "      <th>...</th>\n",
       "      <td>...</td>\n",
       "      <td>...</td>\n",
       "      <td>...</td>\n",
       "      <td>...</td>\n",
       "      <td>...</td>\n",
       "      <td>...</td>\n",
       "      <td>...</td>\n",
       "      <td>...</td>\n",
       "      <td>...</td>\n",
       "      <td>...</td>\n",
       "      <td>...</td>\n",
       "      <td>...</td>\n",
       "      <td>...</td>\n",
       "    </tr>\n",
       "    <tr>\n",
       "      <th>696</th>\n",
       "      <td>False</td>\n",
       "      <td>False</td>\n",
       "      <td>False</td>\n",
       "      <td>False</td>\n",
       "      <td>False</td>\n",
       "      <td>False</td>\n",
       "      <td>False</td>\n",
       "      <td>False</td>\n",
       "      <td>False</td>\n",
       "      <td>False</td>\n",
       "      <td>False</td>\n",
       "      <td>False</td>\n",
       "      <td>False</td>\n",
       "    </tr>\n",
       "    <tr>\n",
       "      <th>697</th>\n",
       "      <td>False</td>\n",
       "      <td>False</td>\n",
       "      <td>False</td>\n",
       "      <td>False</td>\n",
       "      <td>False</td>\n",
       "      <td>False</td>\n",
       "      <td>False</td>\n",
       "      <td>False</td>\n",
       "      <td>False</td>\n",
       "      <td>False</td>\n",
       "      <td>False</td>\n",
       "      <td>False</td>\n",
       "      <td>True</td>\n",
       "    </tr>\n",
       "    <tr>\n",
       "      <th>698</th>\n",
       "      <td>False</td>\n",
       "      <td>False</td>\n",
       "      <td>False</td>\n",
       "      <td>False</td>\n",
       "      <td>False</td>\n",
       "      <td>False</td>\n",
       "      <td>False</td>\n",
       "      <td>False</td>\n",
       "      <td>False</td>\n",
       "      <td>False</td>\n",
       "      <td>False</td>\n",
       "      <td>False</td>\n",
       "      <td>True</td>\n",
       "    </tr>\n",
       "    <tr>\n",
       "      <th>699</th>\n",
       "      <td>False</td>\n",
       "      <td>False</td>\n",
       "      <td>False</td>\n",
       "      <td>False</td>\n",
       "      <td>False</td>\n",
       "      <td>False</td>\n",
       "      <td>False</td>\n",
       "      <td>False</td>\n",
       "      <td>True</td>\n",
       "      <td>False</td>\n",
       "      <td>False</td>\n",
       "      <td>False</td>\n",
       "      <td>False</td>\n",
       "    </tr>\n",
       "    <tr>\n",
       "      <th>700</th>\n",
       "      <td>False</td>\n",
       "      <td>False</td>\n",
       "      <td>False</td>\n",
       "      <td>False</td>\n",
       "      <td>False</td>\n",
       "      <td>False</td>\n",
       "      <td>False</td>\n",
       "      <td>False</td>\n",
       "      <td>False</td>\n",
       "      <td>False</td>\n",
       "      <td>False</td>\n",
       "      <td>False</td>\n",
       "      <td>True</td>\n",
       "    </tr>\n",
       "  </tbody>\n",
       "</table>\n",
       "<p>701 rows × 13 columns</p>\n",
       "</div>"
      ],
      "text/plain": [
       "     Season  Competition  Matchday   Date  Venue   Club  Opponent  Result  \\\n",
       "0     False        False     False  False  False  False     False   False   \n",
       "1     False        False     False  False  False  False     False   False   \n",
       "2     False        False     False  False  False  False     False   False   \n",
       "3     False        False     False  False  False  False     False   False   \n",
       "4     False        False     False  False  False  False     False   False   \n",
       "..      ...          ...       ...    ...    ...    ...       ...     ...   \n",
       "696   False        False     False  False  False  False     False   False   \n",
       "697   False        False     False  False  False  False     False   False   \n",
       "698   False        False     False  False  False  False     False   False   \n",
       "699   False        False     False  False  False  False     False   False   \n",
       "700   False        False     False  False  False  False     False   False   \n",
       "\n",
       "     Playing_Position  Minute  At_score   Type  Goal_assist  \n",
       "0               False   False     False  False         True  \n",
       "1               False   False     False  False        False  \n",
       "2                True   False     False  False        False  \n",
       "3                True   False     False  False        False  \n",
       "4                True   False     False   True         True  \n",
       "..                ...     ...       ...    ...          ...  \n",
       "696             False   False     False  False        False  \n",
       "697             False   False     False  False         True  \n",
       "698             False   False     False  False         True  \n",
       "699              True   False     False  False        False  \n",
       "700             False   False     False  False         True  \n",
       "\n",
       "[701 rows x 13 columns]"
      ]
     },
     "execution_count": 208,
     "metadata": {},
     "output_type": "execute_result"
    }
   ],
   "source": [
    "# To see the missing values in the dataset\n",
    "cr7_df.isna()"
   ]
  },
  {
   "cell_type": "code",
   "execution_count": 209,
   "id": "adf18952",
   "metadata": {},
   "outputs": [
    {
     "data": {
      "text/plain": [
       "Season                0\n",
       "Competition           0\n",
       "Matchday              0\n",
       "Date                  0\n",
       "Venue                 0\n",
       "Club                  0\n",
       "Opponent              0\n",
       "Result                0\n",
       "Playing_Position     58\n",
       "Minute                0\n",
       "At_score              0\n",
       "Type                 15\n",
       "Goal_assist         242\n",
       "dtype: int64"
      ]
     },
     "execution_count": 209,
     "metadata": {},
     "output_type": "execute_result"
    }
   ],
   "source": [
    "# To see the number of missing values in each row\n",
    "cr7_df.isna().sum()"
   ]
  },
  {
   "cell_type": "code",
   "execution_count": 210,
   "id": "86d43fc0",
   "metadata": {},
   "outputs": [
    {
     "data": {
      "image/png": "[encoded data removed]",
      "text/plain": [
       "<Figure size 2000x500 with 1 Axes>"
      ]
     },
     "metadata": {},
     "output_type": "display_data"
    }
   ],
   "source": [
    "# Visualize null values\n",
    "def visualize_null(dataframe,percentage=True):\n",
    "    null_series=cr7_df.isna().sum().sort_values(ascending=False)\n",
    "    if percentage:\n",
    "        null_series=null_series/len(dataframe)*100\n",
    "\n",
    "    plt.bar(x=null_series.index,height=null_series.values)\n",
    "\n",
    "    if percentage:\n",
    "        plt.ylabel('Percentage of missing values')\n",
    "    else:\n",
    "        plt.ylabel('Amount of missing values')\n",
    "    plt.title('Missing values')\n",
    "    plt.xlabel('Columns')\n",
    "    plt.xticks(rotation=90)\n",
    "    plt.show()\n",
    "\n",
    "visualize_null(cr7_df)"
   ]
  },
  {
   "cell_type": "code",
   "execution_count": 211,
   "id": "9374c983",
   "metadata": {},
   "outputs": [
    {
     "data": {
      "text/html": [
       "<div>\n",
       "<style scoped>\n",
       "    .dataframe tbody tr th:only-of-type {\n",
       "        vertical-align: middle;\n",
       "    }\n",
       "\n",
       "    .dataframe tbody tr th {\n",
       "        vertical-align: top;\n",
       "    }\n",
       "\n",
       "    .dataframe thead th {\n",
       "        text-align: right;\n",
       "    }\n",
       "</style>\n",
       "<table border=\"1\" class=\"dataframe\">\n",
       "  <thead>\n",
       "    <tr style=\"text-align: right;\">\n",
       "      <th></th>\n",
       "      <th>Season</th>\n",
       "      <th>Competition</th>\n",
       "      <th>Matchday</th>\n",
       "      <th>Date</th>\n",
       "      <th>Venue</th>\n",
       "      <th>Club</th>\n",
       "      <th>Opponent</th>\n",
       "      <th>Result</th>\n",
       "      <th>Playing_Position</th>\n",
       "      <th>Minute</th>\n",
       "      <th>At_score</th>\n",
       "      <th>Type</th>\n",
       "      <th>Goal_assist</th>\n",
       "    </tr>\n",
       "  </thead>\n",
       "  <tbody>\n",
       "    <tr>\n",
       "      <th>0</th>\n",
       "      <td>2002</td>\n",
       "      <td>liga portugal</td>\n",
       "      <td>6</td>\n",
       "      <td>2002-10-07</td>\n",
       "      <td>h</td>\n",
       "      <td>sporting cp</td>\n",
       "      <td>moreirense fc</td>\n",
       "      <td>3:00</td>\n",
       "      <td>lw</td>\n",
       "      <td>34</td>\n",
       "      <td>2:00</td>\n",
       "      <td>solo run</td>\n",
       "      <td>NaN</td>\n",
       "    </tr>\n",
       "    <tr>\n",
       "      <th>2</th>\n",
       "      <td>2002</td>\n",
       "      <td>liga portugal</td>\n",
       "      <td>8</td>\n",
       "      <td>2002-10-26</td>\n",
       "      <td>a</td>\n",
       "      <td>sporting cp</td>\n",
       "      <td>boavista fc</td>\n",
       "      <td>1:02</td>\n",
       "      <td>NaN</td>\n",
       "      <td>88</td>\n",
       "      <td>1:02</td>\n",
       "      <td>right-footed shot</td>\n",
       "      <td>carlos martins</td>\n",
       "    </tr>\n",
       "    <tr>\n",
       "      <th>3</th>\n",
       "      <td>2002</td>\n",
       "      <td>taca de portugal placard</td>\n",
       "      <td>fourth round</td>\n",
       "      <td>2002-11-24</td>\n",
       "      <td>h</td>\n",
       "      <td>sporting cp</td>\n",
       "      <td>cd estarreja</td>\n",
       "      <td>4:01</td>\n",
       "      <td>NaN</td>\n",
       "      <td>67</td>\n",
       "      <td>3:00</td>\n",
       "      <td>left-footed shot</td>\n",
       "      <td>cesar prates</td>\n",
       "    </tr>\n",
       "    <tr>\n",
       "      <th>4</th>\n",
       "      <td>2002</td>\n",
       "      <td>taca de portugal placard</td>\n",
       "      <td>fifth round</td>\n",
       "      <td>2002-12-18</td>\n",
       "      <td>h</td>\n",
       "      <td>sporting cp</td>\n",
       "      <td>fc oliveira do hospital</td>\n",
       "      <td>8:01</td>\n",
       "      <td>NaN</td>\n",
       "      <td>13</td>\n",
       "      <td>3:00</td>\n",
       "      <td>NaN</td>\n",
       "      <td>NaN</td>\n",
       "    </tr>\n",
       "    <tr>\n",
       "      <th>5</th>\n",
       "      <td>2003</td>\n",
       "      <td>premier league</td>\n",
       "      <td>11</td>\n",
       "      <td>2003-11-01</td>\n",
       "      <td>h</td>\n",
       "      <td>manchester united</td>\n",
       "      <td>portsmouth fc</td>\n",
       "      <td>3:00</td>\n",
       "      <td>rw</td>\n",
       "      <td>80</td>\n",
       "      <td>2:00</td>\n",
       "      <td>direct free kick</td>\n",
       "      <td>NaN</td>\n",
       "    </tr>\n",
       "  </tbody>\n",
       "</table>\n",
       "</div>"
      ],
      "text/plain": [
       "  Season               Competition      Matchday       Date Venue  \\\n",
       "0   2002             liga portugal             6 2002-10-07     h   \n",
       "2   2002             liga portugal             8 2002-10-26     a   \n",
       "3   2002  taca de portugal placard  fourth round 2002-11-24     h   \n",
       "4   2002  taca de portugal placard   fifth round 2002-12-18     h   \n",
       "5   2003            premier league            11 2003-11-01     h   \n",
       "\n",
       "                Club                 Opponent Result Playing_Position Minute  \\\n",
       "0        sporting cp            moreirense fc   3:00               lw     34   \n",
       "2        sporting cp              boavista fc   1:02              NaN     88   \n",
       "3        sporting cp             cd estarreja   4:01              NaN     67   \n",
       "4        sporting cp  fc oliveira do hospital   8:01              NaN     13   \n",
       "5  manchester united            portsmouth fc   3:00               rw     80   \n",
       "\n",
       "  At_score               Type     Goal_assist  \n",
       "0     2:00           solo run             NaN  \n",
       "2     1:02  right-footed shot  carlos martins  \n",
       "3     3:00   left-footed shot    cesar prates  \n",
       "4     3:00                NaN             NaN  \n",
       "5     2:00   direct free kick             NaN  "
      ]
     },
     "execution_count": 211,
     "metadata": {},
     "output_type": "execute_result"
    }
   ],
   "source": [
    "# Check if any row has a missing value (axis=1)\n",
    "# Just interested in those that at least have one NA\n",
    "missing_data=cr7_df[cr7_df.isna().sum(axis=1)>0]\n",
    "missing_data.head()"
   ]
  },
  {
   "cell_type": "code",
   "execution_count": 212,
   "id": "e7a1bf4a",
   "metadata": {},
   "outputs": [
    {
     "data": {
      "text/plain": [
       "40.08559201141227"
      ]
     },
     "execution_count": 212,
     "metadata": {},
     "output_type": "execute_result"
    }
   ],
   "source": [
    "# Check the percentage of rows which includes at least one missing value\n",
    "len(missing_data)/len(cr7_df)*100"
   ]
  },
  {
   "cell_type": "code",
   "execution_count": 213,
   "id": "a3ec7251",
   "metadata": {},
   "outputs": [
    {
     "data": {
      "text/html": [
       "<div>\n",
       "<style scoped>\n",
       "    .dataframe tbody tr th:only-of-type {\n",
       "        vertical-align: middle;\n",
       "    }\n",
       "\n",
       "    .dataframe tbody tr th {\n",
       "        vertical-align: top;\n",
       "    }\n",
       "\n",
       "    .dataframe thead th {\n",
       "        text-align: right;\n",
       "    }\n",
       "</style>\n",
       "<table border=\"1\" class=\"dataframe\">\n",
       "  <thead>\n",
       "    <tr style=\"text-align: right;\">\n",
       "      <th></th>\n",
       "      <th>Season</th>\n",
       "      <th>Competition</th>\n",
       "      <th>Matchday</th>\n",
       "      <th>Date</th>\n",
       "      <th>Venue</th>\n",
       "      <th>Club</th>\n",
       "      <th>Opponent</th>\n",
       "      <th>Result</th>\n",
       "      <th>Playing_Position</th>\n",
       "      <th>Minute</th>\n",
       "      <th>At_score</th>\n",
       "      <th>Type</th>\n",
       "      <th>Goal_assist</th>\n",
       "    </tr>\n",
       "  </thead>\n",
       "  <tbody>\n",
       "    <tr>\n",
       "      <th>0</th>\n",
       "      <td>2002</td>\n",
       "      <td>liga portugal</td>\n",
       "      <td>6</td>\n",
       "      <td>2002-10-07</td>\n",
       "      <td>h</td>\n",
       "      <td>sporting cp</td>\n",
       "      <td>moreirense fc</td>\n",
       "      <td>3:00</td>\n",
       "      <td>lw</td>\n",
       "      <td>34</td>\n",
       "      <td>2:00</td>\n",
       "      <td>solo run</td>\n",
       "      <td>NaN</td>\n",
       "    </tr>\n",
       "    <tr>\n",
       "      <th>1</th>\n",
       "      <td>2002</td>\n",
       "      <td>liga portugal</td>\n",
       "      <td>6</td>\n",
       "      <td>2002-10-07</td>\n",
       "      <td>h</td>\n",
       "      <td>sporting cp</td>\n",
       "      <td>moreirense fc</td>\n",
       "      <td>3:00</td>\n",
       "      <td>lw</td>\n",
       "      <td>90+5</td>\n",
       "      <td>3:00</td>\n",
       "      <td>header</td>\n",
       "      <td>rui jorge</td>\n",
       "    </tr>\n",
       "    <tr>\n",
       "      <th>5</th>\n",
       "      <td>2003</td>\n",
       "      <td>premier league</td>\n",
       "      <td>11</td>\n",
       "      <td>2003-11-01</td>\n",
       "      <td>h</td>\n",
       "      <td>manchester united</td>\n",
       "      <td>portsmouth fc</td>\n",
       "      <td>3:00</td>\n",
       "      <td>rw</td>\n",
       "      <td>80</td>\n",
       "      <td>2:00</td>\n",
       "      <td>direct free kick</td>\n",
       "      <td>NaN</td>\n",
       "    </tr>\n",
       "    <tr>\n",
       "      <th>6</th>\n",
       "      <td>2003</td>\n",
       "      <td>fa cup</td>\n",
       "      <td>fifth round</td>\n",
       "      <td>2004-02-14</td>\n",
       "      <td>h</td>\n",
       "      <td>manchester united</td>\n",
       "      <td>manchester city</td>\n",
       "      <td>4:02</td>\n",
       "      <td>rw</td>\n",
       "      <td>74</td>\n",
       "      <td>3:00</td>\n",
       "      <td>right-footed shot</td>\n",
       "      <td>NaN</td>\n",
       "    </tr>\n",
       "    <tr>\n",
       "      <th>10</th>\n",
       "      <td>2003</td>\n",
       "      <td>fa cup</td>\n",
       "      <td>final</td>\n",
       "      <td>2004-05-22</td>\n",
       "      <td>h</td>\n",
       "      <td>manchester united</td>\n",
       "      <td>millwall fc</td>\n",
       "      <td>3:00</td>\n",
       "      <td>rw</td>\n",
       "      <td>44</td>\n",
       "      <td>1:00</td>\n",
       "      <td>header</td>\n",
       "      <td>gary neville</td>\n",
       "    </tr>\n",
       "  </tbody>\n",
       "</table>\n",
       "</div>"
      ],
      "text/plain": [
       "   Season     Competition     Matchday       Date Venue               Club  \\\n",
       "0    2002   liga portugal            6 2002-10-07     h        sporting cp   \n",
       "1    2002   liga portugal            6 2002-10-07     h        sporting cp   \n",
       "5    2003  premier league           11 2003-11-01     h  manchester united   \n",
       "6    2003          fa cup  fifth round 2004-02-14     h  manchester united   \n",
       "10   2003          fa cup        final 2004-05-22     h  manchester united   \n",
       "\n",
       "           Opponent Result Playing_Position Minute At_score  \\\n",
       "0     moreirense fc   3:00               lw     34     2:00   \n",
       "1     moreirense fc   3:00               lw   90+5     3:00   \n",
       "5     portsmouth fc   3:00               rw     80     2:00   \n",
       "6   manchester city   4:02               rw     74     3:00   \n",
       "10      millwall fc   3:00               rw     44     1:00   \n",
       "\n",
       "                 Type   Goal_assist  \n",
       "0            solo run           NaN  \n",
       "1              header     rui jorge  \n",
       "5    direct free kick           NaN  \n",
       "6   right-footed shot           NaN  \n",
       "10             header  gary neville  "
      ]
     },
     "execution_count": 213,
     "metadata": {},
     "output_type": "execute_result"
    }
   ],
   "source": [
    "columns_not_Goal_assist=[col for col in cr7_df.columns \n",
    "                 if col!='Goal_assist'] \n",
    "\n",
    "cr7_no_nulls = cr7_df.dropna(subset=columns_not_Goal_assist)\n",
    "cr7_no_nulls.head()"
   ]
  },
  {
   "cell_type": "code",
   "execution_count": 214,
   "id": "67654ab9",
   "metadata": {},
   "outputs": [
    {
     "data": {
      "text/plain": [
       "Season                0\n",
       "Competition           0\n",
       "Matchday              0\n",
       "Date                  0\n",
       "Venue                 0\n",
       "Club                  0\n",
       "Opponent              0\n",
       "Result                0\n",
       "Playing_Position      0\n",
       "Minute                0\n",
       "At_score              0\n",
       "Type                  0\n",
       "Goal_assist         217\n",
       "dtype: int64"
      ]
     },
     "execution_count": 214,
     "metadata": {},
     "output_type": "execute_result"
    }
   ],
   "source": [
    "cr7_no_nulls.isna().sum()"
   ]
  },
  {
   "cell_type": "markdown",
   "id": "b46b4f2a",
   "metadata": {},
   "source": [
    "# Duplicate Rows\n",
    "There were no duplicate rows in the data set used in this report."
   ]
  },
  {
   "cell_type": "code",
   "execution_count": 215,
   "id": "7a7f9271",
   "metadata": {},
   "outputs": [
    {
     "data": {
      "text/plain": [
       "0      False\n",
       "1      False\n",
       "2      False\n",
       "3      False\n",
       "4      False\n",
       "       ...  \n",
       "696    False\n",
       "697    False\n",
       "698    False\n",
       "699    False\n",
       "700    False\n",
       "Length: 701, dtype: bool"
      ]
     },
     "execution_count": 215,
     "metadata": {},
     "output_type": "execute_result"
    }
   ],
   "source": [
    "cr7_df.duplicated()"
   ]
  },
  {
   "cell_type": "code",
   "execution_count": 216,
   "id": "c8d6a306",
   "metadata": {},
   "outputs": [
    {
     "data": {
      "text/html": [
       "<div>\n",
       "<style scoped>\n",
       "    .dataframe tbody tr th:only-of-type {\n",
       "        vertical-align: middle;\n",
       "    }\n",
       "\n",
       "    .dataframe tbody tr th {\n",
       "        vertical-align: top;\n",
       "    }\n",
       "\n",
       "    .dataframe thead th {\n",
       "        text-align: right;\n",
       "    }\n",
       "</style>\n",
       "<table border=\"1\" class=\"dataframe\">\n",
       "  <thead>\n",
       "    <tr style=\"text-align: right;\">\n",
       "      <th></th>\n",
       "      <th>Season</th>\n",
       "      <th>Competition</th>\n",
       "      <th>Matchday</th>\n",
       "      <th>Date</th>\n",
       "      <th>Venue</th>\n",
       "      <th>Club</th>\n",
       "      <th>Opponent</th>\n",
       "      <th>Result</th>\n",
       "      <th>Playing_Position</th>\n",
       "      <th>Minute</th>\n",
       "      <th>At_score</th>\n",
       "      <th>Type</th>\n",
       "      <th>Goal_assist</th>\n",
       "    </tr>\n",
       "  </thead>\n",
       "  <tbody>\n",
       "  </tbody>\n",
       "</table>\n",
       "</div>"
      ],
      "text/plain": [
       "Empty DataFrame\n",
       "Columns: [Season, Competition, Matchday, Date, Venue, Club, Opponent, Result, Playing_Position, Minute, At_score, Type, Goal_assist]\n",
       "Index: []"
      ]
     },
     "execution_count": 216,
     "metadata": {},
     "output_type": "execute_result"
    }
   ],
   "source": [
    "cr7_df[cr7_df.duplicated()]"
   ]
  },
  {
   "cell_type": "markdown",
   "id": "4a09005a",
   "metadata": {},
   "source": [
    "# Outliers, Incorrect and corrupted data\n",
    "In the dataset used in this report, all columns except ‘Date' were category data type and not numeric value, so there were no outliers."
   ]
  },
  {
   "cell_type": "code",
   "execution_count": 217,
   "id": "6452c30a",
   "metadata": {},
   "outputs": [
    {
     "data": {
      "text/html": [
       "<div>\n",
       "<style scoped>\n",
       "    .dataframe tbody tr th:only-of-type {\n",
       "        vertical-align: middle;\n",
       "    }\n",
       "\n",
       "    .dataframe tbody tr th {\n",
       "        vertical-align: top;\n",
       "    }\n",
       "\n",
       "    .dataframe thead th {\n",
       "        text-align: right;\n",
       "    }\n",
       "</style>\n",
       "<table border=\"1\" class=\"dataframe\">\n",
       "  <thead>\n",
       "    <tr style=\"text-align: right;\">\n",
       "      <th></th>\n",
       "    </tr>\n",
       "  </thead>\n",
       "  <tbody>\n",
       "    <tr>\n",
       "      <th>0</th>\n",
       "    </tr>\n",
       "    <tr>\n",
       "      <th>1</th>\n",
       "    </tr>\n",
       "    <tr>\n",
       "      <th>2</th>\n",
       "    </tr>\n",
       "    <tr>\n",
       "      <th>3</th>\n",
       "    </tr>\n",
       "    <tr>\n",
       "      <th>4</th>\n",
       "    </tr>\n",
       "    <tr>\n",
       "      <th>...</th>\n",
       "    </tr>\n",
       "    <tr>\n",
       "      <th>696</th>\n",
       "    </tr>\n",
       "    <tr>\n",
       "      <th>697</th>\n",
       "    </tr>\n",
       "    <tr>\n",
       "      <th>698</th>\n",
       "    </tr>\n",
       "    <tr>\n",
       "      <th>699</th>\n",
       "    </tr>\n",
       "    <tr>\n",
       "      <th>700</th>\n",
       "    </tr>\n",
       "  </tbody>\n",
       "</table>\n",
       "<p>701 rows × 0 columns</p>\n",
       "</div>"
      ],
      "text/plain": [
       "Empty DataFrame\n",
       "Columns: []\n",
       "Index: [0, 1, 2, 3, 4, 5, 6, 7, 8, 9, 10, 11, 12, 13, 14, 15, 16, 17, 18, 19, 20, 21, 22, 23, 24, 25, 26, 27, 28, 29, 30, 31, 32, 33, 34, 35, 36, 37, 38, 39, 40, 41, 42, 43, 44, 45, 46, 47, 48, 49, 50, 51, 52, 53, 54, 55, 56, 57, 58, 59, 60, 61, 62, 63, 64, 65, 66, 67, 68, 69, 70, 71, 72, 73, 74, 75, 76, 77, 78, 79, 80, 81, 82, 83, 84, 85, 86, 87, 88, 89, 90, 91, 92, 93, 94, 95, 96, 97, 98, 99, ...]\n",
       "\n",
       "[701 rows x 0 columns]"
      ]
     },
     "execution_count": 217,
     "metadata": {},
     "output_type": "execute_result"
    }
   ],
   "source": [
    "# Visualize the distributions of all numeric collumns\n",
    "numeric_cr7_df=cr7_df.select_dtypes(np.number)\n",
    "numeric_cr7_df"
   ]
  },
  {
   "cell_type": "markdown",
   "id": "c510661d",
   "metadata": {},
   "source": [
    "# EDA (Exploratory Data Analysis)\n",
    "Analyze and visualize the cleaned data set to reveal the structure and insights that the data set contains."
   ]
  },
  {
   "cell_type": "code",
   "execution_count": 229,
   "id": "d28f1f04",
   "metadata": {},
   "outputs": [
    {
     "data": {
      "image/png": "[encoded data removed]",
      "text/plain": [
       "<Figure size 2000x500 with 1 Axes>"
      ]
     },
     "metadata": {},
     "output_type": "display_data"
    }
   ],
   "source": [
    "# Check the Number of goals scored by Venue\n",
    "cr7_df['Venue'].value_counts().plot(kind='bar');"
   ]
  },
  {
   "cell_type": "code",
   "execution_count": 225,
   "id": "ebceb1df",
   "metadata": {},
   "outputs": [
    {
     "data": {
      "image/png": "[encoded data removed]",
      "text/plain": [
       "<Figure size 2000x500 with 1 Axes>"
      ]
     },
     "metadata": {},
     "output_type": "display_data"
    }
   ],
   "source": [
    "# Check the Number of total goals scored by team\n",
    "cr7_df['Club'].value_counts().plot(kind='bar');"
   ]
  },
  {
   "cell_type": "code",
   "execution_count": 226,
   "id": "e0f5a635",
   "metadata": {},
   "outputs": [
    {
     "data": {
      "image/png": "[encoded data removed]",
      "text/plain": [
       "<Figure size 2000x500 with 1 Axes>"
      ]
     },
     "metadata": {},
     "output_type": "display_data"
    }
   ],
   "source": [
    "# Top10 Favorite Opponents\n",
    "cr7_df['Opponent'].value_counts().head(10).plot(kind='bar');"
   ]
  },
  {
   "cell_type": "code",
   "execution_count": 233,
   "id": "22af1846",
   "metadata": {},
   "outputs": [
    {
     "data": {
      "image/png": "[encoded data removed]",
      "text/plain": [
       "<Figure size 2000x500 with 1 Axes>"
      ]
     },
     "metadata": {},
     "output_type": "display_data"
    }
   ],
   "source": [
    "# Check the Number of total career goals scored by Playing Position\n",
    "cr7_df['Playing_Position'].value_counts().plot(kind='bar');"
   ]
  },
  {
   "cell_type": "code",
   "execution_count": 234,
   "id": "3614c145",
   "metadata": {},
   "outputs": [
    {
     "data": {
      "image/png": "[encoded data removed]",
      "text/plain": [
       "<Figure size 2000x500 with 1 Axes>"
      ]
     },
     "metadata": {},
     "output_type": "display_data"
    }
   ],
   "source": [
    "# Check the Number of total career goals scored by Goal Type\n",
    "cr7_df['Type'].value_counts().plot(kind='bar');"
   ]
  },
  {
   "cell_type": "code",
   "execution_count": 235,
   "id": "c05fb950",
   "metadata": {},
   "outputs": [
    {
     "data": {
      "image/png": "[encoded data removed]",
      "text/plain": [
       "<Figure size 2000x500 with 1 Axes>"
      ]
     },
     "metadata": {},
     "output_type": "display_data"
    }
   ],
   "source": [
    "# Check the Number of total career goals scored assisted by\n",
    "cr7_df['Goal_assist'].value_counts().head(10).plot(kind='bar');"
   ]
  },
  {
   "cell_type": "code",
   "execution_count": 238,
   "id": "ccc7c663",
   "metadata": {},
   "outputs": [
    {
     "data": {
      "image/png": "[encoded data removed]",
      "text/plain": [
       "<Figure size 2000x500 with 1 Axes>"
      ]
     },
     "metadata": {},
     "output_type": "display_data"
    }
   ],
   "source": [
    "# Check the Number of total career goals scored by season\n",
    "cr7_df['Season'].value_counts().plot(kind='bar');"
   ]
  },
  {
   "cell_type": "code",
   "execution_count": 239,
   "id": "fd8033c5",
   "metadata": {},
   "outputs": [
    {
     "data": {
      "image/png": "[encoded data removed]",
      "text/plain": [
       "<Figure size 2000x500 with 1 Axes>"
      ]
     },
     "metadata": {},
     "output_type": "display_data"
    }
   ],
   "source": [
    "# Check the Number of total career goals scored by Competition\n",
    "cr7_df['Competition'].value_counts().plot(kind='bar');"
   ]
  },
  {
   "cell_type": "markdown",
   "id": "bc628135",
   "metadata": {},
   "source": [
    "# Grouping data and making aggregations\n",
    "Attempted to simplify the analysis and gain insight by grouping complex data sets into more manageable groups."
   ]
  },
  {
   "cell_type": "markdown",
   "id": "5dfd5ffc",
   "metadata": {},
   "source": [
    "## Number of goals scored each year by team\n",
    "Starting his career at Sporting CP in Portugal, Ronaldo became one of the most famous footballers at Manchester United and scored the most goals in his career at Real Madrid in Spain. He then played for Juventus FC and Manchester United. (After leaving Juventus FC in 2020, he played two years for his old club, Manchester United, for the 2021 and 2022 seasons.)"
   ]
  },
  {
   "cell_type": "code",
   "execution_count": 220,
   "id": "7d4b8ed8",
   "metadata": {},
   "outputs": [
    {
     "data": {
      "text/html": [
       "<div>\n",
       "<style scoped>\n",
       "    .dataframe tbody tr th:only-of-type {\n",
       "        vertical-align: middle;\n",
       "    }\n",
       "\n",
       "    .dataframe tbody tr th {\n",
       "        vertical-align: top;\n",
       "    }\n",
       "\n",
       "    .dataframe thead th {\n",
       "        text-align: right;\n",
       "    }\n",
       "</style>\n",
       "<table border=\"1\" class=\"dataframe\">\n",
       "  <thead>\n",
       "    <tr style=\"text-align: right;\">\n",
       "      <th></th>\n",
       "      <th>count</th>\n",
       "    </tr>\n",
       "    <tr>\n",
       "      <th>Season</th>\n",
       "      <th></th>\n",
       "    </tr>\n",
       "  </thead>\n",
       "  <tbody>\n",
       "    <tr>\n",
       "      <th>2014</th>\n",
       "      <td>61</td>\n",
       "    </tr>\n",
       "    <tr>\n",
       "      <th>2011</th>\n",
       "      <td>60</td>\n",
       "    </tr>\n",
       "    <tr>\n",
       "      <th>2012</th>\n",
       "      <td>55</td>\n",
       "    </tr>\n",
       "    <tr>\n",
       "      <th>2010</th>\n",
       "      <td>53</td>\n",
       "    </tr>\n",
       "    <tr>\n",
       "      <th>2013</th>\n",
       "      <td>51</td>\n",
       "    </tr>\n",
       "    <tr>\n",
       "      <th>2015</th>\n",
       "      <td>51</td>\n",
       "    </tr>\n",
       "    <tr>\n",
       "      <th>2017</th>\n",
       "      <td>44</td>\n",
       "    </tr>\n",
       "    <tr>\n",
       "      <th>2007</th>\n",
       "      <td>42</td>\n",
       "    </tr>\n",
       "    <tr>\n",
       "      <th>2016</th>\n",
       "      <td>42</td>\n",
       "    </tr>\n",
       "    <tr>\n",
       "      <th>2019</th>\n",
       "      <td>37</td>\n",
       "    </tr>\n",
       "    <tr>\n",
       "      <th>2020</th>\n",
       "      <td>36</td>\n",
       "    </tr>\n",
       "    <tr>\n",
       "      <th>2009</th>\n",
       "      <td>33</td>\n",
       "    </tr>\n",
       "    <tr>\n",
       "      <th>2018</th>\n",
       "      <td>28</td>\n",
       "    </tr>\n",
       "    <tr>\n",
       "      <th>2008</th>\n",
       "      <td>26</td>\n",
       "    </tr>\n",
       "    <tr>\n",
       "      <th>2021</th>\n",
       "      <td>24</td>\n",
       "    </tr>\n",
       "    <tr>\n",
       "      <th>2006</th>\n",
       "      <td>23</td>\n",
       "    </tr>\n",
       "    <tr>\n",
       "      <th>2005</th>\n",
       "      <td>12</td>\n",
       "    </tr>\n",
       "    <tr>\n",
       "      <th>2004</th>\n",
       "      <td>9</td>\n",
       "    </tr>\n",
       "    <tr>\n",
       "      <th>2003</th>\n",
       "      <td>6</td>\n",
       "    </tr>\n",
       "    <tr>\n",
       "      <th>2002</th>\n",
       "      <td>5</td>\n",
       "    </tr>\n",
       "    <tr>\n",
       "      <th>2022</th>\n",
       "      <td>3</td>\n",
       "    </tr>\n",
       "  </tbody>\n",
       "</table>\n",
       "</div>"
      ],
      "text/plain": [
       "        count\n",
       "Season       \n",
       "2014       61\n",
       "2011       60\n",
       "2012       55\n",
       "2010       53\n",
       "2013       51\n",
       "2015       51\n",
       "2017       44\n",
       "2007       42\n",
       "2016       42\n",
       "2019       37\n",
       "2020       36\n",
       "2009       33\n",
       "2018       28\n",
       "2008       26\n",
       "2021       24\n",
       "2006       23\n",
       "2005       12\n",
       "2004        9\n",
       "2003        6\n",
       "2002        5\n",
       "2022        3"
      ]
     },
     "execution_count": 220,
     "metadata": {},
     "output_type": "execute_result"
    }
   ],
   "source": [
    "# Check the Number of goals scored each year by team\n",
    "pd.DataFrame(cr7_df.Season.value_counts())"
   ]
  },
  {
   "cell_type": "code",
   "execution_count": 221,
   "id": "b72c20da",
   "metadata": {},
   "outputs": [
    {
     "data": {
      "application/vnd.plotly.v1+json": {
       "config": {
        "plotlyServerURL": "https://plot.ly"
       },
       "data": [
        {
         "alignmentgroup": "True",
         "bingroup": "x",
         "hovertemplate": "Club=sporting cp<br>Season=%{x}<br>count=%{y}<extra></extra>",
         "legendgroup": "sporting cp",
         "marker": {
          "color": "#636efa",
          "pattern": {
           "shape": ""
          }
         },
         "name": "sporting cp",
         "offsetgroup": "sporting cp",
         "orientation": "v",
         "showlegend": true,
         "type": "histogram",
         "x": [
          "2002",
          "2002",
          "2002",
          "2002",
          "2002"
         ],
         "xaxis": "x",
         "yaxis": "y"
        },
        {
         "alignmentgroup": "True",
         "bingroup": "x",
         "hovertemplate": "Club=manchester united<br>Season=%{x}<br>count=%{y}<extra></extra>",
         "legendgroup": "manchester united",
         "marker": {
          "color": "#EF553B",
          "pattern": {
           "shape": ""
          }
         },
         "name": "manchester united",
         "offsetgroup": "manchester united",
         "orientation": "v",
         "showlegend": true,
         "type": "histogram",
         "x": [
          "2003",
          "2003",
          "2003",
          "2003",
          "2003",
          "2003",
          "2004",
          "2004",
          "2004",
          "2004",
          "2004",
          "2004",
          "2004",
          "2004",
          "2004",
          "2005",
          "2005",
          "2005",
          "2005",
          "2005",
          "2005",
          "2005",
          "2005",
          "2005",
          "2005",
          "2005",
          "2005",
          "2006",
          "2006",
          "2006",
          "2006",
          "2006",
          "2006",
          "2006",
          "2006",
          "2006",
          "2006",
          "2006",
          "2006",
          "2006",
          "2006",
          "2006",
          "2006",
          "2006",
          "2006",
          "2006",
          "2006",
          "2006",
          "2006",
          "2006",
          "2007",
          "2007",
          "2007",
          "2007",
          "2007",
          "2007",
          "2007",
          "2007",
          "2007",
          "2007",
          "2007",
          "2007",
          "2007",
          "2007",
          "2007",
          "2007",
          "2007",
          "2007",
          "2007",
          "2007",
          "2007",
          "2007",
          "2007",
          "2007",
          "2007",
          "2007",
          "2007",
          "2007",
          "2007",
          "2007",
          "2007",
          "2007",
          "2007",
          "2007",
          "2007",
          "2007",
          "2007",
          "2007",
          "2007",
          "2007",
          "2007",
          "2007",
          "2008",
          "2008",
          "2008",
          "2008",
          "2008",
          "2008",
          "2008",
          "2008",
          "2008",
          "2008",
          "2008",
          "2008",
          "2008",
          "2008",
          "2008",
          "2008",
          "2008",
          "2008",
          "2008",
          "2008",
          "2008",
          "2008",
          "2008",
          "2008",
          "2008",
          "2008",
          "2021",
          "2021",
          "2021",
          "2021",
          "2021",
          "2021",
          "2021",
          "2021",
          "2021",
          "2021",
          "2021",
          "2021",
          "2021",
          "2021",
          "2021",
          "2021",
          "2021",
          "2021",
          "2021",
          "2021",
          "2021",
          "2021",
          "2021",
          "2021",
          "2022",
          "2022",
          "2022"
         ],
         "xaxis": "x",
         "yaxis": "y"
        },
        {
         "alignmentgroup": "True",
         "bingroup": "x",
         "hovertemplate": "Club=real madrid<br>Season=%{x}<br>count=%{y}<extra></extra>",
         "legendgroup": "real madrid",
         "marker": {
          "color": "#00cc96",
          "pattern": {
           "shape": ""
          }
         },
         "name": "real madrid",
         "offsetgroup": "real madrid",
         "orientation": "v",
         "showlegend": true,
         "type": "histogram",
         "x": [
          "2009",
          "2009",
          "2009",
          "2009",
          "2009",
          "2009",
          "2009",
          "2009",
          "2009",
          "2009",
          "2009",
          "2009",
          "2009",
          "2009",
          "2009",
          "2009",
          "2009",
          "2009",
          "2009",
          "2009",
          "2009",
          "2009",
          "2009",
          "2009",
          "2009",
          "2009",
          "2009",
          "2009",
          "2009",
          "2009",
          "2009",
          "2009",
          "2009",
          "2010",
          "2010",
          "2010",
          "2010",
          "2010",
          "2010",
          "2010",
          "2010",
          "2010",
          "2010",
          "2010",
          "2010",
          "2010",
          "2010",
          "2010",
          "2010",
          "2010",
          "2010",
          "2010",
          "2010",
          "2010",
          "2010",
          "2010",
          "2010",
          "2010",
          "2010",
          "2010",
          "2010",
          "2010",
          "2010",
          "2010",
          "2010",
          "2010",
          "2010",
          "2010",
          "2010",
          "2010",
          "2010",
          "2010",
          "2010",
          "2010",
          "2010",
          "2010",
          "2010",
          "2010",
          "2010",
          "2010",
          "2010",
          "2010",
          "2010",
          "2010",
          "2010",
          "2010",
          "2011",
          "2011",
          "2011",
          "2011",
          "2011",
          "2011",
          "2011",
          "2011",
          "2011",
          "2011",
          "2011",
          "2011",
          "2011",
          "2011",
          "2011",
          "2011",
          "2011",
          "2011",
          "2011",
          "2011",
          "2011",
          "2011",
          "2011",
          "2011",
          "2011",
          "2011",
          "2011",
          "2011",
          "2011",
          "2011",
          "2011",
          "2011",
          "2011",
          "2011",
          "2011",
          "2011",
          "2011",
          "2011",
          "2011",
          "2011",
          "2011",
          "2011",
          "2011",
          "2011",
          "2011",
          "2011",
          "2011",
          "2011",
          "2011",
          "2011",
          "2011",
          "2011",
          "2011",
          "2011",
          "2011",
          "2011",
          "2011",
          "2011",
          "2011",
          "2011",
          "2012",
          "2012",
          "2012",
          "2012",
          "2012",
          "2012",
          "2012",
          "2012",
          "2012",
          "2012",
          "2012",
          "2012",
          "2012",
          "2012",
          "2012",
          "2012",
          "2012",
          "2012",
          "2012",
          "2012",
          "2012",
          "2012",
          "2012",
          "2012",
          "2012",
          "2012",
          "2012",
          "2012",
          "2012",
          "2012",
          "2012",
          "2012",
          "2012",
          "2012",
          "2012",
          "2012",
          "2012",
          "2012",
          "2012",
          "2012",
          "2012",
          "2012",
          "2012",
          "2012",
          "2012",
          "2012",
          "2012",
          "2012",
          "2012",
          "2012",
          "2012",
          "2012",
          "2012",
          "2012",
          "2012",
          "2013",
          "2013",
          "2013",
          "2013",
          "2013",
          "2013",
          "2013",
          "2013",
          "2013",
          "2013",
          "2013",
          "2013",
          "2013",
          "2013",
          "2013",
          "2013",
          "2013",
          "2013",
          "2013",
          "2013",
          "2013",
          "2013",
          "2013",
          "2013",
          "2013",
          "2013",
          "2013",
          "2013",
          "2013",
          "2013",
          "2013",
          "2013",
          "2013",
          "2013",
          "2013",
          "2013",
          "2013",
          "2013",
          "2013",
          "2013",
          "2013",
          "2013",
          "2013",
          "2013",
          "2013",
          "2013",
          "2013",
          "2013",
          "2013",
          "2013",
          "2013",
          "2014",
          "2014",
          "2014",
          "2014",
          "2014",
          "2014",
          "2014",
          "2014",
          "2014",
          "2014",
          "2014",
          "2014",
          "2014",
          "2014",
          "2014",
          "2014",
          "2014",
          "2014",
          "2014",
          "2014",
          "2014",
          "2014",
          "2014",
          "2014",
          "2014",
          "2014",
          "2014",
          "2014",
          "2014",
          "2014",
          "2014",
          "2014",
          "2014",
          "2014",
          "2014",
          "2014",
          "2014",
          "2014",
          "2014",
          "2014",
          "2014",
          "2014",
          "2014",
          "2014",
          "2014",
          "2014",
          "2014",
          "2014",
          "2014",
          "2014",
          "2014",
          "2014",
          "2014",
          "2014",
          "2014",
          "2014",
          "2014",
          "2014",
          "2014",
          "2014",
          "2014",
          "2015",
          "2015",
          "2015",
          "2015",
          "2015",
          "2015",
          "2015",
          "2015",
          "2015",
          "2015",
          "2015",
          "2015",
          "2015",
          "2015",
          "2015",
          "2015",
          "2015",
          "2015",
          "2015",
          "2015",
          "2015",
          "2015",
          "2015",
          "2015",
          "2015",
          "2015",
          "2015",
          "2015",
          "2015",
          "2015",
          "2015",
          "2015",
          "2015",
          "2015",
          "2015",
          "2015",
          "2015",
          "2015",
          "2015",
          "2015",
          "2015",
          "2015",
          "2015",
          "2015",
          "2015",
          "2015",
          "2015",
          "2015",
          "2015",
          "2015",
          "2015",
          "2016",
          "2016",
          "2016",
          "2016",
          "2016",
          "2016",
          "2016",
          "2016",
          "2016",
          "2016",
          "2016",
          "2016",
          "2016",
          "2016",
          "2016",
          "2016",
          "2016",
          "2016",
          "2016",
          "2016",
          "2016",
          "2016",
          "2016",
          "2016",
          "2016",
          "2016",
          "2016",
          "2016",
          "2016",
          "2016",
          "2016",
          "2016",
          "2016",
          "2016",
          "2016",
          "2016",
          "2016",
          "2016",
          "2016",
          "2016",
          "2016",
          "2016",
          "2017",
          "2017",
          "2017",
          "2017",
          "2017",
          "2017",
          "2017",
          "2017",
          "2017",
          "2017",
          "2017",
          "2017",
          "2017",
          "2017",
          "2017",
          "2017",
          "2017",
          "2017",
          "2017",
          "2017",
          "2017",
          "2017",
          "2017",
          "2017",
          "2017",
          "2017",
          "2017",
          "2017",
          "2017",
          "2017",
          "2017",
          "2017",
          "2017",
          "2017",
          "2017",
          "2017",
          "2017",
          "2017",
          "2017",
          "2017",
          "2017",
          "2017",
          "2017",
          "2017"
         ],
         "xaxis": "x",
         "yaxis": "y"
        },
        {
         "alignmentgroup": "True",
         "bingroup": "x",
         "hovertemplate": "Club=juventus fc<br>Season=%{x}<br>count=%{y}<extra></extra>",
         "legendgroup": "juventus fc",
         "marker": {
          "color": "#ab63fa",
          "pattern": {
           "shape": ""
          }
         },
         "name": "juventus fc",
         "offsetgroup": "juventus fc",
         "orientation": "v",
         "showlegend": true,
         "type": "histogram",
         "x": [
          "2018",
          "2018",
          "2018",
          "2018",
          "2018",
          "2018",
          "2018",
          "2018",
          "2018",
          "2018",
          "2018",
          "2018",
          "2018",
          "2018",
          "2018",
          "2018",
          "2018",
          "2018",
          "2018",
          "2018",
          "2018",
          "2018",
          "2018",
          "2018",
          "2018",
          "2018",
          "2018",
          "2018",
          "2019",
          "2019",
          "2019",
          "2019",
          "2019",
          "2019",
          "2019",
          "2019",
          "2019",
          "2019",
          "2019",
          "2019",
          "2019",
          "2019",
          "2019",
          "2019",
          "2019",
          "2019",
          "2019",
          "2019",
          "2019",
          "2019",
          "2019",
          "2019",
          "2019",
          "2019",
          "2019",
          "2019",
          "2019",
          "2019",
          "2019",
          "2019",
          "2019",
          "2019",
          "2019",
          "2019",
          "2019",
          "2020",
          "2020",
          "2020",
          "2020",
          "2020",
          "2020",
          "2020",
          "2020",
          "2020",
          "2020",
          "2020",
          "2020",
          "2020",
          "2020",
          "2020",
          "2020",
          "2020",
          "2020",
          "2020",
          "2020",
          "2020",
          "2020",
          "2020",
          "2020",
          "2020",
          "2020",
          "2020",
          "2020",
          "2020",
          "2020",
          "2020",
          "2020",
          "2020",
          "2020",
          "2020",
          "2020"
         ],
         "xaxis": "x",
         "yaxis": "y"
        }
       ],
       "layout": {
        "barmode": "relative",
        "height": 500,
        "legend": {
         "title": {
          "text": "Club"
         },
         "tracegroupgap": 0
        },
        "template": {
         "data": {
          "bar": [
           {
            "error_x": {
             "color": "#2a3f5f"
            },
            "error_y": {
             "color": "#2a3f5f"
            },
            "marker": {
             "line": {
              "color": "#E5ECF6",
              "width": 0.5
             },
             "pattern": {
              "fillmode": "overlay",
              "size": 10,
              "solidity": 0.2
             }
            },
            "type": "bar"
           }
          ],
          "barpolar": [
           {
            "marker": {
             "line": {
              "color": "#E5ECF6",
              "width": 0.5
             },
             "pattern": {
              "fillmode": "overlay",
              "size": 10,
              "solidity": 0.2
             }
            },
            "type": "barpolar"
           }
          ],
          "carpet": [
           {
            "aaxis": {
             "endlinecolor": "#2a3f5f",
             "gridcolor": "white",
             "linecolor": "white",
             "minorgridcolor": "white",
             "startlinecolor": "#2a3f5f"
            },
            "baxis": {
             "endlinecolor": "#2a3f5f",
             "gridcolor": "white",
             "linecolor": "white",
             "minorgridcolor": "white",
             "startlinecolor": "#2a3f5f"
            },
            "type": "carpet"
           }
          ],
          "choropleth": [
           {
            "colorbar": {
             "outlinewidth": 0,
             "ticks": ""
            },
            "type": "choropleth"
           }
          ],
          "contour": [
           {
            "colorbar": {
             "outlinewidth": 0,
             "ticks": ""
            },
            "colorscale": [
             [
              0,
              "#0d0887"
             ],
             [
              0.1111111111111111,
              "#46039f"
             ],
             [
              0.2222222222222222,
              "#7201a8"
             ],
             [
              0.3333333333333333,
              "#9c179e"
             ],
             [
              0.4444444444444444,
              "#bd3786"
             ],
             [
              0.5555555555555556,
              "#d8576b"
             ],
             [
              0.6666666666666666,
              "#ed7953"
             ],
             [
              0.7777777777777778,
              "#fb9f3a"
             ],
             [
              0.8888888888888888,
              "#fdca26"
             ],
             [
              1,
              "#f0f921"
             ]
            ],
            "type": "contour"
           }
          ],
          "contourcarpet": [
           {
            "colorbar": {
             "outlinewidth": 0,
             "ticks": ""
            },
            "type": "contourcarpet"
           }
          ],
          "heatmap": [
           {
            "colorbar": {
             "outlinewidth": 0,
             "ticks": ""
            },
            "colorscale": [
             [
              0,
              "#0d0887"
             ],
             [
              0.1111111111111111,
              "#46039f"
             ],
             [
              0.2222222222222222,
              "#7201a8"
             ],
             [
              0.3333333333333333,
              "#9c179e"
             ],
             [
              0.4444444444444444,
              "#bd3786"
             ],
             [
              0.5555555555555556,
              "#d8576b"
             ],
             [
              0.6666666666666666,
              "#ed7953"
             ],
             [
              0.7777777777777778,
              "#fb9f3a"
             ],
             [
              0.8888888888888888,
              "#fdca26"
             ],
             [
              1,
              "#f0f921"
             ]
            ],
            "type": "heatmap"
           }
          ],
          "heatmapgl": [
           {
            "colorbar": {
             "outlinewidth": 0,
             "ticks": ""
            },
            "colorscale": [
             [
              0,
              "#0d0887"
             ],
             [
              0.1111111111111111,
              "#46039f"
             ],
             [
              0.2222222222222222,
              "#7201a8"
             ],
             [
              0.3333333333333333,
              "#9c179e"
             ],
             [
              0.4444444444444444,
              "#bd3786"
             ],
             [
              0.5555555555555556,
              "#d8576b"
             ],
             [
              0.6666666666666666,
              "#ed7953"
             ],
             [
              0.7777777777777778,
              "#fb9f3a"
             ],
             [
              0.8888888888888888,
              "#fdca26"
             ],
             [
              1,
              "#f0f921"
             ]
            ],
            "type": "heatmapgl"
           }
          ],
          "histogram": [
           {
            "marker": {
             "pattern": {
              "fillmode": "overlay",
              "size": 10,
              "solidity": 0.2
             }
            },
            "type": "histogram"
           }
          ],
          "histogram2d": [
           {
            "colorbar": {
             "outlinewidth": 0,
             "ticks": ""
            },
            "colorscale": [
             [
              0,
              "#0d0887"
             ],
             [
              0.1111111111111111,
              "#46039f"
             ],
             [
              0.2222222222222222,
              "#7201a8"
             ],
             [
              0.3333333333333333,
              "#9c179e"
             ],
             [
              0.4444444444444444,
              "#bd3786"
             ],
             [
              0.5555555555555556,
              "#d8576b"
             ],
             [
              0.6666666666666666,
              "#ed7953"
             ],
             [
              0.7777777777777778,
              "#fb9f3a"
             ],
             [
              0.8888888888888888,
              "#fdca26"
             ],
             [
              1,
              "#f0f921"
             ]
            ],
            "type": "histogram2d"
           }
          ],
          "histogram2dcontour": [
           {
            "colorbar": {
             "outlinewidth": 0,
             "ticks": ""
            },
            "colorscale": [
             [
              0,
              "#0d0887"
             ],
             [
              0.1111111111111111,
              "#46039f"
             ],
             [
              0.2222222222222222,
              "#7201a8"
             ],
             [
              0.3333333333333333,
              "#9c179e"
             ],
             [
              0.4444444444444444,
              "#bd3786"
             ],
             [
              0.5555555555555556,
              "#d8576b"
             ],
             [
              0.6666666666666666,
              "#ed7953"
             ],
             [
              0.7777777777777778,
              "#fb9f3a"
             ],
             [
              0.8888888888888888,
              "#fdca26"
             ],
             [
              1,
              "#f0f921"
             ]
            ],
            "type": "histogram2dcontour"
           }
          ],
          "mesh3d": [
           {
            "colorbar": {
             "outlinewidth": 0,
             "ticks": ""
            },
            "type": "mesh3d"
           }
          ],
          "parcoords": [
           {
            "line": {
             "colorbar": {
              "outlinewidth": 0,
              "ticks": ""
             }
            },
            "type": "parcoords"
           }
          ],
          "pie": [
           {
            "automargin": true,
            "type": "pie"
           }
          ],
          "scatter": [
           {
            "fillpattern": {
             "fillmode": "overlay",
             "size": 10,
             "solidity": 0.2
            },
            "type": "scatter"
           }
          ],
          "scatter3d": [
           {
            "line": {
             "colorbar": {
              "outlinewidth": 0,
              "ticks": ""
             }
            },
            "marker": {
             "colorbar": {
              "outlinewidth": 0,
              "ticks": ""
             }
            },
            "type": "scatter3d"
           }
          ],
          "scattercarpet": [
           {
            "marker": {
             "colorbar": {
              "outlinewidth": 0,
              "ticks": ""
             }
            },
            "type": "scattercarpet"
           }
          ],
          "scattergeo": [
           {
            "marker": {
             "colorbar": {
              "outlinewidth": 0,
              "ticks": ""
             }
            },
            "type": "scattergeo"
           }
          ],
          "scattergl": [
           {
            "marker": {
             "colorbar": {
              "outlinewidth": 0,
              "ticks": ""
             }
            },
            "type": "scattergl"
           }
          ],
          "scattermapbox": [
           {
            "marker": {
             "colorbar": {
              "outlinewidth": 0,
              "ticks": ""
             }
            },
            "type": "scattermapbox"
           }
          ],
          "scatterpolar": [
           {
            "marker": {
             "colorbar": {
              "outlinewidth": 0,
              "ticks": ""
             }
            },
            "type": "scatterpolar"
           }
          ],
          "scatterpolargl": [
           {
            "marker": {
             "colorbar": {
              "outlinewidth": 0,
              "ticks": ""
             }
            },
            "type": "scatterpolargl"
           }
          ],
          "scatterternary": [
           {
            "marker": {
             "colorbar": {
              "outlinewidth": 0,
              "ticks": ""
             }
            },
            "type": "scatterternary"
           }
          ],
          "surface": [
           {
            "colorbar": {
             "outlinewidth": 0,
             "ticks": ""
            },
            "colorscale": [
             [
              0,
              "#0d0887"
             ],
             [
              0.1111111111111111,
              "#46039f"
             ],
             [
              0.2222222222222222,
              "#7201a8"
             ],
             [
              0.3333333333333333,
              "#9c179e"
             ],
             [
              0.4444444444444444,
              "#bd3786"
             ],
             [
              0.5555555555555556,
              "#d8576b"
             ],
             [
              0.6666666666666666,
              "#ed7953"
             ],
             [
              0.7777777777777778,
              "#fb9f3a"
             ],
             [
              0.8888888888888888,
              "#fdca26"
             ],
             [
              1,
              "#f0f921"
             ]
            ],
            "type": "surface"
           }
          ],
          "table": [
           {
            "cells": {
             "fill": {
              "color": "#EBF0F8"
             },
             "line": {
              "color": "white"
             }
            },
            "header": {
             "fill": {
              "color": "#C8D4E3"
             },
             "line": {
              "color": "white"
             }
            },
            "type": "table"
           }
          ]
         },
         "layout": {
          "annotationdefaults": {
           "arrowcolor": "#2a3f5f",
           "arrowhead": 0,
           "arrowwidth": 1
          },
          "autotypenumbers": "strict",
          "coloraxis": {
           "colorbar": {
            "outlinewidth": 0,
            "ticks": ""
           }
          },
          "colorscale": {
           "diverging": [
            [
             0,
             "#8e0152"
            ],
            [
             0.1,
             "#c51b7d"
            ],
            [
             0.2,
             "#de77ae"
            ],
            [
             0.3,
             "#f1b6da"
            ],
            [
             0.4,
             "#fde0ef"
            ],
            [
             0.5,
             "#f7f7f7"
            ],
            [
             0.6,
             "#e6f5d0"
            ],
            [
             0.7,
             "#b8e186"
            ],
            [
             0.8,
             "#7fbc41"
            ],
            [
             0.9,
             "#4d9221"
            ],
            [
             1,
             "#276419"
            ]
           ],
           "sequential": [
            [
             0,
             "#0d0887"
            ],
            [
             0.1111111111111111,
             "#46039f"
            ],
            [
             0.2222222222222222,
             "#7201a8"
            ],
            [
             0.3333333333333333,
             "#9c179e"
            ],
            [
             0.4444444444444444,
             "#bd3786"
            ],
            [
             0.5555555555555556,
             "#d8576b"
            ],
            [
             0.6666666666666666,
             "#ed7953"
            ],
            [
             0.7777777777777778,
             "#fb9f3a"
            ],
            [
             0.8888888888888888,
             "#fdca26"
            ],
            [
             1,
             "#f0f921"
            ]
           ],
           "sequentialminus": [
            [
             0,
             "#0d0887"
            ],
            [
             0.1111111111111111,
             "#46039f"
            ],
            [
             0.2222222222222222,
             "#7201a8"
            ],
            [
             0.3333333333333333,
             "#9c179e"
            ],
            [
             0.4444444444444444,
             "#bd3786"
            ],
            [
             0.5555555555555556,
             "#d8576b"
            ],
            [
             0.6666666666666666,
             "#ed7953"
            ],
            [
             0.7777777777777778,
             "#fb9f3a"
            ],
            [
             0.8888888888888888,
             "#fdca26"
            ],
            [
             1,
             "#f0f921"
            ]
           ]
          },
          "colorway": [
           "#636efa",
           "#EF553B",
           "#00cc96",
           "#ab63fa",
           "#FFA15A",
           "#19d3f3",
           "#FF6692",
           "#B6E880",
           "#FF97FF",
           "#FECB52"
          ],
          "font": {
           "color": "#2a3f5f"
          },
          "geo": {
           "bgcolor": "white",
           "lakecolor": "white",
           "landcolor": "#E5ECF6",
           "showlakes": true,
           "showland": true,
           "subunitcolor": "white"
          },
          "hoverlabel": {
           "align": "left"
          },
          "hovermode": "closest",
          "mapbox": {
           "style": "light"
          },
          "paper_bgcolor": "white",
          "plot_bgcolor": "#E5ECF6",
          "polar": {
           "angularaxis": {
            "gridcolor": "white",
            "linecolor": "white",
            "ticks": ""
           },
           "bgcolor": "#E5ECF6",
           "radialaxis": {
            "gridcolor": "white",
            "linecolor": "white",
            "ticks": ""
           }
          },
          "scene": {
           "xaxis": {
            "backgroundcolor": "#E5ECF6",
            "gridcolor": "white",
            "gridwidth": 2,
            "linecolor": "white",
            "showbackground": true,
            "ticks": "",
            "zerolinecolor": "white"
           },
           "yaxis": {
            "backgroundcolor": "#E5ECF6",
            "gridcolor": "white",
            "gridwidth": 2,
            "linecolor": "white",
            "showbackground": true,
            "ticks": "",
            "zerolinecolor": "white"
           },
           "zaxis": {
            "backgroundcolor": "#E5ECF6",
            "gridcolor": "white",
            "gridwidth": 2,
            "linecolor": "white",
            "showbackground": true,
            "ticks": "",
            "zerolinecolor": "white"
           }
          },
          "shapedefaults": {
           "line": {
            "color": "#2a3f5f"
           }
          },
          "ternary": {
           "aaxis": {
            "gridcolor": "white",
            "linecolor": "white",
            "ticks": ""
           },
           "baxis": {
            "gridcolor": "white",
            "linecolor": "white",
            "ticks": ""
           },
           "bgcolor": "#E5ECF6",
           "caxis": {
            "gridcolor": "white",
            "linecolor": "white",
            "ticks": ""
           }
          },
          "title": {
           "x": 0.05
          },
          "xaxis": {
           "automargin": true,
           "gridcolor": "white",
           "linecolor": "white",
           "ticks": "",
           "title": {
            "standoff": 15
           },
           "zerolinecolor": "white",
           "zerolinewidth": 2
          },
          "yaxis": {
           "automargin": true,
           "gridcolor": "white",
           "linecolor": "white",
           "ticks": "",
           "title": {
            "standoff": 15
           },
           "zerolinecolor": "white",
           "zerolinewidth": 2
          }
         }
        },
        "title": {
         "text": "Goals per season"
        },
        "xaxis": {
         "anchor": "y",
         "domain": [
          0,
          1
         ],
         "title": {
          "text": "Season"
         }
        },
        "yaxis": {
         "anchor": "x",
         "domain": [
          0,
          1
         ],
         "title": {
          "text": "count"
         }
        }
       }
      },
      "text/html": [
       "<div>                            <div id=\"a1fec981-9d4d-4e73-9760-ace4c3d01b79\" class=\"plotly-graph-div\" style=\"height:500px; width:100%;\"></div>            <script type=\"text/javascript\">                require([\"plotly\"], function(Plotly) {                    window.PLOTLYENV=window.PLOTLYENV || {};                                    if (document.getElementById(\"a1fec981-9d4d-4e73-9760-ace4c3d01b79\")) {                    Plotly.newPlot(                        \"a1fec981-9d4d-4e73-9760-ace4c3d01b79\",                        [{\"alignmentgroup\":\"True\",\"bingroup\":\"x\",\"hovertemplate\":\"Club=sporting cp<br>Season=%{x}<br>count=%{y}<extra></extra>\",\"legendgroup\":\"sporting cp\",\"marker\":{\"color\":\"#636efa\",\"pattern\":{\"shape\":\"\"}},\"name\":\"sporting cp\",\"offsetgroup\":\"sporting cp\",\"orientation\":\"v\",\"showlegend\":true,\"x\":[\"2002\",\"2002\",\"2002\",\"2002\",\"2002\"],\"xaxis\":\"x\",\"yaxis\":\"y\",\"type\":\"histogram\"},{\"alignmentgroup\":\"True\",\"bingroup\":\"x\",\"hovertemplate\":\"Club=manchester united<br>Season=%{x}<br>count=%{y}<extra></extra>\",\"legendgroup\":\"manchester united\",\"marker\":{\"color\":\"#EF553B\",\"pattern\":{\"shape\":\"\"}},\"name\":\"manchester united\",\"offsetgroup\":\"manchester united\",\"orientation\":\"v\",\"showlegend\":true,\"x\":[\"2003\",\"2003\",\"2003\",\"2003\",\"2003\",\"2003\",\"2004\",\"2004\",\"2004\",\"2004\",\"2004\",\"2004\",\"2004\",\"2004\",\"2004\",\"2005\",\"2005\",\"2005\",\"2005\",\"2005\",\"2005\",\"2005\",\"2005\",\"2005\",\"2005\",\"2005\",\"2005\",\"2006\",\"2006\",\"2006\",\"2006\",\"2006\",\"2006\",\"2006\",\"2006\",\"2006\",\"2006\",\"2006\",\"2006\",\"2006\",\"2006\",\"2006\",\"2006\",\"2006\",\"2006\",\"2006\",\"2006\",\"2006\",\"2006\",\"2006\",\"2007\",\"2007\",\"2007\",\"2007\",\"2007\",\"2007\",\"2007\",\"2007\",\"2007\",\"2007\",\"2007\",\"2007\",\"2007\",\"2007\",\"2007\",\"2007\",\"2007\",\"2007\",\"2007\",\"2007\",\"2007\",\"2007\",\"2007\",\"2007\",\"2007\",\"2007\",\"2007\",\"2007\",\"2007\",\"2007\",\"2007\",\"2007\",\"2007\",\"2007\",\"2007\",\"2007\",\"2007\",\"2007\",\"2007\",\"2007\",\"2007\",\"2007\",\"2008\",\"2008\",\"2008\",\"2008\",\"2008\",\"2008\",\"2008\",\"2008\",\"2008\",\"2008\",\"2008\",\"2008\",\"2008\",\"2008\",\"2008\",\"2008\",\"2008\",\"2008\",\"2008\",\"2008\",\"2008\",\"2008\",\"2008\",\"2008\",\"2008\",\"2008\",\"2021\",\"2021\",\"2021\",\"2021\",\"2021\",\"2021\",\"2021\",\"2021\",\"2021\",\"2021\",\"2021\",\"2021\",\"2021\",\"2021\",\"2021\",\"2021\",\"2021\",\"2021\",\"2021\",\"2021\",\"2021\",\"2021\",\"2021\",\"2021\",\"2022\",\"2022\",\"2022\"],\"xaxis\":\"x\",\"yaxis\":\"y\",\"type\":\"histogram\"},{\"alignmentgroup\":\"True\",\"bingroup\":\"x\",\"hovertemplate\":\"Club=real madrid<br>Season=%{x}<br>count=%{y}<extra></extra>\",\"legendgroup\":\"real madrid\",\"marker\":{\"color\":\"#00cc96\",\"pattern\":{\"shape\":\"\"}},\"name\":\"real madrid\",\"offsetgroup\":\"real madrid\",\"orientation\":\"v\",\"showlegend\":true,\"x\":[\"2009\",\"2009\",\"2009\",\"2009\",\"2009\",\"2009\",\"2009\",\"2009\",\"2009\",\"2009\",\"2009\",\"2009\",\"2009\",\"2009\",\"2009\",\"2009\",\"2009\",\"2009\",\"2009\",\"2009\",\"2009\",\"2009\",\"2009\",\"2009\",\"2009\",\"2009\",\"2009\",\"2009\",\"2009\",\"2009\",\"2009\",\"2009\",\"2009\",\"2010\",\"2010\",\"2010\",\"2010\",\"2010\",\"2010\",\"2010\",\"2010\",\"2010\",\"2010\",\"2010\",\"2010\",\"2010\",\"2010\",\"2010\",\"2010\",\"2010\",\"2010\",\"2010\",\"2010\",\"2010\",\"2010\",\"2010\",\"2010\",\"2010\",\"2010\",\"2010\",\"2010\",\"2010\",\"2010\",\"2010\",\"2010\",\"2010\",\"2010\",\"2010\",\"2010\",\"2010\",\"2010\",\"2010\",\"2010\",\"2010\",\"2010\",\"2010\",\"2010\",\"2010\",\"2010\",\"2010\",\"2010\",\"2010\",\"2010\",\"2010\",\"2010\",\"2010\",\"2011\",\"2011\",\"2011\",\"2011\",\"2011\",\"2011\",\"2011\",\"2011\",\"2011\",\"2011\",\"2011\",\"2011\",\"2011\",\"2011\",\"2011\",\"2011\",\"2011\",\"2011\",\"2011\",\"2011\",\"2011\",\"2011\",\"2011\",\"2011\",\"2011\",\"2011\",\"2011\",\"2011\",\"2011\",\"2011\",\"2011\",\"2011\",\"2011\",\"2011\",\"2011\",\"2011\",\"2011\",\"2011\",\"2011\",\"2011\",\"2011\",\"2011\",\"2011\",\"2011\",\"2011\",\"2011\",\"2011\",\"2011\",\"2011\",\"2011\",\"2011\",\"2011\",\"2011\",\"2011\",\"2011\",\"2011\",\"2011\",\"2011\",\"2011\",\"2011\",\"2012\",\"2012\",\"2012\",\"2012\",\"2012\",\"2012\",\"2012\",\"2012\",\"2012\",\"2012\",\"2012\",\"2012\",\"2012\",\"2012\",\"2012\",\"2012\",\"2012\",\"2012\",\"2012\",\"2012\",\"2012\",\"2012\",\"2012\",\"2012\",\"2012\",\"2012\",\"2012\",\"2012\",\"2012\",\"2012\",\"2012\",\"2012\",\"2012\",\"2012\",\"2012\",\"2012\",\"2012\",\"2012\",\"2012\",\"2012\",\"2012\",\"2012\",\"2012\",\"2012\",\"2012\",\"2012\",\"2012\",\"2012\",\"2012\",\"2012\",\"2012\",\"2012\",\"2012\",\"2012\",\"2012\",\"2013\",\"2013\",\"2013\",\"2013\",\"2013\",\"2013\",\"2013\",\"2013\",\"2013\",\"2013\",\"2013\",\"2013\",\"2013\",\"2013\",\"2013\",\"2013\",\"2013\",\"2013\",\"2013\",\"2013\",\"2013\",\"2013\",\"2013\",\"2013\",\"2013\",\"2013\",\"2013\",\"2013\",\"2013\",\"2013\",\"2013\",\"2013\",\"2013\",\"2013\",\"2013\",\"2013\",\"2013\",\"2013\",\"2013\",\"2013\",\"2013\",\"2013\",\"2013\",\"2013\",\"2013\",\"2013\",\"2013\",\"2013\",\"2013\",\"2013\",\"2013\",\"2014\",\"2014\",\"2014\",\"2014\",\"2014\",\"2014\",\"2014\",\"2014\",\"2014\",\"2014\",\"2014\",\"2014\",\"2014\",\"2014\",\"2014\",\"2014\",\"2014\",\"2014\",\"2014\",\"2014\",\"2014\",\"2014\",\"2014\",\"2014\",\"2014\",\"2014\",\"2014\",\"2014\",\"2014\",\"2014\",\"2014\",\"2014\",\"2014\",\"2014\",\"2014\",\"2014\",\"2014\",\"2014\",\"2014\",\"2014\",\"2014\",\"2014\",\"2014\",\"2014\",\"2014\",\"2014\",\"2014\",\"2014\",\"2014\",\"2014\",\"2014\",\"2014\",\"2014\",\"2014\",\"2014\",\"2014\",\"2014\",\"2014\",\"2014\",\"2014\",\"2014\",\"2015\",\"2015\",\"2015\",\"2015\",\"2015\",\"2015\",\"2015\",\"2015\",\"2015\",\"2015\",\"2015\",\"2015\",\"2015\",\"2015\",\"2015\",\"2015\",\"2015\",\"2015\",\"2015\",\"2015\",\"2015\",\"2015\",\"2015\",\"2015\",\"2015\",\"2015\",\"2015\",\"2015\",\"2015\",\"2015\",\"2015\",\"2015\",\"2015\",\"2015\",\"2015\",\"2015\",\"2015\",\"2015\",\"2015\",\"2015\",\"2015\",\"2015\",\"2015\",\"2015\",\"2015\",\"2015\",\"2015\",\"2015\",\"2015\",\"2015\",\"2015\",\"2016\",\"2016\",\"2016\",\"2016\",\"2016\",\"2016\",\"2016\",\"2016\",\"2016\",\"2016\",\"2016\",\"2016\",\"2016\",\"2016\",\"2016\",\"2016\",\"2016\",\"2016\",\"2016\",\"2016\",\"2016\",\"2016\",\"2016\",\"2016\",\"2016\",\"2016\",\"2016\",\"2016\",\"2016\",\"2016\",\"2016\",\"2016\",\"2016\",\"2016\",\"2016\",\"2016\",\"2016\",\"2016\",\"2016\",\"2016\",\"2016\",\"2016\",\"2017\",\"2017\",\"2017\",\"2017\",\"2017\",\"2017\",\"2017\",\"2017\",\"2017\",\"2017\",\"2017\",\"2017\",\"2017\",\"2017\",\"2017\",\"2017\",\"2017\",\"2017\",\"2017\",\"2017\",\"2017\",\"2017\",\"2017\",\"2017\",\"2017\",\"2017\",\"2017\",\"2017\",\"2017\",\"2017\",\"2017\",\"2017\",\"2017\",\"2017\",\"2017\",\"2017\",\"2017\",\"2017\",\"2017\",\"2017\",\"2017\",\"2017\",\"2017\",\"2017\"],\"xaxis\":\"x\",\"yaxis\":\"y\",\"type\":\"histogram\"},{\"alignmentgroup\":\"True\",\"bingroup\":\"x\",\"hovertemplate\":\"Club=juventus fc<br>Season=%{x}<br>count=%{y}<extra></extra>\",\"legendgroup\":\"juventus fc\",\"marker\":{\"color\":\"#ab63fa\",\"pattern\":{\"shape\":\"\"}},\"name\":\"juventus fc\",\"offsetgroup\":\"juventus fc\",\"orientation\":\"v\",\"showlegend\":true,\"x\":[\"2018\",\"2018\",\"2018\",\"2018\",\"2018\",\"2018\",\"2018\",\"2018\",\"2018\",\"2018\",\"2018\",\"2018\",\"2018\",\"2018\",\"2018\",\"2018\",\"2018\",\"2018\",\"2018\",\"2018\",\"2018\",\"2018\",\"2018\",\"2018\",\"2018\",\"2018\",\"2018\",\"2018\",\"2019\",\"2019\",\"2019\",\"2019\",\"2019\",\"2019\",\"2019\",\"2019\",\"2019\",\"2019\",\"2019\",\"2019\",\"2019\",\"2019\",\"2019\",\"2019\",\"2019\",\"2019\",\"2019\",\"2019\",\"2019\",\"2019\",\"2019\",\"2019\",\"2019\",\"2019\",\"2019\",\"2019\",\"2019\",\"2019\",\"2019\",\"2019\",\"2019\",\"2019\",\"2019\",\"2019\",\"2019\",\"2020\",\"2020\",\"2020\",\"2020\",\"2020\",\"2020\",\"2020\",\"2020\",\"2020\",\"2020\",\"2020\",\"2020\",\"2020\",\"2020\",\"2020\",\"2020\",\"2020\",\"2020\",\"2020\",\"2020\",\"2020\",\"2020\",\"2020\",\"2020\",\"2020\",\"2020\",\"2020\",\"2020\",\"2020\",\"2020\",\"2020\",\"2020\",\"2020\",\"2020\",\"2020\",\"2020\"],\"xaxis\":\"x\",\"yaxis\":\"y\",\"type\":\"histogram\"}],                        {\"template\":{\"data\":{\"histogram2dcontour\":[{\"type\":\"histogram2dcontour\",\"colorbar\":{\"outlinewidth\":0,\"ticks\":\"\"},\"colorscale\":[[0.0,\"#0d0887\"],[0.1111111111111111,\"#46039f\"],[0.2222222222222222,\"#7201a8\"],[0.3333333333333333,\"#9c179e\"],[0.4444444444444444,\"#bd3786\"],[0.5555555555555556,\"#d8576b\"],[0.6666666666666666,\"#ed7953\"],[0.7777777777777778,\"#fb9f3a\"],[0.8888888888888888,\"#fdca26\"],[1.0,\"#f0f921\"]]}],\"choropleth\":[{\"type\":\"choropleth\",\"colorbar\":{\"outlinewidth\":0,\"ticks\":\"\"}}],\"histogram2d\":[{\"type\":\"histogram2d\",\"colorbar\":{\"outlinewidth\":0,\"ticks\":\"\"},\"colorscale\":[[0.0,\"#0d0887\"],[0.1111111111111111,\"#46039f\"],[0.2222222222222222,\"#7201a8\"],[0.3333333333333333,\"#9c179e\"],[0.4444444444444444,\"#bd3786\"],[0.5555555555555556,\"#d8576b\"],[0.6666666666666666,\"#ed7953\"],[0.7777777777777778,\"#fb9f3a\"],[0.8888888888888888,\"#fdca26\"],[1.0,\"#f0f921\"]]}],\"heatmap\":[{\"type\":\"heatmap\",\"colorbar\":{\"outlinewidth\":0,\"ticks\":\"\"},\"colorscale\":[[0.0,\"#0d0887\"],[0.1111111111111111,\"#46039f\"],[0.2222222222222222,\"#7201a8\"],[0.3333333333333333,\"#9c179e\"],[0.4444444444444444,\"#bd3786\"],[0.5555555555555556,\"#d8576b\"],[0.6666666666666666,\"#ed7953\"],[0.7777777777777778,\"#fb9f3a\"],[0.8888888888888888,\"#fdca26\"],[1.0,\"#f0f921\"]]}],\"heatmapgl\":[{\"type\":\"heatmapgl\",\"colorbar\":{\"outlinewidth\":0,\"ticks\":\"\"},\"colorscale\":[[0.0,\"#0d0887\"],[0.1111111111111111,\"#46039f\"],[0.2222222222222222,\"#7201a8\"],[0.3333333333333333,\"#9c179e\"],[0.4444444444444444,\"#bd3786\"],[0.5555555555555556,\"#d8576b\"],[0.6666666666666666,\"#ed7953\"],[0.7777777777777778,\"#fb9f3a\"],[0.8888888888888888,\"#fdca26\"],[1.0,\"#f0f921\"]]}],\"contourcarpet\":[{\"type\":\"contourcarpet\",\"colorbar\":{\"outlinewidth\":0,\"ticks\":\"\"}}],\"contour\":[{\"type\":\"contour\",\"colorbar\":{\"outlinewidth\":0,\"ticks\":\"\"},\"colorscale\":[[0.0,\"#0d0887\"],[0.1111111111111111,\"#46039f\"],[0.2222222222222222,\"#7201a8\"],[0.3333333333333333,\"#9c179e\"],[0.4444444444444444,\"#bd3786\"],[0.5555555555555556,\"#d8576b\"],[0.6666666666666666,\"#ed7953\"],[0.7777777777777778,\"#fb9f3a\"],[0.8888888888888888,\"#fdca26\"],[1.0,\"#f0f921\"]]}],\"surface\":[{\"type\":\"surface\",\"colorbar\":{\"outlinewidth\":0,\"ticks\":\"\"},\"colorscale\":[[0.0,\"#0d0887\"],[0.1111111111111111,\"#46039f\"],[0.2222222222222222,\"#7201a8\"],[0.3333333333333333,\"#9c179e\"],[0.4444444444444444,\"#bd3786\"],[0.5555555555555556,\"#d8576b\"],[0.6666666666666666,\"#ed7953\"],[0.7777777777777778,\"#fb9f3a\"],[0.8888888888888888,\"#fdca26\"],[1.0,\"#f0f921\"]]}],\"mesh3d\":[{\"type\":\"mesh3d\",\"colorbar\":{\"outlinewidth\":0,\"ticks\":\"\"}}],\"scatter\":[{\"fillpattern\":{\"fillmode\":\"overlay\",\"size\":10,\"solidity\":0.2},\"type\":\"scatter\"}],\"parcoords\":[{\"type\":\"parcoords\",\"line\":{\"colorbar\":{\"outlinewidth\":0,\"ticks\":\"\"}}}],\"scatterpolargl\":[{\"type\":\"scatterpolargl\",\"marker\":{\"colorbar\":{\"outlinewidth\":0,\"ticks\":\"\"}}}],\"bar\":[{\"error_x\":{\"color\":\"#2a3f5f\"},\"error_y\":{\"color\":\"#2a3f5f\"},\"marker\":{\"line\":{\"color\":\"#E5ECF6\",\"width\":0.5},\"pattern\":{\"fillmode\":\"overlay\",\"size\":10,\"solidity\":0.2}},\"type\":\"bar\"}],\"scattergeo\":[{\"type\":\"scattergeo\",\"marker\":{\"colorbar\":{\"outlinewidth\":0,\"ticks\":\"\"}}}],\"scatterpolar\":[{\"type\":\"scatterpolar\",\"marker\":{\"colorbar\":{\"outlinewidth\":0,\"ticks\":\"\"}}}],\"histogram\":[{\"marker\":{\"pattern\":{\"fillmode\":\"overlay\",\"size\":10,\"solidity\":0.2}},\"type\":\"histogram\"}],\"scattergl\":[{\"type\":\"scattergl\",\"marker\":{\"colorbar\":{\"outlinewidth\":0,\"ticks\":\"\"}}}],\"scatter3d\":[{\"type\":\"scatter3d\",\"line\":{\"colorbar\":{\"outlinewidth\":0,\"ticks\":\"\"}},\"marker\":{\"colorbar\":{\"outlinewidth\":0,\"ticks\":\"\"}}}],\"scattermapbox\":[{\"type\":\"scattermapbox\",\"marker\":{\"colorbar\":{\"outlinewidth\":0,\"ticks\":\"\"}}}],\"scatterternary\":[{\"type\":\"scatterternary\",\"marker\":{\"colorbar\":{\"outlinewidth\":0,\"ticks\":\"\"}}}],\"scattercarpet\":[{\"type\":\"scattercarpet\",\"marker\":{\"colorbar\":{\"outlinewidth\":0,\"ticks\":\"\"}}}],\"carpet\":[{\"aaxis\":{\"endlinecolor\":\"#2a3f5f\",\"gridcolor\":\"white\",\"linecolor\":\"white\",\"minorgridcolor\":\"white\",\"startlinecolor\":\"#2a3f5f\"},\"baxis\":{\"endlinecolor\":\"#2a3f5f\",\"gridcolor\":\"white\",\"linecolor\":\"white\",\"minorgridcolor\":\"white\",\"startlinecolor\":\"#2a3f5f\"},\"type\":\"carpet\"}],\"table\":[{\"cells\":{\"fill\":{\"color\":\"#EBF0F8\"},\"line\":{\"color\":\"white\"}},\"header\":{\"fill\":{\"color\":\"#C8D4E3\"},\"line\":{\"color\":\"white\"}},\"type\":\"table\"}],\"barpolar\":[{\"marker\":{\"line\":{\"color\":\"#E5ECF6\",\"width\":0.5},\"pattern\":{\"fillmode\":\"overlay\",\"size\":10,\"solidity\":0.2}},\"type\":\"barpolar\"}],\"pie\":[{\"automargin\":true,\"type\":\"pie\"}]},\"layout\":{\"autotypenumbers\":\"strict\",\"colorway\":[\"#636efa\",\"#EF553B\",\"#00cc96\",\"#ab63fa\",\"#FFA15A\",\"#19d3f3\",\"#FF6692\",\"#B6E880\",\"#FF97FF\",\"#FECB52\"],\"font\":{\"color\":\"#2a3f5f\"},\"hovermode\":\"closest\",\"hoverlabel\":{\"align\":\"left\"},\"paper_bgcolor\":\"white\",\"plot_bgcolor\":\"#E5ECF6\",\"polar\":{\"bgcolor\":\"#E5ECF6\",\"angularaxis\":{\"gridcolor\":\"white\",\"linecolor\":\"white\",\"ticks\":\"\"},\"radialaxis\":{\"gridcolor\":\"white\",\"linecolor\":\"white\",\"ticks\":\"\"}},\"ternary\":{\"bgcolor\":\"#E5ECF6\",\"aaxis\":{\"gridcolor\":\"white\",\"linecolor\":\"white\",\"ticks\":\"\"},\"baxis\":{\"gridcolor\":\"white\",\"linecolor\":\"white\",\"ticks\":\"\"},\"caxis\":{\"gridcolor\":\"white\",\"linecolor\":\"white\",\"ticks\":\"\"}},\"coloraxis\":{\"colorbar\":{\"outlinewidth\":0,\"ticks\":\"\"}},\"colorscale\":{\"sequential\":[[0.0,\"#0d0887\"],[0.1111111111111111,\"#46039f\"],[0.2222222222222222,\"#7201a8\"],[0.3333333333333333,\"#9c179e\"],[0.4444444444444444,\"#bd3786\"],[0.5555555555555556,\"#d8576b\"],[0.6666666666666666,\"#ed7953\"],[0.7777777777777778,\"#fb9f3a\"],[0.8888888888888888,\"#fdca26\"],[1.0,\"#f0f921\"]],\"sequentialminus\":[[0.0,\"#0d0887\"],[0.1111111111111111,\"#46039f\"],[0.2222222222222222,\"#7201a8\"],[0.3333333333333333,\"#9c179e\"],[0.4444444444444444,\"#bd3786\"],[0.5555555555555556,\"#d8576b\"],[0.6666666666666666,\"#ed7953\"],[0.7777777777777778,\"#fb9f3a\"],[0.8888888888888888,\"#fdca26\"],[1.0,\"#f0f921\"]],\"diverging\":[[0,\"#8e0152\"],[0.1,\"#c51b7d\"],[0.2,\"#de77ae\"],[0.3,\"#f1b6da\"],[0.4,\"#fde0ef\"],[0.5,\"#f7f7f7\"],[0.6,\"#e6f5d0\"],[0.7,\"#b8e186\"],[0.8,\"#7fbc41\"],[0.9,\"#4d9221\"],[1,\"#276419\"]]},\"xaxis\":{\"gridcolor\":\"white\",\"linecolor\":\"white\",\"ticks\":\"\",\"title\":{\"standoff\":15},\"zerolinecolor\":\"white\",\"automargin\":true,\"zerolinewidth\":2},\"yaxis\":{\"gridcolor\":\"white\",\"linecolor\":\"white\",\"ticks\":\"\",\"title\":{\"standoff\":15},\"zerolinecolor\":\"white\",\"automargin\":true,\"zerolinewidth\":2},\"scene\":{\"xaxis\":{\"backgroundcolor\":\"#E5ECF6\",\"gridcolor\":\"white\",\"linecolor\":\"white\",\"showbackground\":true,\"ticks\":\"\",\"zerolinecolor\":\"white\",\"gridwidth\":2},\"yaxis\":{\"backgroundcolor\":\"#E5ECF6\",\"gridcolor\":\"white\",\"linecolor\":\"white\",\"showbackground\":true,\"ticks\":\"\",\"zerolinecolor\":\"white\",\"gridwidth\":2},\"zaxis\":{\"backgroundcolor\":\"#E5ECF6\",\"gridcolor\":\"white\",\"linecolor\":\"white\",\"showbackground\":true,\"ticks\":\"\",\"zerolinecolor\":\"white\",\"gridwidth\":2}},\"shapedefaults\":{\"line\":{\"color\":\"#2a3f5f\"}},\"annotationdefaults\":{\"arrowcolor\":\"#2a3f5f\",\"arrowhead\":0,\"arrowwidth\":1},\"geo\":{\"bgcolor\":\"white\",\"landcolor\":\"#E5ECF6\",\"subunitcolor\":\"white\",\"showland\":true,\"showlakes\":true,\"lakecolor\":\"white\"},\"title\":{\"x\":0.05},\"mapbox\":{\"style\":\"light\"}}},\"xaxis\":{\"anchor\":\"y\",\"domain\":[0.0,1.0],\"title\":{\"text\":\"Season\"}},\"yaxis\":{\"anchor\":\"x\",\"domain\":[0.0,1.0],\"title\":{\"text\":\"count\"}},\"legend\":{\"title\":{\"text\":\"Club\"},\"tracegroupgap\":0},\"title\":{\"text\":\"Goals per season\"},\"barmode\":\"relative\",\"height\":500},                        {\"responsive\": true}                    ).then(function(){\n",
       "                            \n",
       "var gd = document.getElementById('a1fec981-9d4d-4e73-9760-ace4c3d01b79');\n",
       "var x = new MutationObserver(function (mutations, observer) {{\n",
       "        var display = window.getComputedStyle(gd).display;\n",
       "        if (!display || display === 'none') {{\n",
       "            console.log([gd, 'removed!']);\n",
       "            Plotly.purge(gd);\n",
       "            observer.disconnect();\n",
       "        }}\n",
       "}});\n",
       "\n",
       "// Listen for the removal of the full notebook cells\n",
       "var notebookContainer = gd.closest('#notebook-container');\n",
       "if (notebookContainer) {{\n",
       "    x.observe(notebookContainer, {childList: true});\n",
       "}}\n",
       "\n",
       "// Listen for the clearing of the current output cell\n",
       "var outputEl = gd.closest('.output');\n",
       "if (outputEl) {{\n",
       "    x.observe(outputEl, {childList: true});\n",
       "}}\n",
       "\n",
       "                        })                };                });            </script>        </div>"
      ]
     },
     "metadata": {},
     "output_type": "display_data"
    }
   ],
   "source": [
    "px.histogram(\n",
    "    cr7_df,\n",
    "    x='Season',\n",
    "    title=\"Goals per season\",\n",
    "    log_x=False,\n",
    "    log_y=False,\n",
    "    #symbol='title',\n",
    "    #markers=True,\n",
    "    #width=800, \n",
    "    height=500,\n",
    "    color='Club',\n",
    "    hover_name='Club',\n",
    "    hover_data=['Competition','Season','Club'])"
   ]
  },
  {
   "cell_type": "markdown",
   "id": "3787bbca",
   "metadata": {},
   "source": [
    "## Number of total career goals scored by competition\n",
    "In terms of clubs, Real Madrid, Manchester United, and Juventus FC have the most goals scored, in that order, as if linked to the length of his tenure with the club.\n",
    "\n",
    "Notably, Ronaldo scored the second most goals in the UEFA Champions League, the competition that crowns European club champions, after Real Madrid. This result shows that Ronaldo, in addition to his success in his own league, has taken the path of a more special player by scoring more goals in the UEFA Champions League, where people around the world pay the most attention."
   ]
  },
  {
   "cell_type": "code",
   "execution_count": 222,
   "id": "92e0d040",
   "metadata": {},
   "outputs": [
    {
     "data": {
      "text/html": [
       "<div>\n",
       "<style scoped>\n",
       "    .dataframe tbody tr th:only-of-type {\n",
       "        vertical-align: middle;\n",
       "    }\n",
       "\n",
       "    .dataframe tbody tr th {\n",
       "        vertical-align: top;\n",
       "    }\n",
       "\n",
       "    .dataframe thead th {\n",
       "        text-align: right;\n",
       "    }\n",
       "</style>\n",
       "<table border=\"1\" class=\"dataframe\">\n",
       "  <thead>\n",
       "    <tr style=\"text-align: right;\">\n",
       "      <th></th>\n",
       "      <th>count</th>\n",
       "    </tr>\n",
       "    <tr>\n",
       "      <th>Competition</th>\n",
       "      <th></th>\n",
       "    </tr>\n",
       "  </thead>\n",
       "  <tbody>\n",
       "    <tr>\n",
       "      <th>laliga</th>\n",
       "      <td>311</td>\n",
       "    </tr>\n",
       "    <tr>\n",
       "      <th>uefa champions league</th>\n",
       "      <td>140</td>\n",
       "    </tr>\n",
       "    <tr>\n",
       "      <th>premier league</th>\n",
       "      <td>103</td>\n",
       "    </tr>\n",
       "    <tr>\n",
       "      <th>serie a</th>\n",
       "      <td>81</td>\n",
       "    </tr>\n",
       "    <tr>\n",
       "      <th>copa del rey</th>\n",
       "      <td>22</td>\n",
       "    </tr>\n",
       "    <tr>\n",
       "      <th>fa cup</th>\n",
       "      <td>13</td>\n",
       "    </tr>\n",
       "    <tr>\n",
       "      <th>fifa club world cup</th>\n",
       "      <td>7</td>\n",
       "    </tr>\n",
       "    <tr>\n",
       "      <th>efl cup</th>\n",
       "      <td>4</td>\n",
       "    </tr>\n",
       "    <tr>\n",
       "      <th>italy cup</th>\n",
       "      <td>4</td>\n",
       "    </tr>\n",
       "    <tr>\n",
       "      <th>supercopa</th>\n",
       "      <td>4</td>\n",
       "    </tr>\n",
       "    <tr>\n",
       "      <th>liga portugal</th>\n",
       "      <td>3</td>\n",
       "    </tr>\n",
       "    <tr>\n",
       "      <th>europa league</th>\n",
       "      <td>2</td>\n",
       "    </tr>\n",
       "    <tr>\n",
       "      <th>supercoppa italiana</th>\n",
       "      <td>2</td>\n",
       "    </tr>\n",
       "    <tr>\n",
       "      <th>taca de portugal placard</th>\n",
       "      <td>2</td>\n",
       "    </tr>\n",
       "    <tr>\n",
       "      <th>uefa super cup</th>\n",
       "      <td>2</td>\n",
       "    </tr>\n",
       "    <tr>\n",
       "      <th>uefa champions league qualifying</th>\n",
       "      <td>1</td>\n",
       "    </tr>\n",
       "  </tbody>\n",
       "</table>\n",
       "</div>"
      ],
      "text/plain": [
       "                                  count\n",
       "Competition                            \n",
       "laliga                              311\n",
       "uefa champions league               140\n",
       "premier league                      103\n",
       "serie a                              81\n",
       "copa del rey                         22\n",
       "fa cup                               13\n",
       "fifa club world cup                   7\n",
       "efl cup                               4\n",
       "italy cup                             4\n",
       "supercopa                             4\n",
       "liga portugal                         3\n",
       "europa league                         2\n",
       "supercoppa italiana                   2\n",
       "taca de portugal placard              2\n",
       "uefa super cup                        2\n",
       "uefa champions league qualifying      1"
      ]
     },
     "execution_count": 222,
     "metadata": {},
     "output_type": "execute_result"
    }
   ],
   "source": [
    "# Check the Number of total career goals scored by competition\n",
    "pd.DataFrame(cr7_df.Competition.value_counts())"
   ]
  },
  {
   "cell_type": "code",
   "execution_count": 223,
   "id": "a2f7ac79",
   "metadata": {},
   "outputs": [
    {
     "data": {
      "application/vnd.plotly.v1+json": {
       "config": {
        "plotlyServerURL": "https://plot.ly"
       },
       "data": [
        {
         "alignmentgroup": "True",
         "bingroup": "x",
         "hovertemplate": "Club=sporting cp<br>Competition=%{x}<br>count=%{y}<extra></extra>",
         "legendgroup": "sporting cp",
         "marker": {
          "color": "#636efa",
          "pattern": {
           "shape": ""
          }
         },
         "name": "sporting cp",
         "offsetgroup": "sporting cp",
         "orientation": "v",
         "showlegend": true,
         "type": "histogram",
         "x": [
          "liga portugal",
          "liga portugal",
          "liga portugal",
          "taca de portugal placard",
          "taca de portugal placard"
         ],
         "xaxis": "x",
         "yaxis": "y"
        },
        {
         "alignmentgroup": "True",
         "bingroup": "x",
         "hovertemplate": "Club=manchester united<br>Competition=%{x}<br>count=%{y}<extra></extra>",
         "legendgroup": "manchester united",
         "marker": {
          "color": "#EF553B",
          "pattern": {
           "shape": ""
          }
         },
         "name": "manchester united",
         "offsetgroup": "manchester united",
         "orientation": "v",
         "showlegend": true,
         "type": "histogram",
         "x": [
          "premier league",
          "fa cup",
          "premier league",
          "premier league",
          "premier league",
          "fa cup",
          "premier league",
          "fa cup",
          "premier league",
          "premier league",
          "premier league",
          "fa cup",
          "fa cup",
          "premier league",
          "fa cup",
          "uefa champions league qualifying",
          "premier league",
          "efl cup",
          "premier league",
          "premier league",
          "premier league",
          "premier league",
          "premier league",
          "premier league",
          "efl cup",
          "premier league",
          "premier league",
          "premier league",
          "premier league",
          "premier league",
          "premier league",
          "premier league",
          "premier league",
          "premier league",
          "premier league",
          "premier league",
          "premier league",
          "premier league",
          "premier league",
          "premier league",
          "premier league",
          "premier league",
          "premier league",
          "fa cup",
          "fa cup",
          "uefa champions league",
          "uefa champions league",
          "fa cup",
          "uefa champions league",
          "premier league",
          "uefa champions league",
          "premier league",
          "premier league",
          "premier league",
          "uefa champions league",
          "uefa champions league",
          "premier league",
          "uefa champions league",
          "premier league",
          "premier league",
          "uefa champions league",
          "premier league",
          "premier league",
          "premier league",
          "premier league",
          "premier league",
          "premier league",
          "premier league",
          "fa cup",
          "premier league",
          "premier league",
          "premier league",
          "premier league",
          "fa cup",
          "fa cup",
          "premier league",
          "premier league",
          "premier league",
          "premier league",
          "uefa champions league",
          "premier league",
          "premier league",
          "premier league",
          "premier league",
          "premier league",
          "uefa champions league",
          "premier league",
          "premier league",
          "premier league",
          "premier league",
          "premier league",
          "uefa champions league",
          "efl cup",
          "premier league",
          "premier league",
          "premier league",
          "premier league",
          "premier league",
          "premier league",
          "premier league",
          "premier league",
          "fifa club world cup",
          "efl cup",
          "premier league",
          "premier league",
          "premier league",
          "fa cup",
          "premier league",
          "uefa champions league",
          "premier league",
          "premier league",
          "premier league",
          "uefa champions league",
          "premier league",
          "premier league",
          "uefa champions league",
          "uefa champions league",
          "premier league",
          "premier league",
          "premier league",
          "uefa champions league",
          "premier league",
          "uefa champions league",
          "uefa champions league",
          "premier league",
          "uefa champions league",
          "uefa champions league",
          "uefa champions league",
          "premier league",
          "premier league",
          "premier league",
          "premier league",
          "premier league",
          "premier league",
          "premier league",
          "premier league",
          "premier league",
          "premier league",
          "premier league",
          "premier league",
          "premier league",
          "premier league",
          "europa league",
          "premier league",
          "europa league"
         ],
         "xaxis": "x",
         "yaxis": "y"
        },
        {
         "alignmentgroup": "True",
         "bingroup": "x",
         "hovertemplate": "Club=real madrid<br>Competition=%{x}<br>count=%{y}<extra></extra>",
         "legendgroup": "real madrid",
         "marker": {
          "color": "#00cc96",
          "pattern": {
           "shape": ""
          }
         },
         "name": "real madrid",
         "offsetgroup": "real madrid",
         "orientation": "v",
         "showlegend": true,
         "type": "histogram",
         "x": [
          "laliga",
          "laliga",
          "uefa champions league",
          "uefa champions league",
          "laliga",
          "laliga",
          "laliga",
          "uefa champions league",
          "uefa champions league",
          "laliga",
          "uefa champions league",
          "uefa champions league",
          "laliga",
          "laliga",
          "laliga",
          "laliga",
          "laliga",
          "laliga",
          "laliga",
          "laliga",
          "uefa champions league",
          "laliga",
          "laliga",
          "laliga",
          "laliga",
          "laliga",
          "laliga",
          "laliga",
          "laliga",
          "laliga",
          "laliga",
          "laliga",
          "laliga",
          "laliga",
          "laliga",
          "laliga",
          "laliga",
          "laliga",
          "uefa champions league",
          "laliga",
          "laliga",
          "laliga",
          "laliga",
          "laliga",
          "laliga",
          "copa del rey",
          "laliga",
          "laliga",
          "laliga",
          "uefa champions league",
          "uefa champions league",
          "laliga",
          "laliga",
          "uefa champions league",
          "laliga",
          "copa del rey",
          "copa del rey",
          "copa del rey",
          "laliga",
          "laliga",
          "laliga",
          "laliga",
          "laliga",
          "copa del rey",
          "copa del rey",
          "laliga",
          "laliga",
          "laliga",
          "laliga",
          "laliga",
          "uefa champions league",
          "laliga",
          "uefa champions league",
          "laliga",
          "copa del rey",
          "laliga",
          "laliga",
          "laliga",
          "laliga",
          "laliga",
          "laliga",
          "laliga",
          "laliga",
          "laliga",
          "laliga",
          "laliga",
          "supercopa",
          "laliga",
          "laliga",
          "laliga",
          "laliga",
          "laliga",
          "laliga",
          "laliga",
          "uefa champions league",
          "laliga",
          "laliga",
          "laliga",
          "uefa champions league",
          "uefa champions league",
          "laliga",
          "laliga",
          "laliga",
          "laliga",
          "laliga",
          "laliga",
          "laliga",
          "copa del rey",
          "laliga",
          "laliga",
          "laliga",
          "laliga",
          "copa del rey",
          "laliga",
          "laliga",
          "copa del rey",
          "laliga",
          "laliga",
          "laliga",
          "laliga",
          "laliga",
          "uefa champions league",
          "laliga",
          "laliga",
          "laliga",
          "laliga",
          "uefa champions league",
          "uefa champions league",
          "laliga",
          "laliga",
          "laliga",
          "laliga",
          "laliga",
          "uefa champions league",
          "uefa champions league",
          "laliga",
          "laliga",
          "laliga",
          "laliga",
          "laliga",
          "uefa champions league",
          "uefa champions league",
          "laliga",
          "laliga",
          "laliga",
          "laliga",
          "supercopa",
          "supercopa",
          "laliga",
          "laliga",
          "uefa champions league",
          "laliga",
          "laliga",
          "laliga",
          "laliga",
          "uefa champions league",
          "uefa champions league",
          "uefa champions league",
          "laliga",
          "laliga",
          "laliga",
          "uefa champions league",
          "laliga",
          "laliga",
          "laliga",
          "laliga",
          "uefa champions league",
          "copa del rey",
          "laliga",
          "laliga",
          "laliga",
          "copa del rey",
          "copa del rey",
          "copa del rey",
          "laliga",
          "laliga",
          "laliga",
          "laliga",
          "laliga",
          "laliga",
          "laliga",
          "laliga",
          "uefa champions league",
          "copa del rey",
          "copa del rey",
          "uefa champions league",
          "laliga",
          "laliga",
          "laliga",
          "laliga",
          "uefa champions league",
          "laliga",
          "uefa champions league",
          "uefa champions league",
          "laliga",
          "laliga",
          "uefa champions league",
          "laliga",
          "laliga",
          "laliga",
          "copa del rey",
          "laliga",
          "laliga",
          "uefa champions league",
          "uefa champions league",
          "uefa champions league",
          "laliga",
          "laliga",
          "laliga",
          "laliga",
          "uefa champions league",
          "uefa champions league",
          "laliga",
          "laliga",
          "uefa champions league",
          "uefa champions league",
          "laliga",
          "laliga",
          "laliga",
          "laliga",
          "laliga",
          "uefa champions league",
          "laliga",
          "laliga",
          "laliga",
          "laliga",
          "uefa champions league",
          "laliga",
          "laliga",
          "laliga",
          "copa del rey",
          "laliga",
          "laliga",
          "copa del rey",
          "copa del rey",
          "uefa champions league",
          "uefa champions league",
          "laliga",
          "laliga",
          "laliga",
          "uefa champions league",
          "uefa champions league",
          "laliga",
          "laliga",
          "laliga",
          "uefa champions league",
          "laliga",
          "laliga",
          "uefa champions league",
          "uefa champions league",
          "laliga",
          "uefa champions league",
          "uefa super cup",
          "uefa super cup",
          "laliga",
          "laliga",
          "uefa champions league",
          "laliga",
          "laliga",
          "laliga",
          "laliga",
          "laliga",
          "laliga",
          "laliga",
          "laliga",
          "uefa champions league",
          "laliga",
          "laliga",
          "laliga",
          "laliga",
          "laliga",
          "uefa champions league",
          "laliga",
          "laliga",
          "laliga",
          "laliga",
          "laliga",
          "uefa champions league",
          "laliga",
          "laliga",
          "laliga",
          "uefa champions league",
          "laliga",
          "laliga",
          "laliga",
          "copa del rey",
          "laliga",
          "laliga",
          "uefa champions league",
          "laliga",
          "laliga",
          "uefa champions league",
          "uefa champions league",
          "laliga",
          "laliga",
          "laliga",
          "laliga",
          "laliga",
          "laliga",
          "laliga",
          "laliga",
          "laliga",
          "laliga",
          "laliga",
          "laliga",
          "uefa champions league",
          "uefa champions league",
          "laliga",
          "laliga",
          "laliga",
          "laliga",
          "laliga",
          "laliga",
          "laliga",
          "laliga",
          "laliga",
          "laliga",
          "laliga",
          "uefa champions league",
          "uefa champions league",
          "uefa champions league",
          "uefa champions league",
          "uefa champions league",
          "laliga",
          "laliga",
          "laliga",
          "uefa champions league",
          "uefa champions league",
          "laliga",
          "laliga",
          "uefa champions league",
          "uefa champions league",
          "uefa champions league",
          "uefa champions league",
          "laliga",
          "laliga",
          "laliga",
          "laliga",
          "laliga",
          "laliga",
          "laliga",
          "laliga",
          "laliga",
          "laliga",
          "laliga",
          "uefa champions league",
          "laliga",
          "laliga",
          "laliga",
          "laliga",
          "laliga",
          "laliga",
          "uefa champions league",
          "laliga",
          "laliga",
          "laliga",
          "uefa champions league",
          "uefa champions league",
          "uefa champions league",
          "laliga",
          "laliga",
          "laliga",
          "laliga",
          "laliga",
          "laliga",
          "uefa champions league",
          "uefa champions league",
          "laliga",
          "laliga",
          "laliga",
          "laliga",
          "laliga",
          "laliga",
          "laliga",
          "laliga",
          "laliga",
          "fifa club world cup",
          "fifa club world cup",
          "fifa club world cup",
          "fifa club world cup",
          "laliga",
          "laliga",
          "copa del rey",
          "laliga",
          "laliga",
          "laliga",
          "laliga",
          "laliga",
          "laliga",
          "laliga",
          "uefa champions league",
          "uefa champions league",
          "uefa champions league",
          "uefa champions league",
          "uefa champions league",
          "laliga",
          "uefa champions league",
          "uefa champions league",
          "uefa champions league",
          "laliga",
          "laliga",
          "laliga",
          "laliga",
          "laliga",
          "uefa champions league",
          "uefa champions league",
          "supercopa",
          "uefa champions league",
          "uefa champions league",
          "uefa champions league",
          "uefa champions league",
          "laliga",
          "uefa champions league",
          "uefa champions league",
          "uefa champions league",
          "uefa champions league",
          "laliga",
          "uefa champions league",
          "laliga",
          "laliga",
          "fifa club world cup",
          "fifa club world cup",
          "laliga",
          "laliga",
          "laliga",
          "laliga",
          "laliga",
          "laliga",
          "laliga",
          "uefa champions league",
          "uefa champions league",
          "laliga",
          "laliga",
          "laliga",
          "laliga",
          "laliga",
          "uefa champions league",
          "laliga",
          "laliga",
          "laliga",
          "laliga",
          "laliga",
          "laliga",
          "uefa champions league",
          "uefa champions league",
          "laliga",
          "uefa champions league",
          "laliga",
          "laliga",
          "laliga"
         ],
         "xaxis": "x",
         "yaxis": "y"
        },
        {
         "alignmentgroup": "True",
         "bingroup": "x",
         "hovertemplate": "Club=juventus fc<br>Competition=%{x}<br>count=%{y}<extra></extra>",
         "legendgroup": "juventus fc",
         "marker": {
          "color": "#ab63fa",
          "pattern": {
           "shape": ""
          }
         },
         "name": "juventus fc",
         "offsetgroup": "juventus fc",
         "orientation": "v",
         "showlegend": true,
         "type": "histogram",
         "x": [
          "serie a",
          "serie a",
          "serie a",
          "serie a",
          "serie a",
          "serie a",
          "serie a",
          "uefa champions league",
          "serie a",
          "serie a",
          "serie a",
          "serie a",
          "serie a",
          "serie a",
          "serie a",
          "supercoppa italiana",
          "serie a",
          "serie a",
          "serie a",
          "serie a",
          "serie a",
          "uefa champions league",
          "uefa champions league",
          "uefa champions league",
          "uefa champions league",
          "uefa champions league",
          "serie a",
          "serie a",
          "serie a",
          "serie a",
          "serie a",
          "uefa champions league",
          "serie a",
          "serie a",
          "serie a",
          "serie a",
          "uefa champions league",
          "serie a",
          "serie a",
          "serie a",
          "serie a",
          "serie a",
          "serie a",
          "serie a",
          "serie a",
          "serie a",
          "italy cup",
          "serie a",
          "serie a",
          "serie a",
          "serie a",
          "italy cup",
          "serie a",
          "serie a",
          "serie a",
          "serie a",
          "serie a",
          "serie a",
          "serie a",
          "serie a",
          "serie a",
          "serie a",
          "serie a",
          "uefa champions league",
          "uefa champions league",
          "serie a",
          "serie a",
          "serie a",
          "serie a",
          "serie a",
          "serie a",
          "serie a",
          "serie a",
          "uefa champions league",
          "uefa champions league",
          "uefa champions league",
          "uefa champions league",
          "serie a",
          "serie a",
          "serie a",
          "serie a",
          "serie a",
          "serie a",
          "serie a",
          "supercoppa italiana",
          "italy cup",
          "italy cup",
          "serie a",
          "serie a",
          "serie a",
          "serie a",
          "serie a",
          "serie a",
          "serie a",
          "serie a",
          "serie a",
          "serie a",
          "serie a",
          "serie a",
          "serie a",
          "serie a"
         ],
         "xaxis": "x",
         "yaxis": "y"
        }
       ],
       "layout": {
        "barmode": "relative",
        "height": 500,
        "legend": {
         "title": {
          "text": "Club"
         },
         "tracegroupgap": 0
        },
        "template": {
         "data": {
          "bar": [
           {
            "error_x": {
             "color": "#2a3f5f"
            },
            "error_y": {
             "color": "#2a3f5f"
            },
            "marker": {
             "line": {
              "color": "#E5ECF6",
              "width": 0.5
             },
             "pattern": {
              "fillmode": "overlay",
              "size": 10,
              "solidity": 0.2
             }
            },
            "type": "bar"
           }
          ],
          "barpolar": [
           {
            "marker": {
             "line": {
              "color": "#E5ECF6",
              "width": 0.5
             },
             "pattern": {
              "fillmode": "overlay",
              "size": 10,
              "solidity": 0.2
             }
            },
            "type": "barpolar"
           }
          ],
          "carpet": [
           {
            "aaxis": {
             "endlinecolor": "#2a3f5f",
             "gridcolor": "white",
             "linecolor": "white",
             "minorgridcolor": "white",
             "startlinecolor": "#2a3f5f"
            },
            "baxis": {
             "endlinecolor": "#2a3f5f",
             "gridcolor": "white",
             "linecolor": "white",
             "minorgridcolor": "white",
             "startlinecolor": "#2a3f5f"
            },
            "type": "carpet"
           }
          ],
          "choropleth": [
           {
            "colorbar": {
             "outlinewidth": 0,
             "ticks": ""
            },
            "type": "choropleth"
           }
          ],
          "contour": [
           {
            "colorbar": {
             "outlinewidth": 0,
             "ticks": ""
            },
            "colorscale": [
             [
              0,
              "#0d0887"
             ],
             [
              0.1111111111111111,
              "#46039f"
             ],
             [
              0.2222222222222222,
              "#7201a8"
             ],
             [
              0.3333333333333333,
              "#9c179e"
             ],
             [
              0.4444444444444444,
              "#bd3786"
             ],
             [
              0.5555555555555556,
              "#d8576b"
             ],
             [
              0.6666666666666666,
              "#ed7953"
             ],
             [
              0.7777777777777778,
              "#fb9f3a"
             ],
             [
              0.8888888888888888,
              "#fdca26"
             ],
             [
              1,
              "#f0f921"
             ]
            ],
            "type": "contour"
           }
          ],
          "contourcarpet": [
           {
            "colorbar": {
             "outlinewidth": 0,
             "ticks": ""
            },
            "type": "contourcarpet"
           }
          ],
          "heatmap": [
           {
            "colorbar": {
             "outlinewidth": 0,
             "ticks": ""
            },
            "colorscale": [
             [
              0,
              "#0d0887"
             ],
             [
              0.1111111111111111,
              "#46039f"
             ],
             [
              0.2222222222222222,
              "#7201a8"
             ],
             [
              0.3333333333333333,
              "#9c179e"
             ],
             [
              0.4444444444444444,
              "#bd3786"
             ],
             [
              0.5555555555555556,
              "#d8576b"
             ],
             [
              0.6666666666666666,
              "#ed7953"
             ],
             [
              0.7777777777777778,
              "#fb9f3a"
             ],
             [
              0.8888888888888888,
              "#fdca26"
             ],
             [
              1,
              "#f0f921"
             ]
            ],
            "type": "heatmap"
           }
          ],
          "heatmapgl": [
           {
            "colorbar": {
             "outlinewidth": 0,
             "ticks": ""
            },
            "colorscale": [
             [
              0,
              "#0d0887"
             ],
             [
              0.1111111111111111,
              "#46039f"
             ],
             [
              0.2222222222222222,
              "#7201a8"
             ],
             [
              0.3333333333333333,
              "#9c179e"
             ],
             [
              0.4444444444444444,
              "#bd3786"
             ],
             [
              0.5555555555555556,
              "#d8576b"
             ],
             [
              0.6666666666666666,
              "#ed7953"
             ],
             [
              0.7777777777777778,
              "#fb9f3a"
             ],
             [
              0.8888888888888888,
              "#fdca26"
             ],
             [
              1,
              "#f0f921"
             ]
            ],
            "type": "heatmapgl"
           }
          ],
          "histogram": [
           {
            "marker": {
             "pattern": {
              "fillmode": "overlay",
              "size": 10,
              "solidity": 0.2
             }
            },
            "type": "histogram"
           }
          ],
          "histogram2d": [
           {
            "colorbar": {
             "outlinewidth": 0,
             "ticks": ""
            },
            "colorscale": [
             [
              0,
              "#0d0887"
             ],
             [
              0.1111111111111111,
              "#46039f"
             ],
             [
              0.2222222222222222,
              "#7201a8"
             ],
             [
              0.3333333333333333,
              "#9c179e"
             ],
             [
              0.4444444444444444,
              "#bd3786"
             ],
             [
              0.5555555555555556,
              "#d8576b"
             ],
             [
              0.6666666666666666,
              "#ed7953"
             ],
             [
              0.7777777777777778,
              "#fb9f3a"
             ],
             [
              0.8888888888888888,
              "#fdca26"
             ],
             [
              1,
              "#f0f921"
             ]
            ],
            "type": "histogram2d"
           }
          ],
          "histogram2dcontour": [
           {
            "colorbar": {
             "outlinewidth": 0,
             "ticks": ""
            },
            "colorscale": [
             [
              0,
              "#0d0887"
             ],
             [
              0.1111111111111111,
              "#46039f"
             ],
             [
              0.2222222222222222,
              "#7201a8"
             ],
             [
              0.3333333333333333,
              "#9c179e"
             ],
             [
              0.4444444444444444,
              "#bd3786"
             ],
             [
              0.5555555555555556,
              "#d8576b"
             ],
             [
              0.6666666666666666,
              "#ed7953"
             ],
             [
              0.7777777777777778,
              "#fb9f3a"
             ],
             [
              0.8888888888888888,
              "#fdca26"
             ],
             [
              1,
              "#f0f921"
             ]
            ],
            "type": "histogram2dcontour"
           }
          ],
          "mesh3d": [
           {
            "colorbar": {
             "outlinewidth": 0,
             "ticks": ""
            },
            "type": "mesh3d"
           }
          ],
          "parcoords": [
           {
            "line": {
             "colorbar": {
              "outlinewidth": 0,
              "ticks": ""
             }
            },
            "type": "parcoords"
           }
          ],
          "pie": [
           {
            "automargin": true,
            "type": "pie"
           }
          ],
          "scatter": [
           {
            "fillpattern": {
             "fillmode": "overlay",
             "size": 10,
             "solidity": 0.2
            },
            "type": "scatter"
           }
          ],
          "scatter3d": [
           {
            "line": {
             "colorbar": {
              "outlinewidth": 0,
              "ticks": ""
             }
            },
            "marker": {
             "colorbar": {
              "outlinewidth": 0,
              "ticks": ""
             }
            },
            "type": "scatter3d"
           }
          ],
          "scattercarpet": [
           {
            "marker": {
             "colorbar": {
              "outlinewidth": 0,
              "ticks": ""
             }
            },
            "type": "scattercarpet"
           }
          ],
          "scattergeo": [
           {
            "marker": {
             "colorbar": {
              "outlinewidth": 0,
              "ticks": ""
             }
            },
            "type": "scattergeo"
           }
          ],
          "scattergl": [
           {
            "marker": {
             "colorbar": {
              "outlinewidth": 0,
              "ticks": ""
             }
            },
            "type": "scattergl"
           }
          ],
          "scattermapbox": [
           {
            "marker": {
             "colorbar": {
              "outlinewidth": 0,
              "ticks": ""
             }
            },
            "type": "scattermapbox"
           }
          ],
          "scatterpolar": [
           {
            "marker": {
             "colorbar": {
              "outlinewidth": 0,
              "ticks": ""
             }
            },
            "type": "scatterpolar"
           }
          ],
          "scatterpolargl": [
           {
            "marker": {
             "colorbar": {
              "outlinewidth": 0,
              "ticks": ""
             }
            },
            "type": "scatterpolargl"
           }
          ],
          "scatterternary": [
           {
            "marker": {
             "colorbar": {
              "outlinewidth": 0,
              "ticks": ""
             }
            },
            "type": "scatterternary"
           }
          ],
          "surface": [
           {
            "colorbar": {
             "outlinewidth": 0,
             "ticks": ""
            },
            "colorscale": [
             [
              0,
              "#0d0887"
             ],
             [
              0.1111111111111111,
              "#46039f"
             ],
             [
              0.2222222222222222,
              "#7201a8"
             ],
             [
              0.3333333333333333,
              "#9c179e"
             ],
             [
              0.4444444444444444,
              "#bd3786"
             ],
             [
              0.5555555555555556,
              "#d8576b"
             ],
             [
              0.6666666666666666,
              "#ed7953"
             ],
             [
              0.7777777777777778,
              "#fb9f3a"
             ],
             [
              0.8888888888888888,
              "#fdca26"
             ],
             [
              1,
              "#f0f921"
             ]
            ],
            "type": "surface"
           }
          ],
          "table": [
           {
            "cells": {
             "fill": {
              "color": "#EBF0F8"
             },
             "line": {
              "color": "white"
             }
            },
            "header": {
             "fill": {
              "color": "#C8D4E3"
             },
             "line": {
              "color": "white"
             }
            },
            "type": "table"
           }
          ]
         },
         "layout": {
          "annotationdefaults": {
           "arrowcolor": "#2a3f5f",
           "arrowhead": 0,
           "arrowwidth": 1
          },
          "autotypenumbers": "strict",
          "coloraxis": {
           "colorbar": {
            "outlinewidth": 0,
            "ticks": ""
           }
          },
          "colorscale": {
           "diverging": [
            [
             0,
             "#8e0152"
            ],
            [
             0.1,
             "#c51b7d"
            ],
            [
             0.2,
             "#de77ae"
            ],
            [
             0.3,
             "#f1b6da"
            ],
            [
             0.4,
             "#fde0ef"
            ],
            [
             0.5,
             "#f7f7f7"
            ],
            [
             0.6,
             "#e6f5d0"
            ],
            [
             0.7,
             "#b8e186"
            ],
            [
             0.8,
             "#7fbc41"
            ],
            [
             0.9,
             "#4d9221"
            ],
            [
             1,
             "#276419"
            ]
           ],
           "sequential": [
            [
             0,
             "#0d0887"
            ],
            [
             0.1111111111111111,
             "#46039f"
            ],
            [
             0.2222222222222222,
             "#7201a8"
            ],
            [
             0.3333333333333333,
             "#9c179e"
            ],
            [
             0.4444444444444444,
             "#bd3786"
            ],
            [
             0.5555555555555556,
             "#d8576b"
            ],
            [
             0.6666666666666666,
             "#ed7953"
            ],
            [
             0.7777777777777778,
             "#fb9f3a"
            ],
            [
             0.8888888888888888,
             "#fdca26"
            ],
            [
             1,
             "#f0f921"
            ]
           ],
           "sequentialminus": [
            [
             0,
             "#0d0887"
            ],
            [
             0.1111111111111111,
             "#46039f"
            ],
            [
             0.2222222222222222,
             "#7201a8"
            ],
            [
             0.3333333333333333,
             "#9c179e"
            ],
            [
             0.4444444444444444,
             "#bd3786"
            ],
            [
             0.5555555555555556,
             "#d8576b"
            ],
            [
             0.6666666666666666,
             "#ed7953"
            ],
            [
             0.7777777777777778,
             "#fb9f3a"
            ],
            [
             0.8888888888888888,
             "#fdca26"
            ],
            [
             1,
             "#f0f921"
            ]
           ]
          },
          "colorway": [
           "#636efa",
           "#EF553B",
           "#00cc96",
           "#ab63fa",
           "#FFA15A",
           "#19d3f3",
           "#FF6692",
           "#B6E880",
           "#FF97FF",
           "#FECB52"
          ],
          "font": {
           "color": "#2a3f5f"
          },
          "geo": {
           "bgcolor": "white",
           "lakecolor": "white",
           "landcolor": "#E5ECF6",
           "showlakes": true,
           "showland": true,
           "subunitcolor": "white"
          },
          "hoverlabel": {
           "align": "left"
          },
          "hovermode": "closest",
          "mapbox": {
           "style": "light"
          },
          "paper_bgcolor": "white",
          "plot_bgcolor": "#E5ECF6",
          "polar": {
           "angularaxis": {
            "gridcolor": "white",
            "linecolor": "white",
            "ticks": ""
           },
           "bgcolor": "#E5ECF6",
           "radialaxis": {
            "gridcolor": "white",
            "linecolor": "white",
            "ticks": ""
           }
          },
          "scene": {
           "xaxis": {
            "backgroundcolor": "#E5ECF6",
            "gridcolor": "white",
            "gridwidth": 2,
            "linecolor": "white",
            "showbackground": true,
            "ticks": "",
            "zerolinecolor": "white"
           },
           "yaxis": {
            "backgroundcolor": "#E5ECF6",
            "gridcolor": "white",
            "gridwidth": 2,
            "linecolor": "white",
            "showbackground": true,
            "ticks": "",
            "zerolinecolor": "white"
           },
           "zaxis": {
            "backgroundcolor": "#E5ECF6",
            "gridcolor": "white",
            "gridwidth": 2,
            "linecolor": "white",
            "showbackground": true,
            "ticks": "",
            "zerolinecolor": "white"
           }
          },
          "shapedefaults": {
           "line": {
            "color": "#2a3f5f"
           }
          },
          "ternary": {
           "aaxis": {
            "gridcolor": "white",
            "linecolor": "white",
            "ticks": ""
           },
           "baxis": {
            "gridcolor": "white",
            "linecolor": "white",
            "ticks": ""
           },
           "bgcolor": "#E5ECF6",
           "caxis": {
            "gridcolor": "white",
            "linecolor": "white",
            "ticks": ""
           }
          },
          "title": {
           "x": 0.05
          },
          "xaxis": {
           "automargin": true,
           "gridcolor": "white",
           "linecolor": "white",
           "ticks": "",
           "title": {
            "standoff": 15
           },
           "zerolinecolor": "white",
           "zerolinewidth": 2
          },
          "yaxis": {
           "automargin": true,
           "gridcolor": "white",
           "linecolor": "white",
           "ticks": "",
           "title": {
            "standoff": 15
           },
           "zerolinecolor": "white",
           "zerolinewidth": 2
          }
         }
        },
        "title": {
         "text": "Goals per competition"
        },
        "xaxis": {
         "anchor": "y",
         "domain": [
          0,
          1
         ],
         "title": {
          "text": "Competition"
         }
        },
        "yaxis": {
         "anchor": "x",
         "domain": [
          0,
          1
         ],
         "title": {
          "text": "count"
         }
        }
       }
      },
      "text/html": [
       "<div>                            <div id=\"75b58c17-a7d5-4a76-b48a-1ffd5068959d\" class=\"plotly-graph-div\" style=\"height:500px; width:100%;\"></div>            <script type=\"text/javascript\">                require([\"plotly\"], function(Plotly) {                    window.PLOTLYENV=window.PLOTLYENV || {};                                    if (document.getElementById(\"75b58c17-a7d5-4a76-b48a-1ffd5068959d\")) {                    Plotly.newPlot(                        \"75b58c17-a7d5-4a76-b48a-1ffd5068959d\",                        [{\"alignmentgroup\":\"True\",\"bingroup\":\"x\",\"hovertemplate\":\"Club=sporting cp<br>Competition=%{x}<br>count=%{y}<extra></extra>\",\"legendgroup\":\"sporting cp\",\"marker\":{\"color\":\"#636efa\",\"pattern\":{\"shape\":\"\"}},\"name\":\"sporting cp\",\"offsetgroup\":\"sporting cp\",\"orientation\":\"v\",\"showlegend\":true,\"x\":[\"liga portugal\",\"liga portugal\",\"liga portugal\",\"taca de portugal placard\",\"taca de portugal placard\"],\"xaxis\":\"x\",\"yaxis\":\"y\",\"type\":\"histogram\"},{\"alignmentgroup\":\"True\",\"bingroup\":\"x\",\"hovertemplate\":\"Club=manchester united<br>Competition=%{x}<br>count=%{y}<extra></extra>\",\"legendgroup\":\"manchester united\",\"marker\":{\"color\":\"#EF553B\",\"pattern\":{\"shape\":\"\"}},\"name\":\"manchester united\",\"offsetgroup\":\"manchester united\",\"orientation\":\"v\",\"showlegend\":true,\"x\":[\"premier league\",\"fa cup\",\"premier league\",\"premier league\",\"premier league\",\"fa cup\",\"premier league\",\"fa cup\",\"premier league\",\"premier league\",\"premier league\",\"fa cup\",\"fa cup\",\"premier league\",\"fa cup\",\"uefa champions league qualifying\",\"premier league\",\"efl cup\",\"premier league\",\"premier league\",\"premier league\",\"premier league\",\"premier league\",\"premier league\",\"efl cup\",\"premier league\",\"premier league\",\"premier league\",\"premier league\",\"premier league\",\"premier league\",\"premier league\",\"premier league\",\"premier league\",\"premier league\",\"premier league\",\"premier league\",\"premier league\",\"premier league\",\"premier league\",\"premier league\",\"premier league\",\"premier league\",\"fa cup\",\"fa cup\",\"uefa champions league\",\"uefa champions league\",\"fa cup\",\"uefa champions league\",\"premier league\",\"uefa champions league\",\"premier league\",\"premier league\",\"premier league\",\"uefa champions league\",\"uefa champions league\",\"premier league\",\"uefa champions league\",\"premier league\",\"premier league\",\"uefa champions league\",\"premier league\",\"premier league\",\"premier league\",\"premier league\",\"premier league\",\"premier league\",\"premier league\",\"fa cup\",\"premier league\",\"premier league\",\"premier league\",\"premier league\",\"fa cup\",\"fa cup\",\"premier league\",\"premier league\",\"premier league\",\"premier league\",\"uefa champions league\",\"premier league\",\"premier league\",\"premier league\",\"premier league\",\"premier league\",\"uefa champions league\",\"premier league\",\"premier league\",\"premier league\",\"premier league\",\"premier league\",\"uefa champions league\",\"efl cup\",\"premier league\",\"premier league\",\"premier league\",\"premier league\",\"premier league\",\"premier league\",\"premier league\",\"premier league\",\"fifa club world cup\",\"efl cup\",\"premier league\",\"premier league\",\"premier league\",\"fa cup\",\"premier league\",\"uefa champions league\",\"premier league\",\"premier league\",\"premier league\",\"uefa champions league\",\"premier league\",\"premier league\",\"uefa champions league\",\"uefa champions league\",\"premier league\",\"premier league\",\"premier league\",\"uefa champions league\",\"premier league\",\"uefa champions league\",\"uefa champions league\",\"premier league\",\"uefa champions league\",\"uefa champions league\",\"uefa champions league\",\"premier league\",\"premier league\",\"premier league\",\"premier league\",\"premier league\",\"premier league\",\"premier league\",\"premier league\",\"premier league\",\"premier league\",\"premier league\",\"premier league\",\"premier league\",\"premier league\",\"europa league\",\"premier league\",\"europa league\"],\"xaxis\":\"x\",\"yaxis\":\"y\",\"type\":\"histogram\"},{\"alignmentgroup\":\"True\",\"bingroup\":\"x\",\"hovertemplate\":\"Club=real madrid<br>Competition=%{x}<br>count=%{y}<extra></extra>\",\"legendgroup\":\"real madrid\",\"marker\":{\"color\":\"#00cc96\",\"pattern\":{\"shape\":\"\"}},\"name\":\"real madrid\",\"offsetgroup\":\"real madrid\",\"orientation\":\"v\",\"showlegend\":true,\"x\":[\"laliga\",\"laliga\",\"uefa champions league\",\"uefa champions league\",\"laliga\",\"laliga\",\"laliga\",\"uefa champions league\",\"uefa champions league\",\"laliga\",\"uefa champions league\",\"uefa champions league\",\"laliga\",\"laliga\",\"laliga\",\"laliga\",\"laliga\",\"laliga\",\"laliga\",\"laliga\",\"uefa champions league\",\"laliga\",\"laliga\",\"laliga\",\"laliga\",\"laliga\",\"laliga\",\"laliga\",\"laliga\",\"laliga\",\"laliga\",\"laliga\",\"laliga\",\"laliga\",\"laliga\",\"laliga\",\"laliga\",\"laliga\",\"uefa champions league\",\"laliga\",\"laliga\",\"laliga\",\"laliga\",\"laliga\",\"laliga\",\"copa del rey\",\"laliga\",\"laliga\",\"laliga\",\"uefa champions league\",\"uefa champions league\",\"laliga\",\"laliga\",\"uefa champions league\",\"laliga\",\"copa del rey\",\"copa del rey\",\"copa del rey\",\"laliga\",\"laliga\",\"laliga\",\"laliga\",\"laliga\",\"copa del rey\",\"copa del rey\",\"laliga\",\"laliga\",\"laliga\",\"laliga\",\"laliga\",\"uefa champions league\",\"laliga\",\"uefa champions league\",\"laliga\",\"copa del rey\",\"laliga\",\"laliga\",\"laliga\",\"laliga\",\"laliga\",\"laliga\",\"laliga\",\"laliga\",\"laliga\",\"laliga\",\"laliga\",\"supercopa\",\"laliga\",\"laliga\",\"laliga\",\"laliga\",\"laliga\",\"laliga\",\"laliga\",\"uefa champions league\",\"laliga\",\"laliga\",\"laliga\",\"uefa champions league\",\"uefa champions league\",\"laliga\",\"laliga\",\"laliga\",\"laliga\",\"laliga\",\"laliga\",\"laliga\",\"copa del rey\",\"laliga\",\"laliga\",\"laliga\",\"laliga\",\"copa del rey\",\"laliga\",\"laliga\",\"copa del rey\",\"laliga\",\"laliga\",\"laliga\",\"laliga\",\"laliga\",\"uefa champions league\",\"laliga\",\"laliga\",\"laliga\",\"laliga\",\"uefa champions league\",\"uefa champions league\",\"laliga\",\"laliga\",\"laliga\",\"laliga\",\"laliga\",\"uefa champions league\",\"uefa champions league\",\"laliga\",\"laliga\",\"laliga\",\"laliga\",\"laliga\",\"uefa champions league\",\"uefa champions league\",\"laliga\",\"laliga\",\"laliga\",\"laliga\",\"supercopa\",\"supercopa\",\"laliga\",\"laliga\",\"uefa champions league\",\"laliga\",\"laliga\",\"laliga\",\"laliga\",\"uefa champions league\",\"uefa champions league\",\"uefa champions league\",\"laliga\",\"laliga\",\"laliga\",\"uefa champions league\",\"laliga\",\"laliga\",\"laliga\",\"laliga\",\"uefa champions league\",\"copa del rey\",\"laliga\",\"laliga\",\"laliga\",\"copa del rey\",\"copa del rey\",\"copa del rey\",\"laliga\",\"laliga\",\"laliga\",\"laliga\",\"laliga\",\"laliga\",\"laliga\",\"laliga\",\"uefa champions league\",\"copa del rey\",\"copa del rey\",\"uefa champions league\",\"laliga\",\"laliga\",\"laliga\",\"laliga\",\"uefa champions league\",\"laliga\",\"uefa champions league\",\"uefa champions league\",\"laliga\",\"laliga\",\"uefa champions league\",\"laliga\",\"laliga\",\"laliga\",\"copa del rey\",\"laliga\",\"laliga\",\"uefa champions league\",\"uefa champions league\",\"uefa champions league\",\"laliga\",\"laliga\",\"laliga\",\"laliga\",\"uefa champions league\",\"uefa champions league\",\"laliga\",\"laliga\",\"uefa champions league\",\"uefa champions league\",\"laliga\",\"laliga\",\"laliga\",\"laliga\",\"laliga\",\"uefa champions league\",\"laliga\",\"laliga\",\"laliga\",\"laliga\",\"uefa champions league\",\"laliga\",\"laliga\",\"laliga\",\"copa del rey\",\"laliga\",\"laliga\",\"copa del rey\",\"copa del rey\",\"uefa champions league\",\"uefa champions league\",\"laliga\",\"laliga\",\"laliga\",\"uefa champions league\",\"uefa champions league\",\"laliga\",\"laliga\",\"laliga\",\"uefa champions league\",\"laliga\",\"laliga\",\"uefa champions league\",\"uefa champions league\",\"laliga\",\"uefa champions league\",\"uefa super cup\",\"uefa super cup\",\"laliga\",\"laliga\",\"uefa champions league\",\"laliga\",\"laliga\",\"laliga\",\"laliga\",\"laliga\",\"laliga\",\"laliga\",\"laliga\",\"uefa champions league\",\"laliga\",\"laliga\",\"laliga\",\"laliga\",\"laliga\",\"uefa champions league\",\"laliga\",\"laliga\",\"laliga\",\"laliga\",\"laliga\",\"uefa champions league\",\"laliga\",\"laliga\",\"laliga\",\"uefa champions league\",\"laliga\",\"laliga\",\"laliga\",\"copa del rey\",\"laliga\",\"laliga\",\"uefa champions league\",\"laliga\",\"laliga\",\"uefa champions league\",\"uefa champions league\",\"laliga\",\"laliga\",\"laliga\",\"laliga\",\"laliga\",\"laliga\",\"laliga\",\"laliga\",\"laliga\",\"laliga\",\"laliga\",\"laliga\",\"uefa champions league\",\"uefa champions league\",\"laliga\",\"laliga\",\"laliga\",\"laliga\",\"laliga\",\"laliga\",\"laliga\",\"laliga\",\"laliga\",\"laliga\",\"laliga\",\"uefa champions league\",\"uefa champions league\",\"uefa champions league\",\"uefa champions league\",\"uefa champions league\",\"laliga\",\"laliga\",\"laliga\",\"uefa champions league\",\"uefa champions league\",\"laliga\",\"laliga\",\"uefa champions league\",\"uefa champions league\",\"uefa champions league\",\"uefa champions league\",\"laliga\",\"laliga\",\"laliga\",\"laliga\",\"laliga\",\"laliga\",\"laliga\",\"laliga\",\"laliga\",\"laliga\",\"laliga\",\"uefa champions league\",\"laliga\",\"laliga\",\"laliga\",\"laliga\",\"laliga\",\"laliga\",\"uefa champions league\",\"laliga\",\"laliga\",\"laliga\",\"uefa champions league\",\"uefa champions league\",\"uefa champions league\",\"laliga\",\"laliga\",\"laliga\",\"laliga\",\"laliga\",\"laliga\",\"uefa champions league\",\"uefa champions league\",\"laliga\",\"laliga\",\"laliga\",\"laliga\",\"laliga\",\"laliga\",\"laliga\",\"laliga\",\"laliga\",\"fifa club world cup\",\"fifa club world cup\",\"fifa club world cup\",\"fifa club world cup\",\"laliga\",\"laliga\",\"copa del rey\",\"laliga\",\"laliga\",\"laliga\",\"laliga\",\"laliga\",\"laliga\",\"laliga\",\"uefa champions league\",\"uefa champions league\",\"uefa champions league\",\"uefa champions league\",\"uefa champions league\",\"laliga\",\"uefa champions league\",\"uefa champions league\",\"uefa champions league\",\"laliga\",\"laliga\",\"laliga\",\"laliga\",\"laliga\",\"uefa champions league\",\"uefa champions league\",\"supercopa\",\"uefa champions league\",\"uefa champions league\",\"uefa champions league\",\"uefa champions league\",\"laliga\",\"uefa champions league\",\"uefa champions league\",\"uefa champions league\",\"uefa champions league\",\"laliga\",\"uefa champions league\",\"laliga\",\"laliga\",\"fifa club world cup\",\"fifa club world cup\",\"laliga\",\"laliga\",\"laliga\",\"laliga\",\"laliga\",\"laliga\",\"laliga\",\"uefa champions league\",\"uefa champions league\",\"laliga\",\"laliga\",\"laliga\",\"laliga\",\"laliga\",\"uefa champions league\",\"laliga\",\"laliga\",\"laliga\",\"laliga\",\"laliga\",\"laliga\",\"uefa champions league\",\"uefa champions league\",\"laliga\",\"uefa champions league\",\"laliga\",\"laliga\",\"laliga\"],\"xaxis\":\"x\",\"yaxis\":\"y\",\"type\":\"histogram\"},{\"alignmentgroup\":\"True\",\"bingroup\":\"x\",\"hovertemplate\":\"Club=juventus fc<br>Competition=%{x}<br>count=%{y}<extra></extra>\",\"legendgroup\":\"juventus fc\",\"marker\":{\"color\":\"#ab63fa\",\"pattern\":{\"shape\":\"\"}},\"name\":\"juventus fc\",\"offsetgroup\":\"juventus fc\",\"orientation\":\"v\",\"showlegend\":true,\"x\":[\"serie a\",\"serie a\",\"serie a\",\"serie a\",\"serie a\",\"serie a\",\"serie a\",\"uefa champions league\",\"serie a\",\"serie a\",\"serie a\",\"serie a\",\"serie a\",\"serie a\",\"serie a\",\"supercoppa italiana\",\"serie a\",\"serie a\",\"serie a\",\"serie a\",\"serie a\",\"uefa champions league\",\"uefa champions league\",\"uefa champions league\",\"uefa champions league\",\"uefa champions league\",\"serie a\",\"serie a\",\"serie a\",\"serie a\",\"serie a\",\"uefa champions league\",\"serie a\",\"serie a\",\"serie a\",\"serie a\",\"uefa champions league\",\"serie a\",\"serie a\",\"serie a\",\"serie a\",\"serie a\",\"serie a\",\"serie a\",\"serie a\",\"serie a\",\"italy cup\",\"serie a\",\"serie a\",\"serie a\",\"serie a\",\"italy cup\",\"serie a\",\"serie a\",\"serie a\",\"serie a\",\"serie a\",\"serie a\",\"serie a\",\"serie a\",\"serie a\",\"serie a\",\"serie a\",\"uefa champions league\",\"uefa champions league\",\"serie a\",\"serie a\",\"serie a\",\"serie a\",\"serie a\",\"serie a\",\"serie a\",\"serie a\",\"uefa champions league\",\"uefa champions league\",\"uefa champions league\",\"uefa champions league\",\"serie a\",\"serie a\",\"serie a\",\"serie a\",\"serie a\",\"serie a\",\"serie a\",\"supercoppa italiana\",\"italy cup\",\"italy cup\",\"serie a\",\"serie a\",\"serie a\",\"serie a\",\"serie a\",\"serie a\",\"serie a\",\"serie a\",\"serie a\",\"serie a\",\"serie a\",\"serie a\",\"serie a\",\"serie a\"],\"xaxis\":\"x\",\"yaxis\":\"y\",\"type\":\"histogram\"}],                        {\"template\":{\"data\":{\"histogram2dcontour\":[{\"type\":\"histogram2dcontour\",\"colorbar\":{\"outlinewidth\":0,\"ticks\":\"\"},\"colorscale\":[[0.0,\"#0d0887\"],[0.1111111111111111,\"#46039f\"],[0.2222222222222222,\"#7201a8\"],[0.3333333333333333,\"#9c179e\"],[0.4444444444444444,\"#bd3786\"],[0.5555555555555556,\"#d8576b\"],[0.6666666666666666,\"#ed7953\"],[0.7777777777777778,\"#fb9f3a\"],[0.8888888888888888,\"#fdca26\"],[1.0,\"#f0f921\"]]}],\"choropleth\":[{\"type\":\"choropleth\",\"colorbar\":{\"outlinewidth\":0,\"ticks\":\"\"}}],\"histogram2d\":[{\"type\":\"histogram2d\",\"colorbar\":{\"outlinewidth\":0,\"ticks\":\"\"},\"colorscale\":[[0.0,\"#0d0887\"],[0.1111111111111111,\"#46039f\"],[0.2222222222222222,\"#7201a8\"],[0.3333333333333333,\"#9c179e\"],[0.4444444444444444,\"#bd3786\"],[0.5555555555555556,\"#d8576b\"],[0.6666666666666666,\"#ed7953\"],[0.7777777777777778,\"#fb9f3a\"],[0.8888888888888888,\"#fdca26\"],[1.0,\"#f0f921\"]]}],\"heatmap\":[{\"type\":\"heatmap\",\"colorbar\":{\"outlinewidth\":0,\"ticks\":\"\"},\"colorscale\":[[0.0,\"#0d0887\"],[0.1111111111111111,\"#46039f\"],[0.2222222222222222,\"#7201a8\"],[0.3333333333333333,\"#9c179e\"],[0.4444444444444444,\"#bd3786\"],[0.5555555555555556,\"#d8576b\"],[0.6666666666666666,\"#ed7953\"],[0.7777777777777778,\"#fb9f3a\"],[0.8888888888888888,\"#fdca26\"],[1.0,\"#f0f921\"]]}],\"heatmapgl\":[{\"type\":\"heatmapgl\",\"colorbar\":{\"outlinewidth\":0,\"ticks\":\"\"},\"colorscale\":[[0.0,\"#0d0887\"],[0.1111111111111111,\"#46039f\"],[0.2222222222222222,\"#7201a8\"],[0.3333333333333333,\"#9c179e\"],[0.4444444444444444,\"#bd3786\"],[0.5555555555555556,\"#d8576b\"],[0.6666666666666666,\"#ed7953\"],[0.7777777777777778,\"#fb9f3a\"],[0.8888888888888888,\"#fdca26\"],[1.0,\"#f0f921\"]]}],\"contourcarpet\":[{\"type\":\"contourcarpet\",\"colorbar\":{\"outlinewidth\":0,\"ticks\":\"\"}}],\"contour\":[{\"type\":\"contour\",\"colorbar\":{\"outlinewidth\":0,\"ticks\":\"\"},\"colorscale\":[[0.0,\"#0d0887\"],[0.1111111111111111,\"#46039f\"],[0.2222222222222222,\"#7201a8\"],[0.3333333333333333,\"#9c179e\"],[0.4444444444444444,\"#bd3786\"],[0.5555555555555556,\"#d8576b\"],[0.6666666666666666,\"#ed7953\"],[0.7777777777777778,\"#fb9f3a\"],[0.8888888888888888,\"#fdca26\"],[1.0,\"#f0f921\"]]}],\"surface\":[{\"type\":\"surface\",\"colorbar\":{\"outlinewidth\":0,\"ticks\":\"\"},\"colorscale\":[[0.0,\"#0d0887\"],[0.1111111111111111,\"#46039f\"],[0.2222222222222222,\"#7201a8\"],[0.3333333333333333,\"#9c179e\"],[0.4444444444444444,\"#bd3786\"],[0.5555555555555556,\"#d8576b\"],[0.6666666666666666,\"#ed7953\"],[0.7777777777777778,\"#fb9f3a\"],[0.8888888888888888,\"#fdca26\"],[1.0,\"#f0f921\"]]}],\"mesh3d\":[{\"type\":\"mesh3d\",\"colorbar\":{\"outlinewidth\":0,\"ticks\":\"\"}}],\"scatter\":[{\"fillpattern\":{\"fillmode\":\"overlay\",\"size\":10,\"solidity\":0.2},\"type\":\"scatter\"}],\"parcoords\":[{\"type\":\"parcoords\",\"line\":{\"colorbar\":{\"outlinewidth\":0,\"ticks\":\"\"}}}],\"scatterpolargl\":[{\"type\":\"scatterpolargl\",\"marker\":{\"colorbar\":{\"outlinewidth\":0,\"ticks\":\"\"}}}],\"bar\":[{\"error_x\":{\"color\":\"#2a3f5f\"},\"error_y\":{\"color\":\"#2a3f5f\"},\"marker\":{\"line\":{\"color\":\"#E5ECF6\",\"width\":0.5},\"pattern\":{\"fillmode\":\"overlay\",\"size\":10,\"solidity\":0.2}},\"type\":\"bar\"}],\"scattergeo\":[{\"type\":\"scattergeo\",\"marker\":{\"colorbar\":{\"outlinewidth\":0,\"ticks\":\"\"}}}],\"scatterpolar\":[{\"type\":\"scatterpolar\",\"marker\":{\"colorbar\":{\"outlinewidth\":0,\"ticks\":\"\"}}}],\"histogram\":[{\"marker\":{\"pattern\":{\"fillmode\":\"overlay\",\"size\":10,\"solidity\":0.2}},\"type\":\"histogram\"}],\"scattergl\":[{\"type\":\"scattergl\",\"marker\":{\"colorbar\":{\"outlinewidth\":0,\"ticks\":\"\"}}}],\"scatter3d\":[{\"type\":\"scatter3d\",\"line\":{\"colorbar\":{\"outlinewidth\":0,\"ticks\":\"\"}},\"marker\":{\"colorbar\":{\"outlinewidth\":0,\"ticks\":\"\"}}}],\"scattermapbox\":[{\"type\":\"scattermapbox\",\"marker\":{\"colorbar\":{\"outlinewidth\":0,\"ticks\":\"\"}}}],\"scatterternary\":[{\"type\":\"scatterternary\",\"marker\":{\"colorbar\":{\"outlinewidth\":0,\"ticks\":\"\"}}}],\"scattercarpet\":[{\"type\":\"scattercarpet\",\"marker\":{\"colorbar\":{\"outlinewidth\":0,\"ticks\":\"\"}}}],\"carpet\":[{\"aaxis\":{\"endlinecolor\":\"#2a3f5f\",\"gridcolor\":\"white\",\"linecolor\":\"white\",\"minorgridcolor\":\"white\",\"startlinecolor\":\"#2a3f5f\"},\"baxis\":{\"endlinecolor\":\"#2a3f5f\",\"gridcolor\":\"white\",\"linecolor\":\"white\",\"minorgridcolor\":\"white\",\"startlinecolor\":\"#2a3f5f\"},\"type\":\"carpet\"}],\"table\":[{\"cells\":{\"fill\":{\"color\":\"#EBF0F8\"},\"line\":{\"color\":\"white\"}},\"header\":{\"fill\":{\"color\":\"#C8D4E3\"},\"line\":{\"color\":\"white\"}},\"type\":\"table\"}],\"barpolar\":[{\"marker\":{\"line\":{\"color\":\"#E5ECF6\",\"width\":0.5},\"pattern\":{\"fillmode\":\"overlay\",\"size\":10,\"solidity\":0.2}},\"type\":\"barpolar\"}],\"pie\":[{\"automargin\":true,\"type\":\"pie\"}]},\"layout\":{\"autotypenumbers\":\"strict\",\"colorway\":[\"#636efa\",\"#EF553B\",\"#00cc96\",\"#ab63fa\",\"#FFA15A\",\"#19d3f3\",\"#FF6692\",\"#B6E880\",\"#FF97FF\",\"#FECB52\"],\"font\":{\"color\":\"#2a3f5f\"},\"hovermode\":\"closest\",\"hoverlabel\":{\"align\":\"left\"},\"paper_bgcolor\":\"white\",\"plot_bgcolor\":\"#E5ECF6\",\"polar\":{\"bgcolor\":\"#E5ECF6\",\"angularaxis\":{\"gridcolor\":\"white\",\"linecolor\":\"white\",\"ticks\":\"\"},\"radialaxis\":{\"gridcolor\":\"white\",\"linecolor\":\"white\",\"ticks\":\"\"}},\"ternary\":{\"bgcolor\":\"#E5ECF6\",\"aaxis\":{\"gridcolor\":\"white\",\"linecolor\":\"white\",\"ticks\":\"\"},\"baxis\":{\"gridcolor\":\"white\",\"linecolor\":\"white\",\"ticks\":\"\"},\"caxis\":{\"gridcolor\":\"white\",\"linecolor\":\"white\",\"ticks\":\"\"}},\"coloraxis\":{\"colorbar\":{\"outlinewidth\":0,\"ticks\":\"\"}},\"colorscale\":{\"sequential\":[[0.0,\"#0d0887\"],[0.1111111111111111,\"#46039f\"],[0.2222222222222222,\"#7201a8\"],[0.3333333333333333,\"#9c179e\"],[0.4444444444444444,\"#bd3786\"],[0.5555555555555556,\"#d8576b\"],[0.6666666666666666,\"#ed7953\"],[0.7777777777777778,\"#fb9f3a\"],[0.8888888888888888,\"#fdca26\"],[1.0,\"#f0f921\"]],\"sequentialminus\":[[0.0,\"#0d0887\"],[0.1111111111111111,\"#46039f\"],[0.2222222222222222,\"#7201a8\"],[0.3333333333333333,\"#9c179e\"],[0.4444444444444444,\"#bd3786\"],[0.5555555555555556,\"#d8576b\"],[0.6666666666666666,\"#ed7953\"],[0.7777777777777778,\"#fb9f3a\"],[0.8888888888888888,\"#fdca26\"],[1.0,\"#f0f921\"]],\"diverging\":[[0,\"#8e0152\"],[0.1,\"#c51b7d\"],[0.2,\"#de77ae\"],[0.3,\"#f1b6da\"],[0.4,\"#fde0ef\"],[0.5,\"#f7f7f7\"],[0.6,\"#e6f5d0\"],[0.7,\"#b8e186\"],[0.8,\"#7fbc41\"],[0.9,\"#4d9221\"],[1,\"#276419\"]]},\"xaxis\":{\"gridcolor\":\"white\",\"linecolor\":\"white\",\"ticks\":\"\",\"title\":{\"standoff\":15},\"zerolinecolor\":\"white\",\"automargin\":true,\"zerolinewidth\":2},\"yaxis\":{\"gridcolor\":\"white\",\"linecolor\":\"white\",\"ticks\":\"\",\"title\":{\"standoff\":15},\"zerolinecolor\":\"white\",\"automargin\":true,\"zerolinewidth\":2},\"scene\":{\"xaxis\":{\"backgroundcolor\":\"#E5ECF6\",\"gridcolor\":\"white\",\"linecolor\":\"white\",\"showbackground\":true,\"ticks\":\"\",\"zerolinecolor\":\"white\",\"gridwidth\":2},\"yaxis\":{\"backgroundcolor\":\"#E5ECF6\",\"gridcolor\":\"white\",\"linecolor\":\"white\",\"showbackground\":true,\"ticks\":\"\",\"zerolinecolor\":\"white\",\"gridwidth\":2},\"zaxis\":{\"backgroundcolor\":\"#E5ECF6\",\"gridcolor\":\"white\",\"linecolor\":\"white\",\"showbackground\":true,\"ticks\":\"\",\"zerolinecolor\":\"white\",\"gridwidth\":2}},\"shapedefaults\":{\"line\":{\"color\":\"#2a3f5f\"}},\"annotationdefaults\":{\"arrowcolor\":\"#2a3f5f\",\"arrowhead\":0,\"arrowwidth\":1},\"geo\":{\"bgcolor\":\"white\",\"landcolor\":\"#E5ECF6\",\"subunitcolor\":\"white\",\"showland\":true,\"showlakes\":true,\"lakecolor\":\"white\"},\"title\":{\"x\":0.05},\"mapbox\":{\"style\":\"light\"}}},\"xaxis\":{\"anchor\":\"y\",\"domain\":[0.0,1.0],\"title\":{\"text\":\"Competition\"}},\"yaxis\":{\"anchor\":\"x\",\"domain\":[0.0,1.0],\"title\":{\"text\":\"count\"}},\"legend\":{\"title\":{\"text\":\"Club\"},\"tracegroupgap\":0},\"title\":{\"text\":\"Goals per competition\"},\"barmode\":\"relative\",\"height\":500},                        {\"responsive\": true}                    ).then(function(){\n",
       "                            \n",
       "var gd = document.getElementById('75b58c17-a7d5-4a76-b48a-1ffd5068959d');\n",
       "var x = new MutationObserver(function (mutations, observer) {{\n",
       "        var display = window.getComputedStyle(gd).display;\n",
       "        if (!display || display === 'none') {{\n",
       "            console.log([gd, 'removed!']);\n",
       "            Plotly.purge(gd);\n",
       "            observer.disconnect();\n",
       "        }}\n",
       "}});\n",
       "\n",
       "// Listen for the removal of the full notebook cells\n",
       "var notebookContainer = gd.closest('#notebook-container');\n",
       "if (notebookContainer) {{\n",
       "    x.observe(notebookContainer, {childList: true});\n",
       "}}\n",
       "\n",
       "// Listen for the clearing of the current output cell\n",
       "var outputEl = gd.closest('.output');\n",
       "if (outputEl) {{\n",
       "    x.observe(outputEl, {childList: true});\n",
       "}}\n",
       "\n",
       "                        })                };                });            </script>        </div>"
      ]
     },
     "metadata": {},
     "output_type": "display_data"
    }
   ],
   "source": [
    "px.histogram(\n",
    "    cr7_df,\n",
    "    x='Competition',\n",
    "    title=\"Goals per competition\",\n",
    "    log_x=False,\n",
    "    log_y=False,\n",
    "    #symbol='title',\n",
    "    #markers=True,\n",
    "    #width=800, \n",
    "    height=500,\n",
    "    color='Club',\n",
    "    hover_name='Club',\n",
    "    hover_data=['Competition','Club'])"
   ]
  },
  {
   "cell_type": "markdown",
   "id": "fd44819a",
   "metadata": {},
   "source": [
    "# Number of total career goals scored by team and year\n",
    "An examination of the total number of career goals by team and year shows that, by comparison, there are more goals per year during his tenure with Read Madrid, but similarly, it is clear that Ronaldo has consistently scored a goal every year for 20 years."
   ]
  },
  {
   "cell_type": "code",
   "execution_count": 236,
   "id": "9e2c8b9d",
   "metadata": {},
   "outputs": [
    {
     "data": {
      "application/vnd.plotly.v1+json": {
       "config": {
        "plotlyServerURL": "https://plot.ly"
       },
       "data": [
        {
         "alignmentgroup": "True",
         "bingroup": "x",
         "hovertemplate": "Season=2002<br>Club=%{x}<br>count=%{y}<extra></extra>",
         "legendgroup": "2002",
         "marker": {
          "color": "#636efa",
          "pattern": {
           "shape": ""
          }
         },
         "name": "2002",
         "offsetgroup": "2002",
         "orientation": "v",
         "showlegend": true,
         "type": "histogram",
         "x": [
          "sporting cp",
          "sporting cp",
          "sporting cp",
          "sporting cp",
          "sporting cp"
         ],
         "xaxis": "x",
         "yaxis": "y"
        },
        {
         "alignmentgroup": "True",
         "bingroup": "x",
         "hovertemplate": "Season=2003<br>Club=%{x}<br>count=%{y}<extra></extra>",
         "legendgroup": "2003",
         "marker": {
          "color": "#EF553B",
          "pattern": {
           "shape": ""
          }
         },
         "name": "2003",
         "offsetgroup": "2003",
         "orientation": "v",
         "showlegend": true,
         "type": "histogram",
         "x": [
          "manchester united",
          "manchester united",
          "manchester united",
          "manchester united",
          "manchester united",
          "manchester united"
         ],
         "xaxis": "x",
         "yaxis": "y"
        },
        {
         "alignmentgroup": "True",
         "bingroup": "x",
         "hovertemplate": "Season=2004<br>Club=%{x}<br>count=%{y}<extra></extra>",
         "legendgroup": "2004",
         "marker": {
          "color": "#00cc96",
          "pattern": {
           "shape": ""
          }
         },
         "name": "2004",
         "offsetgroup": "2004",
         "orientation": "v",
         "showlegend": true,
         "type": "histogram",
         "x": [
          "manchester united",
          "manchester united",
          "manchester united",
          "manchester united",
          "manchester united",
          "manchester united",
          "manchester united",
          "manchester united",
          "manchester united"
         ],
         "xaxis": "x",
         "yaxis": "y"
        },
        {
         "alignmentgroup": "True",
         "bingroup": "x",
         "hovertemplate": "Season=2005<br>Club=%{x}<br>count=%{y}<extra></extra>",
         "legendgroup": "2005",
         "marker": {
          "color": "#ab63fa",
          "pattern": {
           "shape": ""
          }
         },
         "name": "2005",
         "offsetgroup": "2005",
         "orientation": "v",
         "showlegend": true,
         "type": "histogram",
         "x": [
          "manchester united",
          "manchester united",
          "manchester united",
          "manchester united",
          "manchester united",
          "manchester united",
          "manchester united",
          "manchester united",
          "manchester united",
          "manchester united",
          "manchester united",
          "manchester united"
         ],
         "xaxis": "x",
         "yaxis": "y"
        },
        {
         "alignmentgroup": "True",
         "bingroup": "x",
         "hovertemplate": "Season=2006<br>Club=%{x}<br>count=%{y}<extra></extra>",
         "legendgroup": "2006",
         "marker": {
          "color": "#FFA15A",
          "pattern": {
           "shape": ""
          }
         },
         "name": "2006",
         "offsetgroup": "2006",
         "orientation": "v",
         "showlegend": true,
         "type": "histogram",
         "x": [
          "manchester united",
          "manchester united",
          "manchester united",
          "manchester united",
          "manchester united",
          "manchester united",
          "manchester united",
          "manchester united",
          "manchester united",
          "manchester united",
          "manchester united",
          "manchester united",
          "manchester united",
          "manchester united",
          "manchester united",
          "manchester united",
          "manchester united",
          "manchester united",
          "manchester united",
          "manchester united",
          "manchester united",
          "manchester united",
          "manchester united"
         ],
         "xaxis": "x",
         "yaxis": "y"
        },
        {
         "alignmentgroup": "True",
         "bingroup": "x",
         "hovertemplate": "Season=2007<br>Club=%{x}<br>count=%{y}<extra></extra>",
         "legendgroup": "2007",
         "marker": {
          "color": "#19d3f3",
          "pattern": {
           "shape": ""
          }
         },
         "name": "2007",
         "offsetgroup": "2007",
         "orientation": "v",
         "showlegend": true,
         "type": "histogram",
         "x": [
          "manchester united",
          "manchester united",
          "manchester united",
          "manchester united",
          "manchester united",
          "manchester united",
          "manchester united",
          "manchester united",
          "manchester united",
          "manchester united",
          "manchester united",
          "manchester united",
          "manchester united",
          "manchester united",
          "manchester united",
          "manchester united",
          "manchester united",
          "manchester united",
          "manchester united",
          "manchester united",
          "manchester united",
          "manchester united",
          "manchester united",
          "manchester united",
          "manchester united",
          "manchester united",
          "manchester united",
          "manchester united",
          "manchester united",
          "manchester united",
          "manchester united",
          "manchester united",
          "manchester united",
          "manchester united",
          "manchester united",
          "manchester united",
          "manchester united",
          "manchester united",
          "manchester united",
          "manchester united",
          "manchester united",
          "manchester united"
         ],
         "xaxis": "x",
         "yaxis": "y"
        },
        {
         "alignmentgroup": "True",
         "bingroup": "x",
         "hovertemplate": "Season=2008<br>Club=%{x}<br>count=%{y}<extra></extra>",
         "legendgroup": "2008",
         "marker": {
          "color": "#FF6692",
          "pattern": {
           "shape": ""
          }
         },
         "name": "2008",
         "offsetgroup": "2008",
         "orientation": "v",
         "showlegend": true,
         "type": "histogram",
         "x": [
          "manchester united",
          "manchester united",
          "manchester united",
          "manchester united",
          "manchester united",
          "manchester united",
          "manchester united",
          "manchester united",
          "manchester united",
          "manchester united",
          "manchester united",
          "manchester united",
          "manchester united",
          "manchester united",
          "manchester united",
          "manchester united",
          "manchester united",
          "manchester united",
          "manchester united",
          "manchester united",
          "manchester united",
          "manchester united",
          "manchester united",
          "manchester united",
          "manchester united",
          "manchester united"
         ],
         "xaxis": "x",
         "yaxis": "y"
        },
        {
         "alignmentgroup": "True",
         "bingroup": "x",
         "hovertemplate": "Season=2009<br>Club=%{x}<br>count=%{y}<extra></extra>",
         "legendgroup": "2009",
         "marker": {
          "color": "#B6E880",
          "pattern": {
           "shape": ""
          }
         },
         "name": "2009",
         "offsetgroup": "2009",
         "orientation": "v",
         "showlegend": true,
         "type": "histogram",
         "x": [
          "real madrid",
          "real madrid",
          "real madrid",
          "real madrid",
          "real madrid",
          "real madrid",
          "real madrid",
          "real madrid",
          "real madrid",
          "real madrid",
          "real madrid",
          "real madrid",
          "real madrid",
          "real madrid",
          "real madrid",
          "real madrid",
          "real madrid",
          "real madrid",
          "real madrid",
          "real madrid",
          "real madrid",
          "real madrid",
          "real madrid",
          "real madrid",
          "real madrid",
          "real madrid",
          "real madrid",
          "real madrid",
          "real madrid",
          "real madrid",
          "real madrid",
          "real madrid",
          "real madrid"
         ],
         "xaxis": "x",
         "yaxis": "y"
        },
        {
         "alignmentgroup": "True",
         "bingroup": "x",
         "hovertemplate": "Season=2010<br>Club=%{x}<br>count=%{y}<extra></extra>",
         "legendgroup": "2010",
         "marker": {
          "color": "#FF97FF",
          "pattern": {
           "shape": ""
          }
         },
         "name": "2010",
         "offsetgroup": "2010",
         "orientation": "v",
         "showlegend": true,
         "type": "histogram",
         "x": [
          "real madrid",
          "real madrid",
          "real madrid",
          "real madrid",
          "real madrid",
          "real madrid",
          "real madrid",
          "real madrid",
          "real madrid",
          "real madrid",
          "real madrid",
          "real madrid",
          "real madrid",
          "real madrid",
          "real madrid",
          "real madrid",
          "real madrid",
          "real madrid",
          "real madrid",
          "real madrid",
          "real madrid",
          "real madrid",
          "real madrid",
          "real madrid",
          "real madrid",
          "real madrid",
          "real madrid",
          "real madrid",
          "real madrid",
          "real madrid",
          "real madrid",
          "real madrid",
          "real madrid",
          "real madrid",
          "real madrid",
          "real madrid",
          "real madrid",
          "real madrid",
          "real madrid",
          "real madrid",
          "real madrid",
          "real madrid",
          "real madrid",
          "real madrid",
          "real madrid",
          "real madrid",
          "real madrid",
          "real madrid",
          "real madrid",
          "real madrid",
          "real madrid",
          "real madrid",
          "real madrid"
         ],
         "xaxis": "x",
         "yaxis": "y"
        },
        {
         "alignmentgroup": "True",
         "bingroup": "x",
         "hovertemplate": "Season=2011<br>Club=%{x}<br>count=%{y}<extra></extra>",
         "legendgroup": "2011",
         "marker": {
          "color": "#FECB52",
          "pattern": {
           "shape": ""
          }
         },
         "name": "2011",
         "offsetgroup": "2011",
         "orientation": "v",
         "showlegend": true,
         "type": "histogram",
         "x": [
          "real madrid",
          "real madrid",
          "real madrid",
          "real madrid",
          "real madrid",
          "real madrid",
          "real madrid",
          "real madrid",
          "real madrid",
          "real madrid",
          "real madrid",
          "real madrid",
          "real madrid",
          "real madrid",
          "real madrid",
          "real madrid",
          "real madrid",
          "real madrid",
          "real madrid",
          "real madrid",
          "real madrid",
          "real madrid",
          "real madrid",
          "real madrid",
          "real madrid",
          "real madrid",
          "real madrid",
          "real madrid",
          "real madrid",
          "real madrid",
          "real madrid",
          "real madrid",
          "real madrid",
          "real madrid",
          "real madrid",
          "real madrid",
          "real madrid",
          "real madrid",
          "real madrid",
          "real madrid",
          "real madrid",
          "real madrid",
          "real madrid",
          "real madrid",
          "real madrid",
          "real madrid",
          "real madrid",
          "real madrid",
          "real madrid",
          "real madrid",
          "real madrid",
          "real madrid",
          "real madrid",
          "real madrid",
          "real madrid",
          "real madrid",
          "real madrid",
          "real madrid",
          "real madrid",
          "real madrid"
         ],
         "xaxis": "x",
         "yaxis": "y"
        },
        {
         "alignmentgroup": "True",
         "bingroup": "x",
         "hovertemplate": "Season=2012<br>Club=%{x}<br>count=%{y}<extra></extra>",
         "legendgroup": "2012",
         "marker": {
          "color": "#636efa",
          "pattern": {
           "shape": ""
          }
         },
         "name": "2012",
         "offsetgroup": "2012",
         "orientation": "v",
         "showlegend": true,
         "type": "histogram",
         "x": [
          "real madrid",
          "real madrid",
          "real madrid",
          "real madrid",
          "real madrid",
          "real madrid",
          "real madrid",
          "real madrid",
          "real madrid",
          "real madrid",
          "real madrid",
          "real madrid",
          "real madrid",
          "real madrid",
          "real madrid",
          "real madrid",
          "real madrid",
          "real madrid",
          "real madrid",
          "real madrid",
          "real madrid",
          "real madrid",
          "real madrid",
          "real madrid",
          "real madrid",
          "real madrid",
          "real madrid",
          "real madrid",
          "real madrid",
          "real madrid",
          "real madrid",
          "real madrid",
          "real madrid",
          "real madrid",
          "real madrid",
          "real madrid",
          "real madrid",
          "real madrid",
          "real madrid",
          "real madrid",
          "real madrid",
          "real madrid",
          "real madrid",
          "real madrid",
          "real madrid",
          "real madrid",
          "real madrid",
          "real madrid",
          "real madrid",
          "real madrid",
          "real madrid",
          "real madrid",
          "real madrid",
          "real madrid",
          "real madrid"
         ],
         "xaxis": "x",
         "yaxis": "y"
        },
        {
         "alignmentgroup": "True",
         "bingroup": "x",
         "hovertemplate": "Season=2013<br>Club=%{x}<br>count=%{y}<extra></extra>",
         "legendgroup": "2013",
         "marker": {
          "color": "#EF553B",
          "pattern": {
           "shape": ""
          }
         },
         "name": "2013",
         "offsetgroup": "2013",
         "orientation": "v",
         "showlegend": true,
         "type": "histogram",
         "x": [
          "real madrid",
          "real madrid",
          "real madrid",
          "real madrid",
          "real madrid",
          "real madrid",
          "real madrid",
          "real madrid",
          "real madrid",
          "real madrid",
          "real madrid",
          "real madrid",
          "real madrid",
          "real madrid",
          "real madrid",
          "real madrid",
          "real madrid",
          "real madrid",
          "real madrid",
          "real madrid",
          "real madrid",
          "real madrid",
          "real madrid",
          "real madrid",
          "real madrid",
          "real madrid",
          "real madrid",
          "real madrid",
          "real madrid",
          "real madrid",
          "real madrid",
          "real madrid",
          "real madrid",
          "real madrid",
          "real madrid",
          "real madrid",
          "real madrid",
          "real madrid",
          "real madrid",
          "real madrid",
          "real madrid",
          "real madrid",
          "real madrid",
          "real madrid",
          "real madrid",
          "real madrid",
          "real madrid",
          "real madrid",
          "real madrid",
          "real madrid",
          "real madrid"
         ],
         "xaxis": "x",
         "yaxis": "y"
        },
        {
         "alignmentgroup": "True",
         "bingroup": "x",
         "hovertemplate": "Season=2014<br>Club=%{x}<br>count=%{y}<extra></extra>",
         "legendgroup": "2014",
         "marker": {
          "color": "#00cc96",
          "pattern": {
           "shape": ""
          }
         },
         "name": "2014",
         "offsetgroup": "2014",
         "orientation": "v",
         "showlegend": true,
         "type": "histogram",
         "x": [
          "real madrid",
          "real madrid",
          "real madrid",
          "real madrid",
          "real madrid",
          "real madrid",
          "real madrid",
          "real madrid",
          "real madrid",
          "real madrid",
          "real madrid",
          "real madrid",
          "real madrid",
          "real madrid",
          "real madrid",
          "real madrid",
          "real madrid",
          "real madrid",
          "real madrid",
          "real madrid",
          "real madrid",
          "real madrid",
          "real madrid",
          "real madrid",
          "real madrid",
          "real madrid",
          "real madrid",
          "real madrid",
          "real madrid",
          "real madrid",
          "real madrid",
          "real madrid",
          "real madrid",
          "real madrid",
          "real madrid",
          "real madrid",
          "real madrid",
          "real madrid",
          "real madrid",
          "real madrid",
          "real madrid",
          "real madrid",
          "real madrid",
          "real madrid",
          "real madrid",
          "real madrid",
          "real madrid",
          "real madrid",
          "real madrid",
          "real madrid",
          "real madrid",
          "real madrid",
          "real madrid",
          "real madrid",
          "real madrid",
          "real madrid",
          "real madrid",
          "real madrid",
          "real madrid",
          "real madrid",
          "real madrid"
         ],
         "xaxis": "x",
         "yaxis": "y"
        },
        {
         "alignmentgroup": "True",
         "bingroup": "x",
         "hovertemplate": "Season=2015<br>Club=%{x}<br>count=%{y}<extra></extra>",
         "legendgroup": "2015",
         "marker": {
          "color": "#ab63fa",
          "pattern": {
           "shape": ""
          }
         },
         "name": "2015",
         "offsetgroup": "2015",
         "orientation": "v",
         "showlegend": true,
         "type": "histogram",
         "x": [
          "real madrid",
          "real madrid",
          "real madrid",
          "real madrid",
          "real madrid",
          "real madrid",
          "real madrid",
          "real madrid",
          "real madrid",
          "real madrid",
          "real madrid",
          "real madrid",
          "real madrid",
          "real madrid",
          "real madrid",
          "real madrid",
          "real madrid",
          "real madrid",
          "real madrid",
          "real madrid",
          "real madrid",
          "real madrid",
          "real madrid",
          "real madrid",
          "real madrid",
          "real madrid",
          "real madrid",
          "real madrid",
          "real madrid",
          "real madrid",
          "real madrid",
          "real madrid",
          "real madrid",
          "real madrid",
          "real madrid",
          "real madrid",
          "real madrid",
          "real madrid",
          "real madrid",
          "real madrid",
          "real madrid",
          "real madrid",
          "real madrid",
          "real madrid",
          "real madrid",
          "real madrid",
          "real madrid",
          "real madrid",
          "real madrid",
          "real madrid",
          "real madrid"
         ],
         "xaxis": "x",
         "yaxis": "y"
        },
        {
         "alignmentgroup": "True",
         "bingroup": "x",
         "hovertemplate": "Season=2016<br>Club=%{x}<br>count=%{y}<extra></extra>",
         "legendgroup": "2016",
         "marker": {
          "color": "#FFA15A",
          "pattern": {
           "shape": ""
          }
         },
         "name": "2016",
         "offsetgroup": "2016",
         "orientation": "v",
         "showlegend": true,
         "type": "histogram",
         "x": [
          "real madrid",
          "real madrid",
          "real madrid",
          "real madrid",
          "real madrid",
          "real madrid",
          "real madrid",
          "real madrid",
          "real madrid",
          "real madrid",
          "real madrid",
          "real madrid",
          "real madrid",
          "real madrid",
          "real madrid",
          "real madrid",
          "real madrid",
          "real madrid",
          "real madrid",
          "real madrid",
          "real madrid",
          "real madrid",
          "real madrid",
          "real madrid",
          "real madrid",
          "real madrid",
          "real madrid",
          "real madrid",
          "real madrid",
          "real madrid",
          "real madrid",
          "real madrid",
          "real madrid",
          "real madrid",
          "real madrid",
          "real madrid",
          "real madrid",
          "real madrid",
          "real madrid",
          "real madrid",
          "real madrid",
          "real madrid"
         ],
         "xaxis": "x",
         "yaxis": "y"
        },
        {
         "alignmentgroup": "True",
         "bingroup": "x",
         "hovertemplate": "Season=2017<br>Club=%{x}<br>count=%{y}<extra></extra>",
         "legendgroup": "2017",
         "marker": {
          "color": "#19d3f3",
          "pattern": {
           "shape": ""
          }
         },
         "name": "2017",
         "offsetgroup": "2017",
         "orientation": "v",
         "showlegend": true,
         "type": "histogram",
         "x": [
          "real madrid",
          "real madrid",
          "real madrid",
          "real madrid",
          "real madrid",
          "real madrid",
          "real madrid",
          "real madrid",
          "real madrid",
          "real madrid",
          "real madrid",
          "real madrid",
          "real madrid",
          "real madrid",
          "real madrid",
          "real madrid",
          "real madrid",
          "real madrid",
          "real madrid",
          "real madrid",
          "real madrid",
          "real madrid",
          "real madrid",
          "real madrid",
          "real madrid",
          "real madrid",
          "real madrid",
          "real madrid",
          "real madrid",
          "real madrid",
          "real madrid",
          "real madrid",
          "real madrid",
          "real madrid",
          "real madrid",
          "real madrid",
          "real madrid",
          "real madrid",
          "real madrid",
          "real madrid",
          "real madrid",
          "real madrid",
          "real madrid",
          "real madrid"
         ],
         "xaxis": "x",
         "yaxis": "y"
        },
        {
         "alignmentgroup": "True",
         "bingroup": "x",
         "hovertemplate": "Season=2018<br>Club=%{x}<br>count=%{y}<extra></extra>",
         "legendgroup": "2018",
         "marker": {
          "color": "#FF6692",
          "pattern": {
           "shape": ""
          }
         },
         "name": "2018",
         "offsetgroup": "2018",
         "orientation": "v",
         "showlegend": true,
         "type": "histogram",
         "x": [
          "juventus fc",
          "juventus fc",
          "juventus fc",
          "juventus fc",
          "juventus fc",
          "juventus fc",
          "juventus fc",
          "juventus fc",
          "juventus fc",
          "juventus fc",
          "juventus fc",
          "juventus fc",
          "juventus fc",
          "juventus fc",
          "juventus fc",
          "juventus fc",
          "juventus fc",
          "juventus fc",
          "juventus fc",
          "juventus fc",
          "juventus fc",
          "juventus fc",
          "juventus fc",
          "juventus fc",
          "juventus fc",
          "juventus fc",
          "juventus fc",
          "juventus fc"
         ],
         "xaxis": "x",
         "yaxis": "y"
        },
        {
         "alignmentgroup": "True",
         "bingroup": "x",
         "hovertemplate": "Season=2019<br>Club=%{x}<br>count=%{y}<extra></extra>",
         "legendgroup": "2019",
         "marker": {
          "color": "#B6E880",
          "pattern": {
           "shape": ""
          }
         },
         "name": "2019",
         "offsetgroup": "2019",
         "orientation": "v",
         "showlegend": true,
         "type": "histogram",
         "x": [
          "juventus fc",
          "juventus fc",
          "juventus fc",
          "juventus fc",
          "juventus fc",
          "juventus fc",
          "juventus fc",
          "juventus fc",
          "juventus fc",
          "juventus fc",
          "juventus fc",
          "juventus fc",
          "juventus fc",
          "juventus fc",
          "juventus fc",
          "juventus fc",
          "juventus fc",
          "juventus fc",
          "juventus fc",
          "juventus fc",
          "juventus fc",
          "juventus fc",
          "juventus fc",
          "juventus fc",
          "juventus fc",
          "juventus fc",
          "juventus fc",
          "juventus fc",
          "juventus fc",
          "juventus fc",
          "juventus fc",
          "juventus fc",
          "juventus fc",
          "juventus fc",
          "juventus fc",
          "juventus fc",
          "juventus fc"
         ],
         "xaxis": "x",
         "yaxis": "y"
        },
        {
         "alignmentgroup": "True",
         "bingroup": "x",
         "hovertemplate": "Season=2020<br>Club=%{x}<br>count=%{y}<extra></extra>",
         "legendgroup": "2020",
         "marker": {
          "color": "#FF97FF",
          "pattern": {
           "shape": ""
          }
         },
         "name": "2020",
         "offsetgroup": "2020",
         "orientation": "v",
         "showlegend": true,
         "type": "histogram",
         "x": [
          "juventus fc",
          "juventus fc",
          "juventus fc",
          "juventus fc",
          "juventus fc",
          "juventus fc",
          "juventus fc",
          "juventus fc",
          "juventus fc",
          "juventus fc",
          "juventus fc",
          "juventus fc",
          "juventus fc",
          "juventus fc",
          "juventus fc",
          "juventus fc",
          "juventus fc",
          "juventus fc",
          "juventus fc",
          "juventus fc",
          "juventus fc",
          "juventus fc",
          "juventus fc",
          "juventus fc",
          "juventus fc",
          "juventus fc",
          "juventus fc",
          "juventus fc",
          "juventus fc",
          "juventus fc",
          "juventus fc",
          "juventus fc",
          "juventus fc",
          "juventus fc",
          "juventus fc",
          "juventus fc"
         ],
         "xaxis": "x",
         "yaxis": "y"
        },
        {
         "alignmentgroup": "True",
         "bingroup": "x",
         "hovertemplate": "Season=2021<br>Club=%{x}<br>count=%{y}<extra></extra>",
         "legendgroup": "2021",
         "marker": {
          "color": "#FECB52",
          "pattern": {
           "shape": ""
          }
         },
         "name": "2021",
         "offsetgroup": "2021",
         "orientation": "v",
         "showlegend": true,
         "type": "histogram",
         "x": [
          "manchester united",
          "manchester united",
          "manchester united",
          "manchester united",
          "manchester united",
          "manchester united",
          "manchester united",
          "manchester united",
          "manchester united",
          "manchester united",
          "manchester united",
          "manchester united",
          "manchester united",
          "manchester united",
          "manchester united",
          "manchester united",
          "manchester united",
          "manchester united",
          "manchester united",
          "manchester united",
          "manchester united",
          "manchester united",
          "manchester united",
          "manchester united"
         ],
         "xaxis": "x",
         "yaxis": "y"
        },
        {
         "alignmentgroup": "True",
         "bingroup": "x",
         "hovertemplate": "Season=2022<br>Club=%{x}<br>count=%{y}<extra></extra>",
         "legendgroup": "2022",
         "marker": {
          "color": "#636efa",
          "pattern": {
           "shape": ""
          }
         },
         "name": "2022",
         "offsetgroup": "2022",
         "orientation": "v",
         "showlegend": true,
         "type": "histogram",
         "x": [
          "manchester united",
          "manchester united",
          "manchester united"
         ],
         "xaxis": "x",
         "yaxis": "y"
        }
       ],
       "layout": {
        "barmode": "relative",
        "height": 500,
        "legend": {
         "title": {
          "text": "Season"
         },
         "tracegroupgap": 0
        },
        "template": {
         "data": {
          "bar": [
           {
            "error_x": {
             "color": "#2a3f5f"
            },
            "error_y": {
             "color": "#2a3f5f"
            },
            "marker": {
             "line": {
              "color": "#E5ECF6",
              "width": 0.5
             },
             "pattern": {
              "fillmode": "overlay",
              "size": 10,
              "solidity": 0.2
             }
            },
            "type": "bar"
           }
          ],
          "barpolar": [
           {
            "marker": {
             "line": {
              "color": "#E5ECF6",
              "width": 0.5
             },
             "pattern": {
              "fillmode": "overlay",
              "size": 10,
              "solidity": 0.2
             }
            },
            "type": "barpolar"
           }
          ],
          "carpet": [
           {
            "aaxis": {
             "endlinecolor": "#2a3f5f",
             "gridcolor": "white",
             "linecolor": "white",
             "minorgridcolor": "white",
             "startlinecolor": "#2a3f5f"
            },
            "baxis": {
             "endlinecolor": "#2a3f5f",
             "gridcolor": "white",
             "linecolor": "white",
             "minorgridcolor": "white",
             "startlinecolor": "#2a3f5f"
            },
            "type": "carpet"
           }
          ],
          "choropleth": [
           {
            "colorbar": {
             "outlinewidth": 0,
             "ticks": ""
            },
            "type": "choropleth"
           }
          ],
          "contour": [
           {
            "colorbar": {
             "outlinewidth": 0,
             "ticks": ""
            },
            "colorscale": [
             [
              0,
              "#0d0887"
             ],
             [
              0.1111111111111111,
              "#46039f"
             ],
             [
              0.2222222222222222,
              "#7201a8"
             ],
             [
              0.3333333333333333,
              "#9c179e"
             ],
             [
              0.4444444444444444,
              "#bd3786"
             ],
             [
              0.5555555555555556,
              "#d8576b"
             ],
             [
              0.6666666666666666,
              "#ed7953"
             ],
             [
              0.7777777777777778,
              "#fb9f3a"
             ],
             [
              0.8888888888888888,
              "#fdca26"
             ],
             [
              1,
              "#f0f921"
             ]
            ],
            "type": "contour"
           }
          ],
          "contourcarpet": [
           {
            "colorbar": {
             "outlinewidth": 0,
             "ticks": ""
            },
            "type": "contourcarpet"
           }
          ],
          "heatmap": [
           {
            "colorbar": {
             "outlinewidth": 0,
             "ticks": ""
            },
            "colorscale": [
             [
              0,
              "#0d0887"
             ],
             [
              0.1111111111111111,
              "#46039f"
             ],
             [
              0.2222222222222222,
              "#7201a8"
             ],
             [
              0.3333333333333333,
              "#9c179e"
             ],
             [
              0.4444444444444444,
              "#bd3786"
             ],
             [
              0.5555555555555556,
              "#d8576b"
             ],
             [
              0.6666666666666666,
              "#ed7953"
             ],
             [
              0.7777777777777778,
              "#fb9f3a"
             ],
             [
              0.8888888888888888,
              "#fdca26"
             ],
             [
              1,
              "#f0f921"
             ]
            ],
            "type": "heatmap"
           }
          ],
          "heatmapgl": [
           {
            "colorbar": {
             "outlinewidth": 0,
             "ticks": ""
            },
            "colorscale": [
             [
              0,
              "#0d0887"
             ],
             [
              0.1111111111111111,
              "#46039f"
             ],
             [
              0.2222222222222222,
              "#7201a8"
             ],
             [
              0.3333333333333333,
              "#9c179e"
             ],
             [
              0.4444444444444444,
              "#bd3786"
             ],
             [
              0.5555555555555556,
              "#d8576b"
             ],
             [
              0.6666666666666666,
              "#ed7953"
             ],
             [
              0.7777777777777778,
              "#fb9f3a"
             ],
             [
              0.8888888888888888,
              "#fdca26"
             ],
             [
              1,
              "#f0f921"
             ]
            ],
            "type": "heatmapgl"
           }
          ],
          "histogram": [
           {
            "marker": {
             "pattern": {
              "fillmode": "overlay",
              "size": 10,
              "solidity": 0.2
             }
            },
            "type": "histogram"
           }
          ],
          "histogram2d": [
           {
            "colorbar": {
             "outlinewidth": 0,
             "ticks": ""
            },
            "colorscale": [
             [
              0,
              "#0d0887"
             ],
             [
              0.1111111111111111,
              "#46039f"
             ],
             [
              0.2222222222222222,
              "#7201a8"
             ],
             [
              0.3333333333333333,
              "#9c179e"
             ],
             [
              0.4444444444444444,
              "#bd3786"
             ],
             [
              0.5555555555555556,
              "#d8576b"
             ],
             [
              0.6666666666666666,
              "#ed7953"
             ],
             [
              0.7777777777777778,
              "#fb9f3a"
             ],
             [
              0.8888888888888888,
              "#fdca26"
             ],
             [
              1,
              "#f0f921"
             ]
            ],
            "type": "histogram2d"
           }
          ],
          "histogram2dcontour": [
           {
            "colorbar": {
             "outlinewidth": 0,
             "ticks": ""
            },
            "colorscale": [
             [
              0,
              "#0d0887"
             ],
             [
              0.1111111111111111,
              "#46039f"
             ],
             [
              0.2222222222222222,
              "#7201a8"
             ],
             [
              0.3333333333333333,
              "#9c179e"
             ],
             [
              0.4444444444444444,
              "#bd3786"
             ],
             [
              0.5555555555555556,
              "#d8576b"
             ],
             [
              0.6666666666666666,
              "#ed7953"
             ],
             [
              0.7777777777777778,
              "#fb9f3a"
             ],
             [
              0.8888888888888888,
              "#fdca26"
             ],
             [
              1,
              "#f0f921"
             ]
            ],
            "type": "histogram2dcontour"
           }
          ],
          "mesh3d": [
           {
            "colorbar": {
             "outlinewidth": 0,
             "ticks": ""
            },
            "type": "mesh3d"
           }
          ],
          "parcoords": [
           {
            "line": {
             "colorbar": {
              "outlinewidth": 0,
              "ticks": ""
             }
            },
            "type": "parcoords"
           }
          ],
          "pie": [
           {
            "automargin": true,
            "type": "pie"
           }
          ],
          "scatter": [
           {
            "fillpattern": {
             "fillmode": "overlay",
             "size": 10,
             "solidity": 0.2
            },
            "type": "scatter"
           }
          ],
          "scatter3d": [
           {
            "line": {
             "colorbar": {
              "outlinewidth": 0,
              "ticks": ""
             }
            },
            "marker": {
             "colorbar": {
              "outlinewidth": 0,
              "ticks": ""
             }
            },
            "type": "scatter3d"
           }
          ],
          "scattercarpet": [
           {
            "marker": {
             "colorbar": {
              "outlinewidth": 0,
              "ticks": ""
             }
            },
            "type": "scattercarpet"
           }
          ],
          "scattergeo": [
           {
            "marker": {
             "colorbar": {
              "outlinewidth": 0,
              "ticks": ""
             }
            },
            "type": "scattergeo"
           }
          ],
          "scattergl": [
           {
            "marker": {
             "colorbar": {
              "outlinewidth": 0,
              "ticks": ""
             }
            },
            "type": "scattergl"
           }
          ],
          "scattermapbox": [
           {
            "marker": {
             "colorbar": {
              "outlinewidth": 0,
              "ticks": ""
             }
            },
            "type": "scattermapbox"
           }
          ],
          "scatterpolar": [
           {
            "marker": {
             "colorbar": {
              "outlinewidth": 0,
              "ticks": ""
             }
            },
            "type": "scatterpolar"
           }
          ],
          "scatterpolargl": [
           {
            "marker": {
             "colorbar": {
              "outlinewidth": 0,
              "ticks": ""
             }
            },
            "type": "scatterpolargl"
           }
          ],
          "scatterternary": [
           {
            "marker": {
             "colorbar": {
              "outlinewidth": 0,
              "ticks": ""
             }
            },
            "type": "scatterternary"
           }
          ],
          "surface": [
           {
            "colorbar": {
             "outlinewidth": 0,
             "ticks": ""
            },
            "colorscale": [
             [
              0,
              "#0d0887"
             ],
             [
              0.1111111111111111,
              "#46039f"
             ],
             [
              0.2222222222222222,
              "#7201a8"
             ],
             [
              0.3333333333333333,
              "#9c179e"
             ],
             [
              0.4444444444444444,
              "#bd3786"
             ],
             [
              0.5555555555555556,
              "#d8576b"
             ],
             [
              0.6666666666666666,
              "#ed7953"
             ],
             [
              0.7777777777777778,
              "#fb9f3a"
             ],
             [
              0.8888888888888888,
              "#fdca26"
             ],
             [
              1,
              "#f0f921"
             ]
            ],
            "type": "surface"
           }
          ],
          "table": [
           {
            "cells": {
             "fill": {
              "color": "#EBF0F8"
             },
             "line": {
              "color": "white"
             }
            },
            "header": {
             "fill": {
              "color": "#C8D4E3"
             },
             "line": {
              "color": "white"
             }
            },
            "type": "table"
           }
          ]
         },
         "layout": {
          "annotationdefaults": {
           "arrowcolor": "#2a3f5f",
           "arrowhead": 0,
           "arrowwidth": 1
          },
          "autotypenumbers": "strict",
          "coloraxis": {
           "colorbar": {
            "outlinewidth": 0,
            "ticks": ""
           }
          },
          "colorscale": {
           "diverging": [
            [
             0,
             "#8e0152"
            ],
            [
             0.1,
             "#c51b7d"
            ],
            [
             0.2,
             "#de77ae"
            ],
            [
             0.3,
             "#f1b6da"
            ],
            [
             0.4,
             "#fde0ef"
            ],
            [
             0.5,
             "#f7f7f7"
            ],
            [
             0.6,
             "#e6f5d0"
            ],
            [
             0.7,
             "#b8e186"
            ],
            [
             0.8,
             "#7fbc41"
            ],
            [
             0.9,
             "#4d9221"
            ],
            [
             1,
             "#276419"
            ]
           ],
           "sequential": [
            [
             0,
             "#0d0887"
            ],
            [
             0.1111111111111111,
             "#46039f"
            ],
            [
             0.2222222222222222,
             "#7201a8"
            ],
            [
             0.3333333333333333,
             "#9c179e"
            ],
            [
             0.4444444444444444,
             "#bd3786"
            ],
            [
             0.5555555555555556,
             "#d8576b"
            ],
            [
             0.6666666666666666,
             "#ed7953"
            ],
            [
             0.7777777777777778,
             "#fb9f3a"
            ],
            [
             0.8888888888888888,
             "#fdca26"
            ],
            [
             1,
             "#f0f921"
            ]
           ],
           "sequentialminus": [
            [
             0,
             "#0d0887"
            ],
            [
             0.1111111111111111,
             "#46039f"
            ],
            [
             0.2222222222222222,
             "#7201a8"
            ],
            [
             0.3333333333333333,
             "#9c179e"
            ],
            [
             0.4444444444444444,
             "#bd3786"
            ],
            [
             0.5555555555555556,
             "#d8576b"
            ],
            [
             0.6666666666666666,
             "#ed7953"
            ],
            [
             0.7777777777777778,
             "#fb9f3a"
            ],
            [
             0.8888888888888888,
             "#fdca26"
            ],
            [
             1,
             "#f0f921"
            ]
           ]
          },
          "colorway": [
           "#636efa",
           "#EF553B",
           "#00cc96",
           "#ab63fa",
           "#FFA15A",
           "#19d3f3",
           "#FF6692",
           "#B6E880",
           "#FF97FF",
           "#FECB52"
          ],
          "font": {
           "color": "#2a3f5f"
          },
          "geo": {
           "bgcolor": "white",
           "lakecolor": "white",
           "landcolor": "#E5ECF6",
           "showlakes": true,
           "showland": true,
           "subunitcolor": "white"
          },
          "hoverlabel": {
           "align": "left"
          },
          "hovermode": "closest",
          "mapbox": {
           "style": "light"
          },
          "paper_bgcolor": "white",
          "plot_bgcolor": "#E5ECF6",
          "polar": {
           "angularaxis": {
            "gridcolor": "white",
            "linecolor": "white",
            "ticks": ""
           },
           "bgcolor": "#E5ECF6",
           "radialaxis": {
            "gridcolor": "white",
            "linecolor": "white",
            "ticks": ""
           }
          },
          "scene": {
           "xaxis": {
            "backgroundcolor": "#E5ECF6",
            "gridcolor": "white",
            "gridwidth": 2,
            "linecolor": "white",
            "showbackground": true,
            "ticks": "",
            "zerolinecolor": "white"
           },
           "yaxis": {
            "backgroundcolor": "#E5ECF6",
            "gridcolor": "white",
            "gridwidth": 2,
            "linecolor": "white",
            "showbackground": true,
            "ticks": "",
            "zerolinecolor": "white"
           },
           "zaxis": {
            "backgroundcolor": "#E5ECF6",
            "gridcolor": "white",
            "gridwidth": 2,
            "linecolor": "white",
            "showbackground": true,
            "ticks": "",
            "zerolinecolor": "white"
           }
          },
          "shapedefaults": {
           "line": {
            "color": "#2a3f5f"
           }
          },
          "ternary": {
           "aaxis": {
            "gridcolor": "white",
            "linecolor": "white",
            "ticks": ""
           },
           "baxis": {
            "gridcolor": "white",
            "linecolor": "white",
            "ticks": ""
           },
           "bgcolor": "#E5ECF6",
           "caxis": {
            "gridcolor": "white",
            "linecolor": "white",
            "ticks": ""
           }
          },
          "title": {
           "x": 0.05
          },
          "xaxis": {
           "automargin": true,
           "gridcolor": "white",
           "linecolor": "white",
           "ticks": "",
           "title": {
            "standoff": 15
           },
           "zerolinecolor": "white",
           "zerolinewidth": 2
          },
          "yaxis": {
           "automargin": true,
           "gridcolor": "white",
           "linecolor": "white",
           "ticks": "",
           "title": {
            "standoff": 15
           },
           "zerolinecolor": "white",
           "zerolinewidth": 2
          }
         }
        },
        "title": {
         "text": "Goals per Clubs - Seasons"
        },
        "xaxis": {
         "anchor": "y",
         "domain": [
          0,
          1
         ],
         "title": {
          "text": "Club"
         }
        },
        "yaxis": {
         "anchor": "x",
         "domain": [
          0,
          1
         ],
         "title": {
          "text": "count"
         }
        }
       }
      },
      "text/html": [
       "<div>                            <div id=\"6038997d-0d3e-4ba2-a9ed-50c7a9dcd063\" class=\"plotly-graph-div\" style=\"height:500px; width:100%;\"></div>            <script type=\"text/javascript\">                require([\"plotly\"], function(Plotly) {                    window.PLOTLYENV=window.PLOTLYENV || {};                                    if (document.getElementById(\"6038997d-0d3e-4ba2-a9ed-50c7a9dcd063\")) {                    Plotly.newPlot(                        \"6038997d-0d3e-4ba2-a9ed-50c7a9dcd063\",                        [{\"alignmentgroup\":\"True\",\"bingroup\":\"x\",\"hovertemplate\":\"Season=2002<br>Club=%{x}<br>count=%{y}<extra></extra>\",\"legendgroup\":\"2002\",\"marker\":{\"color\":\"#636efa\",\"pattern\":{\"shape\":\"\"}},\"name\":\"2002\",\"offsetgroup\":\"2002\",\"orientation\":\"v\",\"showlegend\":true,\"x\":[\"sporting cp\",\"sporting cp\",\"sporting cp\",\"sporting cp\",\"sporting cp\"],\"xaxis\":\"x\",\"yaxis\":\"y\",\"type\":\"histogram\"},{\"alignmentgroup\":\"True\",\"bingroup\":\"x\",\"hovertemplate\":\"Season=2003<br>Club=%{x}<br>count=%{y}<extra></extra>\",\"legendgroup\":\"2003\",\"marker\":{\"color\":\"#EF553B\",\"pattern\":{\"shape\":\"\"}},\"name\":\"2003\",\"offsetgroup\":\"2003\",\"orientation\":\"v\",\"showlegend\":true,\"x\":[\"manchester united\",\"manchester united\",\"manchester united\",\"manchester united\",\"manchester united\",\"manchester united\"],\"xaxis\":\"x\",\"yaxis\":\"y\",\"type\":\"histogram\"},{\"alignmentgroup\":\"True\",\"bingroup\":\"x\",\"hovertemplate\":\"Season=2004<br>Club=%{x}<br>count=%{y}<extra></extra>\",\"legendgroup\":\"2004\",\"marker\":{\"color\":\"#00cc96\",\"pattern\":{\"shape\":\"\"}},\"name\":\"2004\",\"offsetgroup\":\"2004\",\"orientation\":\"v\",\"showlegend\":true,\"x\":[\"manchester united\",\"manchester united\",\"manchester united\",\"manchester united\",\"manchester united\",\"manchester united\",\"manchester united\",\"manchester united\",\"manchester united\"],\"xaxis\":\"x\",\"yaxis\":\"y\",\"type\":\"histogram\"},{\"alignmentgroup\":\"True\",\"bingroup\":\"x\",\"hovertemplate\":\"Season=2005<br>Club=%{x}<br>count=%{y}<extra></extra>\",\"legendgroup\":\"2005\",\"marker\":{\"color\":\"#ab63fa\",\"pattern\":{\"shape\":\"\"}},\"name\":\"2005\",\"offsetgroup\":\"2005\",\"orientation\":\"v\",\"showlegend\":true,\"x\":[\"manchester united\",\"manchester united\",\"manchester united\",\"manchester united\",\"manchester united\",\"manchester united\",\"manchester united\",\"manchester united\",\"manchester united\",\"manchester united\",\"manchester united\",\"manchester united\"],\"xaxis\":\"x\",\"yaxis\":\"y\",\"type\":\"histogram\"},{\"alignmentgroup\":\"True\",\"bingroup\":\"x\",\"hovertemplate\":\"Season=2006<br>Club=%{x}<br>count=%{y}<extra></extra>\",\"legendgroup\":\"2006\",\"marker\":{\"color\":\"#FFA15A\",\"pattern\":{\"shape\":\"\"}},\"name\":\"2006\",\"offsetgroup\":\"2006\",\"orientation\":\"v\",\"showlegend\":true,\"x\":[\"manchester united\",\"manchester united\",\"manchester united\",\"manchester united\",\"manchester united\",\"manchester united\",\"manchester united\",\"manchester united\",\"manchester united\",\"manchester united\",\"manchester united\",\"manchester united\",\"manchester united\",\"manchester united\",\"manchester united\",\"manchester united\",\"manchester united\",\"manchester united\",\"manchester united\",\"manchester united\",\"manchester united\",\"manchester united\",\"manchester united\"],\"xaxis\":\"x\",\"yaxis\":\"y\",\"type\":\"histogram\"},{\"alignmentgroup\":\"True\",\"bingroup\":\"x\",\"hovertemplate\":\"Season=2007<br>Club=%{x}<br>count=%{y}<extra></extra>\",\"legendgroup\":\"2007\",\"marker\":{\"color\":\"#19d3f3\",\"pattern\":{\"shape\":\"\"}},\"name\":\"2007\",\"offsetgroup\":\"2007\",\"orientation\":\"v\",\"showlegend\":true,\"x\":[\"manchester united\",\"manchester united\",\"manchester united\",\"manchester united\",\"manchester united\",\"manchester united\",\"manchester united\",\"manchester united\",\"manchester united\",\"manchester united\",\"manchester united\",\"manchester united\",\"manchester united\",\"manchester united\",\"manchester united\",\"manchester united\",\"manchester united\",\"manchester united\",\"manchester united\",\"manchester united\",\"manchester united\",\"manchester united\",\"manchester united\",\"manchester united\",\"manchester united\",\"manchester united\",\"manchester united\",\"manchester united\",\"manchester united\",\"manchester united\",\"manchester united\",\"manchester united\",\"manchester united\",\"manchester united\",\"manchester united\",\"manchester united\",\"manchester united\",\"manchester united\",\"manchester united\",\"manchester united\",\"manchester united\",\"manchester united\"],\"xaxis\":\"x\",\"yaxis\":\"y\",\"type\":\"histogram\"},{\"alignmentgroup\":\"True\",\"bingroup\":\"x\",\"hovertemplate\":\"Season=2008<br>Club=%{x}<br>count=%{y}<extra></extra>\",\"legendgroup\":\"2008\",\"marker\":{\"color\":\"#FF6692\",\"pattern\":{\"shape\":\"\"}},\"name\":\"2008\",\"offsetgroup\":\"2008\",\"orientation\":\"v\",\"showlegend\":true,\"x\":[\"manchester united\",\"manchester united\",\"manchester united\",\"manchester united\",\"manchester united\",\"manchester united\",\"manchester united\",\"manchester united\",\"manchester united\",\"manchester united\",\"manchester united\",\"manchester united\",\"manchester united\",\"manchester united\",\"manchester united\",\"manchester united\",\"manchester united\",\"manchester united\",\"manchester united\",\"manchester united\",\"manchester united\",\"manchester united\",\"manchester united\",\"manchester united\",\"manchester united\",\"manchester united\"],\"xaxis\":\"x\",\"yaxis\":\"y\",\"type\":\"histogram\"},{\"alignmentgroup\":\"True\",\"bingroup\":\"x\",\"hovertemplate\":\"Season=2009<br>Club=%{x}<br>count=%{y}<extra></extra>\",\"legendgroup\":\"2009\",\"marker\":{\"color\":\"#B6E880\",\"pattern\":{\"shape\":\"\"}},\"name\":\"2009\",\"offsetgroup\":\"2009\",\"orientation\":\"v\",\"showlegend\":true,\"x\":[\"real madrid\",\"real madrid\",\"real madrid\",\"real madrid\",\"real madrid\",\"real madrid\",\"real madrid\",\"real madrid\",\"real madrid\",\"real madrid\",\"real madrid\",\"real madrid\",\"real madrid\",\"real madrid\",\"real madrid\",\"real madrid\",\"real madrid\",\"real madrid\",\"real madrid\",\"real madrid\",\"real madrid\",\"real madrid\",\"real madrid\",\"real madrid\",\"real madrid\",\"real madrid\",\"real madrid\",\"real madrid\",\"real madrid\",\"real madrid\",\"real madrid\",\"real madrid\",\"real madrid\"],\"xaxis\":\"x\",\"yaxis\":\"y\",\"type\":\"histogram\"},{\"alignmentgroup\":\"True\",\"bingroup\":\"x\",\"hovertemplate\":\"Season=2010<br>Club=%{x}<br>count=%{y}<extra></extra>\",\"legendgroup\":\"2010\",\"marker\":{\"color\":\"#FF97FF\",\"pattern\":{\"shape\":\"\"}},\"name\":\"2010\",\"offsetgroup\":\"2010\",\"orientation\":\"v\",\"showlegend\":true,\"x\":[\"real madrid\",\"real madrid\",\"real madrid\",\"real madrid\",\"real madrid\",\"real madrid\",\"real madrid\",\"real madrid\",\"real madrid\",\"real madrid\",\"real madrid\",\"real madrid\",\"real madrid\",\"real madrid\",\"real madrid\",\"real madrid\",\"real madrid\",\"real madrid\",\"real madrid\",\"real madrid\",\"real madrid\",\"real madrid\",\"real madrid\",\"real madrid\",\"real madrid\",\"real madrid\",\"real madrid\",\"real madrid\",\"real madrid\",\"real madrid\",\"real madrid\",\"real madrid\",\"real madrid\",\"real madrid\",\"real madrid\",\"real madrid\",\"real madrid\",\"real madrid\",\"real madrid\",\"real madrid\",\"real madrid\",\"real madrid\",\"real madrid\",\"real madrid\",\"real madrid\",\"real madrid\",\"real madrid\",\"real madrid\",\"real madrid\",\"real madrid\",\"real madrid\",\"real madrid\",\"real madrid\"],\"xaxis\":\"x\",\"yaxis\":\"y\",\"type\":\"histogram\"},{\"alignmentgroup\":\"True\",\"bingroup\":\"x\",\"hovertemplate\":\"Season=2011<br>Club=%{x}<br>count=%{y}<extra></extra>\",\"legendgroup\":\"2011\",\"marker\":{\"color\":\"#FECB52\",\"pattern\":{\"shape\":\"\"}},\"name\":\"2011\",\"offsetgroup\":\"2011\",\"orientation\":\"v\",\"showlegend\":true,\"x\":[\"real madrid\",\"real madrid\",\"real madrid\",\"real madrid\",\"real madrid\",\"real madrid\",\"real madrid\",\"real madrid\",\"real madrid\",\"real madrid\",\"real madrid\",\"real madrid\",\"real madrid\",\"real madrid\",\"real madrid\",\"real madrid\",\"real madrid\",\"real madrid\",\"real madrid\",\"real madrid\",\"real madrid\",\"real madrid\",\"real madrid\",\"real madrid\",\"real madrid\",\"real madrid\",\"real madrid\",\"real madrid\",\"real madrid\",\"real madrid\",\"real madrid\",\"real madrid\",\"real madrid\",\"real madrid\",\"real madrid\",\"real madrid\",\"real madrid\",\"real madrid\",\"real madrid\",\"real madrid\",\"real madrid\",\"real madrid\",\"real madrid\",\"real madrid\",\"real madrid\",\"real madrid\",\"real madrid\",\"real madrid\",\"real madrid\",\"real madrid\",\"real madrid\",\"real madrid\",\"real madrid\",\"real madrid\",\"real madrid\",\"real madrid\",\"real madrid\",\"real madrid\",\"real madrid\",\"real madrid\"],\"xaxis\":\"x\",\"yaxis\":\"y\",\"type\":\"histogram\"},{\"alignmentgroup\":\"True\",\"bingroup\":\"x\",\"hovertemplate\":\"Season=2012<br>Club=%{x}<br>count=%{y}<extra></extra>\",\"legendgroup\":\"2012\",\"marker\":{\"color\":\"#636efa\",\"pattern\":{\"shape\":\"\"}},\"name\":\"2012\",\"offsetgroup\":\"2012\",\"orientation\":\"v\",\"showlegend\":true,\"x\":[\"real madrid\",\"real madrid\",\"real madrid\",\"real madrid\",\"real madrid\",\"real madrid\",\"real madrid\",\"real madrid\",\"real madrid\",\"real madrid\",\"real madrid\",\"real madrid\",\"real madrid\",\"real madrid\",\"real madrid\",\"real madrid\",\"real madrid\",\"real madrid\",\"real madrid\",\"real madrid\",\"real madrid\",\"real madrid\",\"real madrid\",\"real madrid\",\"real madrid\",\"real madrid\",\"real madrid\",\"real madrid\",\"real madrid\",\"real madrid\",\"real madrid\",\"real madrid\",\"real madrid\",\"real madrid\",\"real madrid\",\"real madrid\",\"real madrid\",\"real madrid\",\"real madrid\",\"real madrid\",\"real madrid\",\"real madrid\",\"real madrid\",\"real madrid\",\"real madrid\",\"real madrid\",\"real madrid\",\"real madrid\",\"real madrid\",\"real madrid\",\"real madrid\",\"real madrid\",\"real madrid\",\"real madrid\",\"real madrid\"],\"xaxis\":\"x\",\"yaxis\":\"y\",\"type\":\"histogram\"},{\"alignmentgroup\":\"True\",\"bingroup\":\"x\",\"hovertemplate\":\"Season=2013<br>Club=%{x}<br>count=%{y}<extra></extra>\",\"legendgroup\":\"2013\",\"marker\":{\"color\":\"#EF553B\",\"pattern\":{\"shape\":\"\"}},\"name\":\"2013\",\"offsetgroup\":\"2013\",\"orientation\":\"v\",\"showlegend\":true,\"x\":[\"real madrid\",\"real madrid\",\"real madrid\",\"real madrid\",\"real madrid\",\"real madrid\",\"real madrid\",\"real madrid\",\"real madrid\",\"real madrid\",\"real madrid\",\"real madrid\",\"real madrid\",\"real madrid\",\"real madrid\",\"real madrid\",\"real madrid\",\"real madrid\",\"real madrid\",\"real madrid\",\"real madrid\",\"real madrid\",\"real madrid\",\"real madrid\",\"real madrid\",\"real madrid\",\"real madrid\",\"real madrid\",\"real madrid\",\"real madrid\",\"real madrid\",\"real madrid\",\"real madrid\",\"real madrid\",\"real madrid\",\"real madrid\",\"real madrid\",\"real madrid\",\"real madrid\",\"real madrid\",\"real madrid\",\"real madrid\",\"real madrid\",\"real madrid\",\"real madrid\",\"real madrid\",\"real madrid\",\"real madrid\",\"real madrid\",\"real madrid\",\"real madrid\"],\"xaxis\":\"x\",\"yaxis\":\"y\",\"type\":\"histogram\"},{\"alignmentgroup\":\"True\",\"bingroup\":\"x\",\"hovertemplate\":\"Season=2014<br>Club=%{x}<br>count=%{y}<extra></extra>\",\"legendgroup\":\"2014\",\"marker\":{\"color\":\"#00cc96\",\"pattern\":{\"shape\":\"\"}},\"name\":\"2014\",\"offsetgroup\":\"2014\",\"orientation\":\"v\",\"showlegend\":true,\"x\":[\"real madrid\",\"real madrid\",\"real madrid\",\"real madrid\",\"real madrid\",\"real madrid\",\"real madrid\",\"real madrid\",\"real madrid\",\"real madrid\",\"real madrid\",\"real madrid\",\"real madrid\",\"real madrid\",\"real madrid\",\"real madrid\",\"real madrid\",\"real madrid\",\"real madrid\",\"real madrid\",\"real madrid\",\"real madrid\",\"real madrid\",\"real madrid\",\"real madrid\",\"real madrid\",\"real madrid\",\"real madrid\",\"real madrid\",\"real madrid\",\"real madrid\",\"real madrid\",\"real madrid\",\"real madrid\",\"real madrid\",\"real madrid\",\"real madrid\",\"real madrid\",\"real madrid\",\"real madrid\",\"real madrid\",\"real madrid\",\"real madrid\",\"real madrid\",\"real madrid\",\"real madrid\",\"real madrid\",\"real madrid\",\"real madrid\",\"real madrid\",\"real madrid\",\"real madrid\",\"real madrid\",\"real madrid\",\"real madrid\",\"real madrid\",\"real madrid\",\"real madrid\",\"real madrid\",\"real madrid\",\"real madrid\"],\"xaxis\":\"x\",\"yaxis\":\"y\",\"type\":\"histogram\"},{\"alignmentgroup\":\"True\",\"bingroup\":\"x\",\"hovertemplate\":\"Season=2015<br>Club=%{x}<br>count=%{y}<extra></extra>\",\"legendgroup\":\"2015\",\"marker\":{\"color\":\"#ab63fa\",\"pattern\":{\"shape\":\"\"}},\"name\":\"2015\",\"offsetgroup\":\"2015\",\"orientation\":\"v\",\"showlegend\":true,\"x\":[\"real madrid\",\"real madrid\",\"real madrid\",\"real madrid\",\"real madrid\",\"real madrid\",\"real madrid\",\"real madrid\",\"real madrid\",\"real madrid\",\"real madrid\",\"real madrid\",\"real madrid\",\"real madrid\",\"real madrid\",\"real madrid\",\"real madrid\",\"real madrid\",\"real madrid\",\"real madrid\",\"real madrid\",\"real madrid\",\"real madrid\",\"real madrid\",\"real madrid\",\"real madrid\",\"real madrid\",\"real madrid\",\"real madrid\",\"real madrid\",\"real madrid\",\"real madrid\",\"real madrid\",\"real madrid\",\"real madrid\",\"real madrid\",\"real madrid\",\"real madrid\",\"real madrid\",\"real madrid\",\"real madrid\",\"real madrid\",\"real madrid\",\"real madrid\",\"real madrid\",\"real madrid\",\"real madrid\",\"real madrid\",\"real madrid\",\"real madrid\",\"real madrid\"],\"xaxis\":\"x\",\"yaxis\":\"y\",\"type\":\"histogram\"},{\"alignmentgroup\":\"True\",\"bingroup\":\"x\",\"hovertemplate\":\"Season=2016<br>Club=%{x}<br>count=%{y}<extra></extra>\",\"legendgroup\":\"2016\",\"marker\":{\"color\":\"#FFA15A\",\"pattern\":{\"shape\":\"\"}},\"name\":\"2016\",\"offsetgroup\":\"2016\",\"orientation\":\"v\",\"showlegend\":true,\"x\":[\"real madrid\",\"real madrid\",\"real madrid\",\"real madrid\",\"real madrid\",\"real madrid\",\"real madrid\",\"real madrid\",\"real madrid\",\"real madrid\",\"real madrid\",\"real madrid\",\"real madrid\",\"real madrid\",\"real madrid\",\"real madrid\",\"real madrid\",\"real madrid\",\"real madrid\",\"real madrid\",\"real madrid\",\"real madrid\",\"real madrid\",\"real madrid\",\"real madrid\",\"real madrid\",\"real madrid\",\"real madrid\",\"real madrid\",\"real madrid\",\"real madrid\",\"real madrid\",\"real madrid\",\"real madrid\",\"real madrid\",\"real madrid\",\"real madrid\",\"real madrid\",\"real madrid\",\"real madrid\",\"real madrid\",\"real madrid\"],\"xaxis\":\"x\",\"yaxis\":\"y\",\"type\":\"histogram\"},{\"alignmentgroup\":\"True\",\"bingroup\":\"x\",\"hovertemplate\":\"Season=2017<br>Club=%{x}<br>count=%{y}<extra></extra>\",\"legendgroup\":\"2017\",\"marker\":{\"color\":\"#19d3f3\",\"pattern\":{\"shape\":\"\"}},\"name\":\"2017\",\"offsetgroup\":\"2017\",\"orientation\":\"v\",\"showlegend\":true,\"x\":[\"real madrid\",\"real madrid\",\"real madrid\",\"real madrid\",\"real madrid\",\"real madrid\",\"real madrid\",\"real madrid\",\"real madrid\",\"real madrid\",\"real madrid\",\"real madrid\",\"real madrid\",\"real madrid\",\"real madrid\",\"real madrid\",\"real madrid\",\"real madrid\",\"real madrid\",\"real madrid\",\"real madrid\",\"real madrid\",\"real madrid\",\"real madrid\",\"real madrid\",\"real madrid\",\"real madrid\",\"real madrid\",\"real madrid\",\"real madrid\",\"real madrid\",\"real madrid\",\"real madrid\",\"real madrid\",\"real madrid\",\"real madrid\",\"real madrid\",\"real madrid\",\"real madrid\",\"real madrid\",\"real madrid\",\"real madrid\",\"real madrid\",\"real madrid\"],\"xaxis\":\"x\",\"yaxis\":\"y\",\"type\":\"histogram\"},{\"alignmentgroup\":\"True\",\"bingroup\":\"x\",\"hovertemplate\":\"Season=2018<br>Club=%{x}<br>count=%{y}<extra></extra>\",\"legendgroup\":\"2018\",\"marker\":{\"color\":\"#FF6692\",\"pattern\":{\"shape\":\"\"}},\"name\":\"2018\",\"offsetgroup\":\"2018\",\"orientation\":\"v\",\"showlegend\":true,\"x\":[\"juventus fc\",\"juventus fc\",\"juventus fc\",\"juventus fc\",\"juventus fc\",\"juventus fc\",\"juventus fc\",\"juventus fc\",\"juventus fc\",\"juventus fc\",\"juventus fc\",\"juventus fc\",\"juventus fc\",\"juventus fc\",\"juventus fc\",\"juventus fc\",\"juventus fc\",\"juventus fc\",\"juventus fc\",\"juventus fc\",\"juventus fc\",\"juventus fc\",\"juventus fc\",\"juventus fc\",\"juventus fc\",\"juventus fc\",\"juventus fc\",\"juventus fc\"],\"xaxis\":\"x\",\"yaxis\":\"y\",\"type\":\"histogram\"},{\"alignmentgroup\":\"True\",\"bingroup\":\"x\",\"hovertemplate\":\"Season=2019<br>Club=%{x}<br>count=%{y}<extra></extra>\",\"legendgroup\":\"2019\",\"marker\":{\"color\":\"#B6E880\",\"pattern\":{\"shape\":\"\"}},\"name\":\"2019\",\"offsetgroup\":\"2019\",\"orientation\":\"v\",\"showlegend\":true,\"x\":[\"juventus fc\",\"juventus fc\",\"juventus fc\",\"juventus fc\",\"juventus fc\",\"juventus fc\",\"juventus fc\",\"juventus fc\",\"juventus fc\",\"juventus fc\",\"juventus fc\",\"juventus fc\",\"juventus fc\",\"juventus fc\",\"juventus fc\",\"juventus fc\",\"juventus fc\",\"juventus fc\",\"juventus fc\",\"juventus fc\",\"juventus fc\",\"juventus fc\",\"juventus fc\",\"juventus fc\",\"juventus fc\",\"juventus fc\",\"juventus fc\",\"juventus fc\",\"juventus fc\",\"juventus fc\",\"juventus fc\",\"juventus fc\",\"juventus fc\",\"juventus fc\",\"juventus fc\",\"juventus fc\",\"juventus fc\"],\"xaxis\":\"x\",\"yaxis\":\"y\",\"type\":\"histogram\"},{\"alignmentgroup\":\"True\",\"bingroup\":\"x\",\"hovertemplate\":\"Season=2020<br>Club=%{x}<br>count=%{y}<extra></extra>\",\"legendgroup\":\"2020\",\"marker\":{\"color\":\"#FF97FF\",\"pattern\":{\"shape\":\"\"}},\"name\":\"2020\",\"offsetgroup\":\"2020\",\"orientation\":\"v\",\"showlegend\":true,\"x\":[\"juventus fc\",\"juventus fc\",\"juventus fc\",\"juventus fc\",\"juventus fc\",\"juventus fc\",\"juventus fc\",\"juventus fc\",\"juventus fc\",\"juventus fc\",\"juventus fc\",\"juventus fc\",\"juventus fc\",\"juventus fc\",\"juventus fc\",\"juventus fc\",\"juventus fc\",\"juventus fc\",\"juventus fc\",\"juventus fc\",\"juventus fc\",\"juventus fc\",\"juventus fc\",\"juventus fc\",\"juventus fc\",\"juventus fc\",\"juventus fc\",\"juventus fc\",\"juventus fc\",\"juventus fc\",\"juventus fc\",\"juventus fc\",\"juventus fc\",\"juventus fc\",\"juventus fc\",\"juventus fc\"],\"xaxis\":\"x\",\"yaxis\":\"y\",\"type\":\"histogram\"},{\"alignmentgroup\":\"True\",\"bingroup\":\"x\",\"hovertemplate\":\"Season=2021<br>Club=%{x}<br>count=%{y}<extra></extra>\",\"legendgroup\":\"2021\",\"marker\":{\"color\":\"#FECB52\",\"pattern\":{\"shape\":\"\"}},\"name\":\"2021\",\"offsetgroup\":\"2021\",\"orientation\":\"v\",\"showlegend\":true,\"x\":[\"manchester united\",\"manchester united\",\"manchester united\",\"manchester united\",\"manchester united\",\"manchester united\",\"manchester united\",\"manchester united\",\"manchester united\",\"manchester united\",\"manchester united\",\"manchester united\",\"manchester united\",\"manchester united\",\"manchester united\",\"manchester united\",\"manchester united\",\"manchester united\",\"manchester united\",\"manchester united\",\"manchester united\",\"manchester united\",\"manchester united\",\"manchester united\"],\"xaxis\":\"x\",\"yaxis\":\"y\",\"type\":\"histogram\"},{\"alignmentgroup\":\"True\",\"bingroup\":\"x\",\"hovertemplate\":\"Season=2022<br>Club=%{x}<br>count=%{y}<extra></extra>\",\"legendgroup\":\"2022\",\"marker\":{\"color\":\"#636efa\",\"pattern\":{\"shape\":\"\"}},\"name\":\"2022\",\"offsetgroup\":\"2022\",\"orientation\":\"v\",\"showlegend\":true,\"x\":[\"manchester united\",\"manchester united\",\"manchester united\"],\"xaxis\":\"x\",\"yaxis\":\"y\",\"type\":\"histogram\"}],                        {\"template\":{\"data\":{\"histogram2dcontour\":[{\"type\":\"histogram2dcontour\",\"colorbar\":{\"outlinewidth\":0,\"ticks\":\"\"},\"colorscale\":[[0.0,\"#0d0887\"],[0.1111111111111111,\"#46039f\"],[0.2222222222222222,\"#7201a8\"],[0.3333333333333333,\"#9c179e\"],[0.4444444444444444,\"#bd3786\"],[0.5555555555555556,\"#d8576b\"],[0.6666666666666666,\"#ed7953\"],[0.7777777777777778,\"#fb9f3a\"],[0.8888888888888888,\"#fdca26\"],[1.0,\"#f0f921\"]]}],\"choropleth\":[{\"type\":\"choropleth\",\"colorbar\":{\"outlinewidth\":0,\"ticks\":\"\"}}],\"histogram2d\":[{\"type\":\"histogram2d\",\"colorbar\":{\"outlinewidth\":0,\"ticks\":\"\"},\"colorscale\":[[0.0,\"#0d0887\"],[0.1111111111111111,\"#46039f\"],[0.2222222222222222,\"#7201a8\"],[0.3333333333333333,\"#9c179e\"],[0.4444444444444444,\"#bd3786\"],[0.5555555555555556,\"#d8576b\"],[0.6666666666666666,\"#ed7953\"],[0.7777777777777778,\"#fb9f3a\"],[0.8888888888888888,\"#fdca26\"],[1.0,\"#f0f921\"]]}],\"heatmap\":[{\"type\":\"heatmap\",\"colorbar\":{\"outlinewidth\":0,\"ticks\":\"\"},\"colorscale\":[[0.0,\"#0d0887\"],[0.1111111111111111,\"#46039f\"],[0.2222222222222222,\"#7201a8\"],[0.3333333333333333,\"#9c179e\"],[0.4444444444444444,\"#bd3786\"],[0.5555555555555556,\"#d8576b\"],[0.6666666666666666,\"#ed7953\"],[0.7777777777777778,\"#fb9f3a\"],[0.8888888888888888,\"#fdca26\"],[1.0,\"#f0f921\"]]}],\"heatmapgl\":[{\"type\":\"heatmapgl\",\"colorbar\":{\"outlinewidth\":0,\"ticks\":\"\"},\"colorscale\":[[0.0,\"#0d0887\"],[0.1111111111111111,\"#46039f\"],[0.2222222222222222,\"#7201a8\"],[0.3333333333333333,\"#9c179e\"],[0.4444444444444444,\"#bd3786\"],[0.5555555555555556,\"#d8576b\"],[0.6666666666666666,\"#ed7953\"],[0.7777777777777778,\"#fb9f3a\"],[0.8888888888888888,\"#fdca26\"],[1.0,\"#f0f921\"]]}],\"contourcarpet\":[{\"type\":\"contourcarpet\",\"colorbar\":{\"outlinewidth\":0,\"ticks\":\"\"}}],\"contour\":[{\"type\":\"contour\",\"colorbar\":{\"outlinewidth\":0,\"ticks\":\"\"},\"colorscale\":[[0.0,\"#0d0887\"],[0.1111111111111111,\"#46039f\"],[0.2222222222222222,\"#7201a8\"],[0.3333333333333333,\"#9c179e\"],[0.4444444444444444,\"#bd3786\"],[0.5555555555555556,\"#d8576b\"],[0.6666666666666666,\"#ed7953\"],[0.7777777777777778,\"#fb9f3a\"],[0.8888888888888888,\"#fdca26\"],[1.0,\"#f0f921\"]]}],\"surface\":[{\"type\":\"surface\",\"colorbar\":{\"outlinewidth\":0,\"ticks\":\"\"},\"colorscale\":[[0.0,\"#0d0887\"],[0.1111111111111111,\"#46039f\"],[0.2222222222222222,\"#7201a8\"],[0.3333333333333333,\"#9c179e\"],[0.4444444444444444,\"#bd3786\"],[0.5555555555555556,\"#d8576b\"],[0.6666666666666666,\"#ed7953\"],[0.7777777777777778,\"#fb9f3a\"],[0.8888888888888888,\"#fdca26\"],[1.0,\"#f0f921\"]]}],\"mesh3d\":[{\"type\":\"mesh3d\",\"colorbar\":{\"outlinewidth\":0,\"ticks\":\"\"}}],\"scatter\":[{\"fillpattern\":{\"fillmode\":\"overlay\",\"size\":10,\"solidity\":0.2},\"type\":\"scatter\"}],\"parcoords\":[{\"type\":\"parcoords\",\"line\":{\"colorbar\":{\"outlinewidth\":0,\"ticks\":\"\"}}}],\"scatterpolargl\":[{\"type\":\"scatterpolargl\",\"marker\":{\"colorbar\":{\"outlinewidth\":0,\"ticks\":\"\"}}}],\"bar\":[{\"error_x\":{\"color\":\"#2a3f5f\"},\"error_y\":{\"color\":\"#2a3f5f\"},\"marker\":{\"line\":{\"color\":\"#E5ECF6\",\"width\":0.5},\"pattern\":{\"fillmode\":\"overlay\",\"size\":10,\"solidity\":0.2}},\"type\":\"bar\"}],\"scattergeo\":[{\"type\":\"scattergeo\",\"marker\":{\"colorbar\":{\"outlinewidth\":0,\"ticks\":\"\"}}}],\"scatterpolar\":[{\"type\":\"scatterpolar\",\"marker\":{\"colorbar\":{\"outlinewidth\":0,\"ticks\":\"\"}}}],\"histogram\":[{\"marker\":{\"pattern\":{\"fillmode\":\"overlay\",\"size\":10,\"solidity\":0.2}},\"type\":\"histogram\"}],\"scattergl\":[{\"type\":\"scattergl\",\"marker\":{\"colorbar\":{\"outlinewidth\":0,\"ticks\":\"\"}}}],\"scatter3d\":[{\"type\":\"scatter3d\",\"line\":{\"colorbar\":{\"outlinewidth\":0,\"ticks\":\"\"}},\"marker\":{\"colorbar\":{\"outlinewidth\":0,\"ticks\":\"\"}}}],\"scattermapbox\":[{\"type\":\"scattermapbox\",\"marker\":{\"colorbar\":{\"outlinewidth\":0,\"ticks\":\"\"}}}],\"scatterternary\":[{\"type\":\"scatterternary\",\"marker\":{\"colorbar\":{\"outlinewidth\":0,\"ticks\":\"\"}}}],\"scattercarpet\":[{\"type\":\"scattercarpet\",\"marker\":{\"colorbar\":{\"outlinewidth\":0,\"ticks\":\"\"}}}],\"carpet\":[{\"aaxis\":{\"endlinecolor\":\"#2a3f5f\",\"gridcolor\":\"white\",\"linecolor\":\"white\",\"minorgridcolor\":\"white\",\"startlinecolor\":\"#2a3f5f\"},\"baxis\":{\"endlinecolor\":\"#2a3f5f\",\"gridcolor\":\"white\",\"linecolor\":\"white\",\"minorgridcolor\":\"white\",\"startlinecolor\":\"#2a3f5f\"},\"type\":\"carpet\"}],\"table\":[{\"cells\":{\"fill\":{\"color\":\"#EBF0F8\"},\"line\":{\"color\":\"white\"}},\"header\":{\"fill\":{\"color\":\"#C8D4E3\"},\"line\":{\"color\":\"white\"}},\"type\":\"table\"}],\"barpolar\":[{\"marker\":{\"line\":{\"color\":\"#E5ECF6\",\"width\":0.5},\"pattern\":{\"fillmode\":\"overlay\",\"size\":10,\"solidity\":0.2}},\"type\":\"barpolar\"}],\"pie\":[{\"automargin\":true,\"type\":\"pie\"}]},\"layout\":{\"autotypenumbers\":\"strict\",\"colorway\":[\"#636efa\",\"#EF553B\",\"#00cc96\",\"#ab63fa\",\"#FFA15A\",\"#19d3f3\",\"#FF6692\",\"#B6E880\",\"#FF97FF\",\"#FECB52\"],\"font\":{\"color\":\"#2a3f5f\"},\"hovermode\":\"closest\",\"hoverlabel\":{\"align\":\"left\"},\"paper_bgcolor\":\"white\",\"plot_bgcolor\":\"#E5ECF6\",\"polar\":{\"bgcolor\":\"#E5ECF6\",\"angularaxis\":{\"gridcolor\":\"white\",\"linecolor\":\"white\",\"ticks\":\"\"},\"radialaxis\":{\"gridcolor\":\"white\",\"linecolor\":\"white\",\"ticks\":\"\"}},\"ternary\":{\"bgcolor\":\"#E5ECF6\",\"aaxis\":{\"gridcolor\":\"white\",\"linecolor\":\"white\",\"ticks\":\"\"},\"baxis\":{\"gridcolor\":\"white\",\"linecolor\":\"white\",\"ticks\":\"\"},\"caxis\":{\"gridcolor\":\"white\",\"linecolor\":\"white\",\"ticks\":\"\"}},\"coloraxis\":{\"colorbar\":{\"outlinewidth\":0,\"ticks\":\"\"}},\"colorscale\":{\"sequential\":[[0.0,\"#0d0887\"],[0.1111111111111111,\"#46039f\"],[0.2222222222222222,\"#7201a8\"],[0.3333333333333333,\"#9c179e\"],[0.4444444444444444,\"#bd3786\"],[0.5555555555555556,\"#d8576b\"],[0.6666666666666666,\"#ed7953\"],[0.7777777777777778,\"#fb9f3a\"],[0.8888888888888888,\"#fdca26\"],[1.0,\"#f0f921\"]],\"sequentialminus\":[[0.0,\"#0d0887\"],[0.1111111111111111,\"#46039f\"],[0.2222222222222222,\"#7201a8\"],[0.3333333333333333,\"#9c179e\"],[0.4444444444444444,\"#bd3786\"],[0.5555555555555556,\"#d8576b\"],[0.6666666666666666,\"#ed7953\"],[0.7777777777777778,\"#fb9f3a\"],[0.8888888888888888,\"#fdca26\"],[1.0,\"#f0f921\"]],\"diverging\":[[0,\"#8e0152\"],[0.1,\"#c51b7d\"],[0.2,\"#de77ae\"],[0.3,\"#f1b6da\"],[0.4,\"#fde0ef\"],[0.5,\"#f7f7f7\"],[0.6,\"#e6f5d0\"],[0.7,\"#b8e186\"],[0.8,\"#7fbc41\"],[0.9,\"#4d9221\"],[1,\"#276419\"]]},\"xaxis\":{\"gridcolor\":\"white\",\"linecolor\":\"white\",\"ticks\":\"\",\"title\":{\"standoff\":15},\"zerolinecolor\":\"white\",\"automargin\":true,\"zerolinewidth\":2},\"yaxis\":{\"gridcolor\":\"white\",\"linecolor\":\"white\",\"ticks\":\"\",\"title\":{\"standoff\":15},\"zerolinecolor\":\"white\",\"automargin\":true,\"zerolinewidth\":2},\"scene\":{\"xaxis\":{\"backgroundcolor\":\"#E5ECF6\",\"gridcolor\":\"white\",\"linecolor\":\"white\",\"showbackground\":true,\"ticks\":\"\",\"zerolinecolor\":\"white\",\"gridwidth\":2},\"yaxis\":{\"backgroundcolor\":\"#E5ECF6\",\"gridcolor\":\"white\",\"linecolor\":\"white\",\"showbackground\":true,\"ticks\":\"\",\"zerolinecolor\":\"white\",\"gridwidth\":2},\"zaxis\":{\"backgroundcolor\":\"#E5ECF6\",\"gridcolor\":\"white\",\"linecolor\":\"white\",\"showbackground\":true,\"ticks\":\"\",\"zerolinecolor\":\"white\",\"gridwidth\":2}},\"shapedefaults\":{\"line\":{\"color\":\"#2a3f5f\"}},\"annotationdefaults\":{\"arrowcolor\":\"#2a3f5f\",\"arrowhead\":0,\"arrowwidth\":1},\"geo\":{\"bgcolor\":\"white\",\"landcolor\":\"#E5ECF6\",\"subunitcolor\":\"white\",\"showland\":true,\"showlakes\":true,\"lakecolor\":\"white\"},\"title\":{\"x\":0.05},\"mapbox\":{\"style\":\"light\"}}},\"xaxis\":{\"anchor\":\"y\",\"domain\":[0.0,1.0],\"title\":{\"text\":\"Club\"}},\"yaxis\":{\"anchor\":\"x\",\"domain\":[0.0,1.0],\"title\":{\"text\":\"count\"}},\"legend\":{\"title\":{\"text\":\"Season\"},\"tracegroupgap\":0},\"title\":{\"text\":\"Goals per Clubs - Seasons\"},\"barmode\":\"relative\",\"height\":500},                        {\"responsive\": true}                    ).then(function(){\n",
       "                            \n",
       "var gd = document.getElementById('6038997d-0d3e-4ba2-a9ed-50c7a9dcd063');\n",
       "var x = new MutationObserver(function (mutations, observer) {{\n",
       "        var display = window.getComputedStyle(gd).display;\n",
       "        if (!display || display === 'none') {{\n",
       "            console.log([gd, 'removed!']);\n",
       "            Plotly.purge(gd);\n",
       "            observer.disconnect();\n",
       "        }}\n",
       "}});\n",
       "\n",
       "// Listen for the removal of the full notebook cells\n",
       "var notebookContainer = gd.closest('#notebook-container');\n",
       "if (notebookContainer) {{\n",
       "    x.observe(notebookContainer, {childList: true});\n",
       "}}\n",
       "\n",
       "// Listen for the clearing of the current output cell\n",
       "var outputEl = gd.closest('.output');\n",
       "if (outputEl) {{\n",
       "    x.observe(outputEl, {childList: true});\n",
       "}}\n",
       "\n",
       "                        })                };                });            </script>        </div>"
      ]
     },
     "metadata": {},
     "output_type": "display_data"
    }
   ],
   "source": [
    "px.histogram(\n",
    "    cr7_df,\n",
    "    x='Club',\n",
    "    title=\"Goals per Clubs - Seasons\",\n",
    "    log_x=False,\n",
    "    log_y=False,\n",
    "    #symbol='title',\n",
    "    #markers=True,\n",
    "    #width=800, \n",
    "    height=500,\n",
    "    color='Season',\n",
    "    hover_name='Season',\n",
    "    hover_data=['Competition','Season','Club'])"
   ]
  },
  {
   "cell_type": "markdown",
   "id": "54fc74fc",
   "metadata": {},
   "source": [
    "# Number of total career goals scored by team and competition\n",
    "Most of his goals in the UEFA Champions League were scored during his time with Read Madrid."
   ]
  },
  {
   "cell_type": "code",
   "execution_count": 237,
   "id": "ec23895f",
   "metadata": {},
   "outputs": [
    {
     "data": {
      "application/vnd.plotly.v1+json": {
       "config": {
        "plotlyServerURL": "https://plot.ly"
       },
       "data": [
        {
         "alignmentgroup": "True",
         "bingroup": "x",
         "hovertemplate": "Competition=liga portugal<br>Club=%{x}<br>count=%{y}<extra></extra>",
         "legendgroup": "liga portugal",
         "marker": {
          "color": "#636efa",
          "pattern": {
           "shape": ""
          }
         },
         "name": "liga portugal",
         "offsetgroup": "liga portugal",
         "orientation": "v",
         "showlegend": true,
         "type": "histogram",
         "x": [
          "sporting cp",
          "sporting cp",
          "sporting cp"
         ],
         "xaxis": "x",
         "yaxis": "y"
        },
        {
         "alignmentgroup": "True",
         "bingroup": "x",
         "hovertemplate": "Competition=taca de portugal placard<br>Club=%{x}<br>count=%{y}<extra></extra>",
         "legendgroup": "taca de portugal placard",
         "marker": {
          "color": "#EF553B",
          "pattern": {
           "shape": ""
          }
         },
         "name": "taca de portugal placard",
         "offsetgroup": "taca de portugal placard",
         "orientation": "v",
         "showlegend": true,
         "type": "histogram",
         "x": [
          "sporting cp",
          "sporting cp"
         ],
         "xaxis": "x",
         "yaxis": "y"
        },
        {
         "alignmentgroup": "True",
         "bingroup": "x",
         "hovertemplate": "Competition=premier league<br>Club=%{x}<br>count=%{y}<extra></extra>",
         "legendgroup": "premier league",
         "marker": {
          "color": "#00cc96",
          "pattern": {
           "shape": ""
          }
         },
         "name": "premier league",
         "offsetgroup": "premier league",
         "orientation": "v",
         "showlegend": true,
         "type": "histogram",
         "x": [
          "manchester united",
          "manchester united",
          "manchester united",
          "manchester united",
          "manchester united",
          "manchester united",
          "manchester united",
          "manchester united",
          "manchester united",
          "manchester united",
          "manchester united",
          "manchester united",
          "manchester united",
          "manchester united",
          "manchester united",
          "manchester united",
          "manchester united",
          "manchester united",
          "manchester united",
          "manchester united",
          "manchester united",
          "manchester united",
          "manchester united",
          "manchester united",
          "manchester united",
          "manchester united",
          "manchester united",
          "manchester united",
          "manchester united",
          "manchester united",
          "manchester united",
          "manchester united",
          "manchester united",
          "manchester united",
          "manchester united",
          "manchester united",
          "manchester united",
          "manchester united",
          "manchester united",
          "manchester united",
          "manchester united",
          "manchester united",
          "manchester united",
          "manchester united",
          "manchester united",
          "manchester united",
          "manchester united",
          "manchester united",
          "manchester united",
          "manchester united",
          "manchester united",
          "manchester united",
          "manchester united",
          "manchester united",
          "manchester united",
          "manchester united",
          "manchester united",
          "manchester united",
          "manchester united",
          "manchester united",
          "manchester united",
          "manchester united",
          "manchester united",
          "manchester united",
          "manchester united",
          "manchester united",
          "manchester united",
          "manchester united",
          "manchester united",
          "manchester united",
          "manchester united",
          "manchester united",
          "manchester united",
          "manchester united",
          "manchester united",
          "manchester united",
          "manchester united",
          "manchester united",
          "manchester united",
          "manchester united",
          "manchester united",
          "manchester united",
          "manchester united",
          "manchester united",
          "manchester united",
          "manchester united",
          "manchester united",
          "manchester united",
          "manchester united",
          "manchester united",
          "manchester united",
          "manchester united",
          "manchester united",
          "manchester united",
          "manchester united",
          "manchester united",
          "manchester united",
          "manchester united",
          "manchester united",
          "manchester united",
          "manchester united",
          "manchester united",
          "manchester united"
         ],
         "xaxis": "x",
         "yaxis": "y"
        },
        {
         "alignmentgroup": "True",
         "bingroup": "x",
         "hovertemplate": "Competition=fa cup<br>Club=%{x}<br>count=%{y}<extra></extra>",
         "legendgroup": "fa cup",
         "marker": {
          "color": "#ab63fa",
          "pattern": {
           "shape": ""
          }
         },
         "name": "fa cup",
         "offsetgroup": "fa cup",
         "orientation": "v",
         "showlegend": true,
         "type": "histogram",
         "x": [
          "manchester united",
          "manchester united",
          "manchester united",
          "manchester united",
          "manchester united",
          "manchester united",
          "manchester united",
          "manchester united",
          "manchester united",
          "manchester united",
          "manchester united",
          "manchester united",
          "manchester united"
         ],
         "xaxis": "x",
         "yaxis": "y"
        },
        {
         "alignmentgroup": "True",
         "bingroup": "x",
         "hovertemplate": "Competition=uefa champions league qualifying<br>Club=%{x}<br>count=%{y}<extra></extra>",
         "legendgroup": "uefa champions league qualifying",
         "marker": {
          "color": "#FFA15A",
          "pattern": {
           "shape": ""
          }
         },
         "name": "uefa champions league qualifying",
         "offsetgroup": "uefa champions league qualifying",
         "orientation": "v",
         "showlegend": true,
         "type": "histogram",
         "x": [
          "manchester united"
         ],
         "xaxis": "x",
         "yaxis": "y"
        },
        {
         "alignmentgroup": "True",
         "bingroup": "x",
         "hovertemplate": "Competition=efl cup<br>Club=%{x}<br>count=%{y}<extra></extra>",
         "legendgroup": "efl cup",
         "marker": {
          "color": "#19d3f3",
          "pattern": {
           "shape": ""
          }
         },
         "name": "efl cup",
         "offsetgroup": "efl cup",
         "orientation": "v",
         "showlegend": true,
         "type": "histogram",
         "x": [
          "manchester united",
          "manchester united",
          "manchester united",
          "manchester united"
         ],
         "xaxis": "x",
         "yaxis": "y"
        },
        {
         "alignmentgroup": "True",
         "bingroup": "x",
         "hovertemplate": "Competition=uefa champions league<br>Club=%{x}<br>count=%{y}<extra></extra>",
         "legendgroup": "uefa champions league",
         "marker": {
          "color": "#FF6692",
          "pattern": {
           "shape": ""
          }
         },
         "name": "uefa champions league",
         "offsetgroup": "uefa champions league",
         "orientation": "v",
         "showlegend": true,
         "type": "histogram",
         "x": [
          "manchester united",
          "manchester united",
          "manchester united",
          "manchester united",
          "manchester united",
          "manchester united",
          "manchester united",
          "manchester united",
          "manchester united",
          "manchester united",
          "manchester united",
          "manchester united",
          "manchester united",
          "manchester united",
          "manchester united",
          "real madrid",
          "real madrid",
          "real madrid",
          "real madrid",
          "real madrid",
          "real madrid",
          "real madrid",
          "real madrid",
          "real madrid",
          "real madrid",
          "real madrid",
          "real madrid",
          "real madrid",
          "real madrid",
          "real madrid",
          "real madrid",
          "real madrid",
          "real madrid",
          "real madrid",
          "real madrid",
          "real madrid",
          "real madrid",
          "real madrid",
          "real madrid",
          "real madrid",
          "real madrid",
          "real madrid",
          "real madrid",
          "real madrid",
          "real madrid",
          "real madrid",
          "real madrid",
          "real madrid",
          "real madrid",
          "real madrid",
          "real madrid",
          "real madrid",
          "real madrid",
          "real madrid",
          "real madrid",
          "real madrid",
          "real madrid",
          "real madrid",
          "real madrid",
          "real madrid",
          "real madrid",
          "real madrid",
          "real madrid",
          "real madrid",
          "real madrid",
          "real madrid",
          "real madrid",
          "real madrid",
          "real madrid",
          "real madrid",
          "real madrid",
          "real madrid",
          "real madrid",
          "real madrid",
          "real madrid",
          "real madrid",
          "real madrid",
          "real madrid",
          "real madrid",
          "real madrid",
          "real madrid",
          "real madrid",
          "real madrid",
          "real madrid",
          "real madrid",
          "real madrid",
          "real madrid",
          "real madrid",
          "real madrid",
          "real madrid",
          "real madrid",
          "real madrid",
          "real madrid",
          "real madrid",
          "real madrid",
          "real madrid",
          "real madrid",
          "real madrid",
          "real madrid",
          "real madrid",
          "real madrid",
          "real madrid",
          "real madrid",
          "real madrid",
          "real madrid",
          "real madrid",
          "real madrid",
          "real madrid",
          "real madrid",
          "real madrid",
          "real madrid",
          "real madrid",
          "real madrid",
          "real madrid",
          "real madrid",
          "real madrid",
          "real madrid",
          "real madrid",
          "real madrid",
          "real madrid",
          "juventus fc",
          "juventus fc",
          "juventus fc",
          "juventus fc",
          "juventus fc",
          "juventus fc",
          "juventus fc",
          "juventus fc",
          "juventus fc",
          "juventus fc",
          "juventus fc",
          "juventus fc",
          "juventus fc",
          "juventus fc",
          "manchester united",
          "manchester united",
          "manchester united",
          "manchester united",
          "manchester united",
          "manchester united"
         ],
         "xaxis": "x",
         "yaxis": "y"
        },
        {
         "alignmentgroup": "True",
         "bingroup": "x",
         "hovertemplate": "Competition=fifa club world cup<br>Club=%{x}<br>count=%{y}<extra></extra>",
         "legendgroup": "fifa club world cup",
         "marker": {
          "color": "#B6E880",
          "pattern": {
           "shape": ""
          }
         },
         "name": "fifa club world cup",
         "offsetgroup": "fifa club world cup",
         "orientation": "v",
         "showlegend": true,
         "type": "histogram",
         "x": [
          "manchester united",
          "real madrid",
          "real madrid",
          "real madrid",
          "real madrid",
          "real madrid",
          "real madrid"
         ],
         "xaxis": "x",
         "yaxis": "y"
        },
        {
         "alignmentgroup": "True",
         "bingroup": "x",
         "hovertemplate": "Competition=laliga<br>Club=%{x}<br>count=%{y}<extra></extra>",
         "legendgroup": "laliga",
         "marker": {
          "color": "#FF97FF",
          "pattern": {
           "shape": ""
          }
         },
         "name": "laliga",
         "offsetgroup": "laliga",
         "orientation": "v",
         "showlegend": true,
         "type": "histogram",
         "x": [
          "real madrid",
          "real madrid",
          "real madrid",
          "real madrid",
          "real madrid",
          "real madrid",
          "real madrid",
          "real madrid",
          "real madrid",
          "real madrid",
          "real madrid",
          "real madrid",
          "real madrid",
          "real madrid",
          "real madrid",
          "real madrid",
          "real madrid",
          "real madrid",
          "real madrid",
          "real madrid",
          "real madrid",
          "real madrid",
          "real madrid",
          "real madrid",
          "real madrid",
          "real madrid",
          "real madrid",
          "real madrid",
          "real madrid",
          "real madrid",
          "real madrid",
          "real madrid",
          "real madrid",
          "real madrid",
          "real madrid",
          "real madrid",
          "real madrid",
          "real madrid",
          "real madrid",
          "real madrid",
          "real madrid",
          "real madrid",
          "real madrid",
          "real madrid",
          "real madrid",
          "real madrid",
          "real madrid",
          "real madrid",
          "real madrid",
          "real madrid",
          "real madrid",
          "real madrid",
          "real madrid",
          "real madrid",
          "real madrid",
          "real madrid",
          "real madrid",
          "real madrid",
          "real madrid",
          "real madrid",
          "real madrid",
          "real madrid",
          "real madrid",
          "real madrid",
          "real madrid",
          "real madrid",
          "real madrid",
          "real madrid",
          "real madrid",
          "real madrid",
          "real madrid",
          "real madrid",
          "real madrid",
          "real madrid",
          "real madrid",
          "real madrid",
          "real madrid",
          "real madrid",
          "real madrid",
          "real madrid",
          "real madrid",
          "real madrid",
          "real madrid",
          "real madrid",
          "real madrid",
          "real madrid",
          "real madrid",
          "real madrid",
          "real madrid",
          "real madrid",
          "real madrid",
          "real madrid",
          "real madrid",
          "real madrid",
          "real madrid",
          "real madrid",
          "real madrid",
          "real madrid",
          "real madrid",
          "real madrid",
          "real madrid",
          "real madrid",
          "real madrid",
          "real madrid",
          "real madrid",
          "real madrid",
          "real madrid",
          "real madrid",
          "real madrid",
          "real madrid",
          "real madrid",
          "real madrid",
          "real madrid",
          "real madrid",
          "real madrid",
          "real madrid",
          "real madrid",
          "real madrid",
          "real madrid",
          "real madrid",
          "real madrid",
          "real madrid",
          "real madrid",
          "real madrid",
          "real madrid",
          "real madrid",
          "real madrid",
          "real madrid",
          "real madrid",
          "real madrid",
          "real madrid",
          "real madrid",
          "real madrid",
          "real madrid",
          "real madrid",
          "real madrid",
          "real madrid",
          "real madrid",
          "real madrid",
          "real madrid",
          "real madrid",
          "real madrid",
          "real madrid",
          "real madrid",
          "real madrid",
          "real madrid",
          "real madrid",
          "real madrid",
          "real madrid",
          "real madrid",
          "real madrid",
          "real madrid",
          "real madrid",
          "real madrid",
          "real madrid",
          "real madrid",
          "real madrid",
          "real madrid",
          "real madrid",
          "real madrid",
          "real madrid",
          "real madrid",
          "real madrid",
          "real madrid",
          "real madrid",
          "real madrid",
          "real madrid",
          "real madrid",
          "real madrid",
          "real madrid",
          "real madrid",
          "real madrid",
          "real madrid",
          "real madrid",
          "real madrid",
          "real madrid",
          "real madrid",
          "real madrid",
          "real madrid",
          "real madrid",
          "real madrid",
          "real madrid",
          "real madrid",
          "real madrid",
          "real madrid",
          "real madrid",
          "real madrid",
          "real madrid",
          "real madrid",
          "real madrid",
          "real madrid",
          "real madrid",
          "real madrid",
          "real madrid",
          "real madrid",
          "real madrid",
          "real madrid",
          "real madrid",
          "real madrid",
          "real madrid",
          "real madrid",
          "real madrid",
          "real madrid",
          "real madrid",
          "real madrid",
          "real madrid",
          "real madrid",
          "real madrid",
          "real madrid",
          "real madrid",
          "real madrid",
          "real madrid",
          "real madrid",
          "real madrid",
          "real madrid",
          "real madrid",
          "real madrid",
          "real madrid",
          "real madrid",
          "real madrid",
          "real madrid",
          "real madrid",
          "real madrid",
          "real madrid",
          "real madrid",
          "real madrid",
          "real madrid",
          "real madrid",
          "real madrid",
          "real madrid",
          "real madrid",
          "real madrid",
          "real madrid",
          "real madrid",
          "real madrid",
          "real madrid",
          "real madrid",
          "real madrid",
          "real madrid",
          "real madrid",
          "real madrid",
          "real madrid",
          "real madrid",
          "real madrid",
          "real madrid",
          "real madrid",
          "real madrid",
          "real madrid",
          "real madrid",
          "real madrid",
          "real madrid",
          "real madrid",
          "real madrid",
          "real madrid",
          "real madrid",
          "real madrid",
          "real madrid",
          "real madrid",
          "real madrid",
          "real madrid",
          "real madrid",
          "real madrid",
          "real madrid",
          "real madrid",
          "real madrid",
          "real madrid",
          "real madrid",
          "real madrid",
          "real madrid",
          "real madrid",
          "real madrid",
          "real madrid",
          "real madrid",
          "real madrid",
          "real madrid",
          "real madrid",
          "real madrid",
          "real madrid",
          "real madrid",
          "real madrid",
          "real madrid",
          "real madrid",
          "real madrid",
          "real madrid",
          "real madrid",
          "real madrid",
          "real madrid",
          "real madrid",
          "real madrid",
          "real madrid",
          "real madrid",
          "real madrid",
          "real madrid",
          "real madrid",
          "real madrid",
          "real madrid",
          "real madrid",
          "real madrid",
          "real madrid",
          "real madrid",
          "real madrid",
          "real madrid",
          "real madrid",
          "real madrid",
          "real madrid",
          "real madrid",
          "real madrid",
          "real madrid",
          "real madrid",
          "real madrid",
          "real madrid"
         ],
         "xaxis": "x",
         "yaxis": "y"
        },
        {
         "alignmentgroup": "True",
         "bingroup": "x",
         "hovertemplate": "Competition=copa del rey<br>Club=%{x}<br>count=%{y}<extra></extra>",
         "legendgroup": "copa del rey",
         "marker": {
          "color": "#FECB52",
          "pattern": {
           "shape": ""
          }
         },
         "name": "copa del rey",
         "offsetgroup": "copa del rey",
         "orientation": "v",
         "showlegend": true,
         "type": "histogram",
         "x": [
          "real madrid",
          "real madrid",
          "real madrid",
          "real madrid",
          "real madrid",
          "real madrid",
          "real madrid",
          "real madrid",
          "real madrid",
          "real madrid",
          "real madrid",
          "real madrid",
          "real madrid",
          "real madrid",
          "real madrid",
          "real madrid",
          "real madrid",
          "real madrid",
          "real madrid",
          "real madrid",
          "real madrid",
          "real madrid"
         ],
         "xaxis": "x",
         "yaxis": "y"
        },
        {
         "alignmentgroup": "True",
         "bingroup": "x",
         "hovertemplate": "Competition=supercopa<br>Club=%{x}<br>count=%{y}<extra></extra>",
         "legendgroup": "supercopa",
         "marker": {
          "color": "#636efa",
          "pattern": {
           "shape": ""
          }
         },
         "name": "supercopa",
         "offsetgroup": "supercopa",
         "orientation": "v",
         "showlegend": true,
         "type": "histogram",
         "x": [
          "real madrid",
          "real madrid",
          "real madrid",
          "real madrid"
         ],
         "xaxis": "x",
         "yaxis": "y"
        },
        {
         "alignmentgroup": "True",
         "bingroup": "x",
         "hovertemplate": "Competition=uefa super cup<br>Club=%{x}<br>count=%{y}<extra></extra>",
         "legendgroup": "uefa super cup",
         "marker": {
          "color": "#EF553B",
          "pattern": {
           "shape": ""
          }
         },
         "name": "uefa super cup",
         "offsetgroup": "uefa super cup",
         "orientation": "v",
         "showlegend": true,
         "type": "histogram",
         "x": [
          "real madrid",
          "real madrid"
         ],
         "xaxis": "x",
         "yaxis": "y"
        },
        {
         "alignmentgroup": "True",
         "bingroup": "x",
         "hovertemplate": "Competition=serie a<br>Club=%{x}<br>count=%{y}<extra></extra>",
         "legendgroup": "serie a",
         "marker": {
          "color": "#00cc96",
          "pattern": {
           "shape": ""
          }
         },
         "name": "serie a",
         "offsetgroup": "serie a",
         "orientation": "v",
         "showlegend": true,
         "type": "histogram",
         "x": [
          "juventus fc",
          "juventus fc",
          "juventus fc",
          "juventus fc",
          "juventus fc",
          "juventus fc",
          "juventus fc",
          "juventus fc",
          "juventus fc",
          "juventus fc",
          "juventus fc",
          "juventus fc",
          "juventus fc",
          "juventus fc",
          "juventus fc",
          "juventus fc",
          "juventus fc",
          "juventus fc",
          "juventus fc",
          "juventus fc",
          "juventus fc",
          "juventus fc",
          "juventus fc",
          "juventus fc",
          "juventus fc",
          "juventus fc",
          "juventus fc",
          "juventus fc",
          "juventus fc",
          "juventus fc",
          "juventus fc",
          "juventus fc",
          "juventus fc",
          "juventus fc",
          "juventus fc",
          "juventus fc",
          "juventus fc",
          "juventus fc",
          "juventus fc",
          "juventus fc",
          "juventus fc",
          "juventus fc",
          "juventus fc",
          "juventus fc",
          "juventus fc",
          "juventus fc",
          "juventus fc",
          "juventus fc",
          "juventus fc",
          "juventus fc",
          "juventus fc",
          "juventus fc",
          "juventus fc",
          "juventus fc",
          "juventus fc",
          "juventus fc",
          "juventus fc",
          "juventus fc",
          "juventus fc",
          "juventus fc",
          "juventus fc",
          "juventus fc",
          "juventus fc",
          "juventus fc",
          "juventus fc",
          "juventus fc",
          "juventus fc",
          "juventus fc",
          "juventus fc",
          "juventus fc",
          "juventus fc",
          "juventus fc",
          "juventus fc",
          "juventus fc",
          "juventus fc",
          "juventus fc",
          "juventus fc",
          "juventus fc",
          "juventus fc",
          "juventus fc",
          "juventus fc"
         ],
         "xaxis": "x",
         "yaxis": "y"
        },
        {
         "alignmentgroup": "True",
         "bingroup": "x",
         "hovertemplate": "Competition=supercoppa italiana<br>Club=%{x}<br>count=%{y}<extra></extra>",
         "legendgroup": "supercoppa italiana",
         "marker": {
          "color": "#ab63fa",
          "pattern": {
           "shape": ""
          }
         },
         "name": "supercoppa italiana",
         "offsetgroup": "supercoppa italiana",
         "orientation": "v",
         "showlegend": true,
         "type": "histogram",
         "x": [
          "juventus fc",
          "juventus fc"
         ],
         "xaxis": "x",
         "yaxis": "y"
        },
        {
         "alignmentgroup": "True",
         "bingroup": "x",
         "hovertemplate": "Competition=italy cup<br>Club=%{x}<br>count=%{y}<extra></extra>",
         "legendgroup": "italy cup",
         "marker": {
          "color": "#FFA15A",
          "pattern": {
           "shape": ""
          }
         },
         "name": "italy cup",
         "offsetgroup": "italy cup",
         "orientation": "v",
         "showlegend": true,
         "type": "histogram",
         "x": [
          "juventus fc",
          "juventus fc",
          "juventus fc",
          "juventus fc"
         ],
         "xaxis": "x",
         "yaxis": "y"
        },
        {
         "alignmentgroup": "True",
         "bingroup": "x",
         "hovertemplate": "Competition=europa league<br>Club=%{x}<br>count=%{y}<extra></extra>",
         "legendgroup": "europa league",
         "marker": {
          "color": "#19d3f3",
          "pattern": {
           "shape": ""
          }
         },
         "name": "europa league",
         "offsetgroup": "europa league",
         "orientation": "v",
         "showlegend": true,
         "type": "histogram",
         "x": [
          "manchester united",
          "manchester united"
         ],
         "xaxis": "x",
         "yaxis": "y"
        }
       ],
       "layout": {
        "barmode": "relative",
        "height": 500,
        "legend": {
         "title": {
          "text": "Competition"
         },
         "tracegroupgap": 0
        },
        "template": {
         "data": {
          "bar": [
           {
            "error_x": {
             "color": "#2a3f5f"
            },
            "error_y": {
             "color": "#2a3f5f"
            },
            "marker": {
             "line": {
              "color": "#E5ECF6",
              "width": 0.5
             },
             "pattern": {
              "fillmode": "overlay",
              "size": 10,
              "solidity": 0.2
             }
            },
            "type": "bar"
           }
          ],
          "barpolar": [
           {
            "marker": {
             "line": {
              "color": "#E5ECF6",
              "width": 0.5
             },
             "pattern": {
              "fillmode": "overlay",
              "size": 10,
              "solidity": 0.2
             }
            },
            "type": "barpolar"
           }
          ],
          "carpet": [
           {
            "aaxis": {
             "endlinecolor": "#2a3f5f",
             "gridcolor": "white",
             "linecolor": "white",
             "minorgridcolor": "white",
             "startlinecolor": "#2a3f5f"
            },
            "baxis": {
             "endlinecolor": "#2a3f5f",
             "gridcolor": "white",
             "linecolor": "white",
             "minorgridcolor": "white",
             "startlinecolor": "#2a3f5f"
            },
            "type": "carpet"
           }
          ],
          "choropleth": [
           {
            "colorbar": {
             "outlinewidth": 0,
             "ticks": ""
            },
            "type": "choropleth"
           }
          ],
          "contour": [
           {
            "colorbar": {
             "outlinewidth": 0,
             "ticks": ""
            },
            "colorscale": [
             [
              0,
              "#0d0887"
             ],
             [
              0.1111111111111111,
              "#46039f"
             ],
             [
              0.2222222222222222,
              "#7201a8"
             ],
             [
              0.3333333333333333,
              "#9c179e"
             ],
             [
              0.4444444444444444,
              "#bd3786"
             ],
             [
              0.5555555555555556,
              "#d8576b"
             ],
             [
              0.6666666666666666,
              "#ed7953"
             ],
             [
              0.7777777777777778,
              "#fb9f3a"
             ],
             [
              0.8888888888888888,
              "#fdca26"
             ],
             [
              1,
              "#f0f921"
             ]
            ],
            "type": "contour"
           }
          ],
          "contourcarpet": [
           {
            "colorbar": {
             "outlinewidth": 0,
             "ticks": ""
            },
            "type": "contourcarpet"
           }
          ],
          "heatmap": [
           {
            "colorbar": {
             "outlinewidth": 0,
             "ticks": ""
            },
            "colorscale": [
             [
              0,
              "#0d0887"
             ],
             [
              0.1111111111111111,
              "#46039f"
             ],
             [
              0.2222222222222222,
              "#7201a8"
             ],
             [
              0.3333333333333333,
              "#9c179e"
             ],
             [
              0.4444444444444444,
              "#bd3786"
             ],
             [
              0.5555555555555556,
              "#d8576b"
             ],
             [
              0.6666666666666666,
              "#ed7953"
             ],
             [
              0.7777777777777778,
              "#fb9f3a"
             ],
             [
              0.8888888888888888,
              "#fdca26"
             ],
             [
              1,
              "#f0f921"
             ]
            ],
            "type": "heatmap"
           }
          ],
          "heatmapgl": [
           {
            "colorbar": {
             "outlinewidth": 0,
             "ticks": ""
            },
            "colorscale": [
             [
              0,
              "#0d0887"
             ],
             [
              0.1111111111111111,
              "#46039f"
             ],
             [
              0.2222222222222222,
              "#7201a8"
             ],
             [
              0.3333333333333333,
              "#9c179e"
             ],
             [
              0.4444444444444444,
              "#bd3786"
             ],
             [
              0.5555555555555556,
              "#d8576b"
             ],
             [
              0.6666666666666666,
              "#ed7953"
             ],
             [
              0.7777777777777778,
              "#fb9f3a"
             ],
             [
              0.8888888888888888,
              "#fdca26"
             ],
             [
              1,
              "#f0f921"
             ]
            ],
            "type": "heatmapgl"
           }
          ],
          "histogram": [
           {
            "marker": {
             "pattern": {
              "fillmode": "overlay",
              "size": 10,
              "solidity": 0.2
             }
            },
            "type": "histogram"
           }
          ],
          "histogram2d": [
           {
            "colorbar": {
             "outlinewidth": 0,
             "ticks": ""
            },
            "colorscale": [
             [
              0,
              "#0d0887"
             ],
             [
              0.1111111111111111,
              "#46039f"
             ],
             [
              0.2222222222222222,
              "#7201a8"
             ],
             [
              0.3333333333333333,
              "#9c179e"
             ],
             [
              0.4444444444444444,
              "#bd3786"
             ],
             [
              0.5555555555555556,
              "#d8576b"
             ],
             [
              0.6666666666666666,
              "#ed7953"
             ],
             [
              0.7777777777777778,
              "#fb9f3a"
             ],
             [
              0.8888888888888888,
              "#fdca26"
             ],
             [
              1,
              "#f0f921"
             ]
            ],
            "type": "histogram2d"
           }
          ],
          "histogram2dcontour": [
           {
            "colorbar": {
             "outlinewidth": 0,
             "ticks": ""
            },
            "colorscale": [
             [
              0,
              "#0d0887"
             ],
             [
              0.1111111111111111,
              "#46039f"
             ],
             [
              0.2222222222222222,
              "#7201a8"
             ],
             [
              0.3333333333333333,
              "#9c179e"
             ],
             [
              0.4444444444444444,
              "#bd3786"
             ],
             [
              0.5555555555555556,
              "#d8576b"
             ],
             [
              0.6666666666666666,
              "#ed7953"
             ],
             [
              0.7777777777777778,
              "#fb9f3a"
             ],
             [
              0.8888888888888888,
              "#fdca26"
             ],
             [
              1,
              "#f0f921"
             ]
            ],
            "type": "histogram2dcontour"
           }
          ],
          "mesh3d": [
           {
            "colorbar": {
             "outlinewidth": 0,
             "ticks": ""
            },
            "type": "mesh3d"
           }
          ],
          "parcoords": [
           {
            "line": {
             "colorbar": {
              "outlinewidth": 0,
              "ticks": ""
             }
            },
            "type": "parcoords"
           }
          ],
          "pie": [
           {
            "automargin": true,
            "type": "pie"
           }
          ],
          "scatter": [
           {
            "fillpattern": {
             "fillmode": "overlay",
             "size": 10,
             "solidity": 0.2
            },
            "type": "scatter"
           }
          ],
          "scatter3d": [
           {
            "line": {
             "colorbar": {
              "outlinewidth": 0,
              "ticks": ""
             }
            },
            "marker": {
             "colorbar": {
              "outlinewidth": 0,
              "ticks": ""
             }
            },
            "type": "scatter3d"
           }
          ],
          "scattercarpet": [
           {
            "marker": {
             "colorbar": {
              "outlinewidth": 0,
              "ticks": ""
             }
            },
            "type": "scattercarpet"
           }
          ],
          "scattergeo": [
           {
            "marker": {
             "colorbar": {
              "outlinewidth": 0,
              "ticks": ""
             }
            },
            "type": "scattergeo"
           }
          ],
          "scattergl": [
           {
            "marker": {
             "colorbar": {
              "outlinewidth": 0,
              "ticks": ""
             }
            },
            "type": "scattergl"
           }
          ],
          "scattermapbox": [
           {
            "marker": {
             "colorbar": {
              "outlinewidth": 0,
              "ticks": ""
             }
            },
            "type": "scattermapbox"
           }
          ],
          "scatterpolar": [
           {
            "marker": {
             "colorbar": {
              "outlinewidth": 0,
              "ticks": ""
             }
            },
            "type": "scatterpolar"
           }
          ],
          "scatterpolargl": [
           {
            "marker": {
             "colorbar": {
              "outlinewidth": 0,
              "ticks": ""
             }
            },
            "type": "scatterpolargl"
           }
          ],
          "scatterternary": [
           {
            "marker": {
             "colorbar": {
              "outlinewidth": 0,
              "ticks": ""
             }
            },
            "type": "scatterternary"
           }
          ],
          "surface": [
           {
            "colorbar": {
             "outlinewidth": 0,
             "ticks": ""
            },
            "colorscale": [
             [
              0,
              "#0d0887"
             ],
             [
              0.1111111111111111,
              "#46039f"
             ],
             [
              0.2222222222222222,
              "#7201a8"
             ],
             [
              0.3333333333333333,
              "#9c179e"
             ],
             [
              0.4444444444444444,
              "#bd3786"
             ],
             [
              0.5555555555555556,
              "#d8576b"
             ],
             [
              0.6666666666666666,
              "#ed7953"
             ],
             [
              0.7777777777777778,
              "#fb9f3a"
             ],
             [
              0.8888888888888888,
              "#fdca26"
             ],
             [
              1,
              "#f0f921"
             ]
            ],
            "type": "surface"
           }
          ],
          "table": [
           {
            "cells": {
             "fill": {
              "color": "#EBF0F8"
             },
             "line": {
              "color": "white"
             }
            },
            "header": {
             "fill": {
              "color": "#C8D4E3"
             },
             "line": {
              "color": "white"
             }
            },
            "type": "table"
           }
          ]
         },
         "layout": {
          "annotationdefaults": {
           "arrowcolor": "#2a3f5f",
           "arrowhead": 0,
           "arrowwidth": 1
          },
          "autotypenumbers": "strict",
          "coloraxis": {
           "colorbar": {
            "outlinewidth": 0,
            "ticks": ""
           }
          },
          "colorscale": {
           "diverging": [
            [
             0,
             "#8e0152"
            ],
            [
             0.1,
             "#c51b7d"
            ],
            [
             0.2,
             "#de77ae"
            ],
            [
             0.3,
             "#f1b6da"
            ],
            [
             0.4,
             "#fde0ef"
            ],
            [
             0.5,
             "#f7f7f7"
            ],
            [
             0.6,
             "#e6f5d0"
            ],
            [
             0.7,
             "#b8e186"
            ],
            [
             0.8,
             "#7fbc41"
            ],
            [
             0.9,
             "#4d9221"
            ],
            [
             1,
             "#276419"
            ]
           ],
           "sequential": [
            [
             0,
             "#0d0887"
            ],
            [
             0.1111111111111111,
             "#46039f"
            ],
            [
             0.2222222222222222,
             "#7201a8"
            ],
            [
             0.3333333333333333,
             "#9c179e"
            ],
            [
             0.4444444444444444,
             "#bd3786"
            ],
            [
             0.5555555555555556,
             "#d8576b"
            ],
            [
             0.6666666666666666,
             "#ed7953"
            ],
            [
             0.7777777777777778,
             "#fb9f3a"
            ],
            [
             0.8888888888888888,
             "#fdca26"
            ],
            [
             1,
             "#f0f921"
            ]
           ],
           "sequentialminus": [
            [
             0,
             "#0d0887"
            ],
            [
             0.1111111111111111,
             "#46039f"
            ],
            [
             0.2222222222222222,
             "#7201a8"
            ],
            [
             0.3333333333333333,
             "#9c179e"
            ],
            [
             0.4444444444444444,
             "#bd3786"
            ],
            [
             0.5555555555555556,
             "#d8576b"
            ],
            [
             0.6666666666666666,
             "#ed7953"
            ],
            [
             0.7777777777777778,
             "#fb9f3a"
            ],
            [
             0.8888888888888888,
             "#fdca26"
            ],
            [
             1,
             "#f0f921"
            ]
           ]
          },
          "colorway": [
           "#636efa",
           "#EF553B",
           "#00cc96",
           "#ab63fa",
           "#FFA15A",
           "#19d3f3",
           "#FF6692",
           "#B6E880",
           "#FF97FF",
           "#FECB52"
          ],
          "font": {
           "color": "#2a3f5f"
          },
          "geo": {
           "bgcolor": "white",
           "lakecolor": "white",
           "landcolor": "#E5ECF6",
           "showlakes": true,
           "showland": true,
           "subunitcolor": "white"
          },
          "hoverlabel": {
           "align": "left"
          },
          "hovermode": "closest",
          "mapbox": {
           "style": "light"
          },
          "paper_bgcolor": "white",
          "plot_bgcolor": "#E5ECF6",
          "polar": {
           "angularaxis": {
            "gridcolor": "white",
            "linecolor": "white",
            "ticks": ""
           },
           "bgcolor": "#E5ECF6",
           "radialaxis": {
            "gridcolor": "white",
            "linecolor": "white",
            "ticks": ""
           }
          },
          "scene": {
           "xaxis": {
            "backgroundcolor": "#E5ECF6",
            "gridcolor": "white",
            "gridwidth": 2,
            "linecolor": "white",
            "showbackground": true,
            "ticks": "",
            "zerolinecolor": "white"
           },
           "yaxis": {
            "backgroundcolor": "#E5ECF6",
            "gridcolor": "white",
            "gridwidth": 2,
            "linecolor": "white",
            "showbackground": true,
            "ticks": "",
            "zerolinecolor": "white"
           },
           "zaxis": {
            "backgroundcolor": "#E5ECF6",
            "gridcolor": "white",
            "gridwidth": 2,
            "linecolor": "white",
            "showbackground": true,
            "ticks": "",
            "zerolinecolor": "white"
           }
          },
          "shapedefaults": {
           "line": {
            "color": "#2a3f5f"
           }
          },
          "ternary": {
           "aaxis": {
            "gridcolor": "white",
            "linecolor": "white",
            "ticks": ""
           },
           "baxis": {
            "gridcolor": "white",
            "linecolor": "white",
            "ticks": ""
           },
           "bgcolor": "#E5ECF6",
           "caxis": {
            "gridcolor": "white",
            "linecolor": "white",
            "ticks": ""
           }
          },
          "title": {
           "x": 0.05
          },
          "xaxis": {
           "automargin": true,
           "gridcolor": "white",
           "linecolor": "white",
           "ticks": "",
           "title": {
            "standoff": 15
           },
           "zerolinecolor": "white",
           "zerolinewidth": 2
          },
          "yaxis": {
           "automargin": true,
           "gridcolor": "white",
           "linecolor": "white",
           "ticks": "",
           "title": {
            "standoff": 15
           },
           "zerolinecolor": "white",
           "zerolinewidth": 2
          }
         }
        },
        "title": {
         "text": "Goals per Clubs - Competition"
        },
        "xaxis": {
         "anchor": "y",
         "domain": [
          0,
          1
         ],
         "title": {
          "text": "Club"
         }
        },
        "yaxis": {
         "anchor": "x",
         "domain": [
          0,
          1
         ],
         "title": {
          "text": "count"
         }
        }
       }
      },
      "text/html": [
       "<div>                            <div id=\"2e60b606-8c42-4317-8f29-b2da9b32ff55\" class=\"plotly-graph-div\" style=\"height:500px; width:100%;\"></div>            <script type=\"text/javascript\">                require([\"plotly\"], function(Plotly) {                    window.PLOTLYENV=window.PLOTLYENV || {};                                    if (document.getElementById(\"2e60b606-8c42-4317-8f29-b2da9b32ff55\")) {                    Plotly.newPlot(                        \"2e60b606-8c42-4317-8f29-b2da9b32ff55\",                        [{\"alignmentgroup\":\"True\",\"bingroup\":\"x\",\"hovertemplate\":\"Competition=liga portugal<br>Club=%{x}<br>count=%{y}<extra></extra>\",\"legendgroup\":\"liga portugal\",\"marker\":{\"color\":\"#636efa\",\"pattern\":{\"shape\":\"\"}},\"name\":\"liga portugal\",\"offsetgroup\":\"liga portugal\",\"orientation\":\"v\",\"showlegend\":true,\"x\":[\"sporting cp\",\"sporting cp\",\"sporting cp\"],\"xaxis\":\"x\",\"yaxis\":\"y\",\"type\":\"histogram\"},{\"alignmentgroup\":\"True\",\"bingroup\":\"x\",\"hovertemplate\":\"Competition=taca de portugal placard<br>Club=%{x}<br>count=%{y}<extra></extra>\",\"legendgroup\":\"taca de portugal placard\",\"marker\":{\"color\":\"#EF553B\",\"pattern\":{\"shape\":\"\"}},\"name\":\"taca de portugal placard\",\"offsetgroup\":\"taca de portugal placard\",\"orientation\":\"v\",\"showlegend\":true,\"x\":[\"sporting cp\",\"sporting cp\"],\"xaxis\":\"x\",\"yaxis\":\"y\",\"type\":\"histogram\"},{\"alignmentgroup\":\"True\",\"bingroup\":\"x\",\"hovertemplate\":\"Competition=premier league<br>Club=%{x}<br>count=%{y}<extra></extra>\",\"legendgroup\":\"premier league\",\"marker\":{\"color\":\"#00cc96\",\"pattern\":{\"shape\":\"\"}},\"name\":\"premier league\",\"offsetgroup\":\"premier league\",\"orientation\":\"v\",\"showlegend\":true,\"x\":[\"manchester united\",\"manchester united\",\"manchester united\",\"manchester united\",\"manchester united\",\"manchester united\",\"manchester united\",\"manchester united\",\"manchester united\",\"manchester united\",\"manchester united\",\"manchester united\",\"manchester united\",\"manchester united\",\"manchester united\",\"manchester united\",\"manchester united\",\"manchester united\",\"manchester united\",\"manchester united\",\"manchester united\",\"manchester united\",\"manchester united\",\"manchester united\",\"manchester united\",\"manchester united\",\"manchester united\",\"manchester united\",\"manchester united\",\"manchester united\",\"manchester united\",\"manchester united\",\"manchester united\",\"manchester united\",\"manchester united\",\"manchester united\",\"manchester united\",\"manchester united\",\"manchester united\",\"manchester united\",\"manchester united\",\"manchester united\",\"manchester united\",\"manchester united\",\"manchester united\",\"manchester united\",\"manchester united\",\"manchester united\",\"manchester united\",\"manchester united\",\"manchester united\",\"manchester united\",\"manchester united\",\"manchester united\",\"manchester united\",\"manchester united\",\"manchester united\",\"manchester united\",\"manchester united\",\"manchester united\",\"manchester united\",\"manchester united\",\"manchester united\",\"manchester united\",\"manchester united\",\"manchester united\",\"manchester united\",\"manchester united\",\"manchester united\",\"manchester united\",\"manchester united\",\"manchester united\",\"manchester united\",\"manchester united\",\"manchester united\",\"manchester united\",\"manchester united\",\"manchester united\",\"manchester united\",\"manchester united\",\"manchester united\",\"manchester united\",\"manchester united\",\"manchester united\",\"manchester united\",\"manchester united\",\"manchester united\",\"manchester united\",\"manchester united\",\"manchester united\",\"manchester united\",\"manchester united\",\"manchester united\",\"manchester united\",\"manchester united\",\"manchester united\",\"manchester united\",\"manchester united\",\"manchester united\",\"manchester united\",\"manchester united\",\"manchester united\",\"manchester united\"],\"xaxis\":\"x\",\"yaxis\":\"y\",\"type\":\"histogram\"},{\"alignmentgroup\":\"True\",\"bingroup\":\"x\",\"hovertemplate\":\"Competition=fa cup<br>Club=%{x}<br>count=%{y}<extra></extra>\",\"legendgroup\":\"fa cup\",\"marker\":{\"color\":\"#ab63fa\",\"pattern\":{\"shape\":\"\"}},\"name\":\"fa cup\",\"offsetgroup\":\"fa cup\",\"orientation\":\"v\",\"showlegend\":true,\"x\":[\"manchester united\",\"manchester united\",\"manchester united\",\"manchester united\",\"manchester united\",\"manchester united\",\"manchester united\",\"manchester united\",\"manchester united\",\"manchester united\",\"manchester united\",\"manchester united\",\"manchester united\"],\"xaxis\":\"x\",\"yaxis\":\"y\",\"type\":\"histogram\"},{\"alignmentgroup\":\"True\",\"bingroup\":\"x\",\"hovertemplate\":\"Competition=uefa champions league qualifying<br>Club=%{x}<br>count=%{y}<extra></extra>\",\"legendgroup\":\"uefa champions league qualifying\",\"marker\":{\"color\":\"#FFA15A\",\"pattern\":{\"shape\":\"\"}},\"name\":\"uefa champions league qualifying\",\"offsetgroup\":\"uefa champions league qualifying\",\"orientation\":\"v\",\"showlegend\":true,\"x\":[\"manchester united\"],\"xaxis\":\"x\",\"yaxis\":\"y\",\"type\":\"histogram\"},{\"alignmentgroup\":\"True\",\"bingroup\":\"x\",\"hovertemplate\":\"Competition=efl cup<br>Club=%{x}<br>count=%{y}<extra></extra>\",\"legendgroup\":\"efl cup\",\"marker\":{\"color\":\"#19d3f3\",\"pattern\":{\"shape\":\"\"}},\"name\":\"efl cup\",\"offsetgroup\":\"efl cup\",\"orientation\":\"v\",\"showlegend\":true,\"x\":[\"manchester united\",\"manchester united\",\"manchester united\",\"manchester united\"],\"xaxis\":\"x\",\"yaxis\":\"y\",\"type\":\"histogram\"},{\"alignmentgroup\":\"True\",\"bingroup\":\"x\",\"hovertemplate\":\"Competition=uefa champions league<br>Club=%{x}<br>count=%{y}<extra></extra>\",\"legendgroup\":\"uefa champions league\",\"marker\":{\"color\":\"#FF6692\",\"pattern\":{\"shape\":\"\"}},\"name\":\"uefa champions league\",\"offsetgroup\":\"uefa champions league\",\"orientation\":\"v\",\"showlegend\":true,\"x\":[\"manchester united\",\"manchester united\",\"manchester united\",\"manchester united\",\"manchester united\",\"manchester united\",\"manchester united\",\"manchester united\",\"manchester united\",\"manchester united\",\"manchester united\",\"manchester united\",\"manchester united\",\"manchester united\",\"manchester united\",\"real madrid\",\"real madrid\",\"real madrid\",\"real madrid\",\"real madrid\",\"real madrid\",\"real madrid\",\"real madrid\",\"real madrid\",\"real madrid\",\"real madrid\",\"real madrid\",\"real madrid\",\"real madrid\",\"real madrid\",\"real madrid\",\"real madrid\",\"real madrid\",\"real madrid\",\"real madrid\",\"real madrid\",\"real madrid\",\"real madrid\",\"real madrid\",\"real madrid\",\"real madrid\",\"real madrid\",\"real madrid\",\"real madrid\",\"real madrid\",\"real madrid\",\"real madrid\",\"real madrid\",\"real madrid\",\"real madrid\",\"real madrid\",\"real madrid\",\"real madrid\",\"real madrid\",\"real madrid\",\"real madrid\",\"real madrid\",\"real madrid\",\"real madrid\",\"real madrid\",\"real madrid\",\"real madrid\",\"real madrid\",\"real madrid\",\"real madrid\",\"real madrid\",\"real madrid\",\"real madrid\",\"real madrid\",\"real madrid\",\"real madrid\",\"real madrid\",\"real madrid\",\"real madrid\",\"real madrid\",\"real madrid\",\"real madrid\",\"real madrid\",\"real madrid\",\"real madrid\",\"real madrid\",\"real madrid\",\"real madrid\",\"real madrid\",\"real madrid\",\"real madrid\",\"real madrid\",\"real madrid\",\"real madrid\",\"real madrid\",\"real madrid\",\"real madrid\",\"real madrid\",\"real madrid\",\"real madrid\",\"real madrid\",\"real madrid\",\"real madrid\",\"real madrid\",\"real madrid\",\"real madrid\",\"real madrid\",\"real madrid\",\"real madrid\",\"real madrid\",\"real madrid\",\"real madrid\",\"real madrid\",\"real madrid\",\"real madrid\",\"real madrid\",\"real madrid\",\"real madrid\",\"real madrid\",\"real madrid\",\"real madrid\",\"real madrid\",\"real madrid\",\"real madrid\",\"real madrid\",\"juventus fc\",\"juventus fc\",\"juventus fc\",\"juventus fc\",\"juventus fc\",\"juventus fc\",\"juventus fc\",\"juventus fc\",\"juventus fc\",\"juventus fc\",\"juventus fc\",\"juventus fc\",\"juventus fc\",\"juventus fc\",\"manchester united\",\"manchester united\",\"manchester united\",\"manchester united\",\"manchester united\",\"manchester united\"],\"xaxis\":\"x\",\"yaxis\":\"y\",\"type\":\"histogram\"},{\"alignmentgroup\":\"True\",\"bingroup\":\"x\",\"hovertemplate\":\"Competition=fifa club world cup<br>Club=%{x}<br>count=%{y}<extra></extra>\",\"legendgroup\":\"fifa club world cup\",\"marker\":{\"color\":\"#B6E880\",\"pattern\":{\"shape\":\"\"}},\"name\":\"fifa club world cup\",\"offsetgroup\":\"fifa club world cup\",\"orientation\":\"v\",\"showlegend\":true,\"x\":[\"manchester united\",\"real madrid\",\"real madrid\",\"real madrid\",\"real madrid\",\"real madrid\",\"real madrid\"],\"xaxis\":\"x\",\"yaxis\":\"y\",\"type\":\"histogram\"},{\"alignmentgroup\":\"True\",\"bingroup\":\"x\",\"hovertemplate\":\"Competition=laliga<br>Club=%{x}<br>count=%{y}<extra></extra>\",\"legendgroup\":\"laliga\",\"marker\":{\"color\":\"#FF97FF\",\"pattern\":{\"shape\":\"\"}},\"name\":\"laliga\",\"offsetgroup\":\"laliga\",\"orientation\":\"v\",\"showlegend\":true,\"x\":[\"real madrid\",\"real madrid\",\"real madrid\",\"real madrid\",\"real madrid\",\"real madrid\",\"real madrid\",\"real madrid\",\"real madrid\",\"real madrid\",\"real madrid\",\"real madrid\",\"real madrid\",\"real madrid\",\"real madrid\",\"real madrid\",\"real madrid\",\"real madrid\",\"real madrid\",\"real madrid\",\"real madrid\",\"real madrid\",\"real madrid\",\"real madrid\",\"real madrid\",\"real madrid\",\"real madrid\",\"real madrid\",\"real madrid\",\"real madrid\",\"real madrid\",\"real madrid\",\"real madrid\",\"real madrid\",\"real madrid\",\"real madrid\",\"real madrid\",\"real madrid\",\"real madrid\",\"real madrid\",\"real madrid\",\"real madrid\",\"real madrid\",\"real madrid\",\"real madrid\",\"real madrid\",\"real madrid\",\"real madrid\",\"real madrid\",\"real madrid\",\"real madrid\",\"real madrid\",\"real madrid\",\"real madrid\",\"real madrid\",\"real madrid\",\"real madrid\",\"real madrid\",\"real madrid\",\"real madrid\",\"real madrid\",\"real madrid\",\"real madrid\",\"real madrid\",\"real madrid\",\"real madrid\",\"real madrid\",\"real madrid\",\"real madrid\",\"real madrid\",\"real madrid\",\"real madrid\",\"real madrid\",\"real madrid\",\"real madrid\",\"real madrid\",\"real madrid\",\"real madrid\",\"real madrid\",\"real madrid\",\"real madrid\",\"real madrid\",\"real madrid\",\"real madrid\",\"real madrid\",\"real madrid\",\"real madrid\",\"real madrid\",\"real madrid\",\"real madrid\",\"real madrid\",\"real madrid\",\"real madrid\",\"real madrid\",\"real madrid\",\"real madrid\",\"real madrid\",\"real madrid\",\"real madrid\",\"real madrid\",\"real madrid\",\"real madrid\",\"real madrid\",\"real madrid\",\"real madrid\",\"real madrid\",\"real madrid\",\"real madrid\",\"real madrid\",\"real madrid\",\"real madrid\",\"real madrid\",\"real madrid\",\"real madrid\",\"real madrid\",\"real madrid\",\"real madrid\",\"real madrid\",\"real madrid\",\"real madrid\",\"real madrid\",\"real madrid\",\"real madrid\",\"real madrid\",\"real madrid\",\"real madrid\",\"real madrid\",\"real madrid\",\"real madrid\",\"real madrid\",\"real madrid\",\"real madrid\",\"real madrid\",\"real madrid\",\"real madrid\",\"real madrid\",\"real madrid\",\"real madrid\",\"real madrid\",\"real madrid\",\"real madrid\",\"real madrid\",\"real madrid\",\"real madrid\",\"real madrid\",\"real madrid\",\"real madrid\",\"real madrid\",\"real madrid\",\"real madrid\",\"real madrid\",\"real madrid\",\"real madrid\",\"real madrid\",\"real madrid\",\"real madrid\",\"real madrid\",\"real madrid\",\"real madrid\",\"real madrid\",\"real madrid\",\"real madrid\",\"real madrid\",\"real madrid\",\"real madrid\",\"real madrid\",\"real madrid\",\"real madrid\",\"real madrid\",\"real madrid\",\"real madrid\",\"real madrid\",\"real madrid\",\"real madrid\",\"real madrid\",\"real madrid\",\"real madrid\",\"real madrid\",\"real madrid\",\"real madrid\",\"real madrid\",\"real madrid\",\"real madrid\",\"real madrid\",\"real madrid\",\"real madrid\",\"real madrid\",\"real madrid\",\"real madrid\",\"real madrid\",\"real madrid\",\"real madrid\",\"real madrid\",\"real madrid\",\"real madrid\",\"real madrid\",\"real madrid\",\"real madrid\",\"real madrid\",\"real madrid\",\"real madrid\",\"real madrid\",\"real madrid\",\"real madrid\",\"real madrid\",\"real madrid\",\"real madrid\",\"real madrid\",\"real madrid\",\"real madrid\",\"real madrid\",\"real madrid\",\"real madrid\",\"real madrid\",\"real madrid\",\"real madrid\",\"real madrid\",\"real madrid\",\"real madrid\",\"real madrid\",\"real madrid\",\"real madrid\",\"real madrid\",\"real madrid\",\"real madrid\",\"real madrid\",\"real madrid\",\"real madrid\",\"real madrid\",\"real madrid\",\"real madrid\",\"real madrid\",\"real madrid\",\"real madrid\",\"real madrid\",\"real madrid\",\"real madrid\",\"real madrid\",\"real madrid\",\"real madrid\",\"real madrid\",\"real madrid\",\"real madrid\",\"real madrid\",\"real madrid\",\"real madrid\",\"real madrid\",\"real madrid\",\"real madrid\",\"real madrid\",\"real madrid\",\"real madrid\",\"real madrid\",\"real madrid\",\"real madrid\",\"real madrid\",\"real madrid\",\"real madrid\",\"real madrid\",\"real madrid\",\"real madrid\",\"real madrid\",\"real madrid\",\"real madrid\",\"real madrid\",\"real madrid\",\"real madrid\",\"real madrid\",\"real madrid\",\"real madrid\",\"real madrid\",\"real madrid\",\"real madrid\",\"real madrid\",\"real madrid\",\"real madrid\",\"real madrid\",\"real madrid\",\"real madrid\",\"real madrid\",\"real madrid\",\"real madrid\",\"real madrid\",\"real madrid\",\"real madrid\",\"real madrid\",\"real madrid\",\"real madrid\",\"real madrid\",\"real madrid\",\"real madrid\",\"real madrid\",\"real madrid\",\"real madrid\",\"real madrid\",\"real madrid\",\"real madrid\",\"real madrid\",\"real madrid\",\"real madrid\",\"real madrid\",\"real madrid\",\"real madrid\",\"real madrid\",\"real madrid\",\"real madrid\",\"real madrid\",\"real madrid\",\"real madrid\",\"real madrid\",\"real madrid\"],\"xaxis\":\"x\",\"yaxis\":\"y\",\"type\":\"histogram\"},{\"alignmentgroup\":\"True\",\"bingroup\":\"x\",\"hovertemplate\":\"Competition=copa del rey<br>Club=%{x}<br>count=%{y}<extra></extra>\",\"legendgroup\":\"copa del rey\",\"marker\":{\"color\":\"#FECB52\",\"pattern\":{\"shape\":\"\"}},\"name\":\"copa del rey\",\"offsetgroup\":\"copa del rey\",\"orientation\":\"v\",\"showlegend\":true,\"x\":[\"real madrid\",\"real madrid\",\"real madrid\",\"real madrid\",\"real madrid\",\"real madrid\",\"real madrid\",\"real madrid\",\"real madrid\",\"real madrid\",\"real madrid\",\"real madrid\",\"real madrid\",\"real madrid\",\"real madrid\",\"real madrid\",\"real madrid\",\"real madrid\",\"real madrid\",\"real madrid\",\"real madrid\",\"real madrid\"],\"xaxis\":\"x\",\"yaxis\":\"y\",\"type\":\"histogram\"},{\"alignmentgroup\":\"True\",\"bingroup\":\"x\",\"hovertemplate\":\"Competition=supercopa<br>Club=%{x}<br>count=%{y}<extra></extra>\",\"legendgroup\":\"supercopa\",\"marker\":{\"color\":\"#636efa\",\"pattern\":{\"shape\":\"\"}},\"name\":\"supercopa\",\"offsetgroup\":\"supercopa\",\"orientation\":\"v\",\"showlegend\":true,\"x\":[\"real madrid\",\"real madrid\",\"real madrid\",\"real madrid\"],\"xaxis\":\"x\",\"yaxis\":\"y\",\"type\":\"histogram\"},{\"alignmentgroup\":\"True\",\"bingroup\":\"x\",\"hovertemplate\":\"Competition=uefa super cup<br>Club=%{x}<br>count=%{y}<extra></extra>\",\"legendgroup\":\"uefa super cup\",\"marker\":{\"color\":\"#EF553B\",\"pattern\":{\"shape\":\"\"}},\"name\":\"uefa super cup\",\"offsetgroup\":\"uefa super cup\",\"orientation\":\"v\",\"showlegend\":true,\"x\":[\"real madrid\",\"real madrid\"],\"xaxis\":\"x\",\"yaxis\":\"y\",\"type\":\"histogram\"},{\"alignmentgroup\":\"True\",\"bingroup\":\"x\",\"hovertemplate\":\"Competition=serie a<br>Club=%{x}<br>count=%{y}<extra></extra>\",\"legendgroup\":\"serie a\",\"marker\":{\"color\":\"#00cc96\",\"pattern\":{\"shape\":\"\"}},\"name\":\"serie a\",\"offsetgroup\":\"serie a\",\"orientation\":\"v\",\"showlegend\":true,\"x\":[\"juventus fc\",\"juventus fc\",\"juventus fc\",\"juventus fc\",\"juventus fc\",\"juventus fc\",\"juventus fc\",\"juventus fc\",\"juventus fc\",\"juventus fc\",\"juventus fc\",\"juventus fc\",\"juventus fc\",\"juventus fc\",\"juventus fc\",\"juventus fc\",\"juventus fc\",\"juventus fc\",\"juventus fc\",\"juventus fc\",\"juventus fc\",\"juventus fc\",\"juventus fc\",\"juventus fc\",\"juventus fc\",\"juventus fc\",\"juventus fc\",\"juventus fc\",\"juventus fc\",\"juventus fc\",\"juventus fc\",\"juventus fc\",\"juventus fc\",\"juventus fc\",\"juventus fc\",\"juventus fc\",\"juventus fc\",\"juventus fc\",\"juventus fc\",\"juventus fc\",\"juventus fc\",\"juventus fc\",\"juventus fc\",\"juventus fc\",\"juventus fc\",\"juventus fc\",\"juventus fc\",\"juventus fc\",\"juventus fc\",\"juventus fc\",\"juventus fc\",\"juventus fc\",\"juventus fc\",\"juventus fc\",\"juventus fc\",\"juventus fc\",\"juventus fc\",\"juventus fc\",\"juventus fc\",\"juventus fc\",\"juventus fc\",\"juventus fc\",\"juventus fc\",\"juventus fc\",\"juventus fc\",\"juventus fc\",\"juventus fc\",\"juventus fc\",\"juventus fc\",\"juventus fc\",\"juventus fc\",\"juventus fc\",\"juventus fc\",\"juventus fc\",\"juventus fc\",\"juventus fc\",\"juventus fc\",\"juventus fc\",\"juventus fc\",\"juventus fc\",\"juventus fc\"],\"xaxis\":\"x\",\"yaxis\":\"y\",\"type\":\"histogram\"},{\"alignmentgroup\":\"True\",\"bingroup\":\"x\",\"hovertemplate\":\"Competition=supercoppa italiana<br>Club=%{x}<br>count=%{y}<extra></extra>\",\"legendgroup\":\"supercoppa italiana\",\"marker\":{\"color\":\"#ab63fa\",\"pattern\":{\"shape\":\"\"}},\"name\":\"supercoppa italiana\",\"offsetgroup\":\"supercoppa italiana\",\"orientation\":\"v\",\"showlegend\":true,\"x\":[\"juventus fc\",\"juventus fc\"],\"xaxis\":\"x\",\"yaxis\":\"y\",\"type\":\"histogram\"},{\"alignmentgroup\":\"True\",\"bingroup\":\"x\",\"hovertemplate\":\"Competition=italy cup<br>Club=%{x}<br>count=%{y}<extra></extra>\",\"legendgroup\":\"italy cup\",\"marker\":{\"color\":\"#FFA15A\",\"pattern\":{\"shape\":\"\"}},\"name\":\"italy cup\",\"offsetgroup\":\"italy cup\",\"orientation\":\"v\",\"showlegend\":true,\"x\":[\"juventus fc\",\"juventus fc\",\"juventus fc\",\"juventus fc\"],\"xaxis\":\"x\",\"yaxis\":\"y\",\"type\":\"histogram\"},{\"alignmentgroup\":\"True\",\"bingroup\":\"x\",\"hovertemplate\":\"Competition=europa league<br>Club=%{x}<br>count=%{y}<extra></extra>\",\"legendgroup\":\"europa league\",\"marker\":{\"color\":\"#19d3f3\",\"pattern\":{\"shape\":\"\"}},\"name\":\"europa league\",\"offsetgroup\":\"europa league\",\"orientation\":\"v\",\"showlegend\":true,\"x\":[\"manchester united\",\"manchester united\"],\"xaxis\":\"x\",\"yaxis\":\"y\",\"type\":\"histogram\"}],                        {\"template\":{\"data\":{\"histogram2dcontour\":[{\"type\":\"histogram2dcontour\",\"colorbar\":{\"outlinewidth\":0,\"ticks\":\"\"},\"colorscale\":[[0.0,\"#0d0887\"],[0.1111111111111111,\"#46039f\"],[0.2222222222222222,\"#7201a8\"],[0.3333333333333333,\"#9c179e\"],[0.4444444444444444,\"#bd3786\"],[0.5555555555555556,\"#d8576b\"],[0.6666666666666666,\"#ed7953\"],[0.7777777777777778,\"#fb9f3a\"],[0.8888888888888888,\"#fdca26\"],[1.0,\"#f0f921\"]]}],\"choropleth\":[{\"type\":\"choropleth\",\"colorbar\":{\"outlinewidth\":0,\"ticks\":\"\"}}],\"histogram2d\":[{\"type\":\"histogram2d\",\"colorbar\":{\"outlinewidth\":0,\"ticks\":\"\"},\"colorscale\":[[0.0,\"#0d0887\"],[0.1111111111111111,\"#46039f\"],[0.2222222222222222,\"#7201a8\"],[0.3333333333333333,\"#9c179e\"],[0.4444444444444444,\"#bd3786\"],[0.5555555555555556,\"#d8576b\"],[0.6666666666666666,\"#ed7953\"],[0.7777777777777778,\"#fb9f3a\"],[0.8888888888888888,\"#fdca26\"],[1.0,\"#f0f921\"]]}],\"heatmap\":[{\"type\":\"heatmap\",\"colorbar\":{\"outlinewidth\":0,\"ticks\":\"\"},\"colorscale\":[[0.0,\"#0d0887\"],[0.1111111111111111,\"#46039f\"],[0.2222222222222222,\"#7201a8\"],[0.3333333333333333,\"#9c179e\"],[0.4444444444444444,\"#bd3786\"],[0.5555555555555556,\"#d8576b\"],[0.6666666666666666,\"#ed7953\"],[0.7777777777777778,\"#fb9f3a\"],[0.8888888888888888,\"#fdca26\"],[1.0,\"#f0f921\"]]}],\"heatmapgl\":[{\"type\":\"heatmapgl\",\"colorbar\":{\"outlinewidth\":0,\"ticks\":\"\"},\"colorscale\":[[0.0,\"#0d0887\"],[0.1111111111111111,\"#46039f\"],[0.2222222222222222,\"#7201a8\"],[0.3333333333333333,\"#9c179e\"],[0.4444444444444444,\"#bd3786\"],[0.5555555555555556,\"#d8576b\"],[0.6666666666666666,\"#ed7953\"],[0.7777777777777778,\"#fb9f3a\"],[0.8888888888888888,\"#fdca26\"],[1.0,\"#f0f921\"]]}],\"contourcarpet\":[{\"type\":\"contourcarpet\",\"colorbar\":{\"outlinewidth\":0,\"ticks\":\"\"}}],\"contour\":[{\"type\":\"contour\",\"colorbar\":{\"outlinewidth\":0,\"ticks\":\"\"},\"colorscale\":[[0.0,\"#0d0887\"],[0.1111111111111111,\"#46039f\"],[0.2222222222222222,\"#7201a8\"],[0.3333333333333333,\"#9c179e\"],[0.4444444444444444,\"#bd3786\"],[0.5555555555555556,\"#d8576b\"],[0.6666666666666666,\"#ed7953\"],[0.7777777777777778,\"#fb9f3a\"],[0.8888888888888888,\"#fdca26\"],[1.0,\"#f0f921\"]]}],\"surface\":[{\"type\":\"surface\",\"colorbar\":{\"outlinewidth\":0,\"ticks\":\"\"},\"colorscale\":[[0.0,\"#0d0887\"],[0.1111111111111111,\"#46039f\"],[0.2222222222222222,\"#7201a8\"],[0.3333333333333333,\"#9c179e\"],[0.4444444444444444,\"#bd3786\"],[0.5555555555555556,\"#d8576b\"],[0.6666666666666666,\"#ed7953\"],[0.7777777777777778,\"#fb9f3a\"],[0.8888888888888888,\"#fdca26\"],[1.0,\"#f0f921\"]]}],\"mesh3d\":[{\"type\":\"mesh3d\",\"colorbar\":{\"outlinewidth\":0,\"ticks\":\"\"}}],\"scatter\":[{\"fillpattern\":{\"fillmode\":\"overlay\",\"size\":10,\"solidity\":0.2},\"type\":\"scatter\"}],\"parcoords\":[{\"type\":\"parcoords\",\"line\":{\"colorbar\":{\"outlinewidth\":0,\"ticks\":\"\"}}}],\"scatterpolargl\":[{\"type\":\"scatterpolargl\",\"marker\":{\"colorbar\":{\"outlinewidth\":0,\"ticks\":\"\"}}}],\"bar\":[{\"error_x\":{\"color\":\"#2a3f5f\"},\"error_y\":{\"color\":\"#2a3f5f\"},\"marker\":{\"line\":{\"color\":\"#E5ECF6\",\"width\":0.5},\"pattern\":{\"fillmode\":\"overlay\",\"size\":10,\"solidity\":0.2}},\"type\":\"bar\"}],\"scattergeo\":[{\"type\":\"scattergeo\",\"marker\":{\"colorbar\":{\"outlinewidth\":0,\"ticks\":\"\"}}}],\"scatterpolar\":[{\"type\":\"scatterpolar\",\"marker\":{\"colorbar\":{\"outlinewidth\":0,\"ticks\":\"\"}}}],\"histogram\":[{\"marker\":{\"pattern\":{\"fillmode\":\"overlay\",\"size\":10,\"solidity\":0.2}},\"type\":\"histogram\"}],\"scattergl\":[{\"type\":\"scattergl\",\"marker\":{\"colorbar\":{\"outlinewidth\":0,\"ticks\":\"\"}}}],\"scatter3d\":[{\"type\":\"scatter3d\",\"line\":{\"colorbar\":{\"outlinewidth\":0,\"ticks\":\"\"}},\"marker\":{\"colorbar\":{\"outlinewidth\":0,\"ticks\":\"\"}}}],\"scattermapbox\":[{\"type\":\"scattermapbox\",\"marker\":{\"colorbar\":{\"outlinewidth\":0,\"ticks\":\"\"}}}],\"scatterternary\":[{\"type\":\"scatterternary\",\"marker\":{\"colorbar\":{\"outlinewidth\":0,\"ticks\":\"\"}}}],\"scattercarpet\":[{\"type\":\"scattercarpet\",\"marker\":{\"colorbar\":{\"outlinewidth\":0,\"ticks\":\"\"}}}],\"carpet\":[{\"aaxis\":{\"endlinecolor\":\"#2a3f5f\",\"gridcolor\":\"white\",\"linecolor\":\"white\",\"minorgridcolor\":\"white\",\"startlinecolor\":\"#2a3f5f\"},\"baxis\":{\"endlinecolor\":\"#2a3f5f\",\"gridcolor\":\"white\",\"linecolor\":\"white\",\"minorgridcolor\":\"white\",\"startlinecolor\":\"#2a3f5f\"},\"type\":\"carpet\"}],\"table\":[{\"cells\":{\"fill\":{\"color\":\"#EBF0F8\"},\"line\":{\"color\":\"white\"}},\"header\":{\"fill\":{\"color\":\"#C8D4E3\"},\"line\":{\"color\":\"white\"}},\"type\":\"table\"}],\"barpolar\":[{\"marker\":{\"line\":{\"color\":\"#E5ECF6\",\"width\":0.5},\"pattern\":{\"fillmode\":\"overlay\",\"size\":10,\"solidity\":0.2}},\"type\":\"barpolar\"}],\"pie\":[{\"automargin\":true,\"type\":\"pie\"}]},\"layout\":{\"autotypenumbers\":\"strict\",\"colorway\":[\"#636efa\",\"#EF553B\",\"#00cc96\",\"#ab63fa\",\"#FFA15A\",\"#19d3f3\",\"#FF6692\",\"#B6E880\",\"#FF97FF\",\"#FECB52\"],\"font\":{\"color\":\"#2a3f5f\"},\"hovermode\":\"closest\",\"hoverlabel\":{\"align\":\"left\"},\"paper_bgcolor\":\"white\",\"plot_bgcolor\":\"#E5ECF6\",\"polar\":{\"bgcolor\":\"#E5ECF6\",\"angularaxis\":{\"gridcolor\":\"white\",\"linecolor\":\"white\",\"ticks\":\"\"},\"radialaxis\":{\"gridcolor\":\"white\",\"linecolor\":\"white\",\"ticks\":\"\"}},\"ternary\":{\"bgcolor\":\"#E5ECF6\",\"aaxis\":{\"gridcolor\":\"white\",\"linecolor\":\"white\",\"ticks\":\"\"},\"baxis\":{\"gridcolor\":\"white\",\"linecolor\":\"white\",\"ticks\":\"\"},\"caxis\":{\"gridcolor\":\"white\",\"linecolor\":\"white\",\"ticks\":\"\"}},\"coloraxis\":{\"colorbar\":{\"outlinewidth\":0,\"ticks\":\"\"}},\"colorscale\":{\"sequential\":[[0.0,\"#0d0887\"],[0.1111111111111111,\"#46039f\"],[0.2222222222222222,\"#7201a8\"],[0.3333333333333333,\"#9c179e\"],[0.4444444444444444,\"#bd3786\"],[0.5555555555555556,\"#d8576b\"],[0.6666666666666666,\"#ed7953\"],[0.7777777777777778,\"#fb9f3a\"],[0.8888888888888888,\"#fdca26\"],[1.0,\"#f0f921\"]],\"sequentialminus\":[[0.0,\"#0d0887\"],[0.1111111111111111,\"#46039f\"],[0.2222222222222222,\"#7201a8\"],[0.3333333333333333,\"#9c179e\"],[0.4444444444444444,\"#bd3786\"],[0.5555555555555556,\"#d8576b\"],[0.6666666666666666,\"#ed7953\"],[0.7777777777777778,\"#fb9f3a\"],[0.8888888888888888,\"#fdca26\"],[1.0,\"#f0f921\"]],\"diverging\":[[0,\"#8e0152\"],[0.1,\"#c51b7d\"],[0.2,\"#de77ae\"],[0.3,\"#f1b6da\"],[0.4,\"#fde0ef\"],[0.5,\"#f7f7f7\"],[0.6,\"#e6f5d0\"],[0.7,\"#b8e186\"],[0.8,\"#7fbc41\"],[0.9,\"#4d9221\"],[1,\"#276419\"]]},\"xaxis\":{\"gridcolor\":\"white\",\"linecolor\":\"white\",\"ticks\":\"\",\"title\":{\"standoff\":15},\"zerolinecolor\":\"white\",\"automargin\":true,\"zerolinewidth\":2},\"yaxis\":{\"gridcolor\":\"white\",\"linecolor\":\"white\",\"ticks\":\"\",\"title\":{\"standoff\":15},\"zerolinecolor\":\"white\",\"automargin\":true,\"zerolinewidth\":2},\"scene\":{\"xaxis\":{\"backgroundcolor\":\"#E5ECF6\",\"gridcolor\":\"white\",\"linecolor\":\"white\",\"showbackground\":true,\"ticks\":\"\",\"zerolinecolor\":\"white\",\"gridwidth\":2},\"yaxis\":{\"backgroundcolor\":\"#E5ECF6\",\"gridcolor\":\"white\",\"linecolor\":\"white\",\"showbackground\":true,\"ticks\":\"\",\"zerolinecolor\":\"white\",\"gridwidth\":2},\"zaxis\":{\"backgroundcolor\":\"#E5ECF6\",\"gridcolor\":\"white\",\"linecolor\":\"white\",\"showbackground\":true,\"ticks\":\"\",\"zerolinecolor\":\"white\",\"gridwidth\":2}},\"shapedefaults\":{\"line\":{\"color\":\"#2a3f5f\"}},\"annotationdefaults\":{\"arrowcolor\":\"#2a3f5f\",\"arrowhead\":0,\"arrowwidth\":1},\"geo\":{\"bgcolor\":\"white\",\"landcolor\":\"#E5ECF6\",\"subunitcolor\":\"white\",\"showland\":true,\"showlakes\":true,\"lakecolor\":\"white\"},\"title\":{\"x\":0.05},\"mapbox\":{\"style\":\"light\"}}},\"xaxis\":{\"anchor\":\"y\",\"domain\":[0.0,1.0],\"title\":{\"text\":\"Club\"}},\"yaxis\":{\"anchor\":\"x\",\"domain\":[0.0,1.0],\"title\":{\"text\":\"count\"}},\"legend\":{\"title\":{\"text\":\"Competition\"},\"tracegroupgap\":0},\"title\":{\"text\":\"Goals per Clubs - Competition\"},\"barmode\":\"relative\",\"height\":500},                        {\"responsive\": true}                    ).then(function(){\n",
       "                            \n",
       "var gd = document.getElementById('2e60b606-8c42-4317-8f29-b2da9b32ff55');\n",
       "var x = new MutationObserver(function (mutations, observer) {{\n",
       "        var display = window.getComputedStyle(gd).display;\n",
       "        if (!display || display === 'none') {{\n",
       "            console.log([gd, 'removed!']);\n",
       "            Plotly.purge(gd);\n",
       "            observer.disconnect();\n",
       "        }}\n",
       "}});\n",
       "\n",
       "// Listen for the removal of the full notebook cells\n",
       "var notebookContainer = gd.closest('#notebook-container');\n",
       "if (notebookContainer) {{\n",
       "    x.observe(notebookContainer, {childList: true});\n",
       "}}\n",
       "\n",
       "// Listen for the clearing of the current output cell\n",
       "var outputEl = gd.closest('.output');\n",
       "if (outputEl) {{\n",
       "    x.observe(outputEl, {childList: true});\n",
       "}}\n",
       "\n",
       "                        })                };                });            </script>        </div>"
      ]
     },
     "metadata": {},
     "output_type": "display_data"
    }
   ],
   "source": [
    "px.histogram(\n",
    "    cr7_df,\n",
    "    x='Club',\n",
    "    title=\"Goals per Clubs - Competition\",\n",
    "    log_x=False,\n",
    "    log_y=False,\n",
    "    #symbol='title',\n",
    "    #markers=True,\n",
    "    #width=800, \n",
    "    height=500,\n",
    "    color='Competition',\n",
    "    hover_name='Competition',\n",
    "    hover_data=['Competition','Season','Club'])"
   ]
  },
  {
   "cell_type": "markdown",
   "id": "9e0c06e1",
   "metadata": {},
   "source": [
    "# Number of total career goals scored by team and playing position\n",
    "Early in his career, Ronaldo often played on the right wing, but since moving to Real Madrid, he has often played on the left wing or CF, scoring the most goals when he played on the left wing."
   ]
  },
  {
   "cell_type": "code",
   "execution_count": 240,
   "id": "78548749",
   "metadata": {},
   "outputs": [
    {
     "data": {
      "application/vnd.plotly.v1+json": {
       "config": {
        "plotlyServerURL": "https://plot.ly"
       },
       "data": [
        {
         "alignmentgroup": "True",
         "bingroup": "x",
         "hovertemplate": "Club=sporting cp<br>Playing_Position=%{x}<br>count=%{y}<extra></extra>",
         "legendgroup": "sporting cp",
         "marker": {
          "color": "#636efa",
          "pattern": {
           "shape": ""
          }
         },
         "name": "sporting cp",
         "offsetgroup": "sporting cp",
         "orientation": "v",
         "showlegend": true,
         "type": "histogram",
         "x": [
          "lw",
          "lw",
          null,
          null,
          null
         ],
         "xaxis": "x",
         "yaxis": "y"
        },
        {
         "alignmentgroup": "True",
         "bingroup": "x",
         "hovertemplate": "Club=manchester united<br>Playing_Position=%{x}<br>count=%{y}<extra></extra>",
         "legendgroup": "manchester united",
         "marker": {
          "color": "#EF553B",
          "pattern": {
           "shape": ""
          }
         },
         "name": "manchester united",
         "offsetgroup": "manchester united",
         "orientation": "v",
         "showlegend": true,
         "type": "histogram",
         "x": [
          "rw",
          "rw",
          null,
          null,
          null,
          "rw",
          null,
          null,
          null,
          "rw",
          "rw",
          null,
          null,
          null,
          "rw",
          null,
          null,
          "rw",
          null,
          null,
          null,
          null,
          "rw",
          "rw",
          "rw",
          null,
          "rw",
          null,
          "cf",
          null,
          "rw",
          null,
          null,
          null,
          null,
          null,
          null,
          "rw",
          "rw",
          null,
          "rw",
          "rw",
          null,
          "rw",
          null,
          "rw",
          "rw",
          null,
          "rw",
          "rw",
          "rw",
          "rw",
          "rw",
          "rw",
          "rw",
          "rw",
          "rw",
          "rw",
          "rw",
          "rw",
          "rw",
          null,
          null,
          null,
          "rw",
          "rw",
          null,
          "rw",
          null,
          "rw",
          "rw",
          "rw",
          "rw",
          "rw",
          "rw",
          "rw",
          "rw",
          "rw",
          "rw",
          "rw",
          null,
          null,
          null,
          "rw",
          "rw",
          "rw",
          "rw",
          "rw",
          "rw",
          "rw",
          "rw",
          "lw",
          null,
          "rw",
          "rw",
          "rw",
          "rw",
          "rw",
          "rw",
          "rw",
          "rw",
          "lw",
          null,
          "lw",
          "lw",
          "lw",
          "cf",
          null,
          "rw",
          "rw",
          "rw",
          "rw",
          "rw",
          "rw",
          "rw",
          "cf",
          "cf",
          "rw",
          "cf",
          "cf",
          "cf",
          "cf",
          "cf",
          "cf",
          "cf",
          "cf",
          "cf",
          "cf",
          "cf",
          "cf",
          "cf",
          "cf",
          "cf",
          "cf",
          "cf",
          "cf",
          "cf",
          "cf",
          "cf",
          "cf",
          "cf",
          "cf",
          "cf",
          null,
          "cf"
         ],
         "xaxis": "x",
         "yaxis": "y"
        },
        {
         "alignmentgroup": "True",
         "bingroup": "x",
         "hovertemplate": "Club=real madrid<br>Playing_Position=%{x}<br>count=%{y}<extra></extra>",
         "legendgroup": "real madrid",
         "marker": {
          "color": "#00cc96",
          "pattern": {
           "shape": ""
          }
         },
         "name": "real madrid",
         "offsetgroup": "real madrid",
         "orientation": "v",
         "showlegend": true,
         "type": "histogram",
         "x": [
          "rw",
          null,
          "cf",
          "cf",
          "rw",
          "rw",
          "cf",
          "cf",
          "cf",
          "cf",
          "cf",
          "cf",
          "cf",
          "rw",
          "rw",
          null,
          null,
          null,
          null,
          "cf",
          "lw",
          "cf",
          null,
          null,
          null,
          null,
          "cf",
          null,
          null,
          null,
          null,
          null,
          "cf",
          "lw",
          "lw",
          "lw",
          "lw",
          "lw",
          "lw",
          "lw",
          "lw",
          "lw",
          "lw",
          "lw",
          "lw",
          null,
          "lw",
          "lw",
          "lw",
          "lw",
          "lw",
          "lw",
          "lw",
          "lw",
          "lw",
          "lw",
          "lw",
          "lw",
          "lw",
          "lw",
          "lw",
          "lw",
          "lw",
          "lw",
          "cf",
          "lw",
          "lw",
          "lw",
          "lw",
          "lw",
          "lw",
          "cf",
          "rw",
          "lw",
          "cf",
          "lw",
          "lw",
          "lw",
          "lw",
          "lw",
          "lw",
          "lw",
          "cf",
          "cf",
          "lw",
          "lw",
          "lw",
          "lw",
          "lw",
          "lw",
          "lw",
          "lw",
          "lw",
          "lw",
          "lw",
          "lw",
          "lw",
          "lw",
          "lw",
          "lw",
          "lw",
          "lw",
          "lw",
          "lw",
          "lw",
          "lw",
          "lw",
          "lw",
          "lw",
          "lw",
          "lw",
          "lw",
          "lw",
          "lw",
          "lw",
          "lw",
          "lw",
          "lw",
          "lw",
          "lw",
          "lw",
          "lw",
          "lw",
          "lw",
          "lw",
          "lw",
          "lw",
          "lw",
          "lw",
          "lw",
          "lw",
          "lw",
          "lw",
          "lw",
          "lw",
          "lw",
          "lw",
          "lw",
          "lw",
          "lw",
          "lw",
          "lw",
          "lw",
          "lw",
          "lw",
          "lw",
          "lw",
          "lw",
          "lw",
          "lw",
          "lw",
          "lw",
          "lw",
          "lw",
          "lw",
          "lw",
          "lw",
          "lw",
          "lw",
          "lw",
          "lw",
          "lw",
          "lw",
          "lw",
          "cf",
          "lw",
          "lw",
          "lw",
          "cf",
          "lw",
          "lw",
          "lw",
          "lw",
          "lw",
          "lw",
          "lw",
          "lw",
          "lw",
          "lw",
          "lw",
          "lw",
          "lw",
          "lw",
          "lw",
          "lw",
          "lw",
          "lw",
          "lw",
          "lw",
          "lw",
          "lw",
          "cf",
          "lw",
          "lw",
          "lw",
          "lw",
          "lw",
          "lw",
          "lw",
          "lw",
          "lw",
          "lw",
          "lw",
          "lw",
          "lw",
          "lw",
          "lw",
          "lw",
          "lw",
          "lw",
          "lw",
          "lw",
          "lw",
          "lw",
          "lw",
          "lw",
          "lw",
          "lw",
          "lw",
          "lw",
          "lw",
          "lw",
          "lw",
          "lw",
          "lw",
          "lw",
          "lw",
          "lw",
          "lw",
          "lw",
          "lw",
          "lw",
          "lw",
          "lw",
          "lw",
          "lw",
          "lw",
          "lw",
          "lw",
          "lw",
          "lw",
          "lw",
          "lw",
          "lw",
          "lw",
          "lw",
          "lw",
          "lw",
          "lw",
          "lw",
          "lw",
          "lw",
          "lw",
          "lw",
          "lw",
          "lw",
          "lw",
          "rw",
          "rw",
          "rw",
          "cf",
          "cf",
          "cf",
          "cf",
          "cf",
          "cf",
          "lw",
          "lw",
          "lw",
          "cf",
          "cf",
          "cf",
          "cf",
          "cf",
          "cf",
          "cf",
          "cf",
          "lw",
          "cf",
          "cf",
          "cf",
          "cf",
          "cf",
          "cf",
          "lw",
          "cf",
          "lw",
          "lw",
          "lw",
          "cf",
          "cf",
          "cf",
          "cf",
          "lw",
          "cf",
          "cf",
          "cf",
          "cf",
          "cf",
          "lw",
          "lw",
          "cf",
          "cf",
          "cf",
          "cf",
          "cf",
          "lw",
          "lw",
          "lw",
          "lw",
          "lw",
          "lw",
          "lw",
          "lw",
          "lw",
          "lw",
          "lw",
          "lw",
          "lw",
          "lw",
          "lw",
          "lw",
          "lw",
          "cf",
          "cf",
          "cf",
          "cf",
          "cf",
          "cf",
          "lw",
          "lw",
          "lw",
          "lw",
          "lw",
          "lw",
          "lw",
          "lw",
          "lw",
          "lw",
          "lw",
          "lw",
          "lw",
          "lw",
          "lw",
          "lw",
          "lw",
          "lw",
          "lw",
          "lw",
          "lw",
          "lw",
          "lw",
          "cf",
          "lw",
          "lw",
          "cf",
          "lw",
          "lw",
          "lw",
          "lw",
          "lw",
          "lw",
          "lw",
          "lw",
          "lw",
          "lw",
          "lw",
          "lw",
          "lw",
          "lw",
          "lw",
          "cf",
          "cf",
          "cf",
          "lw",
          "lw",
          "lw",
          "lw",
          "lw",
          "lw",
          "lw",
          "cf",
          "cf",
          "lw",
          "cf",
          "lw",
          "lw",
          "lw",
          "lw",
          "lw",
          "lw",
          "lw",
          "cf",
          "cf",
          "cf",
          "lw",
          "cf",
          "cf",
          "cf",
          "lw",
          "lw",
          "cf",
          "cf",
          "cf",
          "cf",
          "cf",
          "cf",
          "cf",
          "cf",
          "cf",
          "cf",
          "cf",
          "lw",
          "lw",
          "lw",
          "lw",
          "cf",
          "lw",
          "cf",
          "cf",
          "lw",
          "lw",
          "lw",
          "lw",
          "lw",
          "lw",
          "cf",
          "cf",
          "cf",
          "lw",
          "lw",
          "cf",
          "cf",
          "cf",
          "cf",
          "cf",
          "cf",
          "cf",
          "cf",
          "cf",
          "cf",
          "cf",
          "cf",
          "cf",
          "cf",
          "cf",
          "cf",
          "cf",
          "lw",
          "cf"
         ],
         "xaxis": "x",
         "yaxis": "y"
        },
        {
         "alignmentgroup": "True",
         "bingroup": "x",
         "hovertemplate": "Club=juventus fc<br>Playing_Position=%{x}<br>count=%{y}<extra></extra>",
         "legendgroup": "juventus fc",
         "marker": {
          "color": "#ab63fa",
          "pattern": {
           "shape": ""
          }
         },
         "name": "juventus fc",
         "offsetgroup": "juventus fc",
         "orientation": "v",
         "showlegend": true,
         "type": "histogram",
         "x": [
          "cf",
          "cf",
          "lw",
          "lw",
          "lw",
          "cf",
          "cf",
          "cf",
          "lw",
          "cf",
          "lw",
          "lw",
          "cf",
          "lw",
          "lw",
          "lw",
          "lw",
          "lw",
          "lw",
          "lw",
          "lw",
          "cf",
          "cf",
          "cf",
          "lw",
          "lw",
          "cf",
          "cf",
          "lw",
          "lw",
          "cf",
          "cf",
          "cf",
          "cf",
          "cf",
          "cf",
          "cf",
          "cf",
          "cf",
          "lw",
          "cf",
          "cf",
          "cf",
          "cf",
          "cf",
          "cf",
          "lw",
          "lw",
          "lw",
          "lw",
          "lw",
          "lw",
          "lw",
          "lw",
          "lw",
          "lw",
          "lw",
          "lw",
          "lw",
          "lw",
          "lw",
          "lw",
          "lw",
          "lw",
          "lw",
          "cf",
          "cf",
          "cf",
          "cf",
          "cf",
          "lw",
          "cf",
          "cf",
          "cf",
          "cf",
          "cf",
          "cf",
          "cf",
          "cf",
          "cf",
          "cf",
          "cf",
          "cf",
          "cf",
          "cf",
          "cf",
          "cf",
          "cf",
          "cf",
          "cf",
          "cf",
          "cf",
          "cf",
          "cf",
          "cf",
          "cf",
          "cf",
          "cf",
          "cf",
          "cf",
          "cf"
         ],
         "xaxis": "x",
         "yaxis": "y"
        }
       ],
       "layout": {
        "barmode": "relative",
        "height": 500,
        "legend": {
         "title": {
          "text": "Club"
         },
         "tracegroupgap": 0
        },
        "template": {
         "data": {
          "bar": [
           {
            "error_x": {
             "color": "#2a3f5f"
            },
            "error_y": {
             "color": "#2a3f5f"
            },
            "marker": {
             "line": {
              "color": "#E5ECF6",
              "width": 0.5
             },
             "pattern": {
              "fillmode": "overlay",
              "size": 10,
              "solidity": 0.2
             }
            },
            "type": "bar"
           }
          ],
          "barpolar": [
           {
            "marker": {
             "line": {
              "color": "#E5ECF6",
              "width": 0.5
             },
             "pattern": {
              "fillmode": "overlay",
              "size": 10,
              "solidity": 0.2
             }
            },
            "type": "barpolar"
           }
          ],
          "carpet": [
           {
            "aaxis": {
             "endlinecolor": "#2a3f5f",
             "gridcolor": "white",
             "linecolor": "white",
             "minorgridcolor": "white",
             "startlinecolor": "#2a3f5f"
            },
            "baxis": {
             "endlinecolor": "#2a3f5f",
             "gridcolor": "white",
             "linecolor": "white",
             "minorgridcolor": "white",
             "startlinecolor": "#2a3f5f"
            },
            "type": "carpet"
           }
          ],
          "choropleth": [
           {
            "colorbar": {
             "outlinewidth": 0,
             "ticks": ""
            },
            "type": "choropleth"
           }
          ],
          "contour": [
           {
            "colorbar": {
             "outlinewidth": 0,
             "ticks": ""
            },
            "colorscale": [
             [
              0,
              "#0d0887"
             ],
             [
              0.1111111111111111,
              "#46039f"
             ],
             [
              0.2222222222222222,
              "#7201a8"
             ],
             [
              0.3333333333333333,
              "#9c179e"
             ],
             [
              0.4444444444444444,
              "#bd3786"
             ],
             [
              0.5555555555555556,
              "#d8576b"
             ],
             [
              0.6666666666666666,
              "#ed7953"
             ],
             [
              0.7777777777777778,
              "#fb9f3a"
             ],
             [
              0.8888888888888888,
              "#fdca26"
             ],
             [
              1,
              "#f0f921"
             ]
            ],
            "type": "contour"
           }
          ],
          "contourcarpet": [
           {
            "colorbar": {
             "outlinewidth": 0,
             "ticks": ""
            },
            "type": "contourcarpet"
           }
          ],
          "heatmap": [
           {
            "colorbar": {
             "outlinewidth": 0,
             "ticks": ""
            },
            "colorscale": [
             [
              0,
              "#0d0887"
             ],
             [
              0.1111111111111111,
              "#46039f"
             ],
             [
              0.2222222222222222,
              "#7201a8"
             ],
             [
              0.3333333333333333,
              "#9c179e"
             ],
             [
              0.4444444444444444,
              "#bd3786"
             ],
             [
              0.5555555555555556,
              "#d8576b"
             ],
             [
              0.6666666666666666,
              "#ed7953"
             ],
             [
              0.7777777777777778,
              "#fb9f3a"
             ],
             [
              0.8888888888888888,
              "#fdca26"
             ],
             [
              1,
              "#f0f921"
             ]
            ],
            "type": "heatmap"
           }
          ],
          "heatmapgl": [
           {
            "colorbar": {
             "outlinewidth": 0,
             "ticks": ""
            },
            "colorscale": [
             [
              0,
              "#0d0887"
             ],
             [
              0.1111111111111111,
              "#46039f"
             ],
             [
              0.2222222222222222,
              "#7201a8"
             ],
             [
              0.3333333333333333,
              "#9c179e"
             ],
             [
              0.4444444444444444,
              "#bd3786"
             ],
             [
              0.5555555555555556,
              "#d8576b"
             ],
             [
              0.6666666666666666,
              "#ed7953"
             ],
             [
              0.7777777777777778,
              "#fb9f3a"
             ],
             [
              0.8888888888888888,
              "#fdca26"
             ],
             [
              1,
              "#f0f921"
             ]
            ],
            "type": "heatmapgl"
           }
          ],
          "histogram": [
           {
            "marker": {
             "pattern": {
              "fillmode": "overlay",
              "size": 10,
              "solidity": 0.2
             }
            },
            "type": "histogram"
           }
          ],
          "histogram2d": [
           {
            "colorbar": {
             "outlinewidth": 0,
             "ticks": ""
            },
            "colorscale": [
             [
              0,
              "#0d0887"
             ],
             [
              0.1111111111111111,
              "#46039f"
             ],
             [
              0.2222222222222222,
              "#7201a8"
             ],
             [
              0.3333333333333333,
              "#9c179e"
             ],
             [
              0.4444444444444444,
              "#bd3786"
             ],
             [
              0.5555555555555556,
              "#d8576b"
             ],
             [
              0.6666666666666666,
              "#ed7953"
             ],
             [
              0.7777777777777778,
              "#fb9f3a"
             ],
             [
              0.8888888888888888,
              "#fdca26"
             ],
             [
              1,
              "#f0f921"
             ]
            ],
            "type": "histogram2d"
           }
          ],
          "histogram2dcontour": [
           {
            "colorbar": {
             "outlinewidth": 0,
             "ticks": ""
            },
            "colorscale": [
             [
              0,
              "#0d0887"
             ],
             [
              0.1111111111111111,
              "#46039f"
             ],
             [
              0.2222222222222222,
              "#7201a8"
             ],
             [
              0.3333333333333333,
              "#9c179e"
             ],
             [
              0.4444444444444444,
              "#bd3786"
             ],
             [
              0.5555555555555556,
              "#d8576b"
             ],
             [
              0.6666666666666666,
              "#ed7953"
             ],
             [
              0.7777777777777778,
              "#fb9f3a"
             ],
             [
              0.8888888888888888,
              "#fdca26"
             ],
             [
              1,
              "#f0f921"
             ]
            ],
            "type": "histogram2dcontour"
           }
          ],
          "mesh3d": [
           {
            "colorbar": {
             "outlinewidth": 0,
             "ticks": ""
            },
            "type": "mesh3d"
           }
          ],
          "parcoords": [
           {
            "line": {
             "colorbar": {
              "outlinewidth": 0,
              "ticks": ""
             }
            },
            "type": "parcoords"
           }
          ],
          "pie": [
           {
            "automargin": true,
            "type": "pie"
           }
          ],
          "scatter": [
           {
            "fillpattern": {
             "fillmode": "overlay",
             "size": 10,
             "solidity": 0.2
            },
            "type": "scatter"
           }
          ],
          "scatter3d": [
           {
            "line": {
             "colorbar": {
              "outlinewidth": 0,
              "ticks": ""
             }
            },
            "marker": {
             "colorbar": {
              "outlinewidth": 0,
              "ticks": ""
             }
            },
            "type": "scatter3d"
           }
          ],
          "scattercarpet": [
           {
            "marker": {
             "colorbar": {
              "outlinewidth": 0,
              "ticks": ""
             }
            },
            "type": "scattercarpet"
           }
          ],
          "scattergeo": [
           {
            "marker": {
             "colorbar": {
              "outlinewidth": 0,
              "ticks": ""
             }
            },
            "type": "scattergeo"
           }
          ],
          "scattergl": [
           {
            "marker": {
             "colorbar": {
              "outlinewidth": 0,
              "ticks": ""
             }
            },
            "type": "scattergl"
           }
          ],
          "scattermapbox": [
           {
            "marker": {
             "colorbar": {
              "outlinewidth": 0,
              "ticks": ""
             }
            },
            "type": "scattermapbox"
           }
          ],
          "scatterpolar": [
           {
            "marker": {
             "colorbar": {
              "outlinewidth": 0,
              "ticks": ""
             }
            },
            "type": "scatterpolar"
           }
          ],
          "scatterpolargl": [
           {
            "marker": {
             "colorbar": {
              "outlinewidth": 0,
              "ticks": ""
             }
            },
            "type": "scatterpolargl"
           }
          ],
          "scatterternary": [
           {
            "marker": {
             "colorbar": {
              "outlinewidth": 0,
              "ticks": ""
             }
            },
            "type": "scatterternary"
           }
          ],
          "surface": [
           {
            "colorbar": {
             "outlinewidth": 0,
             "ticks": ""
            },
            "colorscale": [
             [
              0,
              "#0d0887"
             ],
             [
              0.1111111111111111,
              "#46039f"
             ],
             [
              0.2222222222222222,
              "#7201a8"
             ],
             [
              0.3333333333333333,
              "#9c179e"
             ],
             [
              0.4444444444444444,
              "#bd3786"
             ],
             [
              0.5555555555555556,
              "#d8576b"
             ],
             [
              0.6666666666666666,
              "#ed7953"
             ],
             [
              0.7777777777777778,
              "#fb9f3a"
             ],
             [
              0.8888888888888888,
              "#fdca26"
             ],
             [
              1,
              "#f0f921"
             ]
            ],
            "type": "surface"
           }
          ],
          "table": [
           {
            "cells": {
             "fill": {
              "color": "#EBF0F8"
             },
             "line": {
              "color": "white"
             }
            },
            "header": {
             "fill": {
              "color": "#C8D4E3"
             },
             "line": {
              "color": "white"
             }
            },
            "type": "table"
           }
          ]
         },
         "layout": {
          "annotationdefaults": {
           "arrowcolor": "#2a3f5f",
           "arrowhead": 0,
           "arrowwidth": 1
          },
          "autotypenumbers": "strict",
          "coloraxis": {
           "colorbar": {
            "outlinewidth": 0,
            "ticks": ""
           }
          },
          "colorscale": {
           "diverging": [
            [
             0,
             "#8e0152"
            ],
            [
             0.1,
             "#c51b7d"
            ],
            [
             0.2,
             "#de77ae"
            ],
            [
             0.3,
             "#f1b6da"
            ],
            [
             0.4,
             "#fde0ef"
            ],
            [
             0.5,
             "#f7f7f7"
            ],
            [
             0.6,
             "#e6f5d0"
            ],
            [
             0.7,
             "#b8e186"
            ],
            [
             0.8,
             "#7fbc41"
            ],
            [
             0.9,
             "#4d9221"
            ],
            [
             1,
             "#276419"
            ]
           ],
           "sequential": [
            [
             0,
             "#0d0887"
            ],
            [
             0.1111111111111111,
             "#46039f"
            ],
            [
             0.2222222222222222,
             "#7201a8"
            ],
            [
             0.3333333333333333,
             "#9c179e"
            ],
            [
             0.4444444444444444,
             "#bd3786"
            ],
            [
             0.5555555555555556,
             "#d8576b"
            ],
            [
             0.6666666666666666,
             "#ed7953"
            ],
            [
             0.7777777777777778,
             "#fb9f3a"
            ],
            [
             0.8888888888888888,
             "#fdca26"
            ],
            [
             1,
             "#f0f921"
            ]
           ],
           "sequentialminus": [
            [
             0,
             "#0d0887"
            ],
            [
             0.1111111111111111,
             "#46039f"
            ],
            [
             0.2222222222222222,
             "#7201a8"
            ],
            [
             0.3333333333333333,
             "#9c179e"
            ],
            [
             0.4444444444444444,
             "#bd3786"
            ],
            [
             0.5555555555555556,
             "#d8576b"
            ],
            [
             0.6666666666666666,
             "#ed7953"
            ],
            [
             0.7777777777777778,
             "#fb9f3a"
            ],
            [
             0.8888888888888888,
             "#fdca26"
            ],
            [
             1,
             "#f0f921"
            ]
           ]
          },
          "colorway": [
           "#636efa",
           "#EF553B",
           "#00cc96",
           "#ab63fa",
           "#FFA15A",
           "#19d3f3",
           "#FF6692",
           "#B6E880",
           "#FF97FF",
           "#FECB52"
          ],
          "font": {
           "color": "#2a3f5f"
          },
          "geo": {
           "bgcolor": "white",
           "lakecolor": "white",
           "landcolor": "#E5ECF6",
           "showlakes": true,
           "showland": true,
           "subunitcolor": "white"
          },
          "hoverlabel": {
           "align": "left"
          },
          "hovermode": "closest",
          "mapbox": {
           "style": "light"
          },
          "paper_bgcolor": "white",
          "plot_bgcolor": "#E5ECF6",
          "polar": {
           "angularaxis": {
            "gridcolor": "white",
            "linecolor": "white",
            "ticks": ""
           },
           "bgcolor": "#E5ECF6",
           "radialaxis": {
            "gridcolor": "white",
            "linecolor": "white",
            "ticks": ""
           }
          },
          "scene": {
           "xaxis": {
            "backgroundcolor": "#E5ECF6",
            "gridcolor": "white",
            "gridwidth": 2,
            "linecolor": "white",
            "showbackground": true,
            "ticks": "",
            "zerolinecolor": "white"
           },
           "yaxis": {
            "backgroundcolor": "#E5ECF6",
            "gridcolor": "white",
            "gridwidth": 2,
            "linecolor": "white",
            "showbackground": true,
            "ticks": "",
            "zerolinecolor": "white"
           },
           "zaxis": {
            "backgroundcolor": "#E5ECF6",
            "gridcolor": "white",
            "gridwidth": 2,
            "linecolor": "white",
            "showbackground": true,
            "ticks": "",
            "zerolinecolor": "white"
           }
          },
          "shapedefaults": {
           "line": {
            "color": "#2a3f5f"
           }
          },
          "ternary": {
           "aaxis": {
            "gridcolor": "white",
            "linecolor": "white",
            "ticks": ""
           },
           "baxis": {
            "gridcolor": "white",
            "linecolor": "white",
            "ticks": ""
           },
           "bgcolor": "#E5ECF6",
           "caxis": {
            "gridcolor": "white",
            "linecolor": "white",
            "ticks": ""
           }
          },
          "title": {
           "x": 0.05
          },
          "xaxis": {
           "automargin": true,
           "gridcolor": "white",
           "linecolor": "white",
           "ticks": "",
           "title": {
            "standoff": 15
           },
           "zerolinecolor": "white",
           "zerolinewidth": 2
          },
          "yaxis": {
           "automargin": true,
           "gridcolor": "white",
           "linecolor": "white",
           "ticks": "",
           "title": {
            "standoff": 15
           },
           "zerolinecolor": "white",
           "zerolinewidth": 2
          }
         }
        },
        "title": {
         "text": "Goals per playing Position"
        },
        "xaxis": {
         "anchor": "y",
         "domain": [
          0,
          1
         ],
         "title": {
          "text": "Playing_Position"
         }
        },
        "yaxis": {
         "anchor": "x",
         "domain": [
          0,
          1
         ],
         "title": {
          "text": "count"
         }
        }
       }
      },
      "text/html": [
       "<div>                            <div id=\"2ea77cdc-ddc0-4a99-9f28-f1928d3db6b7\" class=\"plotly-graph-div\" style=\"height:500px; width:100%;\"></div>            <script type=\"text/javascript\">                require([\"plotly\"], function(Plotly) {                    window.PLOTLYENV=window.PLOTLYENV || {};                                    if (document.getElementById(\"2ea77cdc-ddc0-4a99-9f28-f1928d3db6b7\")) {                    Plotly.newPlot(                        \"2ea77cdc-ddc0-4a99-9f28-f1928d3db6b7\",                        [{\"alignmentgroup\":\"True\",\"bingroup\":\"x\",\"hovertemplate\":\"Club=sporting cp<br>Playing_Position=%{x}<br>count=%{y}<extra></extra>\",\"legendgroup\":\"sporting cp\",\"marker\":{\"color\":\"#636efa\",\"pattern\":{\"shape\":\"\"}},\"name\":\"sporting cp\",\"offsetgroup\":\"sporting cp\",\"orientation\":\"v\",\"showlegend\":true,\"x\":[\"lw\",\"lw\",null,null,null],\"xaxis\":\"x\",\"yaxis\":\"y\",\"type\":\"histogram\"},{\"alignmentgroup\":\"True\",\"bingroup\":\"x\",\"hovertemplate\":\"Club=manchester united<br>Playing_Position=%{x}<br>count=%{y}<extra></extra>\",\"legendgroup\":\"manchester united\",\"marker\":{\"color\":\"#EF553B\",\"pattern\":{\"shape\":\"\"}},\"name\":\"manchester united\",\"offsetgroup\":\"manchester united\",\"orientation\":\"v\",\"showlegend\":true,\"x\":[\"rw\",\"rw\",null,null,null,\"rw\",null,null,null,\"rw\",\"rw\",null,null,null,\"rw\",null,null,\"rw\",null,null,null,null,\"rw\",\"rw\",\"rw\",null,\"rw\",null,\"cf\",null,\"rw\",null,null,null,null,null,null,\"rw\",\"rw\",null,\"rw\",\"rw\",null,\"rw\",null,\"rw\",\"rw\",null,\"rw\",\"rw\",\"rw\",\"rw\",\"rw\",\"rw\",\"rw\",\"rw\",\"rw\",\"rw\",\"rw\",\"rw\",\"rw\",null,null,null,\"rw\",\"rw\",null,\"rw\",null,\"rw\",\"rw\",\"rw\",\"rw\",\"rw\",\"rw\",\"rw\",\"rw\",\"rw\",\"rw\",\"rw\",null,null,null,\"rw\",\"rw\",\"rw\",\"rw\",\"rw\",\"rw\",\"rw\",\"rw\",\"lw\",null,\"rw\",\"rw\",\"rw\",\"rw\",\"rw\",\"rw\",\"rw\",\"rw\",\"lw\",null,\"lw\",\"lw\",\"lw\",\"cf\",null,\"rw\",\"rw\",\"rw\",\"rw\",\"rw\",\"rw\",\"rw\",\"cf\",\"cf\",\"rw\",\"cf\",\"cf\",\"cf\",\"cf\",\"cf\",\"cf\",\"cf\",\"cf\",\"cf\",\"cf\",\"cf\",\"cf\",\"cf\",\"cf\",\"cf\",\"cf\",\"cf\",\"cf\",\"cf\",\"cf\",\"cf\",\"cf\",\"cf\",\"cf\",\"cf\",null,\"cf\"],\"xaxis\":\"x\",\"yaxis\":\"y\",\"type\":\"histogram\"},{\"alignmentgroup\":\"True\",\"bingroup\":\"x\",\"hovertemplate\":\"Club=real madrid<br>Playing_Position=%{x}<br>count=%{y}<extra></extra>\",\"legendgroup\":\"real madrid\",\"marker\":{\"color\":\"#00cc96\",\"pattern\":{\"shape\":\"\"}},\"name\":\"real madrid\",\"offsetgroup\":\"real madrid\",\"orientation\":\"v\",\"showlegend\":true,\"x\":[\"rw\",null,\"cf\",\"cf\",\"rw\",\"rw\",\"cf\",\"cf\",\"cf\",\"cf\",\"cf\",\"cf\",\"cf\",\"rw\",\"rw\",null,null,null,null,\"cf\",\"lw\",\"cf\",null,null,null,null,\"cf\",null,null,null,null,null,\"cf\",\"lw\",\"lw\",\"lw\",\"lw\",\"lw\",\"lw\",\"lw\",\"lw\",\"lw\",\"lw\",\"lw\",\"lw\",null,\"lw\",\"lw\",\"lw\",\"lw\",\"lw\",\"lw\",\"lw\",\"lw\",\"lw\",\"lw\",\"lw\",\"lw\",\"lw\",\"lw\",\"lw\",\"lw\",\"lw\",\"lw\",\"cf\",\"lw\",\"lw\",\"lw\",\"lw\",\"lw\",\"lw\",\"cf\",\"rw\",\"lw\",\"cf\",\"lw\",\"lw\",\"lw\",\"lw\",\"lw\",\"lw\",\"lw\",\"cf\",\"cf\",\"lw\",\"lw\",\"lw\",\"lw\",\"lw\",\"lw\",\"lw\",\"lw\",\"lw\",\"lw\",\"lw\",\"lw\",\"lw\",\"lw\",\"lw\",\"lw\",\"lw\",\"lw\",\"lw\",\"lw\",\"lw\",\"lw\",\"lw\",\"lw\",\"lw\",\"lw\",\"lw\",\"lw\",\"lw\",\"lw\",\"lw\",\"lw\",\"lw\",\"lw\",\"lw\",\"lw\",\"lw\",\"lw\",\"lw\",\"lw\",\"lw\",\"lw\",\"lw\",\"lw\",\"lw\",\"lw\",\"lw\",\"lw\",\"lw\",\"lw\",\"lw\",\"lw\",\"lw\",\"lw\",\"lw\",\"lw\",\"lw\",\"lw\",\"lw\",\"lw\",\"lw\",\"lw\",\"lw\",\"lw\",\"lw\",\"lw\",\"lw\",\"lw\",\"lw\",\"lw\",\"lw\",\"lw\",\"lw\",\"lw\",\"lw\",\"lw\",\"lw\",\"lw\",\"lw\",\"lw\",\"cf\",\"lw\",\"lw\",\"lw\",\"cf\",\"lw\",\"lw\",\"lw\",\"lw\",\"lw\",\"lw\",\"lw\",\"lw\",\"lw\",\"lw\",\"lw\",\"lw\",\"lw\",\"lw\",\"lw\",\"lw\",\"lw\",\"lw\",\"lw\",\"lw\",\"lw\",\"lw\",\"cf\",\"lw\",\"lw\",\"lw\",\"lw\",\"lw\",\"lw\",\"lw\",\"lw\",\"lw\",\"lw\",\"lw\",\"lw\",\"lw\",\"lw\",\"lw\",\"lw\",\"lw\",\"lw\",\"lw\",\"lw\",\"lw\",\"lw\",\"lw\",\"lw\",\"lw\",\"lw\",\"lw\",\"lw\",\"lw\",\"lw\",\"lw\",\"lw\",\"lw\",\"lw\",\"lw\",\"lw\",\"lw\",\"lw\",\"lw\",\"lw\",\"lw\",\"lw\",\"lw\",\"lw\",\"lw\",\"lw\",\"lw\",\"lw\",\"lw\",\"lw\",\"lw\",\"lw\",\"lw\",\"lw\",\"lw\",\"lw\",\"lw\",\"lw\",\"lw\",\"lw\",\"lw\",\"lw\",\"lw\",\"lw\",\"lw\",\"rw\",\"rw\",\"rw\",\"cf\",\"cf\",\"cf\",\"cf\",\"cf\",\"cf\",\"lw\",\"lw\",\"lw\",\"cf\",\"cf\",\"cf\",\"cf\",\"cf\",\"cf\",\"cf\",\"cf\",\"lw\",\"cf\",\"cf\",\"cf\",\"cf\",\"cf\",\"cf\",\"lw\",\"cf\",\"lw\",\"lw\",\"lw\",\"cf\",\"cf\",\"cf\",\"cf\",\"lw\",\"cf\",\"cf\",\"cf\",\"cf\",\"cf\",\"lw\",\"lw\",\"cf\",\"cf\",\"cf\",\"cf\",\"cf\",\"lw\",\"lw\",\"lw\",\"lw\",\"lw\",\"lw\",\"lw\",\"lw\",\"lw\",\"lw\",\"lw\",\"lw\",\"lw\",\"lw\",\"lw\",\"lw\",\"lw\",\"cf\",\"cf\",\"cf\",\"cf\",\"cf\",\"cf\",\"lw\",\"lw\",\"lw\",\"lw\",\"lw\",\"lw\",\"lw\",\"lw\",\"lw\",\"lw\",\"lw\",\"lw\",\"lw\",\"lw\",\"lw\",\"lw\",\"lw\",\"lw\",\"lw\",\"lw\",\"lw\",\"lw\",\"lw\",\"cf\",\"lw\",\"lw\",\"cf\",\"lw\",\"lw\",\"lw\",\"lw\",\"lw\",\"lw\",\"lw\",\"lw\",\"lw\",\"lw\",\"lw\",\"lw\",\"lw\",\"lw\",\"lw\",\"cf\",\"cf\",\"cf\",\"lw\",\"lw\",\"lw\",\"lw\",\"lw\",\"lw\",\"lw\",\"cf\",\"cf\",\"lw\",\"cf\",\"lw\",\"lw\",\"lw\",\"lw\",\"lw\",\"lw\",\"lw\",\"cf\",\"cf\",\"cf\",\"lw\",\"cf\",\"cf\",\"cf\",\"lw\",\"lw\",\"cf\",\"cf\",\"cf\",\"cf\",\"cf\",\"cf\",\"cf\",\"cf\",\"cf\",\"cf\",\"cf\",\"lw\",\"lw\",\"lw\",\"lw\",\"cf\",\"lw\",\"cf\",\"cf\",\"lw\",\"lw\",\"lw\",\"lw\",\"lw\",\"lw\",\"cf\",\"cf\",\"cf\",\"lw\",\"lw\",\"cf\",\"cf\",\"cf\",\"cf\",\"cf\",\"cf\",\"cf\",\"cf\",\"cf\",\"cf\",\"cf\",\"cf\",\"cf\",\"cf\",\"cf\",\"cf\",\"cf\",\"lw\",\"cf\"],\"xaxis\":\"x\",\"yaxis\":\"y\",\"type\":\"histogram\"},{\"alignmentgroup\":\"True\",\"bingroup\":\"x\",\"hovertemplate\":\"Club=juventus fc<br>Playing_Position=%{x}<br>count=%{y}<extra></extra>\",\"legendgroup\":\"juventus fc\",\"marker\":{\"color\":\"#ab63fa\",\"pattern\":{\"shape\":\"\"}},\"name\":\"juventus fc\",\"offsetgroup\":\"juventus fc\",\"orientation\":\"v\",\"showlegend\":true,\"x\":[\"cf\",\"cf\",\"lw\",\"lw\",\"lw\",\"cf\",\"cf\",\"cf\",\"lw\",\"cf\",\"lw\",\"lw\",\"cf\",\"lw\",\"lw\",\"lw\",\"lw\",\"lw\",\"lw\",\"lw\",\"lw\",\"cf\",\"cf\",\"cf\",\"lw\",\"lw\",\"cf\",\"cf\",\"lw\",\"lw\",\"cf\",\"cf\",\"cf\",\"cf\",\"cf\",\"cf\",\"cf\",\"cf\",\"cf\",\"lw\",\"cf\",\"cf\",\"cf\",\"cf\",\"cf\",\"cf\",\"lw\",\"lw\",\"lw\",\"lw\",\"lw\",\"lw\",\"lw\",\"lw\",\"lw\",\"lw\",\"lw\",\"lw\",\"lw\",\"lw\",\"lw\",\"lw\",\"lw\",\"lw\",\"lw\",\"cf\",\"cf\",\"cf\",\"cf\",\"cf\",\"lw\",\"cf\",\"cf\",\"cf\",\"cf\",\"cf\",\"cf\",\"cf\",\"cf\",\"cf\",\"cf\",\"cf\",\"cf\",\"cf\",\"cf\",\"cf\",\"cf\",\"cf\",\"cf\",\"cf\",\"cf\",\"cf\",\"cf\",\"cf\",\"cf\",\"cf\",\"cf\",\"cf\",\"cf\",\"cf\",\"cf\"],\"xaxis\":\"x\",\"yaxis\":\"y\",\"type\":\"histogram\"}],                        {\"template\":{\"data\":{\"histogram2dcontour\":[{\"type\":\"histogram2dcontour\",\"colorbar\":{\"outlinewidth\":0,\"ticks\":\"\"},\"colorscale\":[[0.0,\"#0d0887\"],[0.1111111111111111,\"#46039f\"],[0.2222222222222222,\"#7201a8\"],[0.3333333333333333,\"#9c179e\"],[0.4444444444444444,\"#bd3786\"],[0.5555555555555556,\"#d8576b\"],[0.6666666666666666,\"#ed7953\"],[0.7777777777777778,\"#fb9f3a\"],[0.8888888888888888,\"#fdca26\"],[1.0,\"#f0f921\"]]}],\"choropleth\":[{\"type\":\"choropleth\",\"colorbar\":{\"outlinewidth\":0,\"ticks\":\"\"}}],\"histogram2d\":[{\"type\":\"histogram2d\",\"colorbar\":{\"outlinewidth\":0,\"ticks\":\"\"},\"colorscale\":[[0.0,\"#0d0887\"],[0.1111111111111111,\"#46039f\"],[0.2222222222222222,\"#7201a8\"],[0.3333333333333333,\"#9c179e\"],[0.4444444444444444,\"#bd3786\"],[0.5555555555555556,\"#d8576b\"],[0.6666666666666666,\"#ed7953\"],[0.7777777777777778,\"#fb9f3a\"],[0.8888888888888888,\"#fdca26\"],[1.0,\"#f0f921\"]]}],\"heatmap\":[{\"type\":\"heatmap\",\"colorbar\":{\"outlinewidth\":0,\"ticks\":\"\"},\"colorscale\":[[0.0,\"#0d0887\"],[0.1111111111111111,\"#46039f\"],[0.2222222222222222,\"#7201a8\"],[0.3333333333333333,\"#9c179e\"],[0.4444444444444444,\"#bd3786\"],[0.5555555555555556,\"#d8576b\"],[0.6666666666666666,\"#ed7953\"],[0.7777777777777778,\"#fb9f3a\"],[0.8888888888888888,\"#fdca26\"],[1.0,\"#f0f921\"]]}],\"heatmapgl\":[{\"type\":\"heatmapgl\",\"colorbar\":{\"outlinewidth\":0,\"ticks\":\"\"},\"colorscale\":[[0.0,\"#0d0887\"],[0.1111111111111111,\"#46039f\"],[0.2222222222222222,\"#7201a8\"],[0.3333333333333333,\"#9c179e\"],[0.4444444444444444,\"#bd3786\"],[0.5555555555555556,\"#d8576b\"],[0.6666666666666666,\"#ed7953\"],[0.7777777777777778,\"#fb9f3a\"],[0.8888888888888888,\"#fdca26\"],[1.0,\"#f0f921\"]]}],\"contourcarpet\":[{\"type\":\"contourcarpet\",\"colorbar\":{\"outlinewidth\":0,\"ticks\":\"\"}}],\"contour\":[{\"type\":\"contour\",\"colorbar\":{\"outlinewidth\":0,\"ticks\":\"\"},\"colorscale\":[[0.0,\"#0d0887\"],[0.1111111111111111,\"#46039f\"],[0.2222222222222222,\"#7201a8\"],[0.3333333333333333,\"#9c179e\"],[0.4444444444444444,\"#bd3786\"],[0.5555555555555556,\"#d8576b\"],[0.6666666666666666,\"#ed7953\"],[0.7777777777777778,\"#fb9f3a\"],[0.8888888888888888,\"#fdca26\"],[1.0,\"#f0f921\"]]}],\"surface\":[{\"type\":\"surface\",\"colorbar\":{\"outlinewidth\":0,\"ticks\":\"\"},\"colorscale\":[[0.0,\"#0d0887\"],[0.1111111111111111,\"#46039f\"],[0.2222222222222222,\"#7201a8\"],[0.3333333333333333,\"#9c179e\"],[0.4444444444444444,\"#bd3786\"],[0.5555555555555556,\"#d8576b\"],[0.6666666666666666,\"#ed7953\"],[0.7777777777777778,\"#fb9f3a\"],[0.8888888888888888,\"#fdca26\"],[1.0,\"#f0f921\"]]}],\"mesh3d\":[{\"type\":\"mesh3d\",\"colorbar\":{\"outlinewidth\":0,\"ticks\":\"\"}}],\"scatter\":[{\"fillpattern\":{\"fillmode\":\"overlay\",\"size\":10,\"solidity\":0.2},\"type\":\"scatter\"}],\"parcoords\":[{\"type\":\"parcoords\",\"line\":{\"colorbar\":{\"outlinewidth\":0,\"ticks\":\"\"}}}],\"scatterpolargl\":[{\"type\":\"scatterpolargl\",\"marker\":{\"colorbar\":{\"outlinewidth\":0,\"ticks\":\"\"}}}],\"bar\":[{\"error_x\":{\"color\":\"#2a3f5f\"},\"error_y\":{\"color\":\"#2a3f5f\"},\"marker\":{\"line\":{\"color\":\"#E5ECF6\",\"width\":0.5},\"pattern\":{\"fillmode\":\"overlay\",\"size\":10,\"solidity\":0.2}},\"type\":\"bar\"}],\"scattergeo\":[{\"type\":\"scattergeo\",\"marker\":{\"colorbar\":{\"outlinewidth\":0,\"ticks\":\"\"}}}],\"scatterpolar\":[{\"type\":\"scatterpolar\",\"marker\":{\"colorbar\":{\"outlinewidth\":0,\"ticks\":\"\"}}}],\"histogram\":[{\"marker\":{\"pattern\":{\"fillmode\":\"overlay\",\"size\":10,\"solidity\":0.2}},\"type\":\"histogram\"}],\"scattergl\":[{\"type\":\"scattergl\",\"marker\":{\"colorbar\":{\"outlinewidth\":0,\"ticks\":\"\"}}}],\"scatter3d\":[{\"type\":\"scatter3d\",\"line\":{\"colorbar\":{\"outlinewidth\":0,\"ticks\":\"\"}},\"marker\":{\"colorbar\":{\"outlinewidth\":0,\"ticks\":\"\"}}}],\"scattermapbox\":[{\"type\":\"scattermapbox\",\"marker\":{\"colorbar\":{\"outlinewidth\":0,\"ticks\":\"\"}}}],\"scatterternary\":[{\"type\":\"scatterternary\",\"marker\":{\"colorbar\":{\"outlinewidth\":0,\"ticks\":\"\"}}}],\"scattercarpet\":[{\"type\":\"scattercarpet\",\"marker\":{\"colorbar\":{\"outlinewidth\":0,\"ticks\":\"\"}}}],\"carpet\":[{\"aaxis\":{\"endlinecolor\":\"#2a3f5f\",\"gridcolor\":\"white\",\"linecolor\":\"white\",\"minorgridcolor\":\"white\",\"startlinecolor\":\"#2a3f5f\"},\"baxis\":{\"endlinecolor\":\"#2a3f5f\",\"gridcolor\":\"white\",\"linecolor\":\"white\",\"minorgridcolor\":\"white\",\"startlinecolor\":\"#2a3f5f\"},\"type\":\"carpet\"}],\"table\":[{\"cells\":{\"fill\":{\"color\":\"#EBF0F8\"},\"line\":{\"color\":\"white\"}},\"header\":{\"fill\":{\"color\":\"#C8D4E3\"},\"line\":{\"color\":\"white\"}},\"type\":\"table\"}],\"barpolar\":[{\"marker\":{\"line\":{\"color\":\"#E5ECF6\",\"width\":0.5},\"pattern\":{\"fillmode\":\"overlay\",\"size\":10,\"solidity\":0.2}},\"type\":\"barpolar\"}],\"pie\":[{\"automargin\":true,\"type\":\"pie\"}]},\"layout\":{\"autotypenumbers\":\"strict\",\"colorway\":[\"#636efa\",\"#EF553B\",\"#00cc96\",\"#ab63fa\",\"#FFA15A\",\"#19d3f3\",\"#FF6692\",\"#B6E880\",\"#FF97FF\",\"#FECB52\"],\"font\":{\"color\":\"#2a3f5f\"},\"hovermode\":\"closest\",\"hoverlabel\":{\"align\":\"left\"},\"paper_bgcolor\":\"white\",\"plot_bgcolor\":\"#E5ECF6\",\"polar\":{\"bgcolor\":\"#E5ECF6\",\"angularaxis\":{\"gridcolor\":\"white\",\"linecolor\":\"white\",\"ticks\":\"\"},\"radialaxis\":{\"gridcolor\":\"white\",\"linecolor\":\"white\",\"ticks\":\"\"}},\"ternary\":{\"bgcolor\":\"#E5ECF6\",\"aaxis\":{\"gridcolor\":\"white\",\"linecolor\":\"white\",\"ticks\":\"\"},\"baxis\":{\"gridcolor\":\"white\",\"linecolor\":\"white\",\"ticks\":\"\"},\"caxis\":{\"gridcolor\":\"white\",\"linecolor\":\"white\",\"ticks\":\"\"}},\"coloraxis\":{\"colorbar\":{\"outlinewidth\":0,\"ticks\":\"\"}},\"colorscale\":{\"sequential\":[[0.0,\"#0d0887\"],[0.1111111111111111,\"#46039f\"],[0.2222222222222222,\"#7201a8\"],[0.3333333333333333,\"#9c179e\"],[0.4444444444444444,\"#bd3786\"],[0.5555555555555556,\"#d8576b\"],[0.6666666666666666,\"#ed7953\"],[0.7777777777777778,\"#fb9f3a\"],[0.8888888888888888,\"#fdca26\"],[1.0,\"#f0f921\"]],\"sequentialminus\":[[0.0,\"#0d0887\"],[0.1111111111111111,\"#46039f\"],[0.2222222222222222,\"#7201a8\"],[0.3333333333333333,\"#9c179e\"],[0.4444444444444444,\"#bd3786\"],[0.5555555555555556,\"#d8576b\"],[0.6666666666666666,\"#ed7953\"],[0.7777777777777778,\"#fb9f3a\"],[0.8888888888888888,\"#fdca26\"],[1.0,\"#f0f921\"]],\"diverging\":[[0,\"#8e0152\"],[0.1,\"#c51b7d\"],[0.2,\"#de77ae\"],[0.3,\"#f1b6da\"],[0.4,\"#fde0ef\"],[0.5,\"#f7f7f7\"],[0.6,\"#e6f5d0\"],[0.7,\"#b8e186\"],[0.8,\"#7fbc41\"],[0.9,\"#4d9221\"],[1,\"#276419\"]]},\"xaxis\":{\"gridcolor\":\"white\",\"linecolor\":\"white\",\"ticks\":\"\",\"title\":{\"standoff\":15},\"zerolinecolor\":\"white\",\"automargin\":true,\"zerolinewidth\":2},\"yaxis\":{\"gridcolor\":\"white\",\"linecolor\":\"white\",\"ticks\":\"\",\"title\":{\"standoff\":15},\"zerolinecolor\":\"white\",\"automargin\":true,\"zerolinewidth\":2},\"scene\":{\"xaxis\":{\"backgroundcolor\":\"#E5ECF6\",\"gridcolor\":\"white\",\"linecolor\":\"white\",\"showbackground\":true,\"ticks\":\"\",\"zerolinecolor\":\"white\",\"gridwidth\":2},\"yaxis\":{\"backgroundcolor\":\"#E5ECF6\",\"gridcolor\":\"white\",\"linecolor\":\"white\",\"showbackground\":true,\"ticks\":\"\",\"zerolinecolor\":\"white\",\"gridwidth\":2},\"zaxis\":{\"backgroundcolor\":\"#E5ECF6\",\"gridcolor\":\"white\",\"linecolor\":\"white\",\"showbackground\":true,\"ticks\":\"\",\"zerolinecolor\":\"white\",\"gridwidth\":2}},\"shapedefaults\":{\"line\":{\"color\":\"#2a3f5f\"}},\"annotationdefaults\":{\"arrowcolor\":\"#2a3f5f\",\"arrowhead\":0,\"arrowwidth\":1},\"geo\":{\"bgcolor\":\"white\",\"landcolor\":\"#E5ECF6\",\"subunitcolor\":\"white\",\"showland\":true,\"showlakes\":true,\"lakecolor\":\"white\"},\"title\":{\"x\":0.05},\"mapbox\":{\"style\":\"light\"}}},\"xaxis\":{\"anchor\":\"y\",\"domain\":[0.0,1.0],\"title\":{\"text\":\"Playing_Position\"}},\"yaxis\":{\"anchor\":\"x\",\"domain\":[0.0,1.0],\"title\":{\"text\":\"count\"}},\"legend\":{\"title\":{\"text\":\"Club\"},\"tracegroupgap\":0},\"title\":{\"text\":\"Goals per playing Position\"},\"barmode\":\"relative\",\"height\":500},                        {\"responsive\": true}                    ).then(function(){\n",
       "                            \n",
       "var gd = document.getElementById('2ea77cdc-ddc0-4a99-9f28-f1928d3db6b7');\n",
       "var x = new MutationObserver(function (mutations, observer) {{\n",
       "        var display = window.getComputedStyle(gd).display;\n",
       "        if (!display || display === 'none') {{\n",
       "            console.log([gd, 'removed!']);\n",
       "            Plotly.purge(gd);\n",
       "            observer.disconnect();\n",
       "        }}\n",
       "}});\n",
       "\n",
       "// Listen for the removal of the full notebook cells\n",
       "var notebookContainer = gd.closest('#notebook-container');\n",
       "if (notebookContainer) {{\n",
       "    x.observe(notebookContainer, {childList: true});\n",
       "}}\n",
       "\n",
       "// Listen for the clearing of the current output cell\n",
       "var outputEl = gd.closest('.output');\n",
       "if (outputEl) {{\n",
       "    x.observe(outputEl, {childList: true});\n",
       "}}\n",
       "\n",
       "                        })                };                });            </script>        </div>"
      ]
     },
     "metadata": {},
     "output_type": "display_data"
    }
   ],
   "source": [
    "px.histogram(\n",
    "    cr7_df,\n",
    "    x='Playing_Position',\n",
    "    title=\"Goals per playing Position\",\n",
    "    log_x=False,\n",
    "    log_y=False,\n",
    "    #symbol='title',\n",
    "    #markers=True,\n",
    "    #width=800, \n",
    "    height=500,\n",
    "    color='Club',\n",
    "    hover_name='Club',\n",
    "    hover_data=['Playing_Position','Competition','Season','Club'])"
   ]
  },
  {
   "cell_type": "markdown",
   "id": "d58551cd",
   "metadata": {},
   "source": [
    "# Number of total career goals scored by team and competition\n",
    "Most of his goals in the UEFA Champions League were scored during his time with Read Madrid."
   ]
  },
  {
   "cell_type": "code",
   "execution_count": 241,
   "id": "4e39ca88",
   "metadata": {},
   "outputs": [
    {
     "data": {
      "application/vnd.plotly.v1+json": {
       "config": {
        "plotlyServerURL": "https://plot.ly"
       },
       "data": [
        {
         "alignmentgroup": "True",
         "bingroup": "x",
         "hovertemplate": "Club=sporting cp<br>Type=%{x}<br>count=%{y}<extra></extra>",
         "legendgroup": "sporting cp",
         "marker": {
          "color": "#636efa",
          "pattern": {
           "shape": ""
          }
         },
         "name": "sporting cp",
         "offsetgroup": "sporting cp",
         "orientation": "v",
         "showlegend": true,
         "type": "histogram",
         "x": [
          "solo run",
          "header",
          "right-footed shot",
          "left-footed shot",
          null
         ],
         "xaxis": "x",
         "yaxis": "y"
        },
        {
         "alignmentgroup": "True",
         "bingroup": "x",
         "hovertemplate": "Club=manchester united<br>Type=%{x}<br>count=%{y}<extra></extra>",
         "legendgroup": "manchester united",
         "marker": {
          "color": "#EF553B",
          "pattern": {
           "shape": ""
          }
         },
         "name": "manchester united",
         "offsetgroup": "manchester united",
         "orientation": "v",
         "showlegend": true,
         "type": "histogram",
         "x": [
          "direct free kick",
          "right-footed shot",
          "right-footed shot",
          "header",
          "right-footed shot",
          "header",
          "right-footed shot",
          null,
          "right-footed shot",
          "left-footed shot",
          "tap-in",
          "tap-in",
          "left-footed shot",
          "right-footed shot",
          "right-footed shot",
          "right-footed shot",
          "header",
          "penalty",
          "right-footed shot",
          "left-footed shot",
          "direct free kick",
          "right-footed shot",
          "left-footed shot",
          "right-footed shot",
          null,
          "right-footed shot",
          "left-footed shot",
          null,
          null,
          null,
          "direct free kick",
          null,
          null,
          null,
          null,
          null,
          "penalty rebound",
          null,
          null,
          "header",
          "penalty",
          "penalty",
          "solo run",
          "penalty",
          "penalty",
          "right-footed shot",
          "right-footed shot",
          "right-footed shot",
          "header",
          "penalty",
          "header",
          null,
          "header",
          "right-footed shot",
          "penalty",
          "header",
          null,
          "right-footed shot",
          "header",
          "right-footed shot",
          "direct free kick",
          "right-footed shot",
          "header",
          "penalty",
          "left-footed shot",
          "penalty",
          "direct free kick",
          "header",
          "left-footed shot",
          "direct free kick",
          "right-footed shot",
          "left-footed shot",
          "right-footed shot",
          "penalty",
          "right-footed shot",
          "right-footed shot",
          "direct free kick",
          "right-footed shot",
          "right-footed shot",
          "left-footed shot",
          "right-footed shot",
          "right-footed shot",
          "direct free kick",
          "header",
          "right-footed shot",
          "header",
          "left-footed shot",
          "penalty",
          "right-footed shot",
          "right-footed shot",
          "penalty",
          "header",
          "header",
          "penalty",
          "left-footed shot",
          "left-footed shot",
          "right-footed shot",
          "left-footed shot",
          "header",
          "direct free kick",
          "direct free kick",
          "header",
          "penalty",
          "right-footed shot",
          "right-footed shot",
          "penalty",
          "header",
          "direct free kick",
          "header",
          "penalty",
          "direct free kick",
          "left-footed shot",
          "long distance kick",
          "penalty",
          "header",
          "direct free kick",
          "right-footed shot",
          "direct free kick",
          "tap-in",
          "left-footed shot",
          "right-footed shot",
          "right-footed shot",
          "right-footed shot",
          "header",
          "right-footed shot",
          "right-footed shot",
          "right-footed shot",
          "right-footed shot",
          "right-footed shot",
          "penalty",
          "penalty",
          "right-footed shot",
          "right-footed shot",
          "right-footed shot",
          "right-footed shot",
          "header",
          "right-footed shot",
          "header",
          "direct free kick",
          "left-footed shot",
          "right-footed shot",
          "penalty",
          "penalty",
          "counter attack goal",
          "left-footed shot"
         ],
         "xaxis": "x",
         "yaxis": "y"
        },
        {
         "alignmentgroup": "True",
         "bingroup": "x",
         "hovertemplate": "Club=real madrid<br>Type=%{x}<br>count=%{y}<extra></extra>",
         "legendgroup": "real madrid",
         "marker": {
          "color": "#00cc96",
          "pattern": {
           "shape": ""
          }
         },
         "name": "real madrid",
         "offsetgroup": "real madrid",
         "orientation": "v",
         "showlegend": true,
         "type": "histogram",
         "x": [
          "penalty",
          "right-footed shot",
          "direct free kick",
          "direct free kick",
          "right-footed shot",
          "header",
          "right-footed shot",
          "left-footed shot",
          "right-footed shot",
          "right-footed shot",
          "direct free kick",
          "right-footed shot",
          "left-footed shot",
          "right-footed shot",
          "right-footed shot",
          "header",
          "left-footed shot",
          "direct free kick",
          "penalty",
          "left-footed shot",
          "left-footed shot",
          "direct free kick",
          "direct free kick",
          "right-footed shot",
          "penalty",
          "left-footed shot",
          "right-footed shot",
          "right-footed shot",
          "header",
          "right-footed shot",
          "right-footed shot",
          "right-footed shot",
          "penalty",
          "penalty",
          "header",
          "left-footed shot",
          "right-footed shot",
          "penalty",
          "direct free kick",
          "right-footed shot",
          "left-footed shot",
          "right-footed shot",
          "penalty",
          "right-footed shot",
          "right-footed shot",
          "left-footed shot",
          "left-footed shot",
          "direct free kick",
          "penalty",
          "left-footed shot",
          "penalty",
          "left-footed shot",
          "right-footed shot",
          "right-footed shot",
          "direct free kick",
          "right-footed shot",
          "right-footed shot",
          "right-footed shot",
          "penalty",
          "right-footed shot",
          "right-footed shot",
          "header",
          "left-footed shot",
          "right-footed shot",
          "right-footed shot",
          "left-footed shot",
          "header",
          "left-footed shot",
          "penalty",
          "right-footed shot",
          "right-footed shot",
          "right-footed shot",
          "right-footed shot",
          "penalty",
          "header",
          "right-footed shot",
          "right-footed shot",
          "right-footed shot",
          "right-footed shot",
          "header",
          "left-footed shot",
          "penalty",
          "direct free kick",
          "direct free kick",
          "right-footed shot",
          "right-footed shot",
          "right-footed shot",
          "left-footed shot",
          "right-footed shot",
          "right-footed shot",
          "penalty",
          "left-footed shot",
          "penalty",
          "penalty",
          "right-footed shot",
          "left-footed shot",
          "right-footed shot",
          "right-footed shot",
          "direct free kick",
          "penalty",
          "header",
          "penalty",
          "header",
          "right-footed shot",
          "penalty",
          "penalty",
          "right-footed shot",
          "left-footed shot",
          "right-footed shot",
          "right-footed shot",
          "penalty",
          "right-footed shot",
          "left-footed shot",
          "penalty",
          "penalty",
          "right-footed shot",
          "right-footed shot",
          "penalty",
          "header",
          "right-footed shot",
          "header",
          "left-footed shot",
          "right-footed shot",
          "left-footed shot",
          "left-footed shot",
          "left-footed shot",
          "right-footed shot",
          "right-footed shot",
          "right-footed shot",
          "right-footed shot",
          "right-footed shot",
          "long distance kick",
          "direct free kick",
          "right-footed shot",
          "direct free kick",
          "direct free kick",
          "long distance kick",
          "penalty",
          "header",
          "right-footed shot",
          "penalty",
          "right-footed shot",
          "right-footed shot",
          "header",
          "penalty",
          "header",
          "header",
          "right-footed shot",
          "right-footed shot",
          "left-footed shot",
          "right-footed shot",
          "penalty",
          "penalty",
          "header",
          "penalty",
          "right-footed shot",
          "right-footed shot",
          "left-footed shot",
          "left-footed shot",
          "right-footed shot",
          "penalty",
          "right-footed shot",
          "right-footed shot",
          "right-footed shot",
          "right-footed shot",
          "direct free kick",
          "right-footed shot",
          "left-footed shot",
          "right-footed shot",
          "left-footed shot",
          "direct free kick",
          "right-footed shot",
          "left-footed shot",
          "left-footed shot",
          "left-footed shot",
          "right-footed shot",
          "left-footed shot",
          "header",
          "penalty",
          "left-footed shot",
          "left-footed shot",
          "right-footed shot",
          "header",
          "penalty",
          "left-footed shot",
          "right-footed shot",
          "left-footed shot",
          "penalty",
          "header",
          "long distance kick",
          "left-footed shot",
          "right-footed shot",
          "right-footed shot",
          "right-footed shot",
          "direct free kick",
          "header",
          "right-footed shot",
          "header",
          "header",
          "right-footed shot",
          "header",
          "header",
          "right-footed shot",
          "left-footed shot",
          "tap-in",
          "left-footed shot",
          "penalty",
          "right-footed shot",
          "direct free kick",
          "penalty",
          "header",
          "header",
          "right-footed shot",
          "penalty",
          "right-footed shot",
          "penalty",
          "penalty",
          "right-footed shot",
          "right-footed shot",
          "right-footed shot",
          "right-footed shot",
          "right-footed shot",
          "right-footed shot",
          "penalty",
          "direct free kick",
          "left-footed shot",
          "right-footed shot",
          "header",
          "right-footed shot",
          "right-footed shot",
          "direct free kick",
          "right-footed shot",
          "right-footed shot",
          "penalty",
          "penalty",
          "left-footed shot",
          "right-footed shot",
          "right-footed shot",
          "header",
          "right-footed shot",
          "right-footed shot",
          "right-footed shot",
          "penalty",
          "direct free kick",
          "right-footed shot",
          "left-footed shot",
          "long distance kick",
          "long distance kick",
          "counter attack goal",
          "direct free kick",
          "right-footed shot",
          "penalty",
          "right-footed shot",
          "left-footed shot",
          "right-footed shot",
          "penalty",
          "right-footed shot",
          "header",
          "left-footed shot",
          "left-footed shot",
          "penalty",
          "header",
          "penalty",
          "right-footed shot",
          "right-footed shot",
          "penalty",
          "header",
          "right-footed shot",
          "deflected shot on goal",
          "penalty",
          "right-footed shot",
          "right-footed shot",
          "penalty",
          "right-footed shot",
          "right-footed shot",
          "right-footed shot",
          "penalty",
          "left-footed shot",
          "penalty",
          "right-footed shot",
          "left-footed shot",
          "penalty",
          "right-footed shot",
          "right-footed shot",
          "penalty",
          "header",
          "left-footed shot",
          "header",
          "header",
          "header",
          "penalty",
          "header",
          "header",
          "right-footed shot",
          "right-footed shot",
          "right-footed shot",
          "long distance kick",
          "header",
          "header",
          "header",
          "direct free kick",
          "left-footed shot",
          "header",
          "right-footed shot",
          "header",
          "header",
          "penalty",
          "left-footed shot",
          "right-footed shot",
          "header",
          "header",
          "direct free kick",
          "penalty",
          "right-footed shot",
          "penalty",
          "left-footed shot",
          "right-footed shot",
          "right-footed shot",
          "penalty",
          "penalty",
          "header",
          "right-footed shot",
          "left-footed shot",
          "right-footed shot",
          "right-footed shot",
          "header",
          "header",
          "right-footed shot",
          "penalty",
          "right-footed shot",
          "direct free kick",
          "tap-in",
          "right-footed shot",
          "right-footed shot",
          "penalty",
          "header",
          "penalty",
          "left-footed shot",
          "left-footed shot",
          "left-footed shot",
          "penalty",
          "left-footed shot",
          "header",
          "right-footed shot",
          "right-footed shot",
          "right-footed shot",
          "header",
          "penalty",
          "long distance kick",
          "direct free kick",
          "right-footed shot",
          "header",
          "right-footed shot",
          "left-footed shot",
          "right-footed shot",
          "right-footed shot",
          "right-footed shot",
          "header",
          "direct free kick",
          "left-footed shot",
          "right-footed shot",
          "left-footed shot",
          "left-footed shot",
          "header",
          "right-footed shot",
          "direct free kick",
          "right-footed shot",
          "right-footed shot",
          "penalty",
          "right-footed shot",
          "right-footed shot",
          "direct free kick",
          "penalty",
          "right-footed shot",
          "penalty",
          "header",
          "right-footed shot",
          "penalty",
          "left-footed shot",
          "left-footed shot",
          "header",
          "penalty",
          "direct free kick",
          "right-footed shot",
          "right-footed shot",
          "header",
          "penalty",
          "penalty",
          "header",
          "header",
          "right-footed shot",
          "right-footed shot",
          "header",
          "left-footed shot",
          "right-footed shot",
          "header",
          "header",
          "right-footed shot",
          "right-footed shot",
          "right-footed shot",
          "left-footed shot",
          "left-footed shot",
          "left-footed shot",
          "right-footed shot",
          "right-footed shot",
          "right-footed shot",
          "right-footed shot",
          "counter attack goal",
          "penalty",
          "left-footed shot",
          "right-footed shot",
          "right-footed shot",
          "penalty",
          "right-footed shot",
          "header",
          "left-footed shot",
          "penalty rebound",
          "right-footed shot",
          "right-footed shot",
          "penalty",
          "right-footed shot",
          "direct free kick",
          "left-footed shot",
          "header",
          "penalty",
          "penalty",
          "right-footed shot",
          "header",
          "tap-in",
          "penalty",
          "tap-in",
          "right-footed shot",
          "left-footed shot",
          "right-footed shot",
          "left-footed shot",
          "header",
          "header",
          "right-footed shot",
          "header",
          "left-footed shot",
          "left-footed shot",
          "tap-in",
          "right-footed shot",
          "right-footed shot",
          "right-footed shot",
          "right-footed shot",
          "penalty",
          "right-footed shot",
          "right-footed shot",
          "header"
         ],
         "xaxis": "x",
         "yaxis": "y"
        },
        {
         "alignmentgroup": "True",
         "bingroup": "x",
         "hovertemplate": "Club=juventus fc<br>Type=%{x}<br>count=%{y}<extra></extra>",
         "legendgroup": "juventus fc",
         "marker": {
          "color": "#ab63fa",
          "pattern": {
           "shape": ""
          }
         },
         "name": "juventus fc",
         "offsetgroup": "juventus fc",
         "orientation": "v",
         "showlegend": true,
         "type": "histogram",
         "x": [
          "tap-in",
          "left-footed shot",
          "left-footed shot",
          "left-footed shot",
          "tap-in",
          "penalty",
          "right-footed shot",
          "right-footed shot",
          "tap-in",
          "left-footed shot",
          "penalty",
          "penalty",
          "header",
          "right-footed shot",
          "penalty",
          "header",
          "penalty",
          "right-footed shot",
          "header",
          "header",
          "right-footed shot",
          "header",
          "header",
          "penalty",
          "header",
          "header",
          "left-footed shot",
          "header",
          "left-footed shot",
          "penalty",
          "header",
          "right-footed shot",
          "right-footed shot",
          "penalty",
          "penalty",
          "tap-in",
          "right-footed shot",
          "right-footed shot",
          "left-footed shot",
          "header",
          "right-footed shot",
          "penalty",
          "left-footed shot",
          "penalty",
          "deflected shot on goal",
          "right-footed shot",
          "left-footed shot",
          "right-footed shot",
          "penalty",
          "penalty",
          "right-footed shot",
          "penalty",
          "tap-in",
          "penalty",
          "penalty",
          "long distance kick",
          "direct free kick",
          "left-footed shot",
          "penalty",
          "penalty",
          "penalty",
          "counter attack goal",
          "right-footed shot",
          "penalty",
          "left-footed shot",
          "right-footed shot",
          "penalty",
          "header",
          "right-footed shot",
          "penalty",
          "right-footed shot",
          "right-footed shot",
          "right-footed shot",
          "left-footed shot",
          "right-footed shot",
          "penalty",
          "penalty",
          "penalty",
          "penalty",
          "header",
          "left-footed shot",
          "right-footed shot",
          "left-footed shot",
          "right-footed shot",
          "tap-in",
          "penalty",
          "left-footed shot",
          "left-footed shot",
          "header",
          "header",
          "right-footed shot",
          "counter attack goal",
          "header",
          "penalty",
          "left-footed shot",
          "header",
          "right-footed shot",
          "penalty",
          "header",
          "left-footed shot",
          "penalty rebound"
         ],
         "xaxis": "x",
         "yaxis": "y"
        }
       ],
       "layout": {
        "barmode": "relative",
        "height": 500,
        "legend": {
         "title": {
          "text": "Club"
         },
         "tracegroupgap": 0
        },
        "template": {
         "data": {
          "bar": [
           {
            "error_x": {
             "color": "#2a3f5f"
            },
            "error_y": {
             "color": "#2a3f5f"
            },
            "marker": {
             "line": {
              "color": "#E5ECF6",
              "width": 0.5
             },
             "pattern": {
              "fillmode": "overlay",
              "size": 10,
              "solidity": 0.2
             }
            },
            "type": "bar"
           }
          ],
          "barpolar": [
           {
            "marker": {
             "line": {
              "color": "#E5ECF6",
              "width": 0.5
             },
             "pattern": {
              "fillmode": "overlay",
              "size": 10,
              "solidity": 0.2
             }
            },
            "type": "barpolar"
           }
          ],
          "carpet": [
           {
            "aaxis": {
             "endlinecolor": "#2a3f5f",
             "gridcolor": "white",
             "linecolor": "white",
             "minorgridcolor": "white",
             "startlinecolor": "#2a3f5f"
            },
            "baxis": {
             "endlinecolor": "#2a3f5f",
             "gridcolor": "white",
             "linecolor": "white",
             "minorgridcolor": "white",
             "startlinecolor": "#2a3f5f"
            },
            "type": "carpet"
           }
          ],
          "choropleth": [
           {
            "colorbar": {
             "outlinewidth": 0,
             "ticks": ""
            },
            "type": "choropleth"
           }
          ],
          "contour": [
           {
            "colorbar": {
             "outlinewidth": 0,
             "ticks": ""
            },
            "colorscale": [
             [
              0,
              "#0d0887"
             ],
             [
              0.1111111111111111,
              "#46039f"
             ],
             [
              0.2222222222222222,
              "#7201a8"
             ],
             [
              0.3333333333333333,
              "#9c179e"
             ],
             [
              0.4444444444444444,
              "#bd3786"
             ],
             [
              0.5555555555555556,
              "#d8576b"
             ],
             [
              0.6666666666666666,
              "#ed7953"
             ],
             [
              0.7777777777777778,
              "#fb9f3a"
             ],
             [
              0.8888888888888888,
              "#fdca26"
             ],
             [
              1,
              "#f0f921"
             ]
            ],
            "type": "contour"
           }
          ],
          "contourcarpet": [
           {
            "colorbar": {
             "outlinewidth": 0,
             "ticks": ""
            },
            "type": "contourcarpet"
           }
          ],
          "heatmap": [
           {
            "colorbar": {
             "outlinewidth": 0,
             "ticks": ""
            },
            "colorscale": [
             [
              0,
              "#0d0887"
             ],
             [
              0.1111111111111111,
              "#46039f"
             ],
             [
              0.2222222222222222,
              "#7201a8"
             ],
             [
              0.3333333333333333,
              "#9c179e"
             ],
             [
              0.4444444444444444,
              "#bd3786"
             ],
             [
              0.5555555555555556,
              "#d8576b"
             ],
             [
              0.6666666666666666,
              "#ed7953"
             ],
             [
              0.7777777777777778,
              "#fb9f3a"
             ],
             [
              0.8888888888888888,
              "#fdca26"
             ],
             [
              1,
              "#f0f921"
             ]
            ],
            "type": "heatmap"
           }
          ],
          "heatmapgl": [
           {
            "colorbar": {
             "outlinewidth": 0,
             "ticks": ""
            },
            "colorscale": [
             [
              0,
              "#0d0887"
             ],
             [
              0.1111111111111111,
              "#46039f"
             ],
             [
              0.2222222222222222,
              "#7201a8"
             ],
             [
              0.3333333333333333,
              "#9c179e"
             ],
             [
              0.4444444444444444,
              "#bd3786"
             ],
             [
              0.5555555555555556,
              "#d8576b"
             ],
             [
              0.6666666666666666,
              "#ed7953"
             ],
             [
              0.7777777777777778,
              "#fb9f3a"
             ],
             [
              0.8888888888888888,
              "#fdca26"
             ],
             [
              1,
              "#f0f921"
             ]
            ],
            "type": "heatmapgl"
           }
          ],
          "histogram": [
           {
            "marker": {
             "pattern": {
              "fillmode": "overlay",
              "size": 10,
              "solidity": 0.2
             }
            },
            "type": "histogram"
           }
          ],
          "histogram2d": [
           {
            "colorbar": {
             "outlinewidth": 0,
             "ticks": ""
            },
            "colorscale": [
             [
              0,
              "#0d0887"
             ],
             [
              0.1111111111111111,
              "#46039f"
             ],
             [
              0.2222222222222222,
              "#7201a8"
             ],
             [
              0.3333333333333333,
              "#9c179e"
             ],
             [
              0.4444444444444444,
              "#bd3786"
             ],
             [
              0.5555555555555556,
              "#d8576b"
             ],
             [
              0.6666666666666666,
              "#ed7953"
             ],
             [
              0.7777777777777778,
              "#fb9f3a"
             ],
             [
              0.8888888888888888,
              "#fdca26"
             ],
             [
              1,
              "#f0f921"
             ]
            ],
            "type": "histogram2d"
           }
          ],
          "histogram2dcontour": [
           {
            "colorbar": {
             "outlinewidth": 0,
             "ticks": ""
            },
            "colorscale": [
             [
              0,
              "#0d0887"
             ],
             [
              0.1111111111111111,
              "#46039f"
             ],
             [
              0.2222222222222222,
              "#7201a8"
             ],
             [
              0.3333333333333333,
              "#9c179e"
             ],
             [
              0.4444444444444444,
              "#bd3786"
             ],
             [
              0.5555555555555556,
              "#d8576b"
             ],
             [
              0.6666666666666666,
              "#ed7953"
             ],
             [
              0.7777777777777778,
              "#fb9f3a"
             ],
             [
              0.8888888888888888,
              "#fdca26"
             ],
             [
              1,
              "#f0f921"
             ]
            ],
            "type": "histogram2dcontour"
           }
          ],
          "mesh3d": [
           {
            "colorbar": {
             "outlinewidth": 0,
             "ticks": ""
            },
            "type": "mesh3d"
           }
          ],
          "parcoords": [
           {
            "line": {
             "colorbar": {
              "outlinewidth": 0,
              "ticks": ""
             }
            },
            "type": "parcoords"
           }
          ],
          "pie": [
           {
            "automargin": true,
            "type": "pie"
           }
          ],
          "scatter": [
           {
            "fillpattern": {
             "fillmode": "overlay",
             "size": 10,
             "solidity": 0.2
            },
            "type": "scatter"
           }
          ],
          "scatter3d": [
           {
            "line": {
             "colorbar": {
              "outlinewidth": 0,
              "ticks": ""
             }
            },
            "marker": {
             "colorbar": {
              "outlinewidth": 0,
              "ticks": ""
             }
            },
            "type": "scatter3d"
           }
          ],
          "scattercarpet": [
           {
            "marker": {
             "colorbar": {
              "outlinewidth": 0,
              "ticks": ""
             }
            },
            "type": "scattercarpet"
           }
          ],
          "scattergeo": [
           {
            "marker": {
             "colorbar": {
              "outlinewidth": 0,
              "ticks": ""
             }
            },
            "type": "scattergeo"
           }
          ],
          "scattergl": [
           {
            "marker": {
             "colorbar": {
              "outlinewidth": 0,
              "ticks": ""
             }
            },
            "type": "scattergl"
           }
          ],
          "scattermapbox": [
           {
            "marker": {
             "colorbar": {
              "outlinewidth": 0,
              "ticks": ""
             }
            },
            "type": "scattermapbox"
           }
          ],
          "scatterpolar": [
           {
            "marker": {
             "colorbar": {
              "outlinewidth": 0,
              "ticks": ""
             }
            },
            "type": "scatterpolar"
           }
          ],
          "scatterpolargl": [
           {
            "marker": {
             "colorbar": {
              "outlinewidth": 0,
              "ticks": ""
             }
            },
            "type": "scatterpolargl"
           }
          ],
          "scatterternary": [
           {
            "marker": {
             "colorbar": {
              "outlinewidth": 0,
              "ticks": ""
             }
            },
            "type": "scatterternary"
           }
          ],
          "surface": [
           {
            "colorbar": {
             "outlinewidth": 0,
             "ticks": ""
            },
            "colorscale": [
             [
              0,
              "#0d0887"
             ],
             [
              0.1111111111111111,
              "#46039f"
             ],
             [
              0.2222222222222222,
              "#7201a8"
             ],
             [
              0.3333333333333333,
              "#9c179e"
             ],
             [
              0.4444444444444444,
              "#bd3786"
             ],
             [
              0.5555555555555556,
              "#d8576b"
             ],
             [
              0.6666666666666666,
              "#ed7953"
             ],
             [
              0.7777777777777778,
              "#fb9f3a"
             ],
             [
              0.8888888888888888,
              "#fdca26"
             ],
             [
              1,
              "#f0f921"
             ]
            ],
            "type": "surface"
           }
          ],
          "table": [
           {
            "cells": {
             "fill": {
              "color": "#EBF0F8"
             },
             "line": {
              "color": "white"
             }
            },
            "header": {
             "fill": {
              "color": "#C8D4E3"
             },
             "line": {
              "color": "white"
             }
            },
            "type": "table"
           }
          ]
         },
         "layout": {
          "annotationdefaults": {
           "arrowcolor": "#2a3f5f",
           "arrowhead": 0,
           "arrowwidth": 1
          },
          "autotypenumbers": "strict",
          "coloraxis": {
           "colorbar": {
            "outlinewidth": 0,
            "ticks": ""
           }
          },
          "colorscale": {
           "diverging": [
            [
             0,
             "#8e0152"
            ],
            [
             0.1,
             "#c51b7d"
            ],
            [
             0.2,
             "#de77ae"
            ],
            [
             0.3,
             "#f1b6da"
            ],
            [
             0.4,
             "#fde0ef"
            ],
            [
             0.5,
             "#f7f7f7"
            ],
            [
             0.6,
             "#e6f5d0"
            ],
            [
             0.7,
             "#b8e186"
            ],
            [
             0.8,
             "#7fbc41"
            ],
            [
             0.9,
             "#4d9221"
            ],
            [
             1,
             "#276419"
            ]
           ],
           "sequential": [
            [
             0,
             "#0d0887"
            ],
            [
             0.1111111111111111,
             "#46039f"
            ],
            [
             0.2222222222222222,
             "#7201a8"
            ],
            [
             0.3333333333333333,
             "#9c179e"
            ],
            [
             0.4444444444444444,
             "#bd3786"
            ],
            [
             0.5555555555555556,
             "#d8576b"
            ],
            [
             0.6666666666666666,
             "#ed7953"
            ],
            [
             0.7777777777777778,
             "#fb9f3a"
            ],
            [
             0.8888888888888888,
             "#fdca26"
            ],
            [
             1,
             "#f0f921"
            ]
           ],
           "sequentialminus": [
            [
             0,
             "#0d0887"
            ],
            [
             0.1111111111111111,
             "#46039f"
            ],
            [
             0.2222222222222222,
             "#7201a8"
            ],
            [
             0.3333333333333333,
             "#9c179e"
            ],
            [
             0.4444444444444444,
             "#bd3786"
            ],
            [
             0.5555555555555556,
             "#d8576b"
            ],
            [
             0.6666666666666666,
             "#ed7953"
            ],
            [
             0.7777777777777778,
             "#fb9f3a"
            ],
            [
             0.8888888888888888,
             "#fdca26"
            ],
            [
             1,
             "#f0f921"
            ]
           ]
          },
          "colorway": [
           "#636efa",
           "#EF553B",
           "#00cc96",
           "#ab63fa",
           "#FFA15A",
           "#19d3f3",
           "#FF6692",
           "#B6E880",
           "#FF97FF",
           "#FECB52"
          ],
          "font": {
           "color": "#2a3f5f"
          },
          "geo": {
           "bgcolor": "white",
           "lakecolor": "white",
           "landcolor": "#E5ECF6",
           "showlakes": true,
           "showland": true,
           "subunitcolor": "white"
          },
          "hoverlabel": {
           "align": "left"
          },
          "hovermode": "closest",
          "mapbox": {
           "style": "light"
          },
          "paper_bgcolor": "white",
          "plot_bgcolor": "#E5ECF6",
          "polar": {
           "angularaxis": {
            "gridcolor": "white",
            "linecolor": "white",
            "ticks": ""
           },
           "bgcolor": "#E5ECF6",
           "radialaxis": {
            "gridcolor": "white",
            "linecolor": "white",
            "ticks": ""
           }
          },
          "scene": {
           "xaxis": {
            "backgroundcolor": "#E5ECF6",
            "gridcolor": "white",
            "gridwidth": 2,
            "linecolor": "white",
            "showbackground": true,
            "ticks": "",
            "zerolinecolor": "white"
           },
           "yaxis": {
            "backgroundcolor": "#E5ECF6",
            "gridcolor": "white",
            "gridwidth": 2,
            "linecolor": "white",
            "showbackground": true,
            "ticks": "",
            "zerolinecolor": "white"
           },
           "zaxis": {
            "backgroundcolor": "#E5ECF6",
            "gridcolor": "white",
            "gridwidth": 2,
            "linecolor": "white",
            "showbackground": true,
            "ticks": "",
            "zerolinecolor": "white"
           }
          },
          "shapedefaults": {
           "line": {
            "color": "#2a3f5f"
           }
          },
          "ternary": {
           "aaxis": {
            "gridcolor": "white",
            "linecolor": "white",
            "ticks": ""
           },
           "baxis": {
            "gridcolor": "white",
            "linecolor": "white",
            "ticks": ""
           },
           "bgcolor": "#E5ECF6",
           "caxis": {
            "gridcolor": "white",
            "linecolor": "white",
            "ticks": ""
           }
          },
          "title": {
           "x": 0.05
          },
          "xaxis": {
           "automargin": true,
           "gridcolor": "white",
           "linecolor": "white",
           "ticks": "",
           "title": {
            "standoff": 15
           },
           "zerolinecolor": "white",
           "zerolinewidth": 2
          },
          "yaxis": {
           "automargin": true,
           "gridcolor": "white",
           "linecolor": "white",
           "ticks": "",
           "title": {
            "standoff": 15
           },
           "zerolinecolor": "white",
           "zerolinewidth": 2
          }
         }
        },
        "title": {
         "text": "Goals per Type"
        },
        "xaxis": {
         "anchor": "y",
         "domain": [
          0,
          1
         ],
         "title": {
          "text": "Type"
         }
        },
        "yaxis": {
         "anchor": "x",
         "domain": [
          0,
          1
         ],
         "title": {
          "text": "count"
         }
        }
       }
      },
      "text/html": [
       "<div>                            <div id=\"a3efee31-714c-4b19-959c-60a430e97c9c\" class=\"plotly-graph-div\" style=\"height:500px; width:100%;\"></div>            <script type=\"text/javascript\">                require([\"plotly\"], function(Plotly) {                    window.PLOTLYENV=window.PLOTLYENV || {};                                    if (document.getElementById(\"a3efee31-714c-4b19-959c-60a430e97c9c\")) {                    Plotly.newPlot(                        \"a3efee31-714c-4b19-959c-60a430e97c9c\",                        [{\"alignmentgroup\":\"True\",\"bingroup\":\"x\",\"hovertemplate\":\"Club=sporting cp<br>Type=%{x}<br>count=%{y}<extra></extra>\",\"legendgroup\":\"sporting cp\",\"marker\":{\"color\":\"#636efa\",\"pattern\":{\"shape\":\"\"}},\"name\":\"sporting cp\",\"offsetgroup\":\"sporting cp\",\"orientation\":\"v\",\"showlegend\":true,\"x\":[\"solo run\",\"header\",\"right-footed shot\",\"left-footed shot\",null],\"xaxis\":\"x\",\"yaxis\":\"y\",\"type\":\"histogram\"},{\"alignmentgroup\":\"True\",\"bingroup\":\"x\",\"hovertemplate\":\"Club=manchester united<br>Type=%{x}<br>count=%{y}<extra></extra>\",\"legendgroup\":\"manchester united\",\"marker\":{\"color\":\"#EF553B\",\"pattern\":{\"shape\":\"\"}},\"name\":\"manchester united\",\"offsetgroup\":\"manchester united\",\"orientation\":\"v\",\"showlegend\":true,\"x\":[\"direct free kick\",\"right-footed shot\",\"right-footed shot\",\"header\",\"right-footed shot\",\"header\",\"right-footed shot\",null,\"right-footed shot\",\"left-footed shot\",\"tap-in\",\"tap-in\",\"left-footed shot\",\"right-footed shot\",\"right-footed shot\",\"right-footed shot\",\"header\",\"penalty\",\"right-footed shot\",\"left-footed shot\",\"direct free kick\",\"right-footed shot\",\"left-footed shot\",\"right-footed shot\",null,\"right-footed shot\",\"left-footed shot\",null,null,null,\"direct free kick\",null,null,null,null,null,\"penalty rebound\",null,null,\"header\",\"penalty\",\"penalty\",\"solo run\",\"penalty\",\"penalty\",\"right-footed shot\",\"right-footed shot\",\"right-footed shot\",\"header\",\"penalty\",\"header\",null,\"header\",\"right-footed shot\",\"penalty\",\"header\",null,\"right-footed shot\",\"header\",\"right-footed shot\",\"direct free kick\",\"right-footed shot\",\"header\",\"penalty\",\"left-footed shot\",\"penalty\",\"direct free kick\",\"header\",\"left-footed shot\",\"direct free kick\",\"right-footed shot\",\"left-footed shot\",\"right-footed shot\",\"penalty\",\"right-footed shot\",\"right-footed shot\",\"direct free kick\",\"right-footed shot\",\"right-footed shot\",\"left-footed shot\",\"right-footed shot\",\"right-footed shot\",\"direct free kick\",\"header\",\"right-footed shot\",\"header\",\"left-footed shot\",\"penalty\",\"right-footed shot\",\"right-footed shot\",\"penalty\",\"header\",\"header\",\"penalty\",\"left-footed shot\",\"left-footed shot\",\"right-footed shot\",\"left-footed shot\",\"header\",\"direct free kick\",\"direct free kick\",\"header\",\"penalty\",\"right-footed shot\",\"right-footed shot\",\"penalty\",\"header\",\"direct free kick\",\"header\",\"penalty\",\"direct free kick\",\"left-footed shot\",\"long distance kick\",\"penalty\",\"header\",\"direct free kick\",\"right-footed shot\",\"direct free kick\",\"tap-in\",\"left-footed shot\",\"right-footed shot\",\"right-footed shot\",\"right-footed shot\",\"header\",\"right-footed shot\",\"right-footed shot\",\"right-footed shot\",\"right-footed shot\",\"right-footed shot\",\"penalty\",\"penalty\",\"right-footed shot\",\"right-footed shot\",\"right-footed shot\",\"right-footed shot\",\"header\",\"right-footed shot\",\"header\",\"direct free kick\",\"left-footed shot\",\"right-footed shot\",\"penalty\",\"penalty\",\"counter attack goal\",\"left-footed shot\"],\"xaxis\":\"x\",\"yaxis\":\"y\",\"type\":\"histogram\"},{\"alignmentgroup\":\"True\",\"bingroup\":\"x\",\"hovertemplate\":\"Club=real madrid<br>Type=%{x}<br>count=%{y}<extra></extra>\",\"legendgroup\":\"real madrid\",\"marker\":{\"color\":\"#00cc96\",\"pattern\":{\"shape\":\"\"}},\"name\":\"real madrid\",\"offsetgroup\":\"real madrid\",\"orientation\":\"v\",\"showlegend\":true,\"x\":[\"penalty\",\"right-footed shot\",\"direct free kick\",\"direct free kick\",\"right-footed shot\",\"header\",\"right-footed shot\",\"left-footed shot\",\"right-footed shot\",\"right-footed shot\",\"direct free kick\",\"right-footed shot\",\"left-footed shot\",\"right-footed shot\",\"right-footed shot\",\"header\",\"left-footed shot\",\"direct free kick\",\"penalty\",\"left-footed shot\",\"left-footed shot\",\"direct free kick\",\"direct free kick\",\"right-footed shot\",\"penalty\",\"left-footed shot\",\"right-footed shot\",\"right-footed shot\",\"header\",\"right-footed shot\",\"right-footed shot\",\"right-footed shot\",\"penalty\",\"penalty\",\"header\",\"left-footed shot\",\"right-footed shot\",\"penalty\",\"direct free kick\",\"right-footed shot\",\"left-footed shot\",\"right-footed shot\",\"penalty\",\"right-footed shot\",\"right-footed shot\",\"left-footed shot\",\"left-footed shot\",\"direct free kick\",\"penalty\",\"left-footed shot\",\"penalty\",\"left-footed shot\",\"right-footed shot\",\"right-footed shot\",\"direct free kick\",\"right-footed shot\",\"right-footed shot\",\"right-footed shot\",\"penalty\",\"right-footed shot\",\"right-footed shot\",\"header\",\"left-footed shot\",\"right-footed shot\",\"right-footed shot\",\"left-footed shot\",\"header\",\"left-footed shot\",\"penalty\",\"right-footed shot\",\"right-footed shot\",\"right-footed shot\",\"right-footed shot\",\"penalty\",\"header\",\"right-footed shot\",\"right-footed shot\",\"right-footed shot\",\"right-footed shot\",\"header\",\"left-footed shot\",\"penalty\",\"direct free kick\",\"direct free kick\",\"right-footed shot\",\"right-footed shot\",\"right-footed shot\",\"left-footed shot\",\"right-footed shot\",\"right-footed shot\",\"penalty\",\"left-footed shot\",\"penalty\",\"penalty\",\"right-footed shot\",\"left-footed shot\",\"right-footed shot\",\"right-footed shot\",\"direct free kick\",\"penalty\",\"header\",\"penalty\",\"header\",\"right-footed shot\",\"penalty\",\"penalty\",\"right-footed shot\",\"left-footed shot\",\"right-footed shot\",\"right-footed shot\",\"penalty\",\"right-footed shot\",\"left-footed shot\",\"penalty\",\"penalty\",\"right-footed shot\",\"right-footed shot\",\"penalty\",\"header\",\"right-footed shot\",\"header\",\"left-footed shot\",\"right-footed shot\",\"left-footed shot\",\"left-footed shot\",\"left-footed shot\",\"right-footed shot\",\"right-footed shot\",\"right-footed shot\",\"right-footed shot\",\"right-footed shot\",\"long distance kick\",\"direct free kick\",\"right-footed shot\",\"direct free kick\",\"direct free kick\",\"long distance kick\",\"penalty\",\"header\",\"right-footed shot\",\"penalty\",\"right-footed shot\",\"right-footed shot\",\"header\",\"penalty\",\"header\",\"header\",\"right-footed shot\",\"right-footed shot\",\"left-footed shot\",\"right-footed shot\",\"penalty\",\"penalty\",\"header\",\"penalty\",\"right-footed shot\",\"right-footed shot\",\"left-footed shot\",\"left-footed shot\",\"right-footed shot\",\"penalty\",\"right-footed shot\",\"right-footed shot\",\"right-footed shot\",\"right-footed shot\",\"direct free kick\",\"right-footed shot\",\"left-footed shot\",\"right-footed shot\",\"left-footed shot\",\"direct free kick\",\"right-footed shot\",\"left-footed shot\",\"left-footed shot\",\"left-footed shot\",\"right-footed shot\",\"left-footed shot\",\"header\",\"penalty\",\"left-footed shot\",\"left-footed shot\",\"right-footed shot\",\"header\",\"penalty\",\"left-footed shot\",\"right-footed shot\",\"left-footed shot\",\"penalty\",\"header\",\"long distance kick\",\"left-footed shot\",\"right-footed shot\",\"right-footed shot\",\"right-footed shot\",\"direct free kick\",\"header\",\"right-footed shot\",\"header\",\"header\",\"right-footed shot\",\"header\",\"header\",\"right-footed shot\",\"left-footed shot\",\"tap-in\",\"left-footed shot\",\"penalty\",\"right-footed shot\",\"direct free kick\",\"penalty\",\"header\",\"header\",\"right-footed shot\",\"penalty\",\"right-footed shot\",\"penalty\",\"penalty\",\"right-footed shot\",\"right-footed shot\",\"right-footed shot\",\"right-footed shot\",\"right-footed shot\",\"right-footed shot\",\"penalty\",\"direct free kick\",\"left-footed shot\",\"right-footed shot\",\"header\",\"right-footed shot\",\"right-footed shot\",\"direct free kick\",\"right-footed shot\",\"right-footed shot\",\"penalty\",\"penalty\",\"left-footed shot\",\"right-footed shot\",\"right-footed shot\",\"header\",\"right-footed shot\",\"right-footed shot\",\"right-footed shot\",\"penalty\",\"direct free kick\",\"right-footed shot\",\"left-footed shot\",\"long distance kick\",\"long distance kick\",\"counter attack goal\",\"direct free kick\",\"right-footed shot\",\"penalty\",\"right-footed shot\",\"left-footed shot\",\"right-footed shot\",\"penalty\",\"right-footed shot\",\"header\",\"left-footed shot\",\"left-footed shot\",\"penalty\",\"header\",\"penalty\",\"right-footed shot\",\"right-footed shot\",\"penalty\",\"header\",\"right-footed shot\",\"deflected shot on goal\",\"penalty\",\"right-footed shot\",\"right-footed shot\",\"penalty\",\"right-footed shot\",\"right-footed shot\",\"right-footed shot\",\"penalty\",\"left-footed shot\",\"penalty\",\"right-footed shot\",\"left-footed shot\",\"penalty\",\"right-footed shot\",\"right-footed shot\",\"penalty\",\"header\",\"left-footed shot\",\"header\",\"header\",\"header\",\"penalty\",\"header\",\"header\",\"right-footed shot\",\"right-footed shot\",\"right-footed shot\",\"long distance kick\",\"header\",\"header\",\"header\",\"direct free kick\",\"left-footed shot\",\"header\",\"right-footed shot\",\"header\",\"header\",\"penalty\",\"left-footed shot\",\"right-footed shot\",\"header\",\"header\",\"direct free kick\",\"penalty\",\"right-footed shot\",\"penalty\",\"left-footed shot\",\"right-footed shot\",\"right-footed shot\",\"penalty\",\"penalty\",\"header\",\"right-footed shot\",\"left-footed shot\",\"right-footed shot\",\"right-footed shot\",\"header\",\"header\",\"right-footed shot\",\"penalty\",\"right-footed shot\",\"direct free kick\",\"tap-in\",\"right-footed shot\",\"right-footed shot\",\"penalty\",\"header\",\"penalty\",\"left-footed shot\",\"left-footed shot\",\"left-footed shot\",\"penalty\",\"left-footed shot\",\"header\",\"right-footed shot\",\"right-footed shot\",\"right-footed shot\",\"header\",\"penalty\",\"long distance kick\",\"direct free kick\",\"right-footed shot\",\"header\",\"right-footed shot\",\"left-footed shot\",\"right-footed shot\",\"right-footed shot\",\"right-footed shot\",\"header\",\"direct free kick\",\"left-footed shot\",\"right-footed shot\",\"left-footed shot\",\"left-footed shot\",\"header\",\"right-footed shot\",\"direct free kick\",\"right-footed shot\",\"right-footed shot\",\"penalty\",\"right-footed shot\",\"right-footed shot\",\"direct free kick\",\"penalty\",\"right-footed shot\",\"penalty\",\"header\",\"right-footed shot\",\"penalty\",\"left-footed shot\",\"left-footed shot\",\"header\",\"penalty\",\"direct free kick\",\"right-footed shot\",\"right-footed shot\",\"header\",\"penalty\",\"penalty\",\"header\",\"header\",\"right-footed shot\",\"right-footed shot\",\"header\",\"left-footed shot\",\"right-footed shot\",\"header\",\"header\",\"right-footed shot\",\"right-footed shot\",\"right-footed shot\",\"left-footed shot\",\"left-footed shot\",\"left-footed shot\",\"right-footed shot\",\"right-footed shot\",\"right-footed shot\",\"right-footed shot\",\"counter attack goal\",\"penalty\",\"left-footed shot\",\"right-footed shot\",\"right-footed shot\",\"penalty\",\"right-footed shot\",\"header\",\"left-footed shot\",\"penalty rebound\",\"right-footed shot\",\"right-footed shot\",\"penalty\",\"right-footed shot\",\"direct free kick\",\"left-footed shot\",\"header\",\"penalty\",\"penalty\",\"right-footed shot\",\"header\",\"tap-in\",\"penalty\",\"tap-in\",\"right-footed shot\",\"left-footed shot\",\"right-footed shot\",\"left-footed shot\",\"header\",\"header\",\"right-footed shot\",\"header\",\"left-footed shot\",\"left-footed shot\",\"tap-in\",\"right-footed shot\",\"right-footed shot\",\"right-footed shot\",\"right-footed shot\",\"penalty\",\"right-footed shot\",\"right-footed shot\",\"header\"],\"xaxis\":\"x\",\"yaxis\":\"y\",\"type\":\"histogram\"},{\"alignmentgroup\":\"True\",\"bingroup\":\"x\",\"hovertemplate\":\"Club=juventus fc<br>Type=%{x}<br>count=%{y}<extra></extra>\",\"legendgroup\":\"juventus fc\",\"marker\":{\"color\":\"#ab63fa\",\"pattern\":{\"shape\":\"\"}},\"name\":\"juventus fc\",\"offsetgroup\":\"juventus fc\",\"orientation\":\"v\",\"showlegend\":true,\"x\":[\"tap-in\",\"left-footed shot\",\"left-footed shot\",\"left-footed shot\",\"tap-in\",\"penalty\",\"right-footed shot\",\"right-footed shot\",\"tap-in\",\"left-footed shot\",\"penalty\",\"penalty\",\"header\",\"right-footed shot\",\"penalty\",\"header\",\"penalty\",\"right-footed shot\",\"header\",\"header\",\"right-footed shot\",\"header\",\"header\",\"penalty\",\"header\",\"header\",\"left-footed shot\",\"header\",\"left-footed shot\",\"penalty\",\"header\",\"right-footed shot\",\"right-footed shot\",\"penalty\",\"penalty\",\"tap-in\",\"right-footed shot\",\"right-footed shot\",\"left-footed shot\",\"header\",\"right-footed shot\",\"penalty\",\"left-footed shot\",\"penalty\",\"deflected shot on goal\",\"right-footed shot\",\"left-footed shot\",\"right-footed shot\",\"penalty\",\"penalty\",\"right-footed shot\",\"penalty\",\"tap-in\",\"penalty\",\"penalty\",\"long distance kick\",\"direct free kick\",\"left-footed shot\",\"penalty\",\"penalty\",\"penalty\",\"counter attack goal\",\"right-footed shot\",\"penalty\",\"left-footed shot\",\"right-footed shot\",\"penalty\",\"header\",\"right-footed shot\",\"penalty\",\"right-footed shot\",\"right-footed shot\",\"right-footed shot\",\"left-footed shot\",\"right-footed shot\",\"penalty\",\"penalty\",\"penalty\",\"penalty\",\"header\",\"left-footed shot\",\"right-footed shot\",\"left-footed shot\",\"right-footed shot\",\"tap-in\",\"penalty\",\"left-footed shot\",\"left-footed shot\",\"header\",\"header\",\"right-footed shot\",\"counter attack goal\",\"header\",\"penalty\",\"left-footed shot\",\"header\",\"right-footed shot\",\"penalty\",\"header\",\"left-footed shot\",\"penalty rebound\"],\"xaxis\":\"x\",\"yaxis\":\"y\",\"type\":\"histogram\"}],                        {\"template\":{\"data\":{\"histogram2dcontour\":[{\"type\":\"histogram2dcontour\",\"colorbar\":{\"outlinewidth\":0,\"ticks\":\"\"},\"colorscale\":[[0.0,\"#0d0887\"],[0.1111111111111111,\"#46039f\"],[0.2222222222222222,\"#7201a8\"],[0.3333333333333333,\"#9c179e\"],[0.4444444444444444,\"#bd3786\"],[0.5555555555555556,\"#d8576b\"],[0.6666666666666666,\"#ed7953\"],[0.7777777777777778,\"#fb9f3a\"],[0.8888888888888888,\"#fdca26\"],[1.0,\"#f0f921\"]]}],\"choropleth\":[{\"type\":\"choropleth\",\"colorbar\":{\"outlinewidth\":0,\"ticks\":\"\"}}],\"histogram2d\":[{\"type\":\"histogram2d\",\"colorbar\":{\"outlinewidth\":0,\"ticks\":\"\"},\"colorscale\":[[0.0,\"#0d0887\"],[0.1111111111111111,\"#46039f\"],[0.2222222222222222,\"#7201a8\"],[0.3333333333333333,\"#9c179e\"],[0.4444444444444444,\"#bd3786\"],[0.5555555555555556,\"#d8576b\"],[0.6666666666666666,\"#ed7953\"],[0.7777777777777778,\"#fb9f3a\"],[0.8888888888888888,\"#fdca26\"],[1.0,\"#f0f921\"]]}],\"heatmap\":[{\"type\":\"heatmap\",\"colorbar\":{\"outlinewidth\":0,\"ticks\":\"\"},\"colorscale\":[[0.0,\"#0d0887\"],[0.1111111111111111,\"#46039f\"],[0.2222222222222222,\"#7201a8\"],[0.3333333333333333,\"#9c179e\"],[0.4444444444444444,\"#bd3786\"],[0.5555555555555556,\"#d8576b\"],[0.6666666666666666,\"#ed7953\"],[0.7777777777777778,\"#fb9f3a\"],[0.8888888888888888,\"#fdca26\"],[1.0,\"#f0f921\"]]}],\"heatmapgl\":[{\"type\":\"heatmapgl\",\"colorbar\":{\"outlinewidth\":0,\"ticks\":\"\"},\"colorscale\":[[0.0,\"#0d0887\"],[0.1111111111111111,\"#46039f\"],[0.2222222222222222,\"#7201a8\"],[0.3333333333333333,\"#9c179e\"],[0.4444444444444444,\"#bd3786\"],[0.5555555555555556,\"#d8576b\"],[0.6666666666666666,\"#ed7953\"],[0.7777777777777778,\"#fb9f3a\"],[0.8888888888888888,\"#fdca26\"],[1.0,\"#f0f921\"]]}],\"contourcarpet\":[{\"type\":\"contourcarpet\",\"colorbar\":{\"outlinewidth\":0,\"ticks\":\"\"}}],\"contour\":[{\"type\":\"contour\",\"colorbar\":{\"outlinewidth\":0,\"ticks\":\"\"},\"colorscale\":[[0.0,\"#0d0887\"],[0.1111111111111111,\"#46039f\"],[0.2222222222222222,\"#7201a8\"],[0.3333333333333333,\"#9c179e\"],[0.4444444444444444,\"#bd3786\"],[0.5555555555555556,\"#d8576b\"],[0.6666666666666666,\"#ed7953\"],[0.7777777777777778,\"#fb9f3a\"],[0.8888888888888888,\"#fdca26\"],[1.0,\"#f0f921\"]]}],\"surface\":[{\"type\":\"surface\",\"colorbar\":{\"outlinewidth\":0,\"ticks\":\"\"},\"colorscale\":[[0.0,\"#0d0887\"],[0.1111111111111111,\"#46039f\"],[0.2222222222222222,\"#7201a8\"],[0.3333333333333333,\"#9c179e\"],[0.4444444444444444,\"#bd3786\"],[0.5555555555555556,\"#d8576b\"],[0.6666666666666666,\"#ed7953\"],[0.7777777777777778,\"#fb9f3a\"],[0.8888888888888888,\"#fdca26\"],[1.0,\"#f0f921\"]]}],\"mesh3d\":[{\"type\":\"mesh3d\",\"colorbar\":{\"outlinewidth\":0,\"ticks\":\"\"}}],\"scatter\":[{\"fillpattern\":{\"fillmode\":\"overlay\",\"size\":10,\"solidity\":0.2},\"type\":\"scatter\"}],\"parcoords\":[{\"type\":\"parcoords\",\"line\":{\"colorbar\":{\"outlinewidth\":0,\"ticks\":\"\"}}}],\"scatterpolargl\":[{\"type\":\"scatterpolargl\",\"marker\":{\"colorbar\":{\"outlinewidth\":0,\"ticks\":\"\"}}}],\"bar\":[{\"error_x\":{\"color\":\"#2a3f5f\"},\"error_y\":{\"color\":\"#2a3f5f\"},\"marker\":{\"line\":{\"color\":\"#E5ECF6\",\"width\":0.5},\"pattern\":{\"fillmode\":\"overlay\",\"size\":10,\"solidity\":0.2}},\"type\":\"bar\"}],\"scattergeo\":[{\"type\":\"scattergeo\",\"marker\":{\"colorbar\":{\"outlinewidth\":0,\"ticks\":\"\"}}}],\"scatterpolar\":[{\"type\":\"scatterpolar\",\"marker\":{\"colorbar\":{\"outlinewidth\":0,\"ticks\":\"\"}}}],\"histogram\":[{\"marker\":{\"pattern\":{\"fillmode\":\"overlay\",\"size\":10,\"solidity\":0.2}},\"type\":\"histogram\"}],\"scattergl\":[{\"type\":\"scattergl\",\"marker\":{\"colorbar\":{\"outlinewidth\":0,\"ticks\":\"\"}}}],\"scatter3d\":[{\"type\":\"scatter3d\",\"line\":{\"colorbar\":{\"outlinewidth\":0,\"ticks\":\"\"}},\"marker\":{\"colorbar\":{\"outlinewidth\":0,\"ticks\":\"\"}}}],\"scattermapbox\":[{\"type\":\"scattermapbox\",\"marker\":{\"colorbar\":{\"outlinewidth\":0,\"ticks\":\"\"}}}],\"scatterternary\":[{\"type\":\"scatterternary\",\"marker\":{\"colorbar\":{\"outlinewidth\":0,\"ticks\":\"\"}}}],\"scattercarpet\":[{\"type\":\"scattercarpet\",\"marker\":{\"colorbar\":{\"outlinewidth\":0,\"ticks\":\"\"}}}],\"carpet\":[{\"aaxis\":{\"endlinecolor\":\"#2a3f5f\",\"gridcolor\":\"white\",\"linecolor\":\"white\",\"minorgridcolor\":\"white\",\"startlinecolor\":\"#2a3f5f\"},\"baxis\":{\"endlinecolor\":\"#2a3f5f\",\"gridcolor\":\"white\",\"linecolor\":\"white\",\"minorgridcolor\":\"white\",\"startlinecolor\":\"#2a3f5f\"},\"type\":\"carpet\"}],\"table\":[{\"cells\":{\"fill\":{\"color\":\"#EBF0F8\"},\"line\":{\"color\":\"white\"}},\"header\":{\"fill\":{\"color\":\"#C8D4E3\"},\"line\":{\"color\":\"white\"}},\"type\":\"table\"}],\"barpolar\":[{\"marker\":{\"line\":{\"color\":\"#E5ECF6\",\"width\":0.5},\"pattern\":{\"fillmode\":\"overlay\",\"size\":10,\"solidity\":0.2}},\"type\":\"barpolar\"}],\"pie\":[{\"automargin\":true,\"type\":\"pie\"}]},\"layout\":{\"autotypenumbers\":\"strict\",\"colorway\":[\"#636efa\",\"#EF553B\",\"#00cc96\",\"#ab63fa\",\"#FFA15A\",\"#19d3f3\",\"#FF6692\",\"#B6E880\",\"#FF97FF\",\"#FECB52\"],\"font\":{\"color\":\"#2a3f5f\"},\"hovermode\":\"closest\",\"hoverlabel\":{\"align\":\"left\"},\"paper_bgcolor\":\"white\",\"plot_bgcolor\":\"#E5ECF6\",\"polar\":{\"bgcolor\":\"#E5ECF6\",\"angularaxis\":{\"gridcolor\":\"white\",\"linecolor\":\"white\",\"ticks\":\"\"},\"radialaxis\":{\"gridcolor\":\"white\",\"linecolor\":\"white\",\"ticks\":\"\"}},\"ternary\":{\"bgcolor\":\"#E5ECF6\",\"aaxis\":{\"gridcolor\":\"white\",\"linecolor\":\"white\",\"ticks\":\"\"},\"baxis\":{\"gridcolor\":\"white\",\"linecolor\":\"white\",\"ticks\":\"\"},\"caxis\":{\"gridcolor\":\"white\",\"linecolor\":\"white\",\"ticks\":\"\"}},\"coloraxis\":{\"colorbar\":{\"outlinewidth\":0,\"ticks\":\"\"}},\"colorscale\":{\"sequential\":[[0.0,\"#0d0887\"],[0.1111111111111111,\"#46039f\"],[0.2222222222222222,\"#7201a8\"],[0.3333333333333333,\"#9c179e\"],[0.4444444444444444,\"#bd3786\"],[0.5555555555555556,\"#d8576b\"],[0.6666666666666666,\"#ed7953\"],[0.7777777777777778,\"#fb9f3a\"],[0.8888888888888888,\"#fdca26\"],[1.0,\"#f0f921\"]],\"sequentialminus\":[[0.0,\"#0d0887\"],[0.1111111111111111,\"#46039f\"],[0.2222222222222222,\"#7201a8\"],[0.3333333333333333,\"#9c179e\"],[0.4444444444444444,\"#bd3786\"],[0.5555555555555556,\"#d8576b\"],[0.6666666666666666,\"#ed7953\"],[0.7777777777777778,\"#fb9f3a\"],[0.8888888888888888,\"#fdca26\"],[1.0,\"#f0f921\"]],\"diverging\":[[0,\"#8e0152\"],[0.1,\"#c51b7d\"],[0.2,\"#de77ae\"],[0.3,\"#f1b6da\"],[0.4,\"#fde0ef\"],[0.5,\"#f7f7f7\"],[0.6,\"#e6f5d0\"],[0.7,\"#b8e186\"],[0.8,\"#7fbc41\"],[0.9,\"#4d9221\"],[1,\"#276419\"]]},\"xaxis\":{\"gridcolor\":\"white\",\"linecolor\":\"white\",\"ticks\":\"\",\"title\":{\"standoff\":15},\"zerolinecolor\":\"white\",\"automargin\":true,\"zerolinewidth\":2},\"yaxis\":{\"gridcolor\":\"white\",\"linecolor\":\"white\",\"ticks\":\"\",\"title\":{\"standoff\":15},\"zerolinecolor\":\"white\",\"automargin\":true,\"zerolinewidth\":2},\"scene\":{\"xaxis\":{\"backgroundcolor\":\"#E5ECF6\",\"gridcolor\":\"white\",\"linecolor\":\"white\",\"showbackground\":true,\"ticks\":\"\",\"zerolinecolor\":\"white\",\"gridwidth\":2},\"yaxis\":{\"backgroundcolor\":\"#E5ECF6\",\"gridcolor\":\"white\",\"linecolor\":\"white\",\"showbackground\":true,\"ticks\":\"\",\"zerolinecolor\":\"white\",\"gridwidth\":2},\"zaxis\":{\"backgroundcolor\":\"#E5ECF6\",\"gridcolor\":\"white\",\"linecolor\":\"white\",\"showbackground\":true,\"ticks\":\"\",\"zerolinecolor\":\"white\",\"gridwidth\":2}},\"shapedefaults\":{\"line\":{\"color\":\"#2a3f5f\"}},\"annotationdefaults\":{\"arrowcolor\":\"#2a3f5f\",\"arrowhead\":0,\"arrowwidth\":1},\"geo\":{\"bgcolor\":\"white\",\"landcolor\":\"#E5ECF6\",\"subunitcolor\":\"white\",\"showland\":true,\"showlakes\":true,\"lakecolor\":\"white\"},\"title\":{\"x\":0.05},\"mapbox\":{\"style\":\"light\"}}},\"xaxis\":{\"anchor\":\"y\",\"domain\":[0.0,1.0],\"title\":{\"text\":\"Type\"}},\"yaxis\":{\"anchor\":\"x\",\"domain\":[0.0,1.0],\"title\":{\"text\":\"count\"}},\"legend\":{\"title\":{\"text\":\"Club\"},\"tracegroupgap\":0},\"title\":{\"text\":\"Goals per Type\"},\"barmode\":\"relative\",\"height\":500},                        {\"responsive\": true}                    ).then(function(){\n",
       "                            \n",
       "var gd = document.getElementById('a3efee31-714c-4b19-959c-60a430e97c9c');\n",
       "var x = new MutationObserver(function (mutations, observer) {{\n",
       "        var display = window.getComputedStyle(gd).display;\n",
       "        if (!display || display === 'none') {{\n",
       "            console.log([gd, 'removed!']);\n",
       "            Plotly.purge(gd);\n",
       "            observer.disconnect();\n",
       "        }}\n",
       "}});\n",
       "\n",
       "// Listen for the removal of the full notebook cells\n",
       "var notebookContainer = gd.closest('#notebook-container');\n",
       "if (notebookContainer) {{\n",
       "    x.observe(notebookContainer, {childList: true});\n",
       "}}\n",
       "\n",
       "// Listen for the clearing of the current output cell\n",
       "var outputEl = gd.closest('.output');\n",
       "if (outputEl) {{\n",
       "    x.observe(outputEl, {childList: true});\n",
       "}}\n",
       "\n",
       "                        })                };                });            </script>        </div>"
      ]
     },
     "metadata": {},
     "output_type": "display_data"
    }
   ],
   "source": [
    "px.histogram(\n",
    "    cr7_df,\n",
    "    x='Type',\n",
    "    title=\"Goals per Type\",\n",
    "    log_x=False,\n",
    "    log_y=False,\n",
    "    #symbol='title',\n",
    "    #markers=True,\n",
    "    #width=800, \n",
    "    height=500,\n",
    "    color='Club',\n",
    "    hover_name='Club',\n",
    "    hover_data=['Playing_Position','Competition','Season','Club'])"
   ]
  },
  {
   "cell_type": "markdown",
   "id": "01e64360",
   "metadata": {},
   "source": [
    "# Number of total career goals scored by team and competition\n",
    "Most of his goals in the UEFA Champions League were scored during his time with Read Madrid."
   ]
  },
  {
   "cell_type": "code",
   "execution_count": 242,
   "id": "e4389a84",
   "metadata": {},
   "outputs": [
    {
     "data": {
      "image/png": "[encoded data removed]",
      "text/plain": [
       "<Figure size 2000x500 with 1 Axes>"
      ]
     },
     "metadata": {},
     "output_type": "display_data"
    }
   ],
   "source": [
    "sns.set(rc={'figure.figsize':(20,5)})\n",
    "\n",
    "p = sns.countplot(\n",
    "    x='At_score', \n",
    "    data=cr7_df, \n",
    "    order=cr7_df['At_score'].value_counts().head(10).sort_values(ascending=False).index\n",
    ")\n",
    "\n",
    "plt.xticks(fontsize=15, rotation='vertical')\n",
    "p.axes.set_title(\"Scoresheet after scoring\", fontsize=30)\n",
    "plt.show()"
   ]
  },
  {
   "cell_type": "code",
   "execution_count": null,
   "id": "6e4e9bbb",
   "metadata": {},
   "outputs": [],
   "source": []
  },
  {
   "cell_type": "code",
   "execution_count": null,
   "id": "b26bf29c",
   "metadata": {},
   "outputs": [],
   "source": []
  },
  {
   "cell_type": "code",
   "execution_count": null,
   "id": "db24d0e4",
   "metadata": {},
   "outputs": [],
   "source": []
  },
  {
   "cell_type": "code",
   "execution_count": null,
   "id": "d3ad83f5",
   "metadata": {},
   "outputs": [],
   "source": []
  },
  {
   "cell_type": "code",
   "execution_count": null,
   "id": "0e705010",
   "metadata": {},
   "outputs": [],
   "source": []
  },
  {
   "cell_type": "code",
   "execution_count": null,
   "id": "1e288f78",
   "metadata": {},
   "outputs": [],
   "source": []
  },
  {
   "cell_type": "code",
   "execution_count": null,
   "id": "18888e9c",
   "metadata": {},
   "outputs": [],
   "source": []
  },
  {
   "cell_type": "code",
   "execution_count": null,
   "id": "6c82265c",
   "metadata": {},
   "outputs": [],
   "source": []
  },
  {
   "cell_type": "code",
   "execution_count": null,
   "id": "ea751d77",
   "metadata": {},
   "outputs": [],
   "source": []
  }
 ],
 "metadata": {
  "kernelspec": {
   "display_name": "Python 3 (ipykernel)",
   "language": "python",
   "name": "python3"
  },
  "language_info": {
   "codemirror_mode": {
    "name": "ipython",
    "version": 3
   },
   "file_extension": ".py",
   "mimetype": "text/x-python",
   "name": "python",
   "nbconvert_exporter": "python",
   "pygments_lexer": "ipython3",
   "version": "3.11.5"
  }
 },
 "nbformat": 4,
 "nbformat_minor": 5
}
